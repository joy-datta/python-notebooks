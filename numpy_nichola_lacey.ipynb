{
  "cells": [
    {
      "cell_type": "markdown",
      "metadata": {
        "id": "YgBXv41Fb2Bq"
      },
      "source": [
        "# About NumPy"
      ]
    },
    {
      "cell_type": "markdown",
      "metadata": {
        "id": "7yJXrCI_b2B1"
      },
      "source": [
        "NumPy is a python library which adds support for large multidimensional arrays and matrices along with a large collection of high level mathematical functions to operate on these arrays.\n",
        "Click here to know more about NumPy : https://en.wikipedia.org/wiki/NumPy"
      ]
    },
    {
      "cell_type": "markdown",
      "metadata": {
        "id": "gU6M5X5ob2B1"
      },
      "source": [
        "Core object of NumPy is the ndarray."
      ]
    },
    {
      "cell_type": "markdown",
      "metadata": {
        "id": "qvFAPYJlb2B2"
      },
      "source": [
        "NumPy has two main advantages over core python:\n",
        "1. NumPy is written in C so the execution speed of a program is similar to the same program written in C.\n",
        "2. NumPy supports vectorization, a single operation can be carried out to an entire array, rather than requiring an explicit loop over the array's elements."
      ]
    },
    {
      "cell_type": "markdown",
      "metadata": {
        "id": "9nTx6i-qb2B2"
      },
      "source": [
        "Elementwise operations are handled by optimized, precompiled C code and so is very fast, much faster for large n than the core python alternative. The absence of explicit looping and indexing makes the code cleaner, less error prone and closer to the standard mathematical notation it reflects."
      ]
    },
    {
      "cell_type": "code",
      "execution_count": null,
      "metadata": {
        "id": "nRlfidAVb2B3"
      },
      "outputs": [],
      "source": [
        "#let's build two normal python arrays\n",
        "import array as arr\n",
        "import time as t\n",
        "start_time = t.time()\n",
        "a = arr.array('i', [1,2,3,4,5,6,7,8,9,10])\n",
        "b = arr.array('i', [0,1,2,3,4,5,6,7,8,9])\n",
        "end_time = t.time()\n",
        "exec_time_for_arr = end_time - start_time"
      ]
    },
    {
      "cell_type": "code",
      "execution_count": null,
      "metadata": {
        "id": "ZXjHbipTb2B4"
      },
      "outputs": [],
      "source": [
        "#let's build two numpy arrays\n",
        "import numpy as np\n",
        "start_time = t.time()\n",
        "c = np.array([1,2,3,4,5,6,7,8,9,10], int)\n",
        "d = np.array([0,1,2,3,4,5,6,7,8,9], int)\n",
        "end_time = t.time()\n",
        "exec_time_for_np = end_time - start_time"
      ]
    },
    {
      "cell_type": "code",
      "execution_count": null,
      "metadata": {
        "id": "c0sxLwpJb2B4",
        "outputId": "b1dc82d1-f8a8-462d-c651-952a320ea801"
      },
      "outputs": [
        {
          "name": "stdout",
          "output_type": "stream",
          "text": [
            "can't multiply sequence by non-int of type array.array\n"
          ]
        }
      ],
      "source": [
        "#does usual python arrays support vectorization?\n",
        "try:\n",
        "    a*b\n",
        "except TypeError:\n",
        "    print(\"can't multiply sequence by non-int of type array.array\")"
      ]
    },
    {
      "cell_type": "code",
      "execution_count": null,
      "metadata": {
        "id": "NI4Vqm7cb2B5",
        "outputId": "0589b531-2524-477d-bc18-8f47f7f93940"
      },
      "outputs": [
        {
          "name": "stdout",
          "output_type": "stream",
          "text": [
            "[ 0  2  6 12 20 30 42 56 72 90]\n"
          ]
        }
      ],
      "source": [
        "#though normal python arrays do not support vectorization, numpy supports vectorization\n",
        "print(c*d)"
      ]
    },
    {
      "cell_type": "code",
      "execution_count": null,
      "metadata": {
        "id": "qG2S35Ozb2B5",
        "outputId": "de9f3242-18a6-4f36-9ab4-3ff18a689ca9"
      },
      "outputs": [
        {
          "name": "stdout",
          "output_type": "stream",
          "text": [
            "execution time for normal python arrays :  0.0018837451934814453\n",
            "execution time for numpy arrays :  0.0\n"
          ]
        }
      ],
      "source": [
        "#now check the difference between execution time for each scenario\n",
        "print('execution time for normal python arrays : ', exec_time_for_arr)\n",
        "print('execution time for numpy arrays : ', exec_time_for_np)"
      ]
    },
    {
      "cell_type": "markdown",
      "metadata": {
        "id": "OPXvPBKqb2B6"
      },
      "source": [
        "# Creating an array using NumPy"
      ]
    },
    {
      "cell_type": "markdown",
      "metadata": {
        "id": "6I3kxH6Rb2B6"
      },
      "source": [
        "If you have already installed NumPy then write and run this line : import numpy as np"
      ]
    },
    {
      "cell_type": "markdown",
      "metadata": {
        "id": "qjkQ4G3Fb2B6"
      },
      "source": [
        "If you don't have NumPy installed in your computer install pip and write and run this line in the cmd : pip install numpy"
      ]
    },
    {
      "cell_type": "code",
      "execution_count": null,
      "metadata": {
        "id": "gZP5xi7zb2B7"
      },
      "outputs": [],
      "source": [
        "import numpy as np"
      ]
    },
    {
      "cell_type": "code",
      "execution_count": null,
      "metadata": {
        "id": "imdwPAcLb2B7",
        "outputId": "21b72000-1d27-4006-9086-5d70ccf8cc3c"
      },
      "outputs": [
        {
          "name": "stdout",
          "output_type": "stream",
          "text": [
            "[ 1  2  3  4  5  6  7  8  9 10]\n"
          ]
        },
        {
          "data": {
            "text/plain": [
              "numpy.ndarray"
            ]
          },
          "execution_count": 15,
          "metadata": {},
          "output_type": "execute_result"
        }
      ],
      "source": [
        "#let's make an one dimensional numpy array using numpy.array constructor\n",
        "array = np.array([1,2,3,4,5,6,7,8,9,10])\n",
        "print(array)\n",
        "type(array)"
      ]
    },
    {
      "cell_type": "code",
      "execution_count": null,
      "metadata": {
        "id": "gF16qm7Pb2B7",
        "outputId": "b61d75d0-6968-4f0a-da63-ab45a26710d6"
      },
      "outputs": [
        {
          "name": "stdout",
          "output_type": "stream",
          "text": [
            "[[1 2 3]\n",
            " [4 5 6]\n",
            " [7 8 9]]\n"
          ]
        },
        {
          "data": {
            "text/plain": [
              "numpy.ndarray"
            ]
          },
          "execution_count": 16,
          "metadata": {},
          "output_type": "execute_result"
        }
      ],
      "source": [
        "#let's make a multi dimensional numpy array\n",
        "array = np.array([\n",
        "    [1,2,3],\n",
        "    [4,5,6],\n",
        "    [7,8,9]\n",
        "])\n",
        "print(array)\n",
        "type(array)"
      ]
    },
    {
      "cell_type": "markdown",
      "metadata": {
        "id": "i3kwa-nPb2B7"
      },
      "source": [
        "The NumPy array class is ndarray, which consists of a multidimensional table of\n",
        "elements indexed by a tuple of integers. Unlike Python lists and tuples, the elements cannot be of different types: each element in a NumPy array has the same type, which\n",
        "is specified by an associated data type object (dtype). The dtype of an array specifies\n",
        "not only the broad class of element (integer, floating point number, etc.) but also how it\n",
        "is represented in memory (e.g., how many bits it occupies) int8, float64 etc.\n",
        "The dimensions of a NumPy array are called axes; the number of axes an array has is\n",
        "called its rank."
      ]
    },
    {
      "cell_type": "markdown",
      "metadata": {
        "id": "Cuk0TgbYb2B8"
      },
      "source": [
        "Indexing a multidimensional NumPy array is a little different from indexing a conventional Python list of lists: instead of b[i][j], refer to the index of the required\n",
        "element as a tuple of integers, b[i,j]."
      ]
    },
    {
      "cell_type": "markdown",
      "metadata": {
        "id": "VaWs0TnXb2B8"
      },
      "source": [
        "The data type is deduced from the type of the elements in the sequence and “upcast”\n",
        "to the most general type if they are of mixed but compatible types."
      ]
    },
    {
      "cell_type": "code",
      "execution_count": null,
      "metadata": {
        "id": "FxFpoE0pb2B9",
        "outputId": "88c50960-01c9-4adb-a934-328e6d33b900"
      },
      "outputs": [
        {
          "data": {
            "text/plain": [
              "array([1., 0., 1., 9., 9.])"
            ]
          },
          "execution_count": 21,
          "metadata": {},
          "output_type": "execute_result"
        }
      ],
      "source": [
        "#check the last information\n",
        "a = np.array([1.0,0.0,1,9,9.0])\n",
        "#mixture of int and float, upcast to float\n",
        "a"
      ]
    },
    {
      "cell_type": "markdown",
      "metadata": {
        "id": "4W89_aEgb2B9"
      },
      "source": [
        "You can also set the data type explicitly using the optional dtype argument."
      ]
    },
    {
      "cell_type": "code",
      "execution_count": null,
      "metadata": {
        "id": "H3Zu5TVEb2B-",
        "outputId": "49115cef-7f42-4c63-fcae-c3c6fa0ad85f"
      },
      "outputs": [
        {
          "data": {
            "text/plain": [
              "array([1, 0, 1, 9, 9])"
            ]
          },
          "execution_count": 22,
          "metadata": {},
          "output_type": "execute_result"
        }
      ],
      "source": [
        "a = np.array([1.0,0.0,1,9,9.0], dtype = int)\n",
        "a"
      ]
    },
    {
      "cell_type": "code",
      "execution_count": null,
      "metadata": {
        "id": "sT5OVmSrb2B-",
        "outputId": "24d94c6d-e5f4-45a7-b299-12fd60137f5e"
      },
      "outputs": [
        {
          "data": {
            "text/plain": [
              "dtype('int32')"
            ]
          },
          "execution_count": 23,
          "metadata": {},
          "output_type": "execute_result"
        }
      ],
      "source": [
        "#check dtype\n",
        "a.dtype"
      ]
    },
    {
      "cell_type": "code",
      "execution_count": null,
      "metadata": {
        "id": "7UTZQ-zfb2B-",
        "outputId": "51fb46d5-6323-4503-f9b5-b5e9d2801c2e"
      },
      "outputs": [
        {
          "data": {
            "text/plain": [
              "array([1, 0, 1, 9, 9], dtype=int8)"
            ]
          },
          "execution_count": 25,
          "metadata": {},
          "output_type": "execute_result"
        }
      ],
      "source": [
        "#did you notice the data type is 'int32'?\n",
        "#what does that mean?\n",
        "#it means each of the element uses 32 bits or 4 bytes of data\n",
        "#this array wastes a huge amount of memory, largest number in this array is 9, binary of 10 is '1001'\n",
        "#1 byte of memory is enough for storing each of the elements of this array\n",
        "#change the dtype of this array to 'int8'\n",
        "#'int8' means 1 byte of 8 bits integer\n",
        "a.astype('int8')"
      ]
    },
    {
      "cell_type": "code",
      "execution_count": null,
      "metadata": {
        "id": "_nKfjCxPb2B_",
        "outputId": "e936d36d-b3a0-43ed-89f5-d958714aaec4"
      },
      "outputs": [
        {
          "data": {
            "text/plain": [
              "array([1.+0.j, 0.+0.j, 1.+0.j, 9.+0.j, 9.+0.j])"
            ]
          },
          "execution_count": 31,
          "metadata": {},
          "output_type": "execute_result"
        }
      ],
      "source": [
        "#what about complex dtype?\n",
        "a.astype(np.complex)"
      ]
    },
    {
      "cell_type": "code",
      "execution_count": null,
      "metadata": {
        "id": "CLZiH6HOb2B_",
        "outputId": "5a3f64af-24c0-416b-d905-afd3381b290d"
      },
      "outputs": [
        {
          "data": {
            "text/plain": [
              "dtype('float64')"
            ]
          },
          "execution_count": 32,
          "metadata": {},
          "output_type": "execute_result"
        }
      ],
      "source": [
        "#by default dtype of a numpy array is 'float64'\n",
        "array = np.array([])\n",
        "array.dtype"
      ]
    },
    {
      "cell_type": "markdown",
      "metadata": {
        "id": "Pmk6pto_b2CA"
      },
      "source": [
        "# np.empty(), np.zeros(), np.ones()"
      ]
    },
    {
      "cell_type": "markdown",
      "metadata": {
        "id": "1mcytfJ_b2CA"
      },
      "source": [
        "If your array is large or you do not know the element values at the time of creation,\n",
        "there are several methods to declare an array of a particular shape filled with default\n",
        "or arbitrary values. The simplest and fastest, np.empty, takes a tuple of the array’s\n",
        "shape and creates the array without initializing its elements: the initial element values are undefined (typically random junk defined from whatever were the contents of the\n",
        "memory that Python allocated for the array)."
      ]
    },
    {
      "cell_type": "code",
      "execution_count": null,
      "metadata": {
        "id": "FpemLMfob2CA",
        "outputId": "52210787-c770-49e4-a654-848679b68889"
      },
      "outputs": [
        {
          "data": {
            "text/plain": [
              "array([[1.07018930e-311, 6.27463370e-322, 0.00000000e+000,\n",
              "        0.00000000e+000, 7.56593016e-307],\n",
              "       [5.30276956e+180, 1.02941932e-071, 6.98476053e-076,\n",
              "        4.66499560e-086, 3.36010001e-143],\n",
              "       [6.01433264e+175, 6.93885958e+218, 5.56218858e+180,\n",
              "        3.94356143e+180, 4.22874428e-062],\n",
              "       [1.22019169e+165, 5.87698939e-062, 5.15646498e-062,\n",
              "        6.15040024e-144, 1.50008929e+248]])"
            ]
          },
          "execution_count": 33,
          "metadata": {},
          "output_type": "execute_result"
        }
      ],
      "source": [
        "#using np.empty()\n",
        "n = np.empty((4,5))\n",
        "n"
      ]
    },
    {
      "cell_type": "code",
      "execution_count": null,
      "metadata": {
        "id": "VFYxq5-5b2CA",
        "outputId": "f5c533a2-94ca-4e7f-984e-7646ab6b7e82"
      },
      "outputs": [
        {
          "data": {
            "text/plain": [
              "array([[1423931832,        504,         41,          0,          0],\n",
              "       [         0,          0,          0,          0,          0],\n",
              "       [1868767867,  975332708,  779120162, 1953525093,  740441977],\n",
              "       [1702389026, 1769239907, 1667198575, 1953396079,  875772450]])"
            ]
          },
          "execution_count": 37,
          "metadata": {},
          "output_type": "execute_result"
        }
      ],
      "source": [
        "#you can also explicitly set the dtype of the array\n",
        "n = np.empty((4,5), dtype = np.int32)\n",
        "n"
      ]
    },
    {
      "cell_type": "markdown",
      "metadata": {
        "id": "A5WQhScvb2CB"
      },
      "source": [
        "There are also helper methods np.zeros and np.ones, which create an array of the\n",
        "specified shape with elements prefilled with 0 and 1 respectively. np.empty, np.zeros\n",
        "and np.ones also take the optional dtype argument."
      ]
    },
    {
      "cell_type": "code",
      "execution_count": null,
      "metadata": {
        "id": "jDYMK2uRb2CB",
        "outputId": "ea6d539f-7b81-403e-9c72-eb151e8542c6"
      },
      "outputs": [
        {
          "data": {
            "text/plain": [
              "dtype('float64')"
            ]
          },
          "execution_count": 47,
          "metadata": {},
          "output_type": "execute_result"
        }
      ],
      "source": [
        "#using np.zeros()\n",
        "n = np.zeros((4,5))\n",
        "#by default dtype is 'float64'\n",
        "n.dtype"
      ]
    },
    {
      "cell_type": "code",
      "execution_count": null,
      "metadata": {
        "id": "6RcsPX1Pb2CB",
        "outputId": "2fe60ddb-6434-4633-8dd3-0555ee4f2d76"
      },
      "outputs": [
        {
          "data": {
            "text/plain": [
              "array([[0, 0, 0, 0, 0],\n",
              "       [0, 0, 0, 0, 0],\n",
              "       [0, 0, 0, 0, 0],\n",
              "       [0, 0, 0, 0, 0]], dtype=int8)"
            ]
          },
          "execution_count": 49,
          "metadata": {},
          "output_type": "execute_result"
        }
      ],
      "source": [
        "n = np.zeros((4,5), np.int8)\n",
        "n"
      ]
    },
    {
      "cell_type": "code",
      "execution_count": null,
      "metadata": {
        "id": "fTN9alI0b2CB",
        "outputId": "193c63b0-fc21-4908-9734-de4d8fc8e249"
      },
      "outputs": [
        {
          "data": {
            "text/plain": [
              "array([[1., 1., 1., 1., 1.],\n",
              "       [1., 1., 1., 1., 1.],\n",
              "       [1., 1., 1., 1., 1.],\n",
              "       [1., 1., 1., 1., 1.]])"
            ]
          },
          "execution_count": 50,
          "metadata": {},
          "output_type": "execute_result"
        }
      ],
      "source": [
        "#using np.ones()\n",
        "n = np.ones((4,5))\n",
        "n"
      ]
    },
    {
      "cell_type": "code",
      "execution_count": null,
      "metadata": {
        "id": "gA13tr0Eb2CC",
        "outputId": "ae826a94-922d-494b-b292-073a0c182c90"
      },
      "outputs": [
        {
          "data": {
            "text/plain": [
              "array([[1., 1., 1., 1., 1.],\n",
              "       [1., 1., 1., 1., 1.],\n",
              "       [1., 1., 1., 1., 1.],\n",
              "       [1., 1., 1., 1., 1.]])"
            ]
          },
          "execution_count": 52,
          "metadata": {},
          "output_type": "execute_result"
        }
      ],
      "source": [
        "#if you already have an array and would like to create another array with the same shape\n",
        "copied_n = np.empty_like(n)\n",
        "copied_n"
      ]
    },
    {
      "cell_type": "code",
      "execution_count": null,
      "metadata": {
        "id": "rYcYrtphb2CC",
        "outputId": "01bdbb90-c739-4021-c5ed-96a31ae0e95c"
      },
      "outputs": [
        {
          "data": {
            "text/plain": [
              "array([[0., 0., 0., 0., 0.],\n",
              "       [0., 0., 0., 0., 0.],\n",
              "       [0., 0., 0., 0., 0.],\n",
              "       [0., 0., 0., 0., 0.]])"
            ]
          },
          "execution_count": 55,
          "metadata": {},
          "output_type": "execute_result"
        }
      ],
      "source": [
        "copied_n = np.zeros_like(n)\n",
        "#making an array with the same shape of n and values 0\n",
        "copied_n"
      ]
    },
    {
      "cell_type": "code",
      "execution_count": null,
      "metadata": {
        "id": "EHz8v698b2CC",
        "outputId": "fcd177fb-fb9b-4962-8eb7-cae4cd183230"
      },
      "outputs": [
        {
          "data": {
            "text/plain": [
              "array([[1., 1., 1., 1., 1.],\n",
              "       [1., 1., 1., 1., 1.],\n",
              "       [1., 1., 1., 1., 1.],\n",
              "       [1., 1., 1., 1., 1.]])"
            ]
          },
          "execution_count": 56,
          "metadata": {},
          "output_type": "execute_result"
        }
      ],
      "source": [
        "copied_n = np.ones_like(n)\n",
        "copied_n"
      ]
    },
    {
      "cell_type": "code",
      "execution_count": null,
      "metadata": {
        "id": "vmU6vY1ab2CD",
        "outputId": "c335f8af-f23b-4758-c4ec-5e5346db068d"
      },
      "outputs": [
        {
          "name": "stdout",
          "output_type": "stream",
          "text": [
            "[[3.1416 3.1416 3.1416 3.1416 3.1416 3.1416 3.1416 3.1416 3.1416 3.1416]\n",
            " [3.1416 3.1416 3.1416 3.1416 3.1416 3.1416 3.1416 3.1416 3.1416 3.1416]\n",
            " [3.1416 3.1416 3.1416 3.1416 3.1416 3.1416 3.1416 3.1416 3.1416 3.1416]\n",
            " [3.1416 3.1416 3.1416 3.1416 3.1416 3.1416 3.1416 3.1416 3.1416 3.1416]\n",
            " [3.1416 3.1416 3.1416 3.1416 3.1416 3.1416 3.1416 3.1416 3.1416 3.1416]\n",
            " [3.1416 3.1416 3.1416 3.1416 3.1416 3.1416 3.1416 3.1416 3.1416 3.1416]\n",
            " [3.1416 3.1416 3.1416 3.1416 3.1416 3.1416 3.1416 3.1416 3.1416 3.1416]\n",
            " [3.1416 3.1416 3.1416 3.1416 3.1416 3.1416 3.1416 3.1416 3.1416 3.1416]\n",
            " [3.1416 3.1416 3.1416 3.1416 3.1416 3.1416 3.1416 3.1416 3.1416 3.1416]\n",
            " [3.1416 3.1416 3.1416 3.1416 3.1416 3.1416 3.1416 3.1416 3.1416 3.1416]]\n"
          ]
        }
      ],
      "source": [
        "#let's make an array using np.empty()\n",
        "array = np.empty((10,10))\n",
        "#we want to make another array of the shape of n and fill all the values with 3.1416 or any value\n",
        "copied_array = np.full_like(array, 3.1416)\n",
        "print(copied_array)"
      ]
    },
    {
      "cell_type": "markdown",
      "metadata": {
        "id": "CpmZ9PiSb2CD"
      },
      "source": [
        "Note that the array created inherits its dtype from the original array; to set its data\n",
        "type to something else, use the dtype argument."
      ]
    },
    {
      "cell_type": "code",
      "execution_count": null,
      "metadata": {
        "id": "5F_6NjjOb2CD"
      },
      "outputs": [],
      "source": [
        "#let's check out the above information\n",
        "n = np.empty((10,5))\n",
        "n.dtype #we know by default dtype is 'float64'\n",
        "#change the dtype of the array\n",
        "n = n.astype('uint32') #here 'uint32' means 8 bits unsigned integer"
      ]
    },
    {
      "cell_type": "code",
      "execution_count": null,
      "metadata": {
        "id": "_fZvf2pQb2CD",
        "outputId": "c22284dc-e77d-4512-c3b1-55bb7331b3d7"
      },
      "outputs": [
        {
          "name": "stdout",
          "output_type": "stream",
          "text": [
            "[[1 1 1 1 1]\n",
            " [1 1 1 1 1]\n",
            " [1 1 1 1 1]\n",
            " [1 1 1 1 1]\n",
            " [1 1 1 1 1]\n",
            " [1 1 1 1 1]\n",
            " [1 1 1 1 1]\n",
            " [1 1 1 1 1]\n",
            " [1 1 1 1 1]\n",
            " [1 1 1 1 1]]\n"
          ]
        },
        {
          "data": {
            "text/plain": [
              "dtype('uint32')"
            ]
          },
          "execution_count": 59,
          "metadata": {},
          "output_type": "execute_result"
        }
      ],
      "source": [
        "#now using np.ones_like() make an array and check if the dtype of the new array inherits it dtype from the original one\n",
        "copied_n = np.ones_like(n)\n",
        "print(copied_n)\n",
        "copied_n.dtype"
      ]
    },
    {
      "cell_type": "markdown",
      "metadata": {
        "id": "wA50rWbIb2CD"
      },
      "source": [
        "# Initializing an array from a sequence"
      ]
    },
    {
      "cell_type": "markdown",
      "metadata": {
        "id": "CyAqbGKWb2CE"
      },
      "source": [
        "To create an array containing a sequence of numbers there are two methods:\n",
        "np.arange and np.linspace. np.arange is the NumPy equivalent of range, except\n",
        "that it can generate floating point sequences."
      ]
    },
    {
      "cell_type": "code",
      "execution_count": null,
      "metadata": {
        "id": "WHRAUZcwb2CE",
        "outputId": "96bcd633-85d2-4522-907a-379dfafbc277"
      },
      "outputs": [
        {
          "data": {
            "text/plain": [
              "array([0, 1, 2, 3, 4, 5, 6, 7, 8, 9])"
            ]
          },
          "execution_count": 62,
          "metadata": {},
          "output_type": "execute_result"
        }
      ],
      "source": [
        "n = np.arange(10)\n",
        "n"
      ]
    },
    {
      "cell_type": "code",
      "execution_count": null,
      "metadata": {
        "id": "q_vxad_Jb2CE",
        "outputId": "8a7aa30d-8a34-4a24-adf3-4dd20d5d3838"
      },
      "outputs": [
        {
          "name": "stdout",
          "output_type": "stream",
          "text": [
            "[0.  0.5 1.  1.5 2.  2.5 3.  3.5 4.  4.5 5.  5.5 6.  6.5 7.  7.5 8.  8.5\n",
            " 9.  9.5]\n"
          ]
        }
      ],
      "source": [
        "n = np.arange(0, 10, 0.5) #stride is 0.5, end of the range (here 10) is exclusive\n",
        "print(n)"
      ]
    },
    {
      "cell_type": "code",
      "execution_count": null,
      "metadata": {
        "id": "T3n_-k98b2CE",
        "outputId": "b00186dd-fd4b-4adf-febc-43e98abb6421"
      },
      "outputs": [
        {
          "name": "stdout",
          "output_type": "stream",
          "text": [
            "[10.   9.5  9.   8.5  8.   7.5  7.   6.5  6.   5.5  5.   4.5  4.   3.5\n",
            "  3.   2.5  2.   1.5  1.   0.5]\n"
          ]
        }
      ],
      "source": [
        "n = np.arange(10, 0, -0.5) #backwards, from 10 to 0 (exclusive), stride is -0.5\n",
        "print(n)"
      ]
    },
    {
      "cell_type": "markdown",
      "metadata": {
        "id": "o1R89G8Vb2CF"
      },
      "source": [
        "np.arange has a problem: because of the finite precision\n",
        "of floating point arithmetic it is not always possible to know how many elements will\n",
        "be created. For this reason, and because one often wants the last element of a\n",
        "specifed sequence, the np.linspace function can be a more useful way of creating a sequence."
      ]
    },
    {
      "cell_type": "code",
      "execution_count": null,
      "metadata": {
        "id": "TPfNHGIsb2CF",
        "outputId": "3b071258-309a-44f4-9d9a-208e51d2908f"
      },
      "outputs": [
        {
          "name": "stdout",
          "output_type": "stream",
          "text": [
            "[ 0.          0.20408163  0.40816327  0.6122449   0.81632653  1.02040816\n",
            "  1.2244898   1.42857143  1.63265306  1.83673469  2.04081633  2.24489796\n",
            "  2.44897959  2.65306122  2.85714286  3.06122449  3.26530612  3.46938776\n",
            "  3.67346939  3.87755102  4.08163265  4.28571429  4.48979592  4.69387755\n",
            "  4.89795918  5.10204082  5.30612245  5.51020408  5.71428571  5.91836735\n",
            "  6.12244898  6.32653061  6.53061224  6.73469388  6.93877551  7.14285714\n",
            "  7.34693878  7.55102041  7.75510204  7.95918367  8.16326531  8.36734694\n",
            "  8.57142857  8.7755102   8.97959184  9.18367347  9.3877551   9.59183673\n",
            "  9.79591837 10.        ]\n"
          ]
        }
      ],
      "source": [
        "n = np.linspace(0, 10) #from 0 to 10 (inclusive)\n",
        "print(n) #by default it gives 50 numbers if number of elements is not defined"
      ]
    },
    {
      "cell_type": "markdown",
      "metadata": {
        "id": "5Rl2JrlFb2CF"
      },
      "source": [
        "np.linspace has a couple of optional boolean arguments, e.g. - setting retstep to\n",
        "True returns the number spacing."
      ]
    },
    {
      "cell_type": "code",
      "execution_count": null,
      "metadata": {
        "id": "4-U05HjVb2CF"
      },
      "outputs": [],
      "source": [
        "n, retstep = np.linspace(0, 10, 20, endpoint = False, retstep = True) #since endpoint is False 10 is not included"
      ]
    },
    {
      "cell_type": "code",
      "execution_count": null,
      "metadata": {
        "id": "uIKdNvHPb2CF",
        "outputId": "4c27f5b2-1817-43d7-ff2b-be4d1b0540e3"
      },
      "outputs": [
        {
          "data": {
            "text/plain": [
              "(array([0. , 0.5, 1. , 1.5, 2. , 2.5, 3. , 3.5, 4. , 4.5, 5. , 5.5, 6. ,\n",
              "        6.5, 7. , 7.5, 8. , 8.5, 9. , 9.5]),\n",
              " 0.5)"
            ]
          },
          "execution_count": 69,
          "metadata": {},
          "output_type": "execute_result"
        }
      ],
      "source": [
        "n, retstep #if retstep is True step size of the array will be returned, here i saved it to a variable called retstep"
      ]
    },
    {
      "cell_type": "markdown",
      "metadata": {
        "id": "NA9w94l2b2CG"
      },
      "source": [
        "# Initializing an array from a function"
      ]
    },
    {
      "cell_type": "markdown",
      "metadata": {
        "id": "e6oSufpRb2CG"
      },
      "source": [
        "To create an array initialized with values calculated using a function, use NumPy’s\n",
        "np.fromfunction method, which takes as its arguments a function and a tuple representing the shape of the desired array. The function should itself take the same number\n",
        "of arguments as dimensions in the array: these arguments index each element at which\n",
        "the function returns a value."
      ]
    },
    {
      "cell_type": "code",
      "execution_count": null,
      "metadata": {
        "id": "XOIPyFhyb2CG"
      },
      "outputs": [],
      "source": [
        "def function(a, b):\n",
        "    return a*b\n",
        "n = np.fromfunction(function, (10,5))\n",
        "#the function is called for every index in the specified shape\n",
        "#and the values it returns are used to initialize the corresponding elements"
      ]
    },
    {
      "cell_type": "code",
      "execution_count": null,
      "metadata": {
        "id": "vZeHTyRDb2CG",
        "outputId": "34a40dd4-6d0a-4a1e-9de6-782bc69bf485"
      },
      "outputs": [
        {
          "data": {
            "text/plain": [
              "array([[ 0.,  0.,  0.,  0.,  0.],\n",
              "       [ 0.,  1.,  2.,  3.,  4.],\n",
              "       [ 0.,  2.,  4.,  6.,  8.],\n",
              "       [ 0.,  3.,  6.,  9., 12.],\n",
              "       [ 0.,  4.,  8., 12., 16.],\n",
              "       [ 0.,  5., 10., 15., 20.],\n",
              "       [ 0.,  6., 12., 18., 24.],\n",
              "       [ 0.,  7., 14., 21., 28.],\n",
              "       [ 0.,  8., 16., 24., 32.],\n",
              "       [ 0.,  9., 18., 27., 36.]])"
            ]
          },
          "execution_count": 75,
          "metadata": {},
          "output_type": "execute_result"
        }
      ],
      "source": [
        "n"
      ]
    },
    {
      "cell_type": "code",
      "execution_count": null,
      "metadata": {
        "id": "GCUcsy_hb2CH",
        "outputId": "1d5bfbcd-14f2-4bc5-cfeb-8295934fc95c"
      },
      "outputs": [
        {
          "data": {
            "text/plain": [
              "array([[ 0.,  0.,  0.,  0.,  0.],\n",
              "       [ 0.,  1.,  2.,  3.,  4.],\n",
              "       [ 0.,  2.,  4.,  6.,  8.],\n",
              "       [ 0.,  3.,  6.,  9., 12.],\n",
              "       [ 0.,  4.,  8., 12., 16.],\n",
              "       [ 0.,  5., 10., 15., 20.],\n",
              "       [ 0.,  6., 12., 18., 24.],\n",
              "       [ 0.,  7., 14., 21., 28.],\n",
              "       [ 0.,  8., 16., 24., 32.],\n",
              "       [ 0.,  9., 18., 27., 36.]])"
            ]
          },
          "execution_count": 74,
          "metadata": {},
          "output_type": "execute_result"
        }
      ],
      "source": [
        "n = np.fromfunction(lambda a, b : a*b, (10,5))\n",
        "n"
      ]
    },
    {
      "cell_type": "markdown",
      "metadata": {
        "id": "YPH66PXUb2CH"
      },
      "source": [
        "# ndarray attributes for introspection"
      ]
    },
    {
      "cell_type": "code",
      "execution_count": null,
      "metadata": {
        "id": "BgliaulZb2CH",
        "outputId": "5ec0aba3-4560-4e67-ff86-a747438ebc6d"
      },
      "outputs": [
        {
          "data": {
            "text/plain": [
              "numpy.ndarray"
            ]
          },
          "execution_count": 76,
          "metadata": {},
          "output_type": "execute_result"
        }
      ],
      "source": [
        "type(n)"
      ]
    },
    {
      "cell_type": "code",
      "execution_count": null,
      "metadata": {
        "id": "GdR4dTZbb2CH",
        "outputId": "bdedc08a-5770-4882-b58e-c1ed363ea56e"
      },
      "outputs": [
        {
          "data": {
            "text/plain": [
              "(10, 5)"
            ]
          },
          "execution_count": 77,
          "metadata": {},
          "output_type": "execute_result"
        }
      ],
      "source": [
        "n.shape #shape of the array"
      ]
    },
    {
      "cell_type": "code",
      "execution_count": null,
      "metadata": {
        "id": "SApt2iQRb2CI",
        "outputId": "0c8c3f49-02a7-4196-fb2e-c9305c263f74"
      },
      "outputs": [
        {
          "data": {
            "text/plain": [
              "2"
            ]
          },
          "execution_count": 79,
          "metadata": {},
          "output_type": "execute_result"
        }
      ],
      "source": [
        "n.ndim #number of dimensions of the array"
      ]
    },
    {
      "cell_type": "code",
      "execution_count": null,
      "metadata": {
        "id": "riP3m4VNb2CI",
        "outputId": "4f20f142-08ff-4c63-f196-3ddb48d3dce0"
      },
      "outputs": [
        {
          "data": {
            "text/plain": [
              "dtype('float64')"
            ]
          },
          "execution_count": 80,
          "metadata": {},
          "output_type": "execute_result"
        }
      ],
      "source": [
        "n.dtype #data type of each element of the array"
      ]
    },
    {
      "cell_type": "code",
      "execution_count": null,
      "metadata": {
        "id": "YhUrX02sb2CI",
        "outputId": "23201292-d1e0-42ce-cd42-98a4fc712c58"
      },
      "outputs": [
        {
          "data": {
            "text/plain": [
              "<memory at 0x000001F855654860>"
            ]
          },
          "execution_count": 81,
          "metadata": {},
          "output_type": "execute_result"
        }
      ],
      "source": [
        "n.data #memory location of the array"
      ]
    },
    {
      "cell_type": "code",
      "execution_count": null,
      "metadata": {
        "id": "QWFW0ES7b2CI",
        "outputId": "415c277e-17f3-497f-fb7a-5a412b50016e"
      },
      "outputs": [
        {
          "data": {
            "text/plain": [
              "50"
            ]
          },
          "execution_count": 82,
          "metadata": {},
          "output_type": "execute_result"
        }
      ],
      "source": [
        "n.size #number of elements of the array"
      ]
    },
    {
      "cell_type": "code",
      "execution_count": null,
      "metadata": {
        "id": "-YgE-fe0b2CI",
        "outputId": "f88f9089-d768-4815-ade9-0fba24746da5"
      },
      "outputs": [
        {
          "data": {
            "text/plain": [
              "8"
            ]
          },
          "execution_count": 83,
          "metadata": {},
          "output_type": "execute_result"
        }
      ],
      "source": [
        "n.itemsize #size in bytes of each element of the array"
      ]
    },
    {
      "cell_type": "code",
      "execution_count": null,
      "metadata": {
        "id": "Q0D8Tqxbb2CJ",
        "outputId": "2db7ffb5-6a37-4150-b615-1f048bf40a84"
      },
      "outputs": [
        {
          "data": {
            "text/plain": [
              "'<f8'"
            ]
          },
          "execution_count": 88,
          "metadata": {},
          "output_type": "execute_result"
        }
      ],
      "source": [
        "n.dtype.str #dtype in string"
      ]
    },
    {
      "cell_type": "code",
      "execution_count": null,
      "metadata": {
        "id": "-I2OyKe7b2CJ",
        "outputId": "fb9ee0a2-e677-4f24-c59e-4908652338ba"
      },
      "outputs": [
        {
          "data": {
            "text/plain": [
              "'float64'"
            ]
          },
          "execution_count": 90,
          "metadata": {},
          "output_type": "execute_result"
        }
      ],
      "source": [
        "n.dtype.name #dtype name and bit width"
      ]
    },
    {
      "cell_type": "code",
      "execution_count": null,
      "metadata": {
        "id": "g9hJxtbYb2CJ",
        "outputId": "f082ba0e-9111-46e0-de7e-73fc9e0d24d9"
      },
      "outputs": [
        {
          "data": {
            "text/plain": [
              "8"
            ]
          },
          "execution_count": 92,
          "metadata": {},
          "output_type": "execute_result"
        }
      ],
      "source": [
        "n.dtype.itemsize #dtype size in bytes"
      ]
    },
    {
      "cell_type": "markdown",
      "metadata": {
        "id": "dgg6YlPZb2CJ"
      },
      "source": [
        "# Universal functions"
      ]
    },
    {
      "cell_type": "markdown",
      "metadata": {
        "id": "HlIjUro-b2CK"
      },
      "source": [
        "In addition to the basic arithmetic operations of addition, division and more, NumPy provides many of the familiar mathematical functions that the math module does, implemented as so-called universal functions that act on each element of an array, producing an array in return without the need for an explicit loop. Universal functions are the way NumPy allows for vectorization, which promotes clean, efficient and easy-to-maintain code. "
      ]
    },
    {
      "cell_type": "code",
      "execution_count": null,
      "metadata": {
        "id": "aM1LU_IFb2CK",
        "outputId": "42072a68-ba9b-48ff-d392-b813b5f681a0"
      },
      "outputs": [
        {
          "data": {
            "text/plain": [
              "array([0., 1., 2., 3., 4., 5., 6., 7., 8., 9.])"
            ]
          },
          "execution_count": 97,
          "metadata": {},
          "output_type": "execute_result"
        }
      ],
      "source": [
        "n = np.linspace(0,10,10,endpoint = False)\n",
        "n"
      ]
    },
    {
      "cell_type": "code",
      "execution_count": null,
      "metadata": {
        "id": "QxiJHs7Ob2CK",
        "outputId": "b2a543fd-c5cc-477a-8567-9307327c7060"
      },
      "outputs": [
        {
          "data": {
            "text/plain": [
              "array([ 0.,  1.,  4.,  9., 16., 25., 36., 49., 64., 81.])"
            ]
          },
          "execution_count": 98,
          "metadata": {},
          "output_type": "execute_result"
        }
      ],
      "source": [
        "n**2"
      ]
    },
    {
      "cell_type": "code",
      "execution_count": null,
      "metadata": {
        "id": "OBuT8iaPb2CK",
        "outputId": "6c50ff0e-9605-48b0-ff03-d8d79b6eb66f"
      },
      "outputs": [
        {
          "data": {
            "text/plain": [
              "array([-1.,  0.,  1.,  2.,  3.,  4.,  5.,  6.,  7.,  8.])"
            ]
          },
          "execution_count": 99,
          "metadata": {},
          "output_type": "execute_result"
        }
      ],
      "source": [
        "n-1"
      ]
    },
    {
      "cell_type": "code",
      "execution_count": null,
      "metadata": {
        "id": "2TrhXE59b2CL",
        "outputId": "a52b18d4-094d-4689-9ff5-261df22d6782"
      },
      "outputs": [
        {
          "data": {
            "text/plain": [
              "array([1.00000000e+00, 2.71828183e+00, 7.38905610e+00, 2.00855369e+01,\n",
              "       5.45981500e+01, 1.48413159e+02, 4.03428793e+02, 1.09663316e+03,\n",
              "       2.98095799e+03, 8.10308393e+03])"
            ]
          },
          "execution_count": 100,
          "metadata": {},
          "output_type": "execute_result"
        }
      ],
      "source": [
        "np.exp(n)"
      ]
    },
    {
      "cell_type": "code",
      "execution_count": null,
      "metadata": {
        "id": "0yj3LmXUb2CL",
        "outputId": "b1277cd2-33e0-4259-ce74-dfa820886a81"
      },
      "outputs": [
        {
          "data": {
            "text/plain": [
              "array([ 0.        ,  0.84147098,  0.90929743,  0.14112001, -0.7568025 ,\n",
              "       -0.95892427, -0.2794155 ,  0.6569866 ,  0.98935825,  0.41211849])"
            ]
          },
          "execution_count": 101,
          "metadata": {},
          "output_type": "execute_result"
        }
      ],
      "source": [
        "np.sin(n)"
      ]
    },
    {
      "cell_type": "code",
      "execution_count": null,
      "metadata": {
        "id": "SUnAnqxGb2CL",
        "outputId": "eb21a033-9c86-4384-a342-4565c22b3711"
      },
      "outputs": [
        {
          "data": {
            "text/plain": [
              "45.0"
            ]
          },
          "execution_count": 104,
          "metadata": {},
          "output_type": "execute_result"
        }
      ],
      "source": [
        "copied_n = np.ones_like(n)\n",
        "n.dot(copied_n)"
      ]
    },
    {
      "cell_type": "code",
      "execution_count": null,
      "metadata": {
        "id": "CMDLCSLOb2CL",
        "outputId": "d5acb315-c84f-4f7f-971f-61689abefb1a"
      },
      "outputs": [
        {
          "data": {
            "text/plain": [
              "array([0., 1., 2., 3., 4.])"
            ]
          },
          "execution_count": 105,
          "metadata": {},
          "output_type": "execute_result"
        }
      ],
      "source": [
        "n[n<5]"
      ]
    },
    {
      "cell_type": "code",
      "execution_count": null,
      "metadata": {
        "id": "LXJTQrzvb2CM",
        "outputId": "af27655e-9214-4baf-fb90-4a7d6243e5af"
      },
      "outputs": [
        {
          "data": {
            "text/plain": [
              "array([ True,  True,  True,  True,  True, False, False, False, False,\n",
              "       False])"
            ]
          },
          "execution_count": 106,
          "metadata": {},
          "output_type": "execute_result"
        }
      ],
      "source": [
        "n<5"
      ]
    },
    {
      "cell_type": "code",
      "execution_count": null,
      "metadata": {
        "id": "2dI4qjs9b2CM",
        "outputId": "84c17786-4cd0-463e-ad1d-cbc5784f5322"
      },
      "outputs": [
        {
          "data": {
            "text/plain": [
              "array([ True,  True, False, False, False, False, False, False, False,\n",
              "        True])"
            ]
          },
          "execution_count": 108,
          "metadata": {},
          "output_type": "execute_result"
        }
      ],
      "source": [
        "(n<2) | (n>8)"
      ]
    },
    {
      "cell_type": "markdown",
      "metadata": {
        "id": "IVP2vzoOb2CM"
      },
      "source": [
        "# NumPy's special values : nan, inf"
      ]
    },
    {
      "cell_type": "markdown",
      "metadata": {
        "id": "YuChi6mSb2CM"
      },
      "source": [
        "NumPy defines two special values to represent the outcome of calculations, which are\n",
        "not mathematically defined or not finite. The value np.nan (“not a number,” NaN)\n",
        "represents the outcome of a calculation that is not a well-defined mathematical operation\n",
        "(e.g., 0/0); np.inf represents infinity."
      ]
    },
    {
      "cell_type": "code",
      "execution_count": null,
      "metadata": {
        "id": "lwcvPU0Qb2CM"
      },
      "outputs": [],
      "source": [
        "n = np.array([0,1,2,3,4,5,6,7,8,9,-1])"
      ]
    },
    {
      "cell_type": "code",
      "execution_count": null,
      "metadata": {
        "id": "yy31fhg4b2CN",
        "outputId": "39a10033-530b-4633-8c2e-ce49077831cc"
      },
      "outputs": [
        {
          "name": "stdout",
          "output_type": "stream",
          "text": [
            "[ nan  inf  inf  inf  inf  inf  inf  inf  inf  inf -inf]\n"
          ]
        },
        {
          "name": "stderr",
          "output_type": "stream",
          "text": [
            "<ipython-input-7-bab94b0cd0a3>:1: RuntimeWarning: divide by zero encountered in true_divide\n",
            "  print(n/0)\n",
            "<ipython-input-7-bab94b0cd0a3>:1: RuntimeWarning: invalid value encountered in true_divide\n",
            "  print(n/0)\n"
          ]
        }
      ],
      "source": [
        "print(n/0)"
      ]
    },
    {
      "cell_type": "code",
      "execution_count": null,
      "metadata": {
        "id": "4W5Uq9P_b2CN",
        "outputId": "8c6c31c1-8cec-4cd1-db77-7952b0ae7f58"
      },
      "outputs": [
        {
          "name": "stderr",
          "output_type": "stream",
          "text": [
            "<ipython-input-9-29733de18e06>:2: RuntimeWarning: divide by zero encountered in true_divide\n",
            "  div_zero = n/0\n",
            "<ipython-input-9-29733de18e06>:2: RuntimeWarning: invalid value encountered in true_divide\n",
            "  div_zero = n/0\n"
          ]
        },
        {
          "data": {
            "text/plain": [
              "array([ True, False, False, False, False, False, False, False, False,\n",
              "       False, False])"
            ]
          },
          "execution_count": 9,
          "metadata": {},
          "output_type": "execute_result"
        }
      ],
      "source": [
        "#check if an element of the array is nan or inf\n",
        "div_zero = n/0\n",
        "np.isnan(div_zero[::])"
      ]
    },
    {
      "cell_type": "code",
      "execution_count": null,
      "metadata": {
        "id": "A2_BZzkob2CN",
        "outputId": "330aa1eb-68cc-4ff6-aedc-ce8ac841faf7"
      },
      "outputs": [
        {
          "data": {
            "text/plain": [
              "array([False,  True,  True,  True,  True,  True,  True,  True,  True,\n",
              "        True,  True])"
            ]
          },
          "execution_count": 10,
          "metadata": {},
          "output_type": "execute_result"
        }
      ],
      "source": [
        "np.isinf(div_zero[::])"
      ]
    },
    {
      "cell_type": "code",
      "execution_count": null,
      "metadata": {
        "id": "nEeOKjlWb2CN",
        "outputId": "c7fadc39-956d-4d52-911d-9a5f0527ab6f"
      },
      "outputs": [
        {
          "data": {
            "text/plain": [
              "array([False, False, False, False, False, False, False, False, False,\n",
              "       False, False])"
            ]
          },
          "execution_count": 12,
          "metadata": {},
          "output_type": "execute_result"
        }
      ],
      "source": [
        "#check if an element of the array is finite\n",
        "np.isfinite(div_zero[::])"
      ]
    },
    {
      "cell_type": "markdown",
      "metadata": {
        "id": "aglEULwIb2CO"
      },
      "source": [
        "# Changing the shape of an array"
      ]
    },
    {
      "cell_type": "markdown",
      "metadata": {
        "id": "6pTrBW2Tb2CO"
      },
      "source": [
        "Whatever the rank of an array, its elements are stored in sequential memory locations\n",
        "that are addressed by a single index (internally, the array is one-dimensional, but knowing the shape of the array, Python is able to resolve a tuple of indexes into a single\n",
        "memory address). NumPy’s arrays are stored in memory in C-style, row-major order,\n",
        "that is, with the elements of the last (rightmost) index stored contiguously. In a twodimensional array, for example, the element a[0,0] is followed by a[0,1]. The array\n",
        "that follows\n",
        "In [x]: a = np.array( ((1,2),(3,4)) )\n",
        "In [x}: print(a)\n",
        "[[1 2]\n",
        "[3 4]]\n",
        "is stored in memory as the sequential elements [1,2,3,4]."
      ]
    },
    {
      "cell_type": "markdown",
      "metadata": {
        "id": "1kB_sagub2CO"
      },
      "source": [
        "Suppose you wish to “flatten” a multidimensional array onto a single axis. NumPy provides two methods to do this: flatten and ravel. Both flatten the array into its internal\n",
        "(row-major) ordering, as described earlier. flatten returns an independent copy of the\n",
        "elements and is generally slower than ravel which, tries to return a view to the flattened\n",
        "array. An array view is a new NumPy array with, in this case, a different shape from the\n",
        "original, but it does not “own” its data elements: it references the elements of another\n",
        "array."
      ]
    },
    {
      "cell_type": "markdown",
      "metadata": {
        "id": "swF9mX1Kb2CO"
      },
      "source": [
        "You should be aware that although the ravel method “does its best” to return a view to\n",
        "the underlying data, various array operations (including slicing; see Section 6.1.6) can\n",
        "leave the elements stored in noncontiguous memory locations in which case ravel has\n",
        "no choice but to make a copy."
      ]
    },
    {
      "cell_type": "code",
      "execution_count": null,
      "metadata": {
        "id": "31GiCwr4b2CO"
      },
      "outputs": [],
      "source": [
        "a = np.array([\n",
        "    [1,2,3],\n",
        "    [4,5,6],\n",
        "    [7,8,9]\n",
        "])\n",
        "b = a.flatten()"
      ]
    },
    {
      "cell_type": "code",
      "execution_count": null,
      "metadata": {
        "id": "5oZGEup3b2CP",
        "outputId": "5ad96047-4519-490b-94c5-c7c18018da16"
      },
      "outputs": [
        {
          "data": {
            "text/plain": [
              "(array([[1, 2, 3],\n",
              "        [4, 5, 6],\n",
              "        [7, 8, 9]]),\n",
              " array([1, 2, 3, 4, 5, 6, 7, 8, 9]))"
            ]
          },
          "execution_count": 25,
          "metadata": {},
          "output_type": "execute_result"
        }
      ],
      "source": [
        "a, b"
      ]
    },
    {
      "cell_type": "code",
      "execution_count": null,
      "metadata": {
        "id": "wHV600lqb2CP"
      },
      "outputs": [],
      "source": [
        "b = a.ravel()"
      ]
    },
    {
      "cell_type": "code",
      "execution_count": null,
      "metadata": {
        "id": "SmnD0s3Ib2CP",
        "outputId": "4ca3ee6e-6dbd-49ce-b9fa-7fe17e996cd8"
      },
      "outputs": [
        {
          "data": {
            "text/plain": [
              "(array([[1, 2, 3],\n",
              "        [4, 5, 6],\n",
              "        [7, 8, 9]]),\n",
              " array([1, 2, 3, 4, 5, 6, 7, 8, 9]))"
            ]
          },
          "execution_count": 28,
          "metadata": {},
          "output_type": "execute_result"
        }
      ],
      "source": [
        "a, b"
      ]
    },
    {
      "cell_type": "markdown",
      "metadata": {
        "id": "IJekN14ob2CP"
      },
      "source": [
        "An array may be resized (in place) to a compatible shape with the resize method,\n",
        "which takes the new dimensions as its arguments. If the array doesn’t reference another\n",
        "array’s data and doesn’t have references to it, resizing to a smaller shape is allowed\n",
        "and truncates the array; resizing to a larger shape pads with zeros. Array references are\n",
        "created when, for example, one array is a view on another (they share data) or simply\n",
        "by assignment: (b=a)."
      ]
    },
    {
      "cell_type": "code",
      "execution_count": null,
      "metadata": {
        "id": "8XgpI064b2CQ",
        "outputId": "03f5d105-8275-49ec-e77a-b99aabf6a970"
      },
      "outputs": [
        {
          "data": {
            "text/plain": [
              "array([0., 1., 2., 3., 4., 5., 6., 7., 8.])"
            ]
          },
          "execution_count": 30,
          "metadata": {},
          "output_type": "execute_result"
        }
      ],
      "source": [
        "n = np.linspace(0,9,9,endpoint = False)\n",
        "n"
      ]
    },
    {
      "cell_type": "code",
      "execution_count": null,
      "metadata": {
        "id": "aRjFS2Gzb2CQ"
      },
      "outputs": [],
      "source": [
        "n.resize(3,3)"
      ]
    },
    {
      "cell_type": "code",
      "execution_count": null,
      "metadata": {
        "id": "MvP-PqWxb2CQ",
        "outputId": "2a219289-5023-4f9c-a0d5-431fafc1afb4"
      },
      "outputs": [
        {
          "data": {
            "text/plain": [
              "array([[0., 1., 2.],\n",
              "       [3., 4., 5.],\n",
              "       [6., 7., 8.]])"
            ]
          },
          "execution_count": 32,
          "metadata": {},
          "output_type": "execute_result"
        }
      ],
      "source": [
        "n"
      ]
    },
    {
      "cell_type": "code",
      "execution_count": null,
      "metadata": {
        "id": "xiJh4qjgb2CQ",
        "outputId": "76ff29bc-2f1d-4b89-8699-9c16d8b3b579"
      },
      "outputs": [
        {
          "data": {
            "text/plain": [
              "array([[0.],\n",
              "       [1.],\n",
              "       [2.],\n",
              "       [3.],\n",
              "       [4.],\n",
              "       [5.],\n",
              "       [6.],\n",
              "       [7.],\n",
              "       [8.]])"
            ]
          },
          "execution_count": 34,
          "metadata": {},
          "output_type": "execute_result"
        }
      ],
      "source": [
        "n.reshape(9,1)"
      ]
    },
    {
      "cell_type": "code",
      "execution_count": null,
      "metadata": {
        "id": "2qcqvF39b2CQ",
        "outputId": "b0151e92-8178-48e6-928e-d478dc2f7278"
      },
      "outputs": [
        {
          "data": {
            "text/plain": [
              "array([[0., 1., 2.],\n",
              "       [3., 4., 5.],\n",
              "       [6., 7., 8.]])"
            ]
          },
          "execution_count": 35,
          "metadata": {},
          "output_type": "execute_result"
        }
      ],
      "source": [
        "n"
      ]
    },
    {
      "cell_type": "code",
      "execution_count": null,
      "metadata": {
        "id": "LE3uZIX5b2CR"
      },
      "outputs": [],
      "source": [
        "n = n.reshape(9,1)"
      ]
    },
    {
      "cell_type": "code",
      "execution_count": null,
      "metadata": {
        "id": "mdWTKPAAb2CR",
        "outputId": "e4d84748-ee8d-48d7-d165-2bdac838d181"
      },
      "outputs": [
        {
          "data": {
            "text/plain": [
              "array([[0.],\n",
              "       [1.],\n",
              "       [2.],\n",
              "       [3.],\n",
              "       [4.],\n",
              "       [5.],\n",
              "       [6.],\n",
              "       [7.],\n",
              "       [8.]])"
            ]
          },
          "execution_count": 37,
          "metadata": {},
          "output_type": "execute_result"
        }
      ],
      "source": [
        "n"
      ]
    },
    {
      "cell_type": "markdown",
      "metadata": {
        "id": "lLZx9LICb2CR"
      },
      "source": [
        "The reshape method returns a view on the array with its elements reshaped as required.\n",
        "The original array is not modified."
      ]
    },
    {
      "cell_type": "code",
      "execution_count": null,
      "metadata": {
        "id": "kgn9A3OQb2CR"
      },
      "outputs": [],
      "source": [
        "n = n.reshape(9)"
      ]
    },
    {
      "cell_type": "code",
      "execution_count": null,
      "metadata": {
        "id": "YIt3_kSzb2CR",
        "outputId": "b938e1ee-87a3-4d4e-9259-7316ad5d4fc1"
      },
      "outputs": [
        {
          "data": {
            "text/plain": [
              "array([0., 1., 2., 3., 4., 5., 6., 7., 8.])"
            ]
          },
          "execution_count": 40,
          "metadata": {},
          "output_type": "execute_result"
        }
      ],
      "source": [
        "n"
      ]
    },
    {
      "cell_type": "code",
      "execution_count": null,
      "metadata": {
        "id": "SEfPJTAyb2CS"
      },
      "outputs": [],
      "source": [
        "#transposing an numpy array\n",
        "n = np.linspace(0,100,100, endpoint = False).reshape(5,20)"
      ]
    },
    {
      "cell_type": "code",
      "execution_count": null,
      "metadata": {
        "id": "4m5tZXkEb2CS",
        "outputId": "0805e559-1408-41c4-c449-61172efb403a"
      },
      "outputs": [
        {
          "data": {
            "text/plain": [
              "array([[ 0.,  1.,  2.,  3.,  4.,  5.,  6.,  7.,  8.,  9., 10., 11., 12.,\n",
              "        13., 14., 15., 16., 17., 18., 19.],\n",
              "       [20., 21., 22., 23., 24., 25., 26., 27., 28., 29., 30., 31., 32.,\n",
              "        33., 34., 35., 36., 37., 38., 39.],\n",
              "       [40., 41., 42., 43., 44., 45., 46., 47., 48., 49., 50., 51., 52.,\n",
              "        53., 54., 55., 56., 57., 58., 59.],\n",
              "       [60., 61., 62., 63., 64., 65., 66., 67., 68., 69., 70., 71., 72.,\n",
              "        73., 74., 75., 76., 77., 78., 79.],\n",
              "       [80., 81., 82., 83., 84., 85., 86., 87., 88., 89., 90., 91., 92.,\n",
              "        93., 94., 95., 96., 97., 98., 99.]])"
            ]
          },
          "execution_count": 48,
          "metadata": {},
          "output_type": "execute_result"
        }
      ],
      "source": [
        "n"
      ]
    },
    {
      "cell_type": "code",
      "execution_count": null,
      "metadata": {
        "id": "sBU9G_xPb2CS",
        "outputId": "ad5901d5-54d2-4bec-8987-fad563380d97"
      },
      "outputs": [
        {
          "data": {
            "text/plain": [
              "(5, 20)"
            ]
          },
          "execution_count": 49,
          "metadata": {},
          "output_type": "execute_result"
        }
      ],
      "source": [
        "n.shape"
      ]
    },
    {
      "cell_type": "code",
      "execution_count": null,
      "metadata": {
        "id": "vo3U_BVHb2CS",
        "outputId": "46371402-b70b-4141-b2c1-73d123df08d3"
      },
      "outputs": [
        {
          "data": {
            "text/plain": [
              "array([[ 0., 20., 40., 60., 80.],\n",
              "       [ 1., 21., 41., 61., 81.],\n",
              "       [ 2., 22., 42., 62., 82.],\n",
              "       [ 3., 23., 43., 63., 83.],\n",
              "       [ 4., 24., 44., 64., 84.],\n",
              "       [ 5., 25., 45., 65., 85.],\n",
              "       [ 6., 26., 46., 66., 86.],\n",
              "       [ 7., 27., 47., 67., 87.],\n",
              "       [ 8., 28., 48., 68., 88.],\n",
              "       [ 9., 29., 49., 69., 89.],\n",
              "       [10., 30., 50., 70., 90.],\n",
              "       [11., 31., 51., 71., 91.],\n",
              "       [12., 32., 52., 72., 92.],\n",
              "       [13., 33., 53., 73., 93.],\n",
              "       [14., 34., 54., 74., 94.],\n",
              "       [15., 35., 55., 75., 95.],\n",
              "       [16., 36., 56., 76., 96.],\n",
              "       [17., 37., 57., 77., 97.],\n",
              "       [18., 38., 58., 78., 98.],\n",
              "       [19., 39., 59., 79., 99.]])"
            ]
          },
          "execution_count": 50,
          "metadata": {},
          "output_type": "execute_result"
        }
      ],
      "source": [
        "n.transpose()"
      ]
    },
    {
      "cell_type": "code",
      "execution_count": null,
      "metadata": {
        "id": "gl2Dpumib2CT",
        "outputId": "cc4c5d21-844b-440a-ff22-18b040d09d2e"
      },
      "outputs": [
        {
          "data": {
            "text/plain": [
              "array([[ 0.,  1.,  2.,  3.,  4.,  5.,  6.,  7.,  8.,  9., 10., 11., 12.,\n",
              "        13., 14., 15., 16., 17., 18., 19.],\n",
              "       [20., 21., 22., 23., 24., 25., 26., 27., 28., 29., 30., 31., 32.,\n",
              "        33., 34., 35., 36., 37., 38., 39.],\n",
              "       [40., 41., 42., 43., 44., 45., 46., 47., 48., 49., 50., 51., 52.,\n",
              "        53., 54., 55., 56., 57., 58., 59.],\n",
              "       [60., 61., 62., 63., 64., 65., 66., 67., 68., 69., 70., 71., 72.,\n",
              "        73., 74., 75., 76., 77., 78., 79.],\n",
              "       [80., 81., 82., 83., 84., 85., 86., 87., 88., 89., 90., 91., 92.,\n",
              "        93., 94., 95., 96., 97., 98., 99.]])"
            ]
          },
          "execution_count": 52,
          "metadata": {},
          "output_type": "execute_result"
        }
      ],
      "source": [
        "#check the array\n",
        "n #unchanged"
      ]
    },
    {
      "cell_type": "code",
      "execution_count": null,
      "metadata": {
        "id": "jjp3CFBkb2CT",
        "outputId": "5dbc09f4-df8e-4aac-9797-84cc2a1bbd90"
      },
      "outputs": [
        {
          "data": {
            "text/plain": [
              "array([[ 0., 20., 40., 60., 80.],\n",
              "       [ 1., 21., 41., 61., 81.],\n",
              "       [ 2., 22., 42., 62., 82.],\n",
              "       [ 3., 23., 43., 63., 83.],\n",
              "       [ 4., 24., 44., 64., 84.],\n",
              "       [ 5., 25., 45., 65., 85.],\n",
              "       [ 6., 26., 46., 66., 86.],\n",
              "       [ 7., 27., 47., 67., 87.],\n",
              "       [ 8., 28., 48., 68., 88.],\n",
              "       [ 9., 29., 49., 69., 89.],\n",
              "       [10., 30., 50., 70., 90.],\n",
              "       [11., 31., 51., 71., 91.],\n",
              "       [12., 32., 52., 72., 92.],\n",
              "       [13., 33., 53., 73., 93.],\n",
              "       [14., 34., 54., 74., 94.],\n",
              "       [15., 35., 55., 75., 95.],\n",
              "       [16., 36., 56., 76., 96.],\n",
              "       [17., 37., 57., 77., 97.],\n",
              "       [18., 38., 58., 78., 98.],\n",
              "       [19., 39., 59., 79., 99.]])"
            ]
          },
          "execution_count": 57,
          "metadata": {},
          "output_type": "execute_result"
        }
      ],
      "source": [
        "n = n.T\n",
        "n"
      ]
    },
    {
      "cell_type": "code",
      "execution_count": null,
      "metadata": {
        "id": "_xleroJLb2CT",
        "outputId": "f82749ca-3b7e-4506-ac99-6b0b90922f72"
      },
      "outputs": [
        {
          "data": {
            "text/plain": [
              "array([[ 0., 20., 40., 60., 80.],\n",
              "       [ 1., 21., 41., 61., 81.],\n",
              "       [ 2., 22., 42., 62., 82.],\n",
              "       [ 3., 23., 43., 63., 83.],\n",
              "       [ 4., 24., 44., 64., 84.],\n",
              "       [ 5., 25., 45., 65., 85.],\n",
              "       [ 6., 26., 46., 66., 86.],\n",
              "       [ 7., 27., 47., 67., 87.],\n",
              "       [ 8., 28., 48., 68., 88.],\n",
              "       [ 9., 29., 49., 69., 89.],\n",
              "       [10., 30., 50., 70., 90.],\n",
              "       [11., 31., 51., 71., 91.],\n",
              "       [12., 32., 52., 72., 92.],\n",
              "       [13., 33., 53., 73., 93.],\n",
              "       [14., 34., 54., 74., 94.],\n",
              "       [15., 35., 55., 75., 95.],\n",
              "       [16., 36., 56., 76., 96.],\n",
              "       [17., 37., 57., 77., 97.],\n",
              "       [18., 38., 58., 78., 98.],\n",
              "       [19., 39., 59., 79., 99.]])"
            ]
          },
          "execution_count": 58,
          "metadata": {},
          "output_type": "execute_result"
        }
      ],
      "source": [
        "n"
      ]
    },
    {
      "cell_type": "markdown",
      "metadata": {
        "id": "oKFyDyizb2CT"
      },
      "source": [
        "A clutch of NumPy methods merge and split arrays in different ways. np.vstack,\n",
        "np.hstack and np.dstack stack arrays vertically (in sequential rows), horizontally\n",
        "(in sequential columns) and depthwise (along a third axis)."
      ]
    },
    {
      "cell_type": "code",
      "execution_count": null,
      "metadata": {
        "id": "CoAYjhizb2CT"
      },
      "outputs": [],
      "source": [
        "a = np.array([0,1,2,3,4,5,6,7,8,9])\n",
        "b = np.array([0,10,20,30,40,50,60,70,80,90])\n",
        "c = np.array([0,100,200,300,400,500,600,700,800,900])"
      ]
    },
    {
      "cell_type": "code",
      "execution_count": null,
      "metadata": {
        "id": "V1t4DD0Gb2CU",
        "outputId": "ae02561c-577e-4e02-8bea-bce87a4df5ce"
      },
      "outputs": [
        {
          "data": {
            "text/plain": [
              "array([[  0,   1,   2,   3,   4,   5,   6,   7,   8,   9],\n",
              "       [  0,  10,  20,  30,  40,  50,  60,  70,  80,  90],\n",
              "       [  0, 100, 200, 300, 400, 500, 600, 700, 800, 900]])"
            ]
          },
          "execution_count": 101,
          "metadata": {},
          "output_type": "execute_result"
        }
      ],
      "source": [
        "vertical = np.vstack((a,b,c))\n",
        "vertical"
      ]
    },
    {
      "cell_type": "code",
      "execution_count": null,
      "metadata": {
        "id": "6qhJdTVtb2CU",
        "outputId": "84b0e05e-25e4-4833-ecf7-e982b56063a9"
      },
      "outputs": [
        {
          "data": {
            "text/plain": [
              "array([  0,   1,   2,   3,   4,   5,   6,   7,   8,   9,   0,  10,  20,\n",
              "        30,  40,  50,  60,  70,  80,  90,   0, 100, 200, 300, 400, 500,\n",
              "       600, 700, 800, 900])"
            ]
          },
          "execution_count": 102,
          "metadata": {},
          "output_type": "execute_result"
        }
      ],
      "source": [
        "horizontal = np.hstack((a,b,c))\n",
        "horizontal"
      ]
    },
    {
      "cell_type": "code",
      "execution_count": null,
      "metadata": {
        "id": "Pgbmp57Kb2CU",
        "outputId": "22a11316-3611-46e0-8d6e-f9bca0c036fb"
      },
      "outputs": [
        {
          "data": {
            "text/plain": [
              "array([[[  0,   0,   0],\n",
              "        [  1,  10, 100],\n",
              "        [  2,  20, 200],\n",
              "        [  3,  30, 300],\n",
              "        [  4,  40, 400],\n",
              "        [  5,  50, 500],\n",
              "        [  6,  60, 600],\n",
              "        [  7,  70, 700],\n",
              "        [  8,  80, 800],\n",
              "        [  9,  90, 900]]])"
            ]
          },
          "execution_count": 103,
          "metadata": {},
          "output_type": "execute_result"
        }
      ],
      "source": [
        "depth = np.dstack((a,b,c))\n",
        "depth"
      ]
    },
    {
      "cell_type": "markdown",
      "metadata": {
        "id": "9alhc3rVb2CU"
      },
      "source": [
        "The inverse operations, np.vsplit, np.hsplit and np.dsplit split a single array\n",
        "into multiple arrays by rows, columns or depth. In addition to the array to be split,\n",
        "these methods require an argument indicating how to split the array. If this argument\n",
        "is a single integer, the array is split into that number of equal-sized arrays along the\n",
        "appropriate axis."
      ]
    },
    {
      "cell_type": "code",
      "execution_count": null,
      "metadata": {
        "id": "RfrbU9YOb2CU",
        "outputId": "fc2460e8-368f-4a4b-87c6-5677fb7f3462"
      },
      "outputs": [
        {
          "data": {
            "text/plain": [
              "[array([[[  0,   0,   0],\n",
              "         [  1,  10, 100],\n",
              "         [  2,  20, 200],\n",
              "         [  3,  30, 300],\n",
              "         [  4,  40, 400]]]),\n",
              " array([[[  5,  50, 500],\n",
              "         [  6,  60, 600],\n",
              "         [  7,  70, 700],\n",
              "         [  8,  80, 800],\n",
              "         [  9,  90, 900]]])]"
            ]
          },
          "execution_count": 104,
          "metadata": {},
          "output_type": "execute_result"
        }
      ],
      "source": [
        "a = np.hsplit(depth, 2)\n",
        "a"
      ]
    },
    {
      "cell_type": "code",
      "execution_count": null,
      "metadata": {
        "id": "Ew-wP55ab2CV",
        "outputId": "f7f6954d-38c0-4e77-b72c-25fb72f4b646"
      },
      "outputs": [
        {
          "data": {
            "text/plain": [
              "array([[  0,   0,   0],\n",
              "       [  1,  10, 100],\n",
              "       [  2,  20, 200],\n",
              "       [  3,  30, 300],\n",
              "       [  4,  40, 400],\n",
              "       [  5,  50, 500],\n",
              "       [  6,  60, 600],\n",
              "       [  7,  70, 700],\n",
              "       [  8,  80, 800],\n",
              "       [  9,  90, 900]])"
            ]
          },
          "execution_count": 105,
          "metadata": {},
          "output_type": "execute_result"
        }
      ],
      "source": [
        "depth.resize(10,3)\n",
        "depth"
      ]
    },
    {
      "cell_type": "code",
      "execution_count": null,
      "metadata": {
        "id": "D0lCT1-pb2CV"
      },
      "outputs": [],
      "source": [
        "a = np.vsplit(depth,10)"
      ]
    },
    {
      "cell_type": "code",
      "execution_count": null,
      "metadata": {
        "id": "Uq6lN_zVb2CV",
        "outputId": "f8c4df33-292d-4f15-d9f5-1745b67da619"
      },
      "outputs": [
        {
          "data": {
            "text/plain": [
              "[array([[0, 0, 0]]),\n",
              " array([[  1,  10, 100]]),\n",
              " array([[  2,  20, 200]]),\n",
              " array([[  3,  30, 300]]),\n",
              " array([[  4,  40, 400]]),\n",
              " array([[  5,  50, 500]]),\n",
              " array([[  6,  60, 600]]),\n",
              " array([[  7,  70, 700]]),\n",
              " array([[  8,  80, 800]]),\n",
              " array([[  9,  90, 900]])]"
            ]
          },
          "execution_count": 107,
          "metadata": {},
          "output_type": "execute_result"
        }
      ],
      "source": [
        "a"
      ]
    },
    {
      "cell_type": "code",
      "execution_count": null,
      "metadata": {
        "id": "IJEbKbiLb2CV",
        "outputId": "13602f1c-4c71-4d46-f5d3-3dcbb8851b9f"
      },
      "outputs": [
        {
          "name": "stdout",
          "output_type": "stream",
          "text": [
            "dsplit only works on arrays of 3 or more dimensions\n"
          ]
        }
      ],
      "source": [
        "try:\n",
        "    a = np.dsplit(depth,3)\n",
        "except ValueError:\n",
        "    print('dsplit only works on arrays of 3 or more dimensions')"
      ]
    },
    {
      "cell_type": "code",
      "execution_count": null,
      "metadata": {
        "id": "hHtAM-MLb2CW",
        "outputId": "17fbb4c4-b89c-45cf-9d46-4560e0ab7879"
      },
      "outputs": [
        {
          "data": {
            "text/plain": [
              "array([[[  0,   0,   0],\n",
              "        [  1,  10, 100],\n",
              "        [  2,  20, 200],\n",
              "        [  3,  30, 300],\n",
              "        [  4,  40, 400],\n",
              "        [  5,  50, 500],\n",
              "        [  6,  60, 600],\n",
              "        [  7,  70, 700],\n",
              "        [  8,  80, 800],\n",
              "        [  9,  90, 900]]])"
            ]
          },
          "execution_count": 111,
          "metadata": {},
          "output_type": "execute_result"
        }
      ],
      "source": [
        "depth.resize(1,10,3)\n",
        "depth"
      ]
    },
    {
      "cell_type": "code",
      "execution_count": null,
      "metadata": {
        "id": "d-KCZwHPb2CW",
        "outputId": "59d299d6-cf33-455b-8dc8-ad5161e13dbf"
      },
      "outputs": [
        {
          "data": {
            "text/plain": [
              "[array([[[0],\n",
              "         [1],\n",
              "         [2],\n",
              "         [3],\n",
              "         [4],\n",
              "         [5],\n",
              "         [6],\n",
              "         [7],\n",
              "         [8],\n",
              "         [9]]]),\n",
              " array([[[ 0],\n",
              "         [10],\n",
              "         [20],\n",
              "         [30],\n",
              "         [40],\n",
              "         [50],\n",
              "         [60],\n",
              "         [70],\n",
              "         [80],\n",
              "         [90]]]),\n",
              " array([[[  0],\n",
              "         [100],\n",
              "         [200],\n",
              "         [300],\n",
              "         [400],\n",
              "         [500],\n",
              "         [600],\n",
              "         [700],\n",
              "         [800],\n",
              "         [900]]])]"
            ]
          },
          "execution_count": 112,
          "metadata": {},
          "output_type": "execute_result"
        }
      ],
      "source": [
        "a = np.dsplit(depth,3)\n",
        "a"
      ]
    },
    {
      "cell_type": "code",
      "execution_count": null,
      "metadata": {
        "id": "O5NI7qkyb2CX"
      },
      "outputs": [],
      "source": [
        "n = np.linspace(0,10,10,endpoint = False, dtype = np.int8)"
      ]
    },
    {
      "cell_type": "code",
      "execution_count": null,
      "metadata": {
        "id": "d2xcon1hb2CX",
        "outputId": "4a649d95-f2d3-4337-d81b-07acd2411d65"
      },
      "outputs": [
        {
          "data": {
            "text/plain": [
              "array([0, 1, 2, 3, 4, 5, 6, 7, 8, 9], dtype=int8)"
            ]
          },
          "execution_count": 114,
          "metadata": {},
          "output_type": "execute_result"
        }
      ],
      "source": [
        "n"
      ]
    },
    {
      "cell_type": "markdown",
      "metadata": {
        "id": "w_crjCdBb2CX"
      },
      "source": [
        "You can also define the indexes for splitting."
      ]
    },
    {
      "cell_type": "code",
      "execution_count": null,
      "metadata": {
        "id": "HRDMBrtqb2CX",
        "outputId": "6d50e127-ddcf-4e72-e71c-4a1b8006e304"
      },
      "outputs": [
        {
          "data": {
            "text/plain": [
              "[array([0, 1], dtype=int8),\n",
              " array([2, 3, 4], dtype=int8),\n",
              " array([5, 6, 7, 8], dtype=int8),\n",
              " array([9], dtype=int8)]"
            ]
          },
          "execution_count": 120,
          "metadata": {},
          "output_type": "execute_result"
        }
      ],
      "source": [
        "a = np.hsplit(n,(2,5,9))\n",
        "a"
      ]
    },
    {
      "cell_type": "markdown",
      "metadata": {
        "id": "yWFMzoidb2CY"
      },
      "source": [
        "# Indexing and slicing an array"
      ]
    },
    {
      "cell_type": "markdown",
      "metadata": {
        "id": "MKnH3wjRb2CY"
      },
      "source": [
        "An array is indexed by a tuple of integers, and as for Python sequences negative indexes\n",
        "count from the end of the axis. Slicing and striding is supported in the same way as well."
      ]
    },
    {
      "cell_type": "code",
      "execution_count": null,
      "metadata": {
        "id": "fZAsQN34b2CZ",
        "outputId": "66760cae-5e3d-4ea4-9c91-d7a14711a41e"
      },
      "outputs": [
        {
          "data": {
            "text/plain": [
              "array([[ 0,  1,  2,  3,  4,  5,  6,  7,  8,  9],\n",
              "       [10, 11, 12, 13, 14, 15, 16, 17, 18, 19],\n",
              "       [20, 21, 22, 23, 24, 25, 26, 27, 28, 29],\n",
              "       [30, 31, 32, 33, 34, 35, 36, 37, 38, 39],\n",
              "       [40, 41, 42, 43, 44, 45, 46, 47, 48, 49],\n",
              "       [50, 51, 52, 53, 54, 55, 56, 57, 58, 59],\n",
              "       [60, 61, 62, 63, 64, 65, 66, 67, 68, 69],\n",
              "       [70, 71, 72, 73, 74, 75, 76, 77, 78, 79],\n",
              "       [80, 81, 82, 83, 84, 85, 86, 87, 88, 89]], dtype=int8)"
            ]
          },
          "execution_count": 3,
          "metadata": {},
          "output_type": "execute_result"
        }
      ],
      "source": [
        "n = np.linspace(0,90,90,endpoint = False, dtype = np.int8).reshape(9,10)\n",
        "n"
      ]
    },
    {
      "cell_type": "code",
      "execution_count": null,
      "metadata": {
        "id": "MySgCJe-b2CZ",
        "outputId": "a4c821d0-b5d7-4fd9-f800-a3753511309f"
      },
      "outputs": [
        {
          "data": {
            "text/plain": [
              "array([[ 0,  1,  2,  3,  4,  5,  6,  7,  8,  9],\n",
              "       [10, 11, 12, 13, 14, 15, 16, 17, 18, 19],\n",
              "       [20, 21, 22, 23, 24, 25, 26, 27, 28, 29],\n",
              "       [30, 31, 32, 33, 34, 35, 36, 37, 38, 39],\n",
              "       [40, 41, 42, 43, 44, 45, 46, 47, 48, 49],\n",
              "       [50, 51, 52, 53, 54, 55, 56, 57, 58, 59],\n",
              "       [60, 61, 62, 63, 64, 65, 66, 67, 68, 69],\n",
              "       [70, 71, 72, 73, 74, 75, 76, 77, 78, 79],\n",
              "       [80, 81, 82, 83, 84, 85, 86, 87, 88, 89]], dtype=int8)"
            ]
          },
          "execution_count": 4,
          "metadata": {},
          "output_type": "execute_result"
        }
      ],
      "source": [
        "#printing all the numbers in the array\n",
        "n[::]"
      ]
    },
    {
      "cell_type": "code",
      "execution_count": null,
      "metadata": {
        "id": "b_1a0D4Ob2CZ",
        "outputId": "2e264ec3-dcb8-4bb2-9aec-56c018b8e84f"
      },
      "outputs": [
        {
          "data": {
            "text/plain": [
              "array([[False,  True, False, False, False, False, False, False, False,\n",
              "        False],\n",
              "       [False, False, False, False, False, False, False, False, False,\n",
              "        False],\n",
              "       [False, False, False, False, False, False, False, False, False,\n",
              "        False],\n",
              "       [False, False, False, False, False, False, False, False, False,\n",
              "        False],\n",
              "       [False, False, False, False, False, False, False, False, False,\n",
              "        False],\n",
              "       [False, False, False, False, False, False, False, False, False,\n",
              "        False],\n",
              "       [False, False, False, False, False, False, False, False, False,\n",
              "        False],\n",
              "       [False, False, False, False, False, False, False, False, False,\n",
              "        False],\n",
              "       [False, False, False, False, False, False, False, False, False,\n",
              "        False]])"
            ]
          },
          "execution_count": 9,
          "metadata": {},
          "output_type": "execute_result"
        }
      ],
      "source": [
        "_ == __ #check if the last two arrays are similar"
      ]
    },
    {
      "cell_type": "code",
      "execution_count": null,
      "metadata": {
        "id": "_PidqpGvb2CZ",
        "outputId": "5e963d43-5544-4c7f-e21a-98cc00bdf377"
      },
      "outputs": [
        {
          "data": {
            "text/plain": [
              "array([[ 5,  6,  7,  8,  9],\n",
              "       [15, 16, 17, 18, 19],\n",
              "       [25, 26, 27, 28, 29],\n",
              "       [35, 36, 37, 38, 39],\n",
              "       [45, 46, 47, 48, 49]], dtype=int8)"
            ]
          },
          "execution_count": 11,
          "metadata": {},
          "output_type": "execute_result"
        }
      ],
      "source": [
        "n[0:5,5:10] #from index [0 to 4(inclusive), 5 to 9(inclusive)]"
      ]
    },
    {
      "cell_type": "code",
      "execution_count": null,
      "metadata": {
        "id": "rqQN2rq7b2Ca",
        "outputId": "0c53e65d-c71e-4859-db56-332b62820a87"
      },
      "outputs": [
        {
          "data": {
            "text/plain": [
              "array([[80, 81, 82, 83, 84, 85, 86, 87, 88, 89],\n",
              "       [70, 71, 72, 73, 74, 75, 76, 77, 78, 79],\n",
              "       [60, 61, 62, 63, 64, 65, 66, 67, 68, 69],\n",
              "       [50, 51, 52, 53, 54, 55, 56, 57, 58, 59],\n",
              "       [40, 41, 42, 43, 44, 45, 46, 47, 48, 49],\n",
              "       [30, 31, 32, 33, 34, 35, 36, 37, 38, 39],\n",
              "       [20, 21, 22, 23, 24, 25, 26, 27, 28, 29],\n",
              "       [10, 11, 12, 13, 14, 15, 16, 17, 18, 19],\n",
              "       [ 0,  1,  2,  3,  4,  5,  6,  7,  8,  9]], dtype=int8)"
            ]
          },
          "execution_count": 18,
          "metadata": {},
          "output_type": "execute_result"
        }
      ],
      "source": [
        "n[::-1] #print in reverse order"
      ]
    },
    {
      "cell_type": "code",
      "execution_count": null,
      "metadata": {
        "id": "Olvnnx8gb2Ca",
        "outputId": "386f6cdc-798e-4e45-ba78-d152001be456"
      },
      "outputs": [
        {
          "data": {
            "text/plain": [
              "array([[89, 88, 87, 86, 85, 84, 83, 82, 81, 80],\n",
              "       [79, 78, 77, 76, 75, 74, 73, 72, 71, 70],\n",
              "       [69, 68, 67, 66, 65, 64, 63, 62, 61, 60],\n",
              "       [59, 58, 57, 56, 55, 54, 53, 52, 51, 50],\n",
              "       [49, 48, 47, 46, 45, 44, 43, 42, 41, 40],\n",
              "       [39, 38, 37, 36, 35, 34, 33, 32, 31, 30],\n",
              "       [29, 28, 27, 26, 25, 24, 23, 22, 21, 20],\n",
              "       [19, 18, 17, 16, 15, 14, 13, 12, 11, 10],\n",
              "       [ 9,  8,  7,  6,  5,  4,  3,  2,  1,  0]], dtype=int8)"
            ]
          },
          "execution_count": 19,
          "metadata": {},
          "output_type": "execute_result"
        }
      ],
      "source": [
        "n[::-1,::-1] #print each element of each sublist and the sublists in reverse order"
      ]
    },
    {
      "cell_type": "code",
      "execution_count": null,
      "metadata": {
        "id": "sEip9fC6b2Ca",
        "outputId": "c8a2da06-7aff-49dd-fab2-5459a88d3aba"
      },
      "outputs": [
        {
          "data": {
            "text/plain": [
              "array([[False, False, False, False, False, False, False, False, False,\n",
              "        False],\n",
              "       [False, False, False, False, False, False, False, False, False,\n",
              "        False],\n",
              "       [False, False, False, False, False, False, False, False, False,\n",
              "        False],\n",
              "       [False, False, False, False, False, False, False, False, False,\n",
              "        False],\n",
              "       [False, False, False, False, False, False, False, False, False,\n",
              "        False],\n",
              "       [False, False, False, False, False, False, False, False, False,\n",
              "        False],\n",
              "       [False, False, False, False, False, False, False, False, False,\n",
              "        False],\n",
              "       [False, False, False, False, False, False, False, False, False,\n",
              "        False],\n",
              "       [False, False, False, False, False, False, False, False, False,\n",
              "        False]])"
            ]
          },
          "execution_count": 20,
          "metadata": {},
          "output_type": "execute_result"
        }
      ],
      "source": [
        "_ == __"
      ]
    },
    {
      "cell_type": "code",
      "execution_count": null,
      "metadata": {
        "id": "0j5dXGBQb2Ca",
        "outputId": "5a8a6d9a-ca7f-4ce9-962b-bd082dc1d3c7"
      },
      "outputs": [
        {
          "data": {
            "text/plain": [
              "array([20, 21, 22, 23, 24, 25, 26, 27, 28, 29], dtype=int8)"
            ]
          },
          "execution_count": 21,
          "metadata": {},
          "output_type": "execute_result"
        }
      ],
      "source": [
        "#everything in the third row\n",
        "n[2,::]"
      ]
    },
    {
      "cell_type": "code",
      "execution_count": null,
      "metadata": {
        "id": "bAby9SN7b2Cb",
        "outputId": "7b239b21-e84e-4304-aa83-cf3554e0e2ab"
      },
      "outputs": [
        {
          "data": {
            "text/plain": [
              "array([ 2, 12, 22, 32, 42, 52, 62, 72, 82], dtype=int8)"
            ]
          },
          "execution_count": 23,
          "metadata": {},
          "output_type": "execute_result"
        }
      ],
      "source": [
        "#everything in the third column\n",
        "n[::,2]"
      ]
    },
    {
      "cell_type": "code",
      "execution_count": null,
      "metadata": {
        "id": "deNgL_JWb2Cb",
        "outputId": "b922f295-c315-4fc9-b199-7b5267747260"
      },
      "outputs": [
        {
          "data": {
            "text/plain": [
              "array([11, 22, 88], dtype=int8)"
            ]
          },
          "execution_count": 27,
          "metadata": {},
          "output_type": "execute_result"
        }
      ],
      "source": [
        "index = np.array([1,2,8])\n",
        "n[index,index] #element at position [1,1], [2,2], [8,8]"
      ]
    },
    {
      "cell_type": "markdown",
      "metadata": {
        "id": "DnheJUk0b2Cb"
      },
      "source": [
        "These and further examples of NumPy array slicing are illustrated in Figure 6.1.\n",
        "The special ellipsis notation (...) is useful for high-rank arrays: in an index, it represents as many colons as are necessary to represent the remaining axes. For example,\n",
        "for a four-dimensional array, a[3, 1, ...] is equivalent to a[3, 1, :, :] and\n",
        "a[3,...,1] is equivalent to a[3, :, :, 1]."
      ]
    },
    {
      "cell_type": "code",
      "execution_count": null,
      "metadata": {
        "id": "RUBws_EYb2Cc",
        "outputId": "0cd7010e-af0e-4218-8357-c495c17c2ffa"
      },
      "outputs": [
        {
          "data": {
            "text/plain": [
              "array([[[[ 0,  1,  2,  3,  4],\n",
              "         [ 5,  6,  7,  8,  9],\n",
              "         [10, 11, 12, 13, 14],\n",
              "         [15, 16, 17, 18, 19],\n",
              "         [20, 21, 22, 23, 24]],\n",
              "\n",
              "        [[25, 26, 27, 28, 29],\n",
              "         [30, 31, 32, 33, 34],\n",
              "         [35, 36, 37, 38, 39],\n",
              "         [40, 41, 42, 43, 44],\n",
              "         [45, 46, 47, 48, 49]]],\n",
              "\n",
              "\n",
              "       [[[50, 51, 52, 53, 54],\n",
              "         [55, 56, 57, 58, 59],\n",
              "         [60, 61, 62, 63, 64],\n",
              "         [65, 66, 67, 68, 69],\n",
              "         [70, 71, 72, 73, 74]],\n",
              "\n",
              "        [[75, 76, 77, 78, 79],\n",
              "         [80, 81, 82, 83, 84],\n",
              "         [85, 86, 87, 88, 89],\n",
              "         [90, 91, 92, 93, 94],\n",
              "         [95, 96, 97, 98, 99]]]], dtype=int8)"
            ]
          },
          "execution_count": 28,
          "metadata": {},
          "output_type": "execute_result"
        }
      ],
      "source": [
        "n = np.linspace(0,100,100,endpoint = False, dtype = np.int8).reshape(2,2,5,5)\n",
        "n"
      ]
    },
    {
      "cell_type": "code",
      "execution_count": null,
      "metadata": {
        "id": "U-2xxLkjb2Cc",
        "outputId": "f6447106-f6e7-4742-a4aa-a6216a0ecd51"
      },
      "outputs": [
        {
          "data": {
            "text/plain": [
              "array([[[[ 0,  1,  2,  3,  4],\n",
              "         [ 5,  6,  7,  8,  9],\n",
              "         [10, 11, 12, 13, 14],\n",
              "         [15, 16, 17, 18, 19],\n",
              "         [20, 21, 22, 23, 24]],\n",
              "\n",
              "        [[25, 26, 27, 28, 29],\n",
              "         [30, 31, 32, 33, 34],\n",
              "         [35, 36, 37, 38, 39],\n",
              "         [40, 41, 42, 43, 44],\n",
              "         [45, 46, 47, 48, 49]]],\n",
              "\n",
              "\n",
              "       [[[50, 51, 52, 53, 54],\n",
              "         [55, 56, 57, 58, 59],\n",
              "         [60, 61, 62, 63, 64],\n",
              "         [65, 66, 67, 68, 69],\n",
              "         [70, 71, 72, 73, 74]],\n",
              "\n",
              "        [[75, 76, 77, 78, 79],\n",
              "         [80, 81, 82, 83, 84],\n",
              "         [85, 86, 87, 88, 89],\n",
              "         [90, 91, 92, 93, 94],\n",
              "         [95, 96, 97, 98, 99]]]], dtype=int8)"
            ]
          },
          "execution_count": 29,
          "metadata": {},
          "output_type": "execute_result"
        }
      ],
      "source": [
        "n[...]"
      ]
    },
    {
      "cell_type": "code",
      "execution_count": null,
      "metadata": {
        "id": "E27AcpNMb2Cc",
        "outputId": "0a036feb-b347-4bd7-a506-af211e82bf77"
      },
      "outputs": [
        {
          "data": {
            "text/plain": [
              "array([[[[ 0,  1],\n",
              "         [ 5,  6],\n",
              "         [10, 11],\n",
              "         [15, 16],\n",
              "         [20, 21]],\n",
              "\n",
              "        [[25, 26],\n",
              "         [30, 31],\n",
              "         [35, 36],\n",
              "         [40, 41],\n",
              "         [45, 46]]],\n",
              "\n",
              "\n",
              "       [[[50, 51],\n",
              "         [55, 56],\n",
              "         [60, 61],\n",
              "         [65, 66],\n",
              "         [70, 71]],\n",
              "\n",
              "        [[75, 76],\n",
              "         [80, 81],\n",
              "         [85, 86],\n",
              "         [90, 91],\n",
              "         [95, 96]]]], dtype=int8)"
            ]
          },
          "execution_count": 30,
          "metadata": {},
          "output_type": "execute_result"
        }
      ],
      "source": [
        "n[...,0:2]"
      ]
    },
    {
      "cell_type": "code",
      "execution_count": null,
      "metadata": {
        "id": "Grl27tZPb2Cc",
        "outputId": "9f46fcec-c804-411f-c0c9-c967fb25af5f"
      },
      "outputs": [
        {
          "data": {
            "text/plain": [
              "array([[ 0,  1,  2,  3,  4],\n",
              "       [ 5,  6,  7,  8,  9],\n",
              "       [10, 11, 12, 13, 14],\n",
              "       [15, 16, 17, 18, 19],\n",
              "       [20, 21, 22, 23, 24]], dtype=int8)"
            ]
          },
          "execution_count": 31,
          "metadata": {},
          "output_type": "execute_result"
        }
      ],
      "source": [
        "n[0,0,...]"
      ]
    },
    {
      "cell_type": "code",
      "execution_count": null,
      "metadata": {
        "id": "XNWPayHWb2Cd",
        "outputId": "84f8bce8-8c3c-412b-982a-ead0d6f90a95"
      },
      "outputs": [
        {
          "data": {
            "text/plain": [
              "array([ 0,  1,  2,  3,  4,  5,  6,  7,  8,  9, 10, 11, 12, 13, 14, 15, 16,\n",
              "       17, 18, 19], dtype=int8)"
            ]
          },
          "execution_count": 40,
          "metadata": {},
          "output_type": "execute_result"
        }
      ],
      "source": [
        "n = np.linspace(0,20,20,endpoint = False, dtype = np.int8)\n",
        "n #i want to place the values of the specified indexes and make a multidimensional array"
      ]
    },
    {
      "cell_type": "code",
      "execution_count": null,
      "metadata": {
        "id": "TNGPnvS7b2Cd",
        "outputId": "46fd8959-c331-4601-9ebc-b6f030610ed0"
      },
      "outputs": [
        {
          "data": {
            "text/plain": [
              "array([[ 0,  3,  8],\n",
              "       [ 3,  8, 10],\n",
              "       [ 8, 10, 19]], dtype=int8)"
            ]
          },
          "execution_count": 41,
          "metadata": {},
          "output_type": "execute_result"
        }
      ],
      "source": [
        "index = np.array([\n",
        "    [0,3,8],\n",
        "    [3,8,10],\n",
        "    [8,10,19]\n",
        "])\n",
        "n[index]"
      ]
    },
    {
      "cell_type": "code",
      "execution_count": null,
      "metadata": {
        "id": "KFA5kcqHb2Cd",
        "outputId": "a0f8fec2-12a4-4fcd-a5f1-05af77c79ca0"
      },
      "outputs": [
        {
          "data": {
            "text/plain": [
              "2"
            ]
          },
          "execution_count": 42,
          "metadata": {},
          "output_type": "execute_result"
        }
      ],
      "source": [
        "n[index].ndim"
      ]
    },
    {
      "cell_type": "code",
      "execution_count": null,
      "metadata": {
        "id": "KtY9I-D6b2Cd",
        "outputId": "21a1f49a-cfe4-4af5-bccc-907bce269871"
      },
      "outputs": [
        {
          "data": {
            "text/plain": [
              "array([[ 0,  0,  0,  0,  0],\n",
              "       [ 0,  0,  0,  0,  0],\n",
              "       [10, 11, 12, 13, 14],\n",
              "       [15, 16, 17, 18, 19]], dtype=int8)"
            ]
          },
          "execution_count": 54,
          "metadata": {},
          "output_type": "execute_result"
        }
      ],
      "source": [
        "#some shortcuts\n",
        "#if any value in the array is less than 10 replace it with 0\n",
        "a = np.linspace(0,20,20,endpoint = False, dtype = np.int8).reshape(4,5)\n",
        "n = a<10\n",
        "a[n] = 0 #a[a<10] = 0 does the same job\n",
        "a"
      ]
    },
    {
      "cell_type": "markdown",
      "metadata": {
        "id": "WFqTcok9b2Ce"
      },
      "source": [
        "The boolean operations not, and and or are implemented on boolean arrays with the\n",
        "operators ˜, & and | respectively."
      ]
    },
    {
      "cell_type": "markdown",
      "metadata": {
        "id": "Q-MfwtM6b2Ce"
      },
      "source": [
        "To add an axis (i.e., dimension) to an array, insert np.newaxis in the desired\n",
        "position."
      ]
    },
    {
      "cell_type": "code",
      "execution_count": null,
      "metadata": {
        "id": "lEJ4stM_b2Ce",
        "outputId": "883b64f1-ed8d-4274-e6e1-7e42352002a9"
      },
      "outputs": [
        {
          "data": {
            "text/plain": [
              "array([[ 0,  1,  2,  3,  4],\n",
              "       [ 5,  6,  7,  8,  9],\n",
              "       [10, 11, 12, 13, 14],\n",
              "       [15, 16, 17, 18, 20]], dtype=int8)"
            ]
          },
          "execution_count": 83,
          "metadata": {},
          "output_type": "execute_result"
        }
      ],
      "source": [
        "a = np.linspace(0,20,20,dtype=np.int8).reshape(4,5)\n",
        "a"
      ]
    },
    {
      "cell_type": "code",
      "execution_count": null,
      "metadata": {
        "id": "uWxu7y7cb2Ce",
        "outputId": "e0c3b2a6-2b42-44bd-8dc2-352064f913b2"
      },
      "outputs": [
        {
          "data": {
            "text/plain": [
              "(array([[[ 0],\n",
              "         [ 1],\n",
              "         [ 2],\n",
              "         [ 3],\n",
              "         [ 4]],\n",
              " \n",
              "        [[ 5],\n",
              "         [ 6],\n",
              "         [ 7],\n",
              "         [ 8],\n",
              "         [ 9]],\n",
              " \n",
              "        [[10],\n",
              "         [11],\n",
              "         [12],\n",
              "         [13],\n",
              "         [14]],\n",
              " \n",
              "        [[15],\n",
              "         [16],\n",
              "         [17],\n",
              "         [18],\n",
              "         [20]]], dtype=int8),\n",
              " 3)"
            ]
          },
          "execution_count": 84,
          "metadata": {},
          "output_type": "execute_result"
        }
      ],
      "source": [
        "a = a[...,np.newaxis]\n",
        "a, a.ndim"
      ]
    },
    {
      "cell_type": "markdown",
      "metadata": {
        "id": "2C2RVv0ib2Cf"
      },
      "source": [
        "To evaluate a multidimensional function on a grid of points, a mesh is useful. The\n",
        "function np.meshgrid is passed a series of N one-dimensional arrays representing\n",
        "coordinates along each dimension and returns a set of N-dimensional arrays comprising\n",
        "a mesh of coordinates at which the function can be evaluated."
      ]
    },
    {
      "cell_type": "code",
      "execution_count": null,
      "metadata": {
        "scrolled": true,
        "id": "c3Df7Pi3b2Cf",
        "outputId": "492f7402-6d0c-413c-d424-e5e1b9021662"
      },
      "outputs": [
        {
          "data": {
            "text/plain": [
              "(array([[0, 1, 2, 3, 4, 5, 6, 7, 8, 9],\n",
              "        [0, 1, 2, 3, 4, 5, 6, 7, 8, 9],\n",
              "        [0, 1, 2, 3, 4, 5, 6, 7, 8, 9],\n",
              "        [0, 1, 2, 3, 4, 5, 6, 7, 8, 9],\n",
              "        [0, 1, 2, 3, 4, 5, 6, 7, 8, 9]]),\n",
              " array([[100, 100, 100, 100, 100, 100, 100, 100, 100, 100],\n",
              "        [200, 200, 200, 200, 200, 200, 200, 200, 200, 200],\n",
              "        [300, 300, 300, 300, 300, 300, 300, 300, 300, 300],\n",
              "        [400, 400, 400, 400, 400, 400, 400, 400, 400, 400],\n",
              "        [500, 500, 500, 500, 500, 500, 500, 500, 500, 500]]))"
            ]
          },
          "execution_count": 85,
          "metadata": {},
          "output_type": "execute_result"
        }
      ],
      "source": [
        "a = np.array([0,1,2,3,4,5,6,7,8,9])\n",
        "b = np.array([100,200,300,400,500])\n",
        "x,y = np.meshgrid(a,b)\n",
        "x,y"
      ]
    },
    {
      "cell_type": "code",
      "execution_count": null,
      "metadata": {
        "scrolled": true,
        "id": "hMGGKozqb2Cf",
        "outputId": "b6d60869-d9b6-4bd5-ed84-5d0b7fbbdadb"
      },
      "outputs": [
        {
          "data": {
            "text/plain": [
              "(array([[0, 1, 2, 3, 4, 5, 6, 7, 8, 9]]),\n",
              " array([[100],\n",
              "        [200],\n",
              "        [300],\n",
              "        [400],\n",
              "        [500]]))"
            ]
          },
          "execution_count": 87,
          "metadata": {},
          "output_type": "execute_result"
        }
      ],
      "source": [
        "x,y = np.meshgrid(a,b,sparse = True) #Setting the optional argument sparse to True will return sparse grid to conserve memory\n",
        "x,y"
      ]
    },
    {
      "cell_type": "markdown",
      "metadata": {
        "id": "ANVP-1oGb2Cf"
      },
      "source": [
        "# Broadcasting"
      ]
    },
    {
      "cell_type": "markdown",
      "metadata": {
        "id": "fpiFGoYib2Cf"
      },
      "source": [
        "We have already seen that simple operations such as addition and multiplication can be\n",
        "carried out elementwise on two arrays of the same shape (vectorization)."
      ]
    },
    {
      "cell_type": "code",
      "execution_count": null,
      "metadata": {
        "id": "QQoVewhub2Cg",
        "outputId": "cfc5bd60-5430-4ab5-bcea-98c62db905cb"
      },
      "outputs": [
        {
          "data": {
            "text/plain": [
              "array([[ 10,  20,  30],\n",
              "       [ 80, 100, 120],\n",
              "       [210, 240, 270]])"
            ]
          },
          "execution_count": 2,
          "metadata": {},
          "output_type": "execute_result"
        }
      ],
      "source": [
        "a = np.array([\n",
        "    [1,2,3],\n",
        "    [4,5,6],\n",
        "    [7,8,9]\n",
        "])\n",
        "b = np.array([\n",
        "    [10,10,10],\n",
        "    [20,20,20],\n",
        "    [30,30,30]\n",
        "])\n",
        "a * b"
      ]
    },
    {
      "cell_type": "markdown",
      "metadata": {
        "id": "BuW08jGAb2Cg"
      },
      "source": [
        "Broadcasting describes the rules that NumPy uses to carry out such operations when\n",
        "the arrays have different shapes. This allows the operation to be carried out using\n",
        "precompiled C loops instead of slower, Python loops, but there are constraints as to\n",
        "which array shapes can be broadcast against each other. The rules are applied on each\n",
        "dimension of the arrays, starting with the last and working backward. Two dimensions\n",
        "compared in this way are said to be compatible if they are equal or one of them is 1."
      ]
    },
    {
      "cell_type": "code",
      "execution_count": null,
      "metadata": {
        "id": "Y7jBqbihb2Cg",
        "outputId": "e2997ce5-aa10-401f-ec12-5a93ec8b9b95"
      },
      "outputs": [
        {
          "data": {
            "text/plain": [
              "array([[  9,  18,  27],\n",
              "       [ 90, 180, 270]])"
            ]
          },
          "execution_count": 3,
          "metadata": {},
          "output_type": "execute_result"
        }
      ],
      "source": [
        "a = np.array([\n",
        "    [1,2,3],\n",
        "    [10,20,30]\n",
        "])\n",
        "b = 9\n",
        "a * b #the dimensions of a and b are compatible"
      ]
    },
    {
      "cell_type": "code",
      "execution_count": null,
      "metadata": {
        "id": "EOl6q1HCb2Cg",
        "outputId": "129027c6-f746-412b-b88a-91571c027185"
      },
      "outputs": [
        {
          "data": {
            "text/plain": [
              "(2, 3)"
            ]
          },
          "execution_count": 5,
          "metadata": {},
          "output_type": "execute_result"
        }
      ],
      "source": [
        "a.shape"
      ]
    },
    {
      "cell_type": "code",
      "execution_count": null,
      "metadata": {
        "id": "oJLDQBFvb2Ch",
        "outputId": "40698cb5-d526-4214-bf00-216dccd30cb0"
      },
      "outputs": [
        {
          "data": {
            "text/plain": [
              "array([[0, 0, 0],\n",
              "       [0, 0, 0]])"
            ]
          },
          "execution_count": 7,
          "metadata": {},
          "output_type": "execute_result"
        }
      ],
      "source": [
        "#an array of shape (3,) can be broadcast across the rows of a\n",
        "b = np.array([0,0,0])\n",
        "a * b #the dimensions of a and b are compatible"
      ]
    },
    {
      "cell_type": "code",
      "execution_count": null,
      "metadata": {
        "id": "H5K3ZCaWb2Ch",
        "outputId": "af23e70d-d01e-474a-9e2b-ff0d1bf7a25c"
      },
      "outputs": [
        {
          "data": {
            "text/plain": [
              "((2, 3), (3,))"
            ]
          },
          "execution_count": 8,
          "metadata": {},
          "output_type": "execute_result"
        }
      ],
      "source": [
        "a.shape, b.shape"
      ]
    },
    {
      "cell_type": "code",
      "execution_count": null,
      "metadata": {
        "id": "1wHpX3fob2Ch",
        "outputId": "a3b5eeae-e6de-490b-e1e4-bf6981fc44de"
      },
      "outputs": [
        {
          "data": {
            "text/plain": [
              "array([[ 10,  20,  30],\n",
              "       [100, 200, 300]])"
            ]
          },
          "execution_count": 12,
          "metadata": {},
          "output_type": "execute_result"
        }
      ],
      "source": [
        "b = np.array([10])\n",
        "a * b"
      ]
    },
    {
      "cell_type": "code",
      "execution_count": null,
      "metadata": {
        "id": "JplS4L4qb2Ch",
        "outputId": "5be59055-6164-4d31-8f0a-fdaed645e6ce"
      },
      "outputs": [
        {
          "name": "stdout",
          "output_type": "stream",
          "text": [
            "shapes of a and b are not compatible\n",
            "(2, 3) (4,)\n"
          ]
        }
      ],
      "source": [
        "b = np.array([10,20,30,40])\n",
        "try:\n",
        "    a * b\n",
        "except ValueError:\n",
        "    print('shapes of a and b are not compatible')\n",
        "    print(a.shape, b.shape)"
      ]
    },
    {
      "cell_type": "code",
      "execution_count": null,
      "metadata": {
        "id": "2XdS39w0b2Ci",
        "outputId": "7499ec4e-3b01-423d-a8c7-440981f6dba3"
      },
      "outputs": [
        {
          "name": "stdout",
          "output_type": "stream",
          "text": [
            "shapes of a and b are not compatible\n",
            "operands could not be broadcast together with shapes (2,3) (3,3)\n",
            "(2, 3) (3, 3)\n"
          ]
        }
      ],
      "source": [
        "b = np.array([\n",
        "    [10,20,30],\n",
        "    [40,50,60],\n",
        "    [70,80,90]\n",
        "])\n",
        "try:\n",
        "    a * b\n",
        "except ValueError:\n",
        "    print('shapes of a and b are not compatible')\n",
        "    print('operands could not be broadcast together with shapes (2,3) (3,3)')\n",
        "    print(a.shape, b.shape)"
      ]
    },
    {
      "cell_type": "code",
      "execution_count": null,
      "metadata": {
        "id": "ELI50RVQb2Ci",
        "outputId": "260c80be-32da-4774-a19b-0bf60d03996f"
      },
      "outputs": [
        {
          "name": "stdout",
          "output_type": "stream",
          "text": [
            "unsupported operand type(s) for *: 'int' and 'NoneType\n"
          ]
        }
      ],
      "source": [
        "b = np.array([0,10,None])\n",
        "try:\n",
        "    a * b\n",
        "except TypeError:\n",
        "    print(\"unsupported operand type(s) for *: 'int' and 'NoneType\")"
      ]
    },
    {
      "cell_type": "markdown",
      "metadata": {
        "id": "7TUm1eX2b2Ci"
      },
      "source": [
        "To force a broadcast on an array with insufficient dimensions to meet your requirements, you can always add an axis with np.newaxis. For example, one way to take the\n",
        "outer product of two arrays is by adding a dimension to one of them and broadcasting\n",
        "the multiplication."
      ]
    },
    {
      "cell_type": "code",
      "execution_count": null,
      "metadata": {
        "id": "8rszrulrb2Cj",
        "outputId": "38de5c74-29a2-4540-b8a6-d85f5cf2c324"
      },
      "outputs": [
        {
          "data": {
            "text/plain": [
              "(array([[1],\n",
              "        [2],\n",
              "        [3]]),\n",
              " array([10, 20, 30]))"
            ]
          },
          "execution_count": 32,
          "metadata": {},
          "output_type": "execute_result"
        }
      ],
      "source": [
        "a = np.array([1,2,3])\n",
        "b = np.array([10,20,30]) #shape of a = (3,) and shape of b = (3,)\n",
        "a = a[::,np.newaxis] #shape of a = (3,1) and shape of b = (3,)\n",
        "a,b"
      ]
    },
    {
      "cell_type": "code",
      "execution_count": null,
      "metadata": {
        "id": "NgKp0k40b2Cj",
        "outputId": "da7c8047-1b92-49f0-827a-fad9bf7de8c6"
      },
      "outputs": [
        {
          "data": {
            "text/plain": [
              "array([[10, 20, 30],\n",
              "       [20, 40, 60],\n",
              "       [30, 60, 90]])"
            ]
          },
          "execution_count": 33,
          "metadata": {},
          "output_type": "execute_result"
        }
      ],
      "source": [
        "a * b"
      ]
    },
    {
      "cell_type": "code",
      "execution_count": null,
      "metadata": {
        "id": "a3xhYW4Fb2Cj"
      },
      "outputs": [],
      "source": [
        "#shape of a : 3 X 1\n",
        "#shape of b :   X 3\n",
        "#shape of a*b:3 X 3"
      ]
    },
    {
      "cell_type": "code",
      "execution_count": null,
      "metadata": {
        "id": "RApUsxJkb2Ck",
        "outputId": "5e22e993-9ffd-4c0f-d518-72fce2039032"
      },
      "outputs": [
        {
          "data": {
            "text/plain": [
              "((3, 1), (3,), (3, 3))"
            ]
          },
          "execution_count": 41,
          "metadata": {},
          "output_type": "execute_result"
        }
      ],
      "source": [
        "a.shape, b.shape, (a*b).shape"
      ]
    },
    {
      "cell_type": "markdown",
      "metadata": {
        "id": "X9JOZ8WHb2Ck"
      },
      "source": [
        "# Maximum and minimum values"
      ]
    },
    {
      "cell_type": "code",
      "execution_count": null,
      "metadata": {
        "id": "hLuFNyxZb2Ck",
        "outputId": "f87ddeeb-ba6f-43c8-bf21-6930e3d09790"
      },
      "outputs": [
        {
          "data": {
            "text/plain": [
              "array([[19, 20, 35, 38, 51, 89, 23, 36, 86, 55],\n",
              "       [54, 26, 70, 86, 20, 17, 58, 50, 28, 56],\n",
              "       [11, 76, 46, 91, 69, 89, 87, 58, 28, 73],\n",
              "       [33, 12, 21, 79, 50, 42, 72, 64, 77, 28],\n",
              "       [78,  8, 34, 28, 91,  6, 31, 94, 68,  7],\n",
              "       [ 4,  1, 36, 53, 50, 83, 32, 52, 83, 44],\n",
              "       [98, 25, 95, 12, 24, 93,  7, 64, 13, 82],\n",
              "       [96, 32, 25, 87, 65, 22, 65, 93, 56,  8],\n",
              "       [48, 92, 29, 86, 58,  4, 91, 75,  0, 75],\n",
              "       [15, 11, 71, 13, 66, 34, 50, 60,  2, 69]])"
            ]
          },
          "execution_count": 44,
          "metadata": {},
          "output_type": "execute_result"
        }
      ],
      "source": [
        "n = np.random.randint(0,100,100).reshape(10,10)\n",
        "n"
      ]
    },
    {
      "cell_type": "code",
      "execution_count": null,
      "metadata": {
        "id": "-zKjQ-LTb2Ck",
        "outputId": "abefa8c8-64c4-48d4-fe56-98717d114f7b"
      },
      "outputs": [
        {
          "data": {
            "text/plain": [
              "(98, 0)"
            ]
          },
          "execution_count": 53,
          "metadata": {},
          "output_type": "execute_result"
        }
      ],
      "source": [
        "n.max(), n.min() #global max and global min"
      ]
    },
    {
      "cell_type": "code",
      "execution_count": null,
      "metadata": {
        "id": "aq-zbnh2b2Ck",
        "outputId": "3537a54a-b32b-40fb-b82d-7f408799db17"
      },
      "outputs": [
        {
          "data": {
            "text/plain": [
              "19"
            ]
          },
          "execution_count": 57,
          "metadata": {},
          "output_type": "execute_result"
        }
      ],
      "source": [
        "n[0].min() #min in the row 0"
      ]
    },
    {
      "cell_type": "code",
      "execution_count": null,
      "metadata": {
        "id": "YjSrGpLjb2Cl",
        "outputId": "d2d33e4a-1eec-4fba-8c1d-036a8aa2a370"
      },
      "outputs": [
        {
          "data": {
            "text/plain": [
              "71"
            ]
          },
          "execution_count": 58,
          "metadata": {},
          "output_type": "execute_result"
        }
      ],
      "source": [
        "n[9].max() #max in the row 9"
      ]
    },
    {
      "cell_type": "code",
      "execution_count": null,
      "metadata": {
        "id": "aBkAWr91b2Cl",
        "outputId": "863ad4b3-3fc0-4b33-86e1-3935e0474918"
      },
      "outputs": [
        {
          "data": {
            "text/plain": [
              "4"
            ]
          },
          "execution_count": 59,
          "metadata": {},
          "output_type": "execute_result"
        }
      ],
      "source": [
        "n[::,0].min() #min in the column 0"
      ]
    },
    {
      "cell_type": "code",
      "execution_count": null,
      "metadata": {
        "id": "0c8LPL50b2Cl",
        "outputId": "5e8d42b6-4343-4f79-e0fa-ebd19b28bdb7"
      },
      "outputs": [
        {
          "data": {
            "text/plain": [
              "82"
            ]
          },
          "execution_count": 60,
          "metadata": {},
          "output_type": "execute_result"
        }
      ],
      "source": [
        "n[::,9].max() #max in the column 9"
      ]
    },
    {
      "cell_type": "code",
      "execution_count": null,
      "metadata": {
        "id": "pL820m8Pb2Cl",
        "outputId": "496bd26b-2ee9-4e7d-e0d7-74a75d927c12"
      },
      "outputs": [
        {
          "data": {
            "text/plain": [
              "array([ 4,  1, 21, 12, 20,  4,  7, 36,  0,  7])"
            ]
          },
          "execution_count": 62,
          "metadata": {},
          "output_type": "execute_result"
        }
      ],
      "source": [
        "n.min(axis=0) #min for each column"
      ]
    },
    {
      "cell_type": "code",
      "execution_count": null,
      "metadata": {
        "id": "5cNeaQkYb2Cm",
        "outputId": "ad625aca-691e-4933-aa3b-c788fc872467"
      },
      "outputs": [
        {
          "data": {
            "text/plain": [
              "array([89, 86, 91, 79, 94, 83, 98, 96, 92, 71])"
            ]
          },
          "execution_count": 64,
          "metadata": {},
          "output_type": "execute_result"
        }
      ],
      "source": [
        "n.max(axis=1) #max for each row"
      ]
    },
    {
      "cell_type": "markdown",
      "metadata": {
        "id": "QTOrXieZb2Cm"
      },
      "source": [
        "Often one wants not the maximum (or minimum) value itself but its index in the array.\n",
        "This is what the methods argmin and argmax do. By default, the index returned is into\n",
        "the flattened array, so the actual value can be retrieved using a view on the array created\n",
        "by ravel."
      ]
    },
    {
      "cell_type": "code",
      "execution_count": null,
      "metadata": {
        "id": "uQt_UKs_b2Cm",
        "outputId": "ebb55ccf-f5f1-4df3-a8f9-bc9115acef25"
      },
      "outputs": [
        {
          "data": {
            "text/plain": [
              "88"
            ]
          },
          "execution_count": 72,
          "metadata": {},
          "output_type": "execute_result"
        }
      ],
      "source": [
        "n.argmin() #88th element of the array is the global minimum"
      ]
    },
    {
      "cell_type": "code",
      "execution_count": null,
      "metadata": {
        "id": "bieZHjYob2Cm",
        "outputId": "a2691e0b-db40-4760-cce1-55094f77ffe5"
      },
      "outputs": [
        {
          "data": {
            "text/plain": [
              "0"
            ]
          },
          "execution_count": 83,
          "metadata": {},
          "output_type": "execute_result"
        }
      ],
      "source": [
        "#since argmin tells us only the position of the array (not the index) we first flatten or ravel it then print the value\n",
        "n.ravel()[n.argmin()]"
      ]
    },
    {
      "cell_type": "code",
      "execution_count": null,
      "metadata": {
        "id": "Yv5Xg_Wqb2Cm",
        "outputId": "6be7e12e-a844-45bd-a863-1254933e107e"
      },
      "outputs": [
        {
          "data": {
            "text/plain": [
              "array([5, 5, 3, 6, 1, 8, 6, 0, 8, 4], dtype=int64)"
            ]
          },
          "execution_count": 88,
          "metadata": {},
          "output_type": "execute_result"
        }
      ],
      "source": [
        "n.argmin(axis=0) #gives index numbers of the minimum values at axis=0"
      ]
    },
    {
      "cell_type": "markdown",
      "metadata": {
        "id": "aQ1Hvybsb2Cn"
      },
      "source": [
        "# Sorting an array"
      ]
    },
    {
      "cell_type": "code",
      "execution_count": null,
      "metadata": {
        "id": "es_7HRLhb2Cn",
        "outputId": "c0c26b64-90ac-440d-f53f-a11184c3985a"
      },
      "outputs": [
        {
          "data": {
            "text/plain": [
              "(None, array([1, 2, 3]))"
            ]
          },
          "execution_count": 93,
          "metadata": {},
          "output_type": "execute_result"
        }
      ],
      "source": [
        "n = np.array([3,1,2])\n",
        "n.sort(), n"
      ]
    },
    {
      "cell_type": "code",
      "execution_count": null,
      "metadata": {
        "id": "z1ITOujUb2Cn",
        "outputId": "65232114-cbe2-45c1-92d1-d2b00af81ed4"
      },
      "outputs": [
        {
          "data": {
            "text/plain": [
              "array([[96, 77, 38, 14, 62, 24, 30,  0, 36, 48],\n",
              "       [66, 49,  4, 42, 48, 15, 45, 14, 36, 77],\n",
              "       [40, 22, 72,  7, 93, 62, 58, 72, 94, 19],\n",
              "       [91, 60, 95, 40, 44, 83, 98, 61, 85, 83],\n",
              "       [99, 81, 78, 61, 52, 86, 37, 38, 83, 27],\n",
              "       [74, 82, 42, 62, 74, 18, 42, 65, 76, 41],\n",
              "       [ 4, 24, 88, 65, 10, 27, 46, 45, 43, 78],\n",
              "       [49, 75, 47, 53, 56, 61, 88, 18,  7, 10],\n",
              "       [55, 71, 12,  5, 33, 61,  2, 35, 46, 16],\n",
              "       [67, 29, 55, 40, 89, 52, 80, 11, 89, 99]])"
            ]
          },
          "execution_count": 110,
          "metadata": {},
          "output_type": "execute_result"
        }
      ],
      "source": [
        "n = np.random.randint(0,100,100).reshape(10,10)\n",
        "n"
      ]
    },
    {
      "cell_type": "code",
      "execution_count": null,
      "metadata": {
        "id": "wG6j-gVJb2Cn",
        "outputId": "369de4ab-df4d-422e-ab36-86bb1c7054a6"
      },
      "outputs": [
        {
          "data": {
            "text/plain": [
              "(None,\n",
              " array([[ 0, 14, 24, 30, 36, 38, 48, 62, 77, 96],\n",
              "        [ 4, 14, 15, 36, 42, 45, 48, 49, 66, 77],\n",
              "        [ 7, 19, 22, 40, 58, 62, 72, 72, 93, 94],\n",
              "        [40, 44, 60, 61, 83, 83, 85, 91, 95, 98],\n",
              "        [27, 37, 38, 52, 61, 78, 81, 83, 86, 99],\n",
              "        [18, 41, 42, 42, 62, 65, 74, 74, 76, 82],\n",
              "        [ 4, 10, 24, 27, 43, 45, 46, 65, 78, 88],\n",
              "        [ 7, 10, 18, 47, 49, 53, 56, 61, 75, 88],\n",
              "        [ 2,  5, 12, 16, 33, 35, 46, 55, 61, 71],\n",
              "        [11, 29, 40, 52, 55, 67, 80, 89, 89, 99]]))"
            ]
          },
          "execution_count": 111,
          "metadata": {},
          "output_type": "execute_result"
        }
      ],
      "source": [
        "n.sort(),n #sorts the elements of the rows"
      ]
    },
    {
      "cell_type": "code",
      "execution_count": null,
      "metadata": {
        "id": "zUn_tRqsb2Co",
        "outputId": "0227496a-bbce-4a62-ef45-b73be7ec1e91"
      },
      "outputs": [
        {
          "data": {
            "text/plain": [
              "array([[66, 90, 76, 62,  2, 56, 15,  4, 65, 36],\n",
              "       [39, 68, 90, 69,  5, 14, 78,  8, 55, 88],\n",
              "       [86,  3, 18,  4, 19, 82, 49, 25, 85, 49],\n",
              "       [97, 76, 77, 72, 18,  5,  4, 24, 73, 45],\n",
              "       [63, 31, 63, 73, 79, 42, 61, 39, 83, 94],\n",
              "       [73, 89, 69,  3, 41, 18, 85, 19, 89, 28],\n",
              "       [30, 73, 42, 29, 90, 25, 10, 74, 14,  7],\n",
              "       [ 5, 32, 60, 89, 11,  3, 62, 97, 29,  0],\n",
              "       [64, 88,  3,  4, 78, 26,  6, 24, 20, 44],\n",
              "       [ 7, 99, 72, 16, 50, 69, 61, 62,  3, 62]])"
            ]
          },
          "execution_count": 120,
          "metadata": {},
          "output_type": "execute_result"
        }
      ],
      "source": [
        "n = np.random.randint(0,100,100).reshape(10,10)\n",
        "n"
      ]
    },
    {
      "cell_type": "code",
      "execution_count": null,
      "metadata": {
        "id": "KjRVLMpSb2Co"
      },
      "outputs": [],
      "source": [
        "n.sort(axis=0) #sorts the columns"
      ]
    },
    {
      "cell_type": "code",
      "execution_count": null,
      "metadata": {
        "id": "HBPXmcTCb2Co",
        "outputId": "17177325-e5de-4e02-f237-88bfca305af8"
      },
      "outputs": [
        {
          "data": {
            "text/plain": [
              "array([[ 5,  3,  3,  3,  2,  3,  4,  4,  3,  0],\n",
              "       [ 7, 31, 18,  4,  5,  5,  6,  8, 14,  7],\n",
              "       [30, 32, 42,  4, 11, 14, 10, 19, 20, 28],\n",
              "       [39, 68, 60, 16, 18, 18, 15, 24, 29, 36],\n",
              "       [63, 73, 63, 29, 19, 25, 49, 24, 55, 44],\n",
              "       [64, 76, 69, 62, 41, 26, 61, 25, 65, 45],\n",
              "       [66, 88, 72, 69, 50, 42, 61, 39, 73, 49],\n",
              "       [73, 89, 76, 72, 78, 56, 62, 62, 83, 62],\n",
              "       [86, 90, 77, 73, 79, 69, 78, 74, 85, 88],\n",
              "       [97, 99, 90, 89, 90, 82, 85, 97, 89, 94]])"
            ]
          },
          "execution_count": 124,
          "metadata": {},
          "output_type": "execute_result"
        }
      ],
      "source": [
        "n"
      ]
    },
    {
      "cell_type": "code",
      "execution_count": null,
      "metadata": {
        "id": "bTac9oIxb2Cp",
        "outputId": "9142dc20-98d2-4a55-a526-aa8bdd12996f"
      },
      "outputs": [
        {
          "data": {
            "text/plain": [
              "array([[90, 11, 44, 65, 15, 50, 55, 15, 51, 99],\n",
              "       [44, 55, 70, 48, 89, 47, 76, 73, 74, 29],\n",
              "       [69, 85, 30, 50, 13, 39, 76, 44, 38, 40],\n",
              "       [90, 79, 48, 40, 34, 10, 56, 68, 92, 47],\n",
              "       [ 0, 24, 38, 68, 99, 72, 20, 44, 97, 53],\n",
              "       [11, 96, 99, 47, 85, 79, 29, 56, 50, 66],\n",
              "       [78, 59, 57, 14, 51, 32, 70, 99, 51, 93],\n",
              "       [ 2, 96,  7, 79, 33, 59, 72, 84, 61, 95],\n",
              "       [43, 46, 87, 15, 93,  1, 12, 33, 44, 57],\n",
              "       [60, 77, 74, 94, 52, 19, 64, 91, 34, 91]])"
            ]
          },
          "execution_count": 125,
          "metadata": {},
          "output_type": "execute_result"
        }
      ],
      "source": [
        "n = np.random.randint(0,100,100).reshape(10,10)\n",
        "n"
      ]
    },
    {
      "cell_type": "code",
      "execution_count": null,
      "metadata": {
        "id": "O12S-_1mb2Cp",
        "outputId": "a75c8987-023e-408b-c51d-7ee8a8b41330"
      },
      "outputs": [
        {
          "data": {
            "text/plain": [
              "(None,\n",
              " array([[11, 15, 15, 44, 50, 51, 55, 65, 90, 99],\n",
              "        [29, 44, 47, 48, 55, 70, 73, 74, 76, 89],\n",
              "        [13, 30, 38, 39, 40, 44, 50, 69, 76, 85],\n",
              "        [10, 34, 40, 47, 48, 56, 68, 79, 90, 92],\n",
              "        [ 0, 20, 24, 38, 44, 53, 68, 72, 97, 99],\n",
              "        [11, 29, 47, 50, 56, 66, 79, 85, 96, 99],\n",
              "        [14, 32, 51, 51, 57, 59, 70, 78, 93, 99],\n",
              "        [ 2,  7, 33, 59, 61, 72, 79, 84, 95, 96],\n",
              "        [ 1, 12, 15, 33, 43, 44, 46, 57, 87, 93],\n",
              "        [19, 34, 52, 60, 64, 74, 77, 91, 91, 94]]))"
            ]
          },
          "execution_count": 127,
          "metadata": {},
          "output_type": "execute_result"
        }
      ],
      "source": [
        "n.sort(axis=1), n #sorts each row"
      ]
    },
    {
      "cell_type": "code",
      "execution_count": null,
      "metadata": {
        "id": "X_S5_g5Sb2Cp",
        "outputId": "ca0b8132-3f9d-48ba-de5f-918b1b702f6e"
      },
      "outputs": [
        {
          "data": {
            "text/plain": [
              "array([[ 0,  7, 15, 33, 40, 44, 46, 57, 76, 85],\n",
              "       [ 1, 12, 15, 38, 43, 44, 50, 65, 76, 89],\n",
              "       [ 2, 15, 24, 39, 44, 51, 55, 69, 87, 92],\n",
              "       [10, 20, 33, 44, 48, 53, 68, 72, 90, 93],\n",
              "       [11, 29, 38, 47, 50, 56, 68, 74, 90, 94],\n",
              "       [11, 30, 40, 48, 55, 59, 70, 78, 91, 96],\n",
              "       [13, 32, 47, 50, 56, 66, 73, 79, 93, 99],\n",
              "       [14, 34, 47, 51, 57, 70, 77, 84, 95, 99],\n",
              "       [19, 34, 51, 59, 61, 72, 79, 85, 96, 99],\n",
              "       [29, 44, 52, 60, 64, 74, 79, 91, 97, 99]])"
            ]
          },
          "execution_count": 129,
          "metadata": {},
          "output_type": "execute_result"
        }
      ],
      "source": [
        "#sort each element of the rows and then each element of the columns\n",
        "n.sort(axis=1)\n",
        "n.sort(axis=0)\n",
        "n"
      ]
    },
    {
      "cell_type": "code",
      "execution_count": null,
      "metadata": {
        "id": "ecCog2eAb2Cp",
        "outputId": "8675e997-c44e-4ae1-f35d-095b6c19053a"
      },
      "outputs": [
        {
          "data": {
            "text/plain": [
              "array([[0, 1, 2, 3, 4, 5, 6, 7, 8, 9],\n",
              "       [0, 1, 2, 3, 4, 5, 6, 7, 8, 9],\n",
              "       [0, 1, 2, 3, 4, 5, 6, 7, 8, 9],\n",
              "       [0, 1, 2, 3, 4, 5, 6, 7, 8, 9],\n",
              "       [0, 1, 2, 3, 4, 5, 6, 7, 8, 9],\n",
              "       [0, 1, 2, 3, 4, 5, 6, 7, 8, 9],\n",
              "       [0, 1, 2, 3, 4, 5, 6, 7, 8, 9],\n",
              "       [0, 1, 2, 3, 4, 5, 6, 7, 8, 9],\n",
              "       [0, 1, 2, 3, 4, 5, 6, 7, 8, 9],\n",
              "       [0, 1, 2, 3, 4, 5, 6, 7, 8, 9]], dtype=int64)"
            ]
          },
          "execution_count": 135,
          "metadata": {},
          "output_type": "execute_result"
        }
      ],
      "source": [
        "#np.argsort() returns the indexes rather than the sorted elements\n",
        "np.argsort(n) #strange? beacause rows and columns of n are already sorted, note that sort method automatically saves the new one"
      ]
    },
    {
      "cell_type": "code",
      "execution_count": null,
      "metadata": {
        "id": "kOl46-tAb2Cq",
        "outputId": "99f5117b-d8ee-4834-d1cb-bd8e24d531d0"
      },
      "outputs": [
        {
          "data": {
            "text/plain": [
              "array([[34, 20, 56, 53, 80, 32, 22, 54, 51, 46],\n",
              "       [97, 17, 83, 89,  0, 97, 82, 55, 76, 46],\n",
              "       [51, 51, 50, 18,  2,  3,  7, 10, 59, 30],\n",
              "       [37, 11, 89, 14,  5, 48, 82, 12, 59, 66],\n",
              "       [19, 67, 54, 48, 84, 59, 53, 43, 69, 72],\n",
              "       [81, 62, 21, 10, 26, 22, 32,  8, 36, 52],\n",
              "       [69, 94, 91, 87, 66, 56, 24, 67, 70, 56],\n",
              "       [17, 96, 63, 32, 33,  7, 86, 47, 85, 55],\n",
              "       [69, 90, 87, 15,  1, 14, 89, 21, 39, 87],\n",
              "       [35, 45, 50, 10, 32, 34, 48, 88, 54, 39]])"
            ]
          },
          "execution_count": 136,
          "metadata": {},
          "output_type": "execute_result"
        }
      ],
      "source": [
        "n = np.random.randint(0,100,100).reshape(10,10)\n",
        "n"
      ]
    },
    {
      "cell_type": "code",
      "execution_count": null,
      "metadata": {
        "scrolled": true,
        "id": "rpfn1V8fb2Cq",
        "outputId": "ec775f65-bb9f-4d28-ce66-7829e2393ebc"
      },
      "outputs": [
        {
          "data": {
            "text/plain": [
              "array([[1, 6, 5, 0, 9, 8, 3, 7, 2, 4],\n",
              "       [4, 1, 9, 7, 8, 6, 2, 3, 0, 5],\n",
              "       [4, 5, 6, 7, 3, 9, 2, 0, 1, 8],\n",
              "       [4, 1, 7, 3, 0, 5, 8, 9, 6, 2],\n",
              "       [0, 7, 3, 6, 2, 5, 1, 8, 9, 4],\n",
              "       [7, 3, 2, 5, 4, 6, 8, 9, 1, 0],\n",
              "       [6, 5, 9, 4, 7, 0, 8, 3, 2, 1],\n",
              "       [5, 0, 3, 4, 7, 9, 2, 8, 6, 1],\n",
              "       [4, 5, 3, 7, 8, 0, 2, 9, 6, 1],\n",
              "       [3, 4, 5, 0, 9, 1, 6, 2, 8, 7]], dtype=int64)"
            ]
          },
          "execution_count": 137,
          "metadata": {},
          "output_type": "execute_result"
        }
      ],
      "source": [
        "np.argsort(n)"
      ]
    },
    {
      "cell_type": "code",
      "execution_count": null,
      "metadata": {
        "id": "GagIQkKLb2Cq",
        "outputId": "a167f4f9-61a3-41a4-abaf-8539c8f32800"
      },
      "outputs": [
        {
          "data": {
            "text/plain": [
              "2"
            ]
          },
          "execution_count": 144,
          "metadata": {},
          "output_type": "execute_result"
        }
      ],
      "source": [
        "#np.searchsorted function takes a value and tells where the value should be placed\n",
        "n = np.array([0,1,2,3,4,5,6,7,8,9])\n",
        "np.searchsorted(n,1.9)"
      ]
    },
    {
      "cell_type": "code",
      "execution_count": null,
      "metadata": {
        "id": "CPUNnMGcb2Cq",
        "outputId": "cd359259-4b4f-45f9-8423-60705ecee935"
      },
      "outputs": [
        {
          "data": {
            "text/plain": [
              "6"
            ]
          },
          "execution_count": 145,
          "metadata": {},
          "output_type": "execute_result"
        }
      ],
      "source": [
        "n = np.array([0,9,2,1,9,0]) #n is not sorted, place this value to the end of the array\n",
        "np.searchsorted(n,8)"
      ]
    },
    {
      "cell_type": "markdown",
      "metadata": {
        "id": "8getj5FQb2Cr"
      },
      "source": [
        "# Structured arrays"
      ]
    },
    {
      "cell_type": "markdown",
      "metadata": {
        "id": "Had-Jcnyb2Cr"
      },
      "source": [
        "Also known as record arrays, structured arrays are arrays consisting of rows of values\n",
        "where each value may have its own data type and name. These rows are the “records.”\n",
        "This is very much like a table of data with rows (records) consisting of values that fall\n",
        "into columns (fields) and provides a very convenient and natural way to manipulate\n",
        "scientific data that is often obtained or presented in tabular form."
      ]
    },
    {
      "cell_type": "code",
      "execution_count": null,
      "metadata": {
        "id": "2gh88-yHb2Cr",
        "outputId": "5b434684-194d-49d4-adb1-1154e93aa6d0"
      },
      "outputs": [
        {
          "data": {
            "text/plain": [
              "array([[(0, 0., 0.+0.j)],\n",
              "       [(0, 0., 0.+0.j)],\n",
              "       [(0, 0., 0.+0.j)],\n",
              "       [(0, 0., 0.+0.j)],\n",
              "       [(0, 0., 0.+0.j)]],\n",
              "      dtype=[('f0', 'i1'), ('f1', '<f8'), ('f2', '<c16')])"
            ]
          },
          "execution_count": 9,
          "metadata": {},
          "output_type": "execute_result"
        }
      ],
      "source": [
        "#creating a structured array\n",
        "#the structure of a record array is defined by its dtype using a more complex syntax than we have used previously\n",
        "n = np.zeros(5,dtype = 'int8, float64, complex').reshape(5,1)\n",
        "n"
      ]
    },
    {
      "cell_type": "code",
      "execution_count": null,
      "metadata": {
        "id": "NW3PvMiob2Cr",
        "outputId": "c93f94f6-5cc5-4650-cb11-385c3ac79f42"
      },
      "outputs": [
        {
          "data": {
            "text/plain": [
              "dtype([('f0', 'i1'), ('f1', '<f8'), ('f2', '<c16')])"
            ]
          },
          "execution_count": 10,
          "metadata": {},
          "output_type": "execute_result"
        }
      ],
      "source": [
        "n.dtype"
      ]
    },
    {
      "cell_type": "markdown",
      "metadata": {
        "id": "ICyOHZz6b2Cr"
      },
      "source": [
        "Because we did not explicitly name the fields, they are given the default names ’f0’,\n",
        "’f1’ and ’f2’. To name the fields of our structured array explicitly, pass the dtype\n",
        "constructor a list of (name, dtype descriptor) tuples."
      ]
    },
    {
      "cell_type": "code",
      "execution_count": null,
      "metadata": {
        "id": "WN915ca-b2Cs",
        "outputId": "db64893a-17b8-4ef3-cbc2-d7f3f72ecd1e"
      },
      "outputs": [
        {
          "data": {
            "text/plain": [
              "array([[(0, 0., 0.+0.j)],\n",
              "       [(0, 0., 0.+0.j)],\n",
              "       [(0, 0., 0.+0.j)],\n",
              "       [(0, 0., 0.+0.j)],\n",
              "       [(0, 0., 0.+0.j)],\n",
              "       [(0, 0., 0.+0.j)],\n",
              "       [(0, 0., 0.+0.j)],\n",
              "       [(0, 0., 0.+0.j)],\n",
              "       [(0, 0., 0.+0.j)],\n",
              "       [(0, 0., 0.+0.j)]],\n",
              "      dtype=[('a', 'i1'), ('b', '<f8'), ('c', '<c16')])"
            ]
          },
          "execution_count": 22,
          "metadata": {},
          "output_type": "execute_result"
        }
      ],
      "source": [
        "n = np.zeros(10,dtype = [('a','int8'),('b','float64'),('c','complex')]).reshape(10,1)\n",
        "n"
      ]
    },
    {
      "cell_type": "code",
      "execution_count": null,
      "metadata": {
        "id": "hlcNGSEvb2Cs",
        "outputId": "31c9bb0e-20fa-4ff3-8bbb-765e1207e2fa"
      },
      "outputs": [
        {
          "data": {
            "text/plain": [
              "(array([[(0, 0., 0.+0.j)],\n",
              "        [(0, 0., 0.+0.j)],\n",
              "        [(0, 0., 0.+0.j)],\n",
              "        [(0, 0., 0.+0.j)],\n",
              "        [(0, 0., 0.+0.j)],\n",
              "        [(0, 0., 0.+0.j)],\n",
              "        [(0, 0., 0.+0.j)],\n",
              "        [(0, 0., 0.+0.j)],\n",
              "        [(0, 0., 0.+0.j)],\n",
              "        [(0, 0., 0.+0.j)]],\n",
              "       dtype=[('a', 'i1'), ('b', '<f8'), ('c', '<c16')]),\n",
              " array([(0, 0., 0.+0.j)], dtype=[('a', 'i1'), ('b', '<f8'), ('c', '<c16')]),\n",
              " (0, 0., 0.+0.j),\n",
              " 0)"
            ]
          },
          "execution_count": 28,
          "metadata": {},
          "output_type": "execute_result"
        }
      ],
      "source": [
        "n, n[0], n[0,0], n[0,0][0]"
      ]
    },
    {
      "cell_type": "code",
      "execution_count": null,
      "metadata": {
        "id": "IlbudGHDb2Cs",
        "outputId": "945d7650-096c-4871-c828-e8959eeb8b00"
      },
      "outputs": [
        {
          "data": {
            "text/plain": [
              "(numpy.ndarray, numpy.ndarray, numpy.void, numpy.int8)"
            ]
          },
          "execution_count": 27,
          "metadata": {},
          "output_type": "execute_result"
        }
      ],
      "source": [
        "type(n), type(n[0]), type(n[0,0]), type(n[0,0][0])"
      ]
    },
    {
      "cell_type": "code",
      "execution_count": null,
      "metadata": {
        "id": "zug8GpCwb2Cs",
        "outputId": "023b6b93-3221-4f0b-88ad-8816ac1471b4"
      },
      "outputs": [
        {
          "data": {
            "text/plain": [
              "(dtype([('a', 'i1'), ('b', '<f8'), ('c', '<c16')]),\n",
              " dtype([('a', 'i1'), ('b', '<f8'), ('c', '<c16')]),\n",
              " dtype([('a', 'i1'), ('b', '<f8'), ('c', '<c16')]),\n",
              " dtype('int8'))"
            ]
          },
          "execution_count": 29,
          "metadata": {},
          "output_type": "execute_result"
        }
      ],
      "source": [
        "n.dtype, n[0].dtype, n[0,0].dtype, n[0,0][0].dtype"
      ]
    },
    {
      "cell_type": "code",
      "execution_count": null,
      "metadata": {
        "id": "Eohou3Hwb2Ct",
        "outputId": "c7f7b825-45e5-4641-9ac7-ee0898345b96"
      },
      "outputs": [
        {
          "data": {
            "text/plain": [
              "array([[( 0, 0., 0.+0.j)],\n",
              "       [( 1, 0., 0.+0.j)],\n",
              "       [( 2, 0., 0.+0.j)],\n",
              "       [( 3, 0., 0.+0.j)],\n",
              "       [( 4, 0., 0.+0.j)],\n",
              "       [( 5, 0., 0.+0.j)],\n",
              "       [( 6, 0., 0.+0.j)],\n",
              "       [( 7, 0., 0.+0.j)],\n",
              "       [( 8, 0., 0.+0.j)],\n",
              "       [(10, 0., 0.+0.j)]],\n",
              "      dtype=[('a', 'i1'), ('b', '<f8'), ('c', '<c16')])"
            ]
          },
          "execution_count": 33,
          "metadata": {},
          "output_type": "execute_result"
        }
      ],
      "source": [
        "#the real power of this approach is in the ability to reference a field by its name\n",
        "n['a'] = np.linspace(0,10,10).reshape(10,1)\n",
        "n"
      ]
    },
    {
      "cell_type": "code",
      "execution_count": null,
      "metadata": {
        "id": "wsjqfPbKb2Ct",
        "outputId": "ee21efeb-df51-42ef-dffa-a88e9d4beb8b"
      },
      "outputs": [
        {
          "data": {
            "text/plain": [
              "(array([[ 0],\n",
              "        [ 1],\n",
              "        [ 2],\n",
              "        [ 3],\n",
              "        [ 4],\n",
              "        [ 5],\n",
              "        [ 6],\n",
              "        [ 7],\n",
              "        [ 8],\n",
              "        [10]], dtype=int8),\n",
              " array([[0.],\n",
              "        [0.],\n",
              "        [0.],\n",
              "        [0.],\n",
              "        [0.],\n",
              "        [0.],\n",
              "        [0.],\n",
              "        [0.],\n",
              "        [0.],\n",
              "        [0.]]),\n",
              " array([[0.+0.j],\n",
              "        [0.+0.j],\n",
              "        [0.+0.j],\n",
              "        [0.+0.j],\n",
              "        [0.+0.j],\n",
              "        [0.+0.j],\n",
              "        [0.+0.j],\n",
              "        [0.+0.j],\n",
              "        [0.+0.j],\n",
              "        [0.+0.j]]))"
            ]
          },
          "execution_count": 35,
          "metadata": {},
          "output_type": "execute_result"
        }
      ],
      "source": [
        "n['a'], n['b'], n['c']"
      ]
    },
    {
      "cell_type": "markdown",
      "metadata": {
        "id": "hrfzFZuMb2Ct"
      },
      "source": [
        "There are several (arguably, too many) ways to define the dtype describing a structured\n",
        "array. So far we have used a string of comma-separated identifiers and a list of tuples. A\n",
        "third way is to use a dictionary. The basic usage assigns a list of values to the two keys\n",
        "’names’ and ’formats’ naming the fields and specifying their formats respectively."
      ]
    },
    {
      "cell_type": "code",
      "execution_count": null,
      "metadata": {
        "id": "nHSeLvU5b2Ct",
        "outputId": "aa8cd5cb-1a3a-4d1b-e71a-fec9a21908d6"
      },
      "outputs": [
        {
          "data": {
            "text/plain": [
              "array([[( 0, False)],\n",
              "       [( 1,  True)],\n",
              "       [( 2,  True)],\n",
              "       [( 3,  True)],\n",
              "       [( 4,  True)],\n",
              "       [( 5,  True)],\n",
              "       [( 6,  True)],\n",
              "       [( 7,  True)],\n",
              "       [( 8,  True)],\n",
              "       [(10,  True)]], dtype=[('a', '<i8'), ('b', '?')])"
            ]
          },
          "execution_count": 37,
          "metadata": {},
          "output_type": "execute_result"
        }
      ],
      "source": [
        "n = np.linspace(0,10,10,dtype = {'names' : ['a', 'b'],\n",
        "                                'formats' : ['int64', 'bool']}).reshape(10,1)\n",
        "n"
      ]
    },
    {
      "cell_type": "markdown",
      "metadata": {
        "id": "8DoUJ8Stb2Cu"
      },
      "source": [
        "A third key,\n",
        "‘titles’, can be used to give each field a more detailed description; each title can\n",
        "then be used as an alias to its name in referring to that field in the array."
      ]
    },
    {
      "cell_type": "code",
      "execution_count": null,
      "metadata": {
        "id": "AT8ac_gib2Cu",
        "outputId": "60e2d04b-c844-4617-aa75-34a2fdb9d2ee"
      },
      "outputs": [
        {
          "data": {
            "text/plain": [
              "array([(b'', 0, False), (b'', 0, False), (b'', 0, False), (b'', 0, False),\n",
              "       (b'', 0, False), (b'', 0, False), (b'', 0, False), (b'', 0, False),\n",
              "       (b'', 0, False), (b'', 0, False)],\n",
              "      dtype=[(('Candidate Name', 'candidate'), 'S10'), (('Marks', 'marks'), 'i1'), (('Pass or Fail', 'pass/fail'), '?')])"
            ]
          },
          "execution_count": 91,
          "metadata": {},
          "output_type": "execute_result"
        }
      ],
      "source": [
        "n = np.zeros(10,dtype = {'names':['candidate','marks','pass/fail'],\n",
        "                              'formats':['|S10','int8','bool'], #check what happens if you write '|S5' instead of '|S10'\n",
        "                              'titles':['Candidate Name','Marks','Pass or Fail']})\n",
        "n"
      ]
    },
    {
      "cell_type": "code",
      "execution_count": null,
      "metadata": {
        "id": "igXkeZo0b2Cu",
        "outputId": "391fb407-5ea4-4b04-e370-e3fd14b706c9"
      },
      "outputs": [
        {
          "data": {
            "text/plain": [
              "array([[(b'Brishti', 99,  True)],\n",
              "       [(b'Megh', 91,  True)],\n",
              "       [(b'',  0, False)],\n",
              "       [(b'',  0, False)],\n",
              "       [(b'',  0, False)],\n",
              "       [(b'',  0, False)],\n",
              "       [(b'',  0, False)],\n",
              "       [(b'',  0, False)],\n",
              "       [(b'',  0, False)],\n",
              "       [(b'',  0, False)]],\n",
              "      dtype=[(('Candidate Name', 'candidate'), 'S10'), (('Marks', 'marks'), 'i1'), (('Pass or Fail', 'pass/fail'), '?')])"
            ]
          },
          "execution_count": 92,
          "metadata": {},
          "output_type": "execute_result"
        }
      ],
      "source": [
        "n[0] = ('Brishti',99,True)\n",
        "n[1] = ('Megh',91,True)\n",
        "n.resize(10,1)\n",
        "n"
      ]
    },
    {
      "cell_type": "code",
      "execution_count": null,
      "metadata": {
        "id": "71Xn-5ZZb2Cu",
        "outputId": "c56f08d5-6312-4f1b-edd0-334959fb6794"
      },
      "outputs": [
        {
          "data": {
            "text/plain": [
              "(array([[b'Brishti'],\n",
              "        [b'Megh'],\n",
              "        [b''],\n",
              "        [b''],\n",
              "        [b''],\n",
              "        [b''],\n",
              "        [b''],\n",
              "        [b''],\n",
              "        [b''],\n",
              "        [b'']], dtype='|S10'),\n",
              " array([[99],\n",
              "        [91],\n",
              "        [ 0],\n",
              "        [ 0],\n",
              "        [ 0],\n",
              "        [ 0],\n",
              "        [ 0],\n",
              "        [ 0],\n",
              "        [ 0],\n",
              "        [ 0]], dtype=int8),\n",
              " array([[ True],\n",
              "        [ True],\n",
              "        [False],\n",
              "        [False],\n",
              "        [False],\n",
              "        [False],\n",
              "        [False],\n",
              "        [False],\n",
              "        [False],\n",
              "        [False]]))"
            ]
          },
          "execution_count": 93,
          "metadata": {},
          "output_type": "execute_result"
        }
      ],
      "source": [
        "n['candidate'], n['marks'], n['pass/fail']"
      ]
    },
    {
      "cell_type": "code",
      "execution_count": null,
      "metadata": {
        "id": "Qc_3gjyib2Cv",
        "outputId": "8b91ea95-4cf7-4f16-9a2d-7af1de7621f8"
      },
      "outputs": [
        {
          "data": {
            "text/plain": [
              "dtype([(('Candidate Name', 'candidate'), 'S10'), (('Marks', 'marks'), 'i1'), (('Pass or Fail', 'pass/fail'), '?')])"
            ]
          },
          "execution_count": 94,
          "metadata": {},
          "output_type": "execute_result"
        }
      ],
      "source": [
        "n.dtype"
      ]
    },
    {
      "cell_type": "markdown",
      "metadata": {
        "id": "YdmfVR7bb2Cv"
      },
      "source": [
        "Structured arrays can be sorted by giving a specific order to the fields used with the\n",
        "order argument."
      ]
    },
    {
      "cell_type": "code",
      "execution_count": null,
      "metadata": {
        "id": "XpwNJJxBb2Cv",
        "outputId": "d42281cd-46db-436e-9b62-1c3ad4e44349"
      },
      "outputs": [
        {
          "data": {
            "text/plain": [
              "array([(b'Megh', 88, b'A-'), (b'Brishti', 91, b'A'),\n",
              "       (b'Abritti',  0, b'F')],\n",
              "      dtype=[('Name', 'S10'), ('Marks', 'i1'), ('Grade', 'S2')])"
            ]
          },
          "execution_count": 115,
          "metadata": {},
          "output_type": "execute_result"
        }
      ],
      "source": [
        "dt = [('Name','S10'),\n",
        "     ('Marks','int8'),\n",
        "     ('Grade','S2')]\n",
        "data = [('Megh',88,'A-'),\n",
        "       ('Brishti',91,'A'),\n",
        "       ('Abritti',0,'F')]\n",
        "n = np.array(data, dtype = dt)\n",
        "n"
      ]
    },
    {
      "cell_type": "code",
      "execution_count": null,
      "metadata": {
        "id": "70QIdhjbb2Cw"
      },
      "outputs": [],
      "source": [
        "n.sort(order = 'Marks')"
      ]
    },
    {
      "cell_type": "code",
      "execution_count": null,
      "metadata": {
        "id": "hdsVmY0mb2Cw",
        "outputId": "a635cd68-ba67-4553-81e8-d6d63bb1af78"
      },
      "outputs": [
        {
          "data": {
            "text/plain": [
              "array([(b'Abritti',  0, b'F'), (b'Megh', 88, b'A-'),\n",
              "       (b'Brishti', 91, b'A')],\n",
              "      dtype=[('Name', 'S10'), ('Marks', 'i1'), ('Grade', 'S2')])"
            ]
          },
          "execution_count": 118,
          "metadata": {},
          "output_type": "execute_result"
        }
      ],
      "source": [
        "n"
      ]
    },
    {
      "cell_type": "code",
      "execution_count": null,
      "metadata": {
        "id": "gHoU_Igxb2Cw"
      },
      "outputs": [],
      "source": [
        "n.sort(order = ['Name', 'Marks']) #first sorts by Name, if this is same for two or more records then it sorts by Makrs"
      ]
    },
    {
      "cell_type": "code",
      "execution_count": null,
      "metadata": {
        "id": "1bWMJCHnb2Cx",
        "outputId": "07e5cb4a-0535-470f-fd18-620f054cfa0b"
      },
      "outputs": [
        {
          "data": {
            "text/plain": [
              "array([(b'Abritti',  0, b'F'), (b'Brishti', 91, b'A'),\n",
              "       (b'Megh', 88, b'A-')],\n",
              "      dtype=[('Name', 'S10'), ('Marks', 'i1'), ('Grade', 'S2')])"
            ]
          },
          "execution_count": 122,
          "metadata": {},
          "output_type": "execute_result"
        }
      ],
      "source": [
        "n"
      ]
    },
    {
      "cell_type": "markdown",
      "metadata": {
        "id": "LtpstEweb2Cx"
      },
      "source": [
        "# Arrays as vectors"
      ]
    },
    {
      "cell_type": "markdown",
      "metadata": {
        "id": "FGU3RyVCb2Cx"
      },
      "source": [
        "Although NumPy provides a matrix class that specializes ndarray to make linear\n",
        "algebra calculations easier and can be used to represent vectors, for many purposes it\n",
        "is just as convenient to define a vector with n components as a regular one-dimensional\n",
        "array with n elements.\n",
        "In addition to elementwise operations such as vector addition, subtraction and so\n",
        "on, NumPy array objects implement scalar (dot) product and vector (cross) product\n",
        "methods."
      ]
    },
    {
      "cell_type": "code",
      "execution_count": null,
      "metadata": {
        "id": "XiJCggXJb2Cx",
        "outputId": "99bf3e24-4b2a-46e6-8f22-d49900aa66a4"
      },
      "outputs": [
        {
          "data": {
            "text/plain": [
              "32"
            ]
          },
          "execution_count": 12,
          "metadata": {},
          "output_type": "execute_result"
        }
      ],
      "source": [
        "vector1 = np.array([1,2,3])\n",
        "vector2 = np.array([4,5,6])\n",
        "vector1.dot(vector2) #dot product"
      ]
    },
    {
      "cell_type": "code",
      "execution_count": null,
      "metadata": {
        "id": "5rxB8AfWb2Cy",
        "outputId": "01888967-4403-4107-9cdd-bea486a9bfe0"
      },
      "outputs": [
        {
          "data": {
            "text/plain": [
              "array([-3,  6, -3])"
            ]
          },
          "execution_count": 13,
          "metadata": {},
          "output_type": "execute_result"
        }
      ],
      "source": [
        "np.cross(vector1, vector2) #cross product"
      ]
    },
    {
      "cell_type": "code",
      "execution_count": null,
      "metadata": {
        "id": "87vCQ_v3b2Cy",
        "outputId": "f1784701-3132-4f62-86a9-fdbdd7a2d5be"
      },
      "outputs": [
        {
          "data": {
            "text/plain": [
              "(array([[1],\n",
              "        [2],\n",
              "        [3]]),\n",
              " array([[4],\n",
              "        [5],\n",
              "        [6]]))"
            ]
          },
          "execution_count": 14,
          "metadata": {},
          "output_type": "execute_result"
        }
      ],
      "source": [
        "vector1.resize(3,1)\n",
        "vector2.resize(3,1)\n",
        "vector1, vector2"
      ]
    },
    {
      "cell_type": "code",
      "execution_count": null,
      "metadata": {
        "id": "qr8TH18Jb2Cy",
        "outputId": "dd396ed3-a237-441b-ed75-79c10cdec8c6"
      },
      "outputs": [
        {
          "name": "stdout",
          "output_type": "stream",
          "text": [
            "shapes (3,1) and (3,1) not aligned: 1 (dim 1) != 3 (dim 0)\n"
          ]
        }
      ],
      "source": [
        "try:\n",
        "    vector1.dot(vector2)\n",
        "except ValueError:\n",
        "    print('shapes (3,1) and (3,1) not aligned: 1 (dim 1) != 3 (dim 0)')"
      ]
    },
    {
      "cell_type": "code",
      "execution_count": null,
      "metadata": {
        "id": "1AYc7AgAb2Cy",
        "outputId": "f90ca518-0d54-4b8b-f577-26211315f6d7"
      },
      "outputs": [
        {
          "data": {
            "text/plain": [
              "32"
            ]
          },
          "execution_count": 22,
          "metadata": {},
          "output_type": "execute_result"
        }
      ],
      "source": [
        "np.dot(vector1.T[0],vector2.T[0])#vector1.T[0], why [0]? because after tranposing the array is [[1,2,3]] so vecor1[0] is [1,2,3]"
      ]
    },
    {
      "cell_type": "code",
      "execution_count": null,
      "metadata": {
        "id": "oflLjSs6b2Cy",
        "outputId": "1d35a377-ee86-42a0-95e4-46a0d6de4074"
      },
      "outputs": [
        {
          "data": {
            "text/plain": [
              "32"
            ]
          },
          "execution_count": 24,
          "metadata": {},
          "output_type": "execute_result"
        }
      ],
      "source": [
        "#the above operation can be done also this way so that you do not have to use index\n",
        "vector1.flatten().dot(vector2.flatten())"
      ]
    },
    {
      "cell_type": "markdown",
      "metadata": {
        "id": "eDTtc0yWb2Cz"
      },
      "source": [
        "# Logic and comparisons"
      ]
    },
    {
      "cell_type": "markdown",
      "metadata": {
        "id": "-2snO3Dcb2Cz"
      },
      "source": [
        "1. np.all(array) : Determine whether all array elements of a evaluate to True.\n",
        "2. np.any(array) : Determine whether any array element of a evaluates to True.\n",
        "3. np.isreal(array) : Determine whether each element of array a is real.\n",
        "4. np.iscomplex(array) : Determine whether each element of array a is a complex number.\n",
        "5. np.isclose(a,b) : Return a boolean array of the comparison between arrays a and b for equality within some tolerance.\n",
        "6. np.allclose(a,b) : Return a True if all the elements in the arrays a and b are equal to within some tolerance."
      ]
    },
    {
      "cell_type": "code",
      "execution_count": null,
      "metadata": {
        "id": "BsrKfafRb2Cz",
        "outputId": "439e4415-db85-4a31-ce58-565144bc7867"
      },
      "outputs": [
        {
          "data": {
            "text/plain": [
              "(False, True)"
            ]
          },
          "execution_count": 30,
          "metadata": {},
          "output_type": "execute_result"
        }
      ],
      "source": [
        "array1 = np.array([1,0,3])\n",
        "np.all(array1), np.any(array1) #are all the elements True? answer: False, is any of the elements True? answer: True"
      ]
    },
    {
      "cell_type": "code",
      "execution_count": null,
      "metadata": {
        "id": "jEVhsjySb2Cz",
        "outputId": "ec6eba98-7948-4f64-f06d-fc9204bd070e"
      },
      "outputs": [
        {
          "data": {
            "text/plain": [
              "(False, False)"
            ]
          },
          "execution_count": 31,
          "metadata": {},
          "output_type": "execute_result"
        }
      ],
      "source": [
        "array1 = np.array([0,0,0])\n",
        "np.all(array1), np.any(array1) #are all the elements True? answer: False, is any of the elements True? answer: False"
      ]
    },
    {
      "cell_type": "code",
      "execution_count": null,
      "metadata": {
        "id": "-pk0xWpVb2Cz",
        "outputId": "f09842f3-32c1-4beb-ded7-555a99cbaa85"
      },
      "outputs": [
        {
          "data": {
            "text/plain": [
              "(True, True)"
            ]
          },
          "execution_count": 32,
          "metadata": {},
          "output_type": "execute_result"
        }
      ],
      "source": [
        "array1 = np.array([1,1,1])\n",
        "np.all(array1), np.any(array1) #are all the elements True? answer: True, is any of the elements True? answer: True"
      ]
    },
    {
      "cell_type": "code",
      "execution_count": null,
      "metadata": {
        "id": "v1Mz52Sbb2C0",
        "outputId": "17193c1f-06dc-493a-b9de-39ba01d8624c"
      },
      "outputs": [
        {
          "data": {
            "text/plain": [
              "(array([ True,  True, False]), array([False, False,  True]))"
            ]
          },
          "execution_count": 41,
          "metadata": {},
          "output_type": "execute_result"
        }
      ],
      "source": [
        "#np.isreal and np.iscomplex returns boolean arrays\n",
        "n = np.array([0,-0j,0+9j])\n",
        "np.isreal(n), np.iscomplex(n)"
      ]
    },
    {
      "cell_type": "markdown",
      "metadata": {
        "id": "yEqPrl-Hb2C0"
      },
      "source": [
        " the representation of floating point numbers is not exact, comparing two\n",
        "float or complex arrays with the == operator is not always reliable and is not recommended. Instead, the best we can do is see if two values are “close” to one another within\n",
        "some (typically small) absolute or relative tolerance – NumPy provides the function\n",
        "np.isclose(a, b) for elementwise comparisons of two arrays: it returns True for\n",
        "elements satisfying with absolute tolerance, atol and relative tolerance, rtol which are 10−8 and 10−5\n",
        "respecively by default but can be changed by setting the corresponding arguments.\n",
        "An additional argument, equal_nan, defaults to False, meaning that nan values in\n",
        "corresponding positions in the two arrays are treated as different; to treat such elements\n",
        "as equal, set equal_nan=True."
      ]
    },
    {
      "cell_type": "code",
      "execution_count": null,
      "metadata": {
        "id": "rCu8SubXb2C0",
        "outputId": "9f1849e6-e0fb-4114-de6a-2a34132c6e54"
      },
      "outputs": [
        {
          "data": {
            "text/plain": [
              "array([ True, False, False])"
            ]
          },
          "execution_count": 42,
          "metadata": {},
          "output_type": "execute_result"
        }
      ],
      "source": [
        "a = np.array([0.0000029999,1.001910,0.4494949])\n",
        "b = np.array([0.0000029989,1.000000,0.4493901])\n",
        "np.isclose(a,b)"
      ]
    },
    {
      "cell_type": "code",
      "execution_count": null,
      "metadata": {
        "id": "NRKnh2Pfb2C0",
        "outputId": "8fa2c20f-91cf-45f5-cd79-eb63ff20eba7"
      },
      "outputs": [
        {
          "data": {
            "text/plain": [
              "array([False])"
            ]
          },
          "execution_count": 46,
          "metadata": {},
          "output_type": "execute_result"
        }
      ],
      "source": [
        "np.isclose(np.array([np.nan]),np.array([np.nan]))"
      ]
    },
    {
      "cell_type": "code",
      "execution_count": null,
      "metadata": {
        "id": "V3bTtXP3b2C1",
        "outputId": "ea86e5cc-745d-40e1-867e-86b6776431c8"
      },
      "outputs": [
        {
          "data": {
            "text/plain": [
              "array([False, False,  True])"
            ]
          },
          "execution_count": 47,
          "metadata": {},
          "output_type": "execute_result"
        }
      ],
      "source": [
        "#An additional argument, equal_nan, defaults to False, meaning that nan values in\n",
        "#corresponding positions in the two arrays are treated as different; to treat such elements\n",
        "#as equal, set equal_nan=True.\n",
        "np.isclose(np.array([1.0001,0.000009,np.nan]),np.array([1.0000,0.0000089,np.nan]),equal_nan = True)"
      ]
    },
    {
      "cell_type": "markdown",
      "metadata": {
        "id": "O1d_lsLSb2C1"
      },
      "source": [
        "Note that small numbers compare as equal even though they may differ by many orders of magnitude – to correct this, set atol=0 to compare within relative tolerance only."
      ]
    },
    {
      "cell_type": "code",
      "execution_count": null,
      "metadata": {
        "id": "HSJPpIYzb2C1",
        "outputId": "2086f2e5-569e-4a99-b924-5ce0fbbda903"
      },
      "outputs": [
        {
          "data": {
            "text/plain": [
              "array([ True,  True,  True])"
            ]
          },
          "execution_count": 49,
          "metadata": {},
          "output_type": "execute_result"
        }
      ],
      "source": [
        "np.isclose(np.array([0.9e-19,0.1e-88,1.9e-19]),np.array([0.9e-18,0.1e-89,1.9e-20]))"
      ]
    },
    {
      "cell_type": "code",
      "execution_count": null,
      "metadata": {
        "id": "fiyf4ENub2C1",
        "outputId": "31b659d1-bf49-4958-aa2f-b2ce434a4963"
      },
      "outputs": [
        {
          "data": {
            "text/plain": [
              "array([False, False, False])"
            ]
          },
          "execution_count": 55,
          "metadata": {},
          "output_type": "execute_result"
        }
      ],
      "source": [
        "#after setting atol to 0\n",
        "np.isclose(np.array([0.9e-19,0.1e-88,1.9e-19]),np.array([0.9e-18,0.1e-89,1.9e-20]),atol = 0)"
      ]
    },
    {
      "cell_type": "markdown",
      "metadata": {
        "id": "Van1dQo7b2C1"
      },
      "source": [
        "allclose(a, b) returns a single value: True only if every element in a is\n",
        "equal to the corresponding element in b (within the tolerance defined by atol and\n",
        "rtol), and otherwise False."
      ]
    },
    {
      "cell_type": "code",
      "execution_count": null,
      "metadata": {
        "id": "HnFCz8-Tb2C2",
        "outputId": "03ba6b5c-cd87-4204-859c-592de2613202"
      },
      "outputs": [
        {
          "data": {
            "text/plain": [
              "True"
            ]
          },
          "execution_count": 57,
          "metadata": {},
          "output_type": "execute_result"
        }
      ],
      "source": [
        "np.allclose(np.array([0.9e-19,0.1e-88,1.9e-19]),np.array([0.9e-18,0.1e-89,1.9e-20]))"
      ]
    },
    {
      "cell_type": "code",
      "execution_count": null,
      "metadata": {
        "id": "0VexWEVHb2C2",
        "outputId": "0f179ccd-958e-43b9-bea6-9890bb68b0c5"
      },
      "outputs": [
        {
          "data": {
            "text/plain": [
              "False"
            ]
          },
          "execution_count": 63,
          "metadata": {},
          "output_type": "execute_result"
        }
      ],
      "source": [
        "np.allclose(np.array([0.9e-19,0.1e-88,1.9e-19]),np.array([0.9e-18,0.1e-89,1.9e-20]),atol = 0)"
      ]
    },
    {
      "cell_type": "code",
      "execution_count": null,
      "metadata": {
        "id": "dU0q_SBKb2C2",
        "outputId": "b53b801d-0deb-40d6-f0bf-a84e80fd7426"
      },
      "outputs": [
        {
          "data": {
            "text/plain": [
              "False"
            ]
          },
          "execution_count": 69,
          "metadata": {},
          "output_type": "execute_result"
        }
      ],
      "source": [
        "np.allclose(np.array([0.9,0.1e-88,1.9e-19]),np.array([0.9e-18,0.1e-89,1.9e-20]))"
      ]
    },
    {
      "cell_type": "code",
      "execution_count": null,
      "metadata": {
        "id": "t3gWoyRvb2C2",
        "outputId": "37a6a630-6c3e-4124-ec6a-b89bcb7fd511"
      },
      "outputs": [
        {
          "data": {
            "text/plain": [
              "False"
            ]
          },
          "execution_count": 70,
          "metadata": {},
          "output_type": "execute_result"
        }
      ],
      "source": [
        "np.allclose(np.array([0.9,0.1e-88,1.9e-19]),np.array([0.9e-18,0.1e-89,1.9e-20]),atol = 0)"
      ]
    },
    {
      "cell_type": "markdown",
      "metadata": {
        "id": "n9IqCqIBb2C2"
      },
      "source": [
        "# Reading and writing an array to a file"
      ]
    },
    {
      "cell_type": "markdown",
      "metadata": {
        "id": "OrGvjNu6b2C3"
      },
      "source": [
        "Scientific data are frequently read in from a text file, which may contain comments,\n",
        "missing values and blank lines. Columns of values may be either aligned in a fixedwidth format or separated by one or more delimiting characters (such as spaces, tabs or\n",
        "commas). Furthermore, there may be a descriptive header and even footnotes to the file,\n",
        "which make it hard to parse directly using Python’s string methods.\n",
        "NumPy provides several functions for reading data from a text file. The simpler\n",
        "np.loadtxt handles many common cases; the more sophisticated np.genfromtxt\n",
        "allows for better handling of missing values and footers. These are described in the\n",
        "following sections."
      ]
    },
    {
      "cell_type": "code",
      "execution_count": null,
      "metadata": {
        "id": "5NhMdQ8Ib2C3"
      },
      "outputs": [],
      "source": [
        "#np.save() and np.load()\n",
        "#There is a platform-independent binary format for saving a NumPy array\n",
        "n = np.linspace(0,100,100,endpoint = False).reshape(10,10)\n",
        "np.save('array.npy',n)"
      ]
    },
    {
      "cell_type": "code",
      "execution_count": null,
      "metadata": {
        "id": "JiQP5Md4b2C3"
      },
      "outputs": [],
      "source": [
        "#will save the array n to the binary file array.npy (the .npy extension is appended if it is not provided)\n",
        "#The array can then be reloaded using NumPy on any other operating system with\n",
        "array = np.load('array.npy') #the .npy extension must be provided"
      ]
    },
    {
      "cell_type": "code",
      "execution_count": null,
      "metadata": {
        "id": "GuYEUdLqb2C3",
        "outputId": "089276dd-abb6-4292-ed5a-4be9a3e568b5"
      },
      "outputs": [
        {
          "data": {
            "text/plain": [
              "array([[ 0.,  1.,  2.,  3.,  4.,  5.,  6.,  7.,  8.,  9.],\n",
              "       [10., 11., 12., 13., 14., 15., 16., 17., 18., 19.],\n",
              "       [20., 21., 22., 23., 24., 25., 26., 27., 28., 29.],\n",
              "       [30., 31., 32., 33., 34., 35., 36., 37., 38., 39.],\n",
              "       [40., 41., 42., 43., 44., 45., 46., 47., 48., 49.],\n",
              "       [50., 51., 52., 53., 54., 55., 56., 57., 58., 59.],\n",
              "       [60., 61., 62., 63., 64., 65., 66., 67., 68., 69.],\n",
              "       [70., 71., 72., 73., 74., 75., 76., 77., 78., 79.],\n",
              "       [80., 81., 82., 83., 84., 85., 86., 87., 88., 89.],\n",
              "       [90., 91., 92., 93., 94., 95., 96., 97., 98., 99.]])"
            ]
          },
          "execution_count": 4,
          "metadata": {},
          "output_type": "execute_result"
        }
      ],
      "source": [
        "array"
      ]
    },
    {
      "cell_type": "code",
      "execution_count": null,
      "metadata": {
        "id": "l-5pZX36b2C3"
      },
      "outputs": [],
      "source": [
        "#np.loadtxt()\n",
        "np.loadtxt?\n",
        "#it will return the documentation for np.loadtxt()"
      ]
    },
    {
      "cell_type": "code",
      "execution_count": null,
      "metadata": {
        "id": "ERyvuQnRb2C3"
      },
      "outputs": [],
      "source": [
        "column1, column2, column3 = np.loadtxt('array.txt',usecols = (0,1,3),unpack = True)"
      ]
    },
    {
      "cell_type": "code",
      "execution_count": null,
      "metadata": {
        "id": "qChShINSb2C4",
        "outputId": "fea8621c-9b5a-4701-9b9d-65c767733086"
      },
      "outputs": [
        {
          "data": {
            "text/plain": [
              "(array([0.1, 0.2, 0.3, 0.4, 0.5, 0.6, 0.7, 0.8, 0.9, 1. ]),\n",
              " array([0., 1., 2., 3., 4., 5., 6., 7., 8., 9.]),\n",
              " array([20., 21., 22., 23., 24., 25., 26., 27., 28., 29.]))"
            ]
          },
          "execution_count": 7,
          "metadata": {},
          "output_type": "execute_result"
        }
      ],
      "source": [
        "column1, column2, column3"
      ]
    },
    {
      "cell_type": "code",
      "execution_count": null,
      "metadata": {
        "id": "UcSdniT_b2C4"
      },
      "outputs": [],
      "source": [
        "#https://scipython.com/book/chapter-6-numpy/examples/using-numpys-loadtxt-method/\n",
        "#download or copy the .txt file from the above link then work on it\n",
        "array = np.loadtxt('arr.txt',dtype = [('Gender','S1'),('Height','f8')], skiprows = 9, usecols = (1,3))\n",
        "#set dtype (name of the dtype of column 1 is Gender and it's a string, another one is Height and it's a f8)\n",
        "#skiprows = 9 means first 9 rows are skipped\n",
        "#use columns 1 and 3"
      ]
    },
    {
      "cell_type": "code",
      "execution_count": null,
      "metadata": {
        "id": "vZDOAriBb2C4",
        "outputId": "bfc3f050-6c22-4f3e-ab8e-582ce60bd41e"
      },
      "outputs": [
        {
          "data": {
            "text/plain": [
              "array([(b'M', 1.82), (b'M', 1.77), (b'F', 1.68), (b'M', 1.72),\n",
              "       (b'F', 1.78), (b'F', 1.6 ), (b'M', 1.72), (b'M', 1.83),\n",
              "       (b'F', 1.56), (b'F', 1.64), (b'M', 1.63), (b'M', 1.67),\n",
              "       (b'M', 1.66), (b'F', 1.59), (b'F', 1.7 ), (b'M', 1.97),\n",
              "       (b'F', 1.66), (b'F', 1.63), (b'M', 1.69)],\n",
              "      dtype=[('Gender', 'S1'), ('Height', '<f8')])"
            ]
          },
          "execution_count": 9,
          "metadata": {},
          "output_type": "execute_result"
        }
      ],
      "source": [
        "array"
      ]
    },
    {
      "cell_type": "code",
      "execution_count": null,
      "metadata": {
        "id": "P9DN-6mFb2C5",
        "outputId": "6c06e58e-5238-47e4-c71c-109d68b7d067"
      },
      "outputs": [
        {
          "data": {
            "text/plain": [
              "array([ True,  True, False,  True, False, False,  True,  True, False,\n",
              "       False,  True,  True,  True, False, False,  True, False, False,\n",
              "        True])"
            ]
          },
          "execution_count": 10,
          "metadata": {},
          "output_type": "execute_result"
        }
      ],
      "source": [
        "array['Gender'] == b'M' #False if 'F' True if 'M'"
      ]
    },
    {
      "cell_type": "code",
      "execution_count": null,
      "metadata": {
        "id": "ujxWI3Bxb2C5",
        "outputId": "e275bf0d-dcff-492b-b232-111786b166fd"
      },
      "outputs": [
        {
          "data": {
            "text/plain": [
              "array([1.68, 1.78, 1.6 , 1.56, 1.64, 1.59, 1.7 , 1.66, 1.63])"
            ]
          },
          "execution_count": 11,
          "metadata": {},
          "output_type": "execute_result"
        }
      ],
      "source": [
        "#we want to print the heights of all 'F'\n",
        "female_heights = array[array['Gender']==b'F']['Height']\n",
        "female_heights"
      ]
    },
    {
      "cell_type": "code",
      "execution_count": null,
      "metadata": {
        "id": "9EBJw461b2C5",
        "outputId": "6c326607-f589-427e-d72d-9ddef80c81bb"
      },
      "outputs": [
        {
          "data": {
            "text/plain": [
              "array([1.82, 1.77, 1.72, 1.72, 1.83, 1.63, 1.67, 1.66, 1.97, 1.69])"
            ]
          },
          "execution_count": 12,
          "metadata": {},
          "output_type": "execute_result"
        }
      ],
      "source": [
        "#we want to print the heights of all 'M'\n",
        "male_heights = array[array['Gender']==b'M']['Height']\n",
        "male_heights"
      ]
    },
    {
      "cell_type": "code",
      "execution_count": null,
      "metadata": {
        "id": "8JhTSsDbb2C5",
        "outputId": "2468b956-b031-4cae-a3b2-8cf9ea1736de"
      },
      "outputs": [
        {
          "data": {
            "text/plain": [
              "1.6488888888888888"
            ]
          },
          "execution_count": 13,
          "metadata": {},
          "output_type": "execute_result"
        }
      ],
      "source": [
        "#print average heights for both 'M' and 'F'\n",
        "female_heights.mean()"
      ]
    },
    {
      "cell_type": "code",
      "execution_count": null,
      "metadata": {
        "id": "Lb_DdjeAb2C5",
        "outputId": "823dc312-47fb-4fe7-a7fb-46ff27b3d8ba"
      },
      "outputs": [
        {
          "data": {
            "text/plain": [
              "1.748"
            ]
          },
          "execution_count": 14,
          "metadata": {},
          "output_type": "execute_result"
        }
      ],
      "source": [
        "male_heights.mean()"
      ]
    },
    {
      "cell_type": "code",
      "execution_count": null,
      "metadata": {
        "id": "ilvYFEshb2C6",
        "outputId": "4dc0fece-a825-40fb-a93e-1cd58712c861"
      },
      "outputs": [
        {
          "name": "stdout",
          "output_type": "stream",
          "text": [
            "1.748 1.649\n",
            "1.748, 1.649\n"
          ]
        }
      ],
      "source": [
        "#rounding up the mean values upto 3 decimal points\n",
        "print(np.round(male_heights.mean(),3), np.round(female_heights.mean(),3))\n",
        "print(f'{male_heights.mean():.3f}, {female_heights.mean():.3f}')"
      ]
    },
    {
      "cell_type": "markdown",
      "metadata": {
        "id": "H8T_-nBAb2C6"
      },
      "source": [
        "To perform the same analysis on the student weights we have a bit more work to do because there are some missing values (denoted by ‘-’). We could use np.genfromtxt but let’s write a converter method instead. We’ll replace the missing values with the nicely unphysical value of −99. The function parse_weight expects a string argument and returns a float."
      ]
    },
    {
      "cell_type": "code",
      "execution_count": null,
      "metadata": {
        "id": "V0x4E8tAb2C6"
      },
      "outputs": [],
      "source": [
        "#This is the function we want to pass as a converter for column 4\n",
        "def parse_weight(n):\n",
        "    try:\n",
        "        return float(n)\n",
        "    except ValueError:\n",
        "        return -99"
      ]
    },
    {
      "cell_type": "code",
      "execution_count": null,
      "metadata": {
        "id": "lVitl6NEb2C6"
      },
      "outputs": [],
      "source": [
        "n = np.loadtxt('arr.txt',dtype = [('Gender','S1'),('Weight','f8')],skiprows = 9,usecols = (1,4),converters = {4:parse_weight})"
      ]
    },
    {
      "cell_type": "code",
      "execution_count": null,
      "metadata": {
        "id": "1t8zTwwrb2C6",
        "outputId": "218e1761-0be6-410f-bc91-c60c6720ba98"
      },
      "outputs": [
        {
          "data": {
            "text/plain": [
              "array([(b'M',  92.4), (b'M',  80.9), (b'F',  69.7), (b'M',  75.5),\n",
              "       (b'F',  82.1), (b'F', -99. ), (b'M',  77.2), (b'M',  88.9),\n",
              "       (b'F',  56.3), (b'F',  65. ), (b'M',  73. ), (b'M',  89.8),\n",
              "       (b'M',  75.1), (b'F',  67.3), (b'F', -99. ), (b'M',  89.2),\n",
              "       (b'F',  63.8), (b'F',  64.4), (b'M', -99. )],\n",
              "      dtype=[('Gender', 'S1'), ('Weight', '<f8')])"
            ]
          },
          "execution_count": 68,
          "metadata": {},
          "output_type": "execute_result"
        }
      ],
      "source": [
        "n"
      ]
    },
    {
      "cell_type": "code",
      "execution_count": null,
      "metadata": {
        "id": "R3zA9NB2b2C7",
        "outputId": "1fa04260-e6c7-4b30-bedb-b5758e74521f"
      },
      "outputs": [
        {
          "data": {
            "text/plain": [
              "array([ True,  True,  True,  True,  True, False,  True,  True,  True,\n",
              "        True,  True,  True,  True,  True, False,  True,  True,  True,\n",
              "       False])"
            ]
          },
          "execution_count": 94,
          "metadata": {},
          "output_type": "execute_result"
        }
      ],
      "source": [
        "valid_weight_pos = n['Weight']>0 #elements only True for valid data\n",
        "valid_weight_pos"
      ]
    },
    {
      "cell_type": "code",
      "execution_count": null,
      "metadata": {
        "id": "qz3_hyMBb2C7",
        "outputId": "126b7d16-9b06-4ada-870b-2beb3035acbc"
      },
      "outputs": [
        {
          "name": "stdout",
          "output_type": "stream",
          "text": [
            "[92.4 80.9 69.7 75.5 82.1 77.2 88.9 56.3 65.  73.  89.8 75.1 67.3 89.2\n",
            " 63.8 64.4]\n",
            "75.662\n"
          ]
        }
      ],
      "source": [
        "valid_weight = n[n['Weight']>0]['Weight'] #total average\n",
        "print(valid_weight)\n",
        "print(f'{valid_weight.mean():.3f}')"
      ]
    },
    {
      "cell_type": "code",
      "execution_count": null,
      "metadata": {
        "id": "_uFF_P-1b2C7",
        "outputId": "b80f03af-aa22-4347-c47f-42d3f41d73ac"
      },
      "outputs": [
        {
          "name": "stdout",
          "output_type": "stream",
          "text": [
            "[(b'M', 92.4) (b'M', 80.9) (b'F', 69.7) (b'M', 75.5) (b'F', 82.1)\n",
            " (b'M', 77.2) (b'M', 88.9) (b'F', 56.3) (b'F', 65. ) (b'M', 73. )\n",
            " (b'M', 89.8) (b'M', 75.1) (b'F', 67.3) (b'M', 89.2) (b'F', 63.8)\n",
            " (b'F', 64.4)]\n",
            "[92.4 80.9 75.5 77.2 88.9 73.  89.8 75.1 89.2]\n",
            "Male average is 82.444\n"
          ]
        }
      ],
      "source": [
        "valid_weight = n[n['Weight']>0]\n",
        "print(valid_weight)\n",
        "male_weight = valid_weight[valid_weight['Gender']==b'M']['Weight']\n",
        "print(male_weight)\n",
        "male_weight\n",
        "print(f'Male average is {male_weight.mean():.3f}')"
      ]
    },
    {
      "cell_type": "code",
      "execution_count": null,
      "metadata": {
        "id": "tBdA-fJ6b2C7",
        "outputId": "920ae3c2-dc28-44c8-9e69-4095a4a8d447"
      },
      "outputs": [
        {
          "name": "stdout",
          "output_type": "stream",
          "text": [
            "[69.7 82.1 56.3 65.  67.3 63.8 64.4]\n",
            "Female average is 66.943\n"
          ]
        }
      ],
      "source": [
        "female_weight = valid_weight[valid_weight['Gender']==b'F']['Weight']\n",
        "print(female_weight)\n",
        "female_weight\n",
        "print(f'Female average is {female_weight.mean():.3f}')"
      ]
    },
    {
      "cell_type": "markdown",
      "metadata": {
        "id": "tbxHZmjyb2C8"
      },
      "source": [
        "Finally, let’s read in the blood pressure data. Here we have a problem, because the\n",
        "systolic and diastolic pressures are not separated by whitespace but by a forward slash\n",
        "(/). One solution is to reformat each line to replace the slash with a space before it is\n",
        "fed to np.loadtxt. Recall that fname can be a generator instead of a filename or open\n",
        "file: we write a suitable generator function, reformat_lines, which takes an open file\n",
        "object and yields its lines to np.loadtxt, one by one, after the replacement. This is\n",
        "going to mess with the column numbering because it has the side effect of splitting up\n",
        "the birth dates into three columns, so in our reformatted lines the blood pressure values\n",
        "are now in the columns indexed at 7 and 8."
      ]
    },
    {
      "cell_type": "code",
      "execution_count": null,
      "metadata": {
        "id": "RPpwuUAOb2C8"
      },
      "outputs": [],
      "source": [
        "def parse_bp(n):\n",
        "    try:\n",
        "        return float(n)\n",
        "    except ValueError:\n",
        "        return -99\n",
        "def reformat_lines(n):\n",
        "    for line in n:\n",
        "        line = line.replace('/',' ')\n",
        "        yield line #https://stackoverflow.com/questions/231767/what-does-the-yield-keyword-do\n",
        "fname = 'arr.txt'\n",
        "with open(fname) as file:\n",
        "    gender, bps, bpd = np.loadtxt(reformat_lines(file),dtype = [('Gender','S1'),('bps','f8'),('bpd','f8')],\n",
        "                                  skiprows = 9,usecols = (1,7,8),converters={7:parse_bp,8:parse_bp},unpack=True)"
      ]
    },
    {
      "cell_type": "code",
      "execution_count": null,
      "metadata": {
        "id": "ynHXYzX9b2C8",
        "outputId": "dc8f185d-4623-470c-a665-373e42c8d81b"
      },
      "outputs": [
        {
          "data": {
            "text/plain": [
              "array([b'M', b'M', b'F', b'M', b'F', b'F', b'M', b'M', b'F', b'F', b'M',\n",
              "       b'M', b'M', b'F', b'F', b'M', b'F', b'F', b'M'], dtype='|S1')"
            ]
          },
          "execution_count": 141,
          "metadata": {},
          "output_type": "execute_result"
        }
      ],
      "source": [
        "gender"
      ]
    },
    {
      "cell_type": "code",
      "execution_count": null,
      "metadata": {
        "id": "Ym6oICzHb2C8",
        "outputId": "da51a834-9f2c-43a6-f272-97a9f2d4e0cb"
      },
      "outputs": [
        {
          "data": {
            "text/plain": [
              "array([119., 114., 124., 110., 115., -99.,  97., 105., 108.,  99., 131.,\n",
              "       101., -99., 103., 119., 124., 100., -99., 121.])"
            ]
          },
          "execution_count": 142,
          "metadata": {},
          "output_type": "execute_result"
        }
      ],
      "source": [
        "bps"
      ]
    },
    {
      "cell_type": "code",
      "execution_count": null,
      "metadata": {
        "id": "Y-lgl7xAb2C9",
        "outputId": "3c2572fc-375c-48bc-881e-6c3329b4e773"
      },
      "outputs": [
        {
          "data": {
            "text/plain": [
              "array([ 76.,  73.,  79.,  60.,  75., -99.,  63.,  70.,  72.,  67.,  84.,\n",
              "        76., -99.,  69.,  80.,  82.,  78., -99.,  82.])"
            ]
          },
          "execution_count": 143,
          "metadata": {},
          "output_type": "execute_result"
        }
      ],
      "source": [
        "bpd"
      ]
    },
    {
      "cell_type": "markdown",
      "metadata": {
        "id": "lN5MTlkpb2C9"
      },
      "source": [
        "NumPy’s genfromtxt function is similar to np.loadtxt but has a few more options\n",
        "and is able to cope with missing data.\n",
        "The following arguments to this function are the same as for np.loadtxt: fname\n",
        "(the only required argument), dtype, comments, converters, usecols and unpack."
      ]
    },
    {
      "cell_type": "markdown",
      "metadata": {
        "id": "UDHpnh4-b2C9"
      },
      "source": [
        "Instead of np.loadtxt’s skiprows, the np.genfromtxt function has two optional\n",
        "arguments, skip_header and skip_footer, giving the number of lines to skip at the\n",
        "beginning and the end of the file, respectively."
      ]
    },
    {
      "cell_type": "markdown",
      "metadata": {
        "id": "HDo-usU6b2C9"
      },
      "source": [
        "The delimiter argument works the same as for np.loadtxt but can also be provided\n",
        "as a sequence of integers giving the widths of each field to be read in where the data\n",
        "does not have delimiters. For example, suppose the following text file, data.txt, is to\n",
        "be interpreted as consisting of four columns with widths 2, 1, 9 and 3 characters."
      ]
    },
    {
      "cell_type": "markdown",
      "metadata": {
        "id": "QXzeOAatb2C9"
      },
      "source": [
        "so that the first row is to be split: ’ 1’, ’2’, ’ 100.231’, ’.03’. There is no\n",
        "delimiter character, so this isn’t possible with np.loadtxt, but with np.genfromtxt."
      ]
    },
    {
      "cell_type": "code",
      "execution_count": null,
      "metadata": {
        "id": "C2WUhHg-b2C-",
        "outputId": "b059fbcf-625f-46cf-9cff-ea31ad569ba4"
      },
      "outputs": [
        {
          "data": {
            "text/plain": [
              "array([(12, -1, nan,  3.), (11, -1, nan,  4.), (11, -1, nan, nan)],\n",
              "      dtype=[('f0', '<i4'), ('f1', '<i4'), ('f2', '<f8'), ('f3', '<f8')])"
            ]
          },
          "execution_count": 167,
          "metadata": {},
          "output_type": "execute_result"
        }
      ],
      "source": [
        "np.genfromtxt('data.txt',delimiter = [2,1,9,3],dtype = 'i4, i4, f8, f8')"
      ]
    },
    {
      "cell_type": "code",
      "execution_count": null,
      "metadata": {
        "id": "tv1_fd6ob2C-",
        "outputId": "434178b2-f70a-4575-d93c-7c1a6621642d"
      },
      "outputs": [
        {
          "data": {
            "text/plain": [
              "array([(12, 10, 0. , 231.  ), (11, 12, 1. ,   0.84),\n",
              "       (11, 99, 0.3,  24.  )],\n",
              "      dtype=[('f0', '<i4'), ('f1', '<i4'), ('f2', '<f8'), ('f3', '<f8')])"
            ]
          },
          "execution_count": 175,
          "metadata": {},
          "output_type": "execute_result"
        }
      ],
      "source": [
        "np.genfromtxt('data.txt',delimiter = [2,3,2,3],dtype = 'i4, i4, f8, f8')"
      ]
    },
    {
      "cell_type": "markdown",
      "metadata": {
        "id": "Wk0QbXoPb2C-"
      },
      "source": [
        "If a data set is incomplete, np.loadtxt will be unable to parse the fields with missing\n",
        "data into valid values for the array and will raise an exception. np.genfromtxt,\n",
        "however, sets missing or invalid entries equal to the default values given in\n",
        "Table 6.5.\n",
        "For example, the comma-separated file here has two ways of indicating missing data:\n",
        "empty fields and entries with ‘???’."
      ]
    },
    {
      "cell_type": "markdown",
      "metadata": {
        "id": "SaeRcSvJb2C-"
      },
      "source": [
        "Default filling values for missing data used by genfromtxt:"
      ]
    },
    {
      "cell_type": "markdown",
      "metadata": {
        "id": "DJxj9dqSb2C-"
      },
      "source": [
        "for int (-1),\n",
        "for float (np.nan),\n",
        "for bool (False),\n",
        "for complex (np.nan+0.j)."
      ]
    },
    {
      "cell_type": "markdown",
      "metadata": {
        "id": "wdmZOZUXb2C_"
      },
      "source": [
        "using this text:"
      ]
    },
    {
      "cell_type": "raw",
      "metadata": {
        "id": "BZU0sne8b2C_"
      },
      "source": [
        "10.1,4,-0.1,2\n",
        "10.2,4,,0\n",
        "10.3,???,,4\n",
        "10.4,2,0.,\n",
        "10.5,-1,???,3"
      ]
    },
    {
      "cell_type": "code",
      "execution_count": null,
      "metadata": {
        "id": "9MM_KVQNb2C_",
        "outputId": "94777dbe-aa4c-423d-f992-4bf74e086a45"
      },
      "outputs": [
        {
          "data": {
            "text/plain": [
              "array([(10.1,  4, -0.1,  2), (10.2,  4,  nan,  0), (10.3, -1,  nan,  4),\n",
              "       (10.4,  2,  0. , -1), (10.5, -1,  nan,  3)],\n",
              "      dtype=[('f0', '<f8'), ('f1', '<i4'), ('f2', '<f8'), ('f3', '<i4')])"
            ]
          },
          "execution_count": 211,
          "metadata": {},
          "output_type": "execute_result"
        }
      ],
      "source": [
        "data = np.genfromtxt('data.txt',dtype = 'f8, i4, f8, i4',delimiter = ',')\n",
        "data"
      ]
    },
    {
      "cell_type": "markdown",
      "metadata": {
        "id": "dKrRoj2db2C_"
      },
      "source": [
        "The missing_values and filling_values arguments allow closer control\n",
        "over which default values to use for which columns. If missing_values is given\n",
        "as a sequence of strings, each string is associated with a column in the data file,\n",
        "in order; if given as a dictionary of string values, the keys denote either column\n",
        "indexes (if they are integers) or column names (if they are strings). The corresponding\n",
        "argument, filling_values, maps these column indexes or names to default values.\n",
        "If filling_values is provided as a single value, this value is used for missing data\n",
        "in all columns.\n",
        "For example, to replace the invalid values in column 1 (indicated by ’???’) with\n",
        "999, the missing or invalid values in column 2 (also indicated by ’???’) with −99 and\n",
        "the missing values in column 3 with 0."
      ]
    },
    {
      "cell_type": "code",
      "execution_count": null,
      "metadata": {
        "id": "WoxbJCzeb2C_",
        "outputId": "7570cce4-b1ac-441d-e1a0-de6fdb4f696a"
      },
      "outputs": [
        {
          "data": {
            "text/plain": [
              "array([(10.1,   4,  -0.1, 2), (10.2,   4, -99. , 0),\n",
              "       (10.3, 999, -99. , 4), (10.4,   2,   0. , 0),\n",
              "       (10.5,  -1, -99. , 3)],\n",
              "      dtype=[('f0', '<f8'), ('f1', '<i4'), ('f2', '<f8'), ('f3', '<i4')])"
            ]
          },
          "execution_count": 212,
          "metadata": {},
          "output_type": "execute_result"
        }
      ],
      "source": [
        "data = np.genfromtxt('data.txt',dtype = 'f8, i4, f8, i4',delimiter = ',',missing_values = {1:'???',2:'???',3:'???'},\n",
        "             filling_values = {1:999,2:-99,3:0})\n",
        "data"
      ]
    },
    {
      "cell_type": "code",
      "execution_count": null,
      "metadata": {
        "id": "Q2s6kHlVb2DA",
        "outputId": "1ee5e33c-eadd-4097-fb97-b4303e7ecaa4"
      },
      "outputs": [
        {
          "data": {
            "text/plain": [
              "array([ True, False, False, False, False])"
            ]
          },
          "execution_count": 213,
          "metadata": {},
          "output_type": "execute_result"
        }
      ],
      "source": [
        "_ == __"
      ]
    },
    {
      "cell_type": "markdown",
      "metadata": {
        "id": "As0AH5Mdb2DA"
      },
      "source": [
        "Note in particular how the missing entry in the second column has been replaced by\n",
        "999 instead of the default -1 – this would be particularly important if -1 is a valid value\n",
        "for this column (however, it is now up to the rest of your code to recognize and know\n",
        "what to do with values such as 999."
      ]
    },
    {
      "cell_type": "markdown",
      "metadata": {
        "id": "NvPed9iUb2DA"
      },
      "source": [
        "The argument names provides a way of setting names for the columns of data read in. If\n",
        "it is the boolean value True, the names are read from the first valid line after the number\n",
        "of lines skipped over specified by the skip_header argument; if names is a commaseparated string of names or a sequence of strings, those strings will be used as names.\n",
        "By default, names is None and the field names are taken from the dtype, if given."
      ]
    },
    {
      "cell_type": "code",
      "execution_count": null,
      "metadata": {
        "id": "EiwfwFR3b2DA",
        "outputId": "4fed5b00-5210-4a9b-bf66-a84c1782a2e3"
      },
      "outputs": [
        {
          "data": {
            "text/plain": [
              "('f0', 'f1', 'f2', 'f3')"
            ]
          },
          "execution_count": 216,
          "metadata": {},
          "output_type": "execute_result"
        }
      ],
      "source": [
        "data.dtype.names"
      ]
    },
    {
      "cell_type": "code",
      "execution_count": null,
      "metadata": {
        "id": "PkGavHIpb2DA",
        "outputId": "ba06f068-3530-41ce-c5ab-b03cb86c45f7"
      },
      "outputs": [
        {
          "data": {
            "text/plain": [
              "dtype([('f0', '<f8'), ('f1', '<i4'), ('f2', '<f8'), ('f3', '<i4')])"
            ]
          },
          "execution_count": 217,
          "metadata": {},
          "output_type": "execute_result"
        }
      ],
      "source": [
        "data.dtype"
      ]
    },
    {
      "cell_type": "code",
      "execution_count": null,
      "metadata": {
        "id": "iLrZF--Lb2DB"
      },
      "outputs": [],
      "source": [
        "data.dtype = [('Column A','f8'),('Column B','i4'),('Column C','f8'),('Column D','i4')]"
      ]
    },
    {
      "cell_type": "code",
      "execution_count": null,
      "metadata": {
        "id": "-p3tNFuGb2DB",
        "outputId": "b35cebd7-77dd-4185-ce67-9000a27b2b13"
      },
      "outputs": [
        {
          "data": {
            "text/plain": [
              "dtype([('Column A', '<f8'), ('Column B', '<i4'), ('Column C', '<f8'), ('Column D', '<i4')])"
            ]
          },
          "execution_count": 219,
          "metadata": {},
          "output_type": "execute_result"
        }
      ],
      "source": [
        "data.dtype"
      ]
    },
    {
      "cell_type": "code",
      "execution_count": null,
      "metadata": {
        "id": "5aDzsHJHb2DB",
        "outputId": "19a0ea44-ea88-4cdc-84f6-d234095a8794"
      },
      "outputs": [
        {
          "data": {
            "text/plain": [
              "array([(10.1,   4,  -0.1, 2), (10.2,   4, -99. , 0),\n",
              "       (10.3, 999, -99. , 4), (10.4,   2,   0. , 0),\n",
              "       (10.5,  -1, -99. , 3)],\n",
              "      dtype=[('Column A', '<f8'), ('Column B', '<i4'), ('Column C', '<f8'), ('Column D', '<i4')])"
            ]
          },
          "execution_count": 225,
          "metadata": {},
          "output_type": "execute_result"
        }
      ],
      "source": [
        "data"
      ]
    },
    {
      "cell_type": "code",
      "execution_count": null,
      "metadata": {
        "id": "Y1z_Gn1pb2DC"
      },
      "outputs": [],
      "source": [
        "data = np.genfromtxt('data.txt',delimiter = ',',names = True)"
      ]
    },
    {
      "cell_type": "code",
      "execution_count": null,
      "metadata": {
        "id": "zo7jpqcBb2DC",
        "outputId": "f739d8b0-0c13-45e1-d6dd-7da04b0eb04d"
      },
      "outputs": [
        {
          "data": {
            "text/plain": [
              "array([(10.2,  4., nan,  0.), (10.3, nan, nan,  4.),\n",
              "       (10.4,  2.,  0., nan), (10.5, -1., nan,  3.)],\n",
              "      dtype=[('101', '<f8'), ('4', '<f8'), ('01', '<f8'), ('2', '<f8')])"
            ]
          },
          "execution_count": 232,
          "metadata": {},
          "output_type": "execute_result"
        }
      ],
      "source": [
        "data #find out what happened here!"
      ]
    },
    {
      "cell_type": "markdown",
      "metadata": {
        "id": "0MBhYE7Rb2DD"
      },
      "source": [
        "# Statistical methods"
      ]
    },
    {
      "cell_type": "markdown",
      "metadata": {
        "id": "NaISBPPtb2DD"
      },
      "source": [
        "NumPy provides several methods for performing statistical analysis, either on an entire\n",
        "array or an axis of it."
      ]
    },
    {
      "cell_type": "markdown",
      "metadata": {
        "id": "YLyP75ZJb2DD"
      },
      "source": [
        "We have already used np.min and np.max to find the minimum and maximum values\n",
        "of an array (these methods are also available using the names np.amin and np.amax).\n",
        "If the array contains one or more NaN values, the corresponding minimum or maximum\n",
        "value will be np.nan. To ignore NaN values instead, use np.nanmin and np.nanmax."
      ]
    },
    {
      "cell_type": "code",
      "execution_count": null,
      "metadata": {
        "id": "xGVTkjLib2DE",
        "outputId": "7fbd8cdb-0e6f-4b0c-a4f7-46ca4b659eb0"
      },
      "outputs": [
        {
          "name": "stderr",
          "output_type": "stream",
          "text": [
            "<ipython-input-4-66496a893199>:1: RuntimeWarning: invalid value encountered in sqrt\n",
            "  n = np.sqrt(np.linspace(-2,2,5))\n"
          ]
        },
        {
          "data": {
            "text/plain": [
              "array([       nan,        nan, 0.        , 1.        , 1.41421356])"
            ]
          },
          "execution_count": 4,
          "metadata": {},
          "output_type": "execute_result"
        }
      ],
      "source": [
        "n = np.sqrt(np.linspace(-2,2,5))\n",
        "n"
      ]
    },
    {
      "cell_type": "code",
      "execution_count": null,
      "metadata": {
        "id": "P2g64Ewcb2DE",
        "outputId": "c854b7e7-5fb4-4682-a402-fec8e62e9159"
      },
      "outputs": [
        {
          "data": {
            "text/plain": [
              "(nan, nan)"
            ]
          },
          "execution_count": 8,
          "metadata": {},
          "output_type": "execute_result"
        }
      ],
      "source": [
        "np.min(n), np.max(n)"
      ]
    },
    {
      "cell_type": "code",
      "execution_count": null,
      "metadata": {
        "id": "EHpMTDySb2DE",
        "outputId": "afdcf1eb-ad49-48fa-9a4c-7a3997aa9da8"
      },
      "outputs": [
        {
          "data": {
            "text/plain": [
              "(0.0, 1.4142135623730951)"
            ]
          },
          "execution_count": 9,
          "metadata": {},
          "output_type": "execute_result"
        }
      ],
      "source": [
        "np.nanmin(n), np.nanmax(n)"
      ]
    },
    {
      "cell_type": "code",
      "execution_count": null,
      "metadata": {
        "id": "1Mg0sfyvb2DF",
        "outputId": "63b55993-4d3e-49d1-b702-cca34d36032e"
      },
      "outputs": [
        {
          "data": {
            "text/plain": [
              "(True, True)"
            ]
          },
          "execution_count": 11,
          "metadata": {},
          "output_type": "execute_result"
        }
      ],
      "source": [
        "np.max == np.amax, np.min == np.amin"
      ]
    },
    {
      "cell_type": "markdown",
      "metadata": {
        "id": "7lCQAAN9b2DF"
      },
      "source": [
        "We have also met the functions np.argmin and np.argmax, which return the index\n",
        "of the minimum and maximum values in an array; they too have np.nanargmin and\n",
        "np.nanargmax variants."
      ]
    },
    {
      "cell_type": "code",
      "execution_count": null,
      "metadata": {
        "id": "GdDA1B4zb2DF",
        "outputId": "6b5dacb5-1ea4-4607-f605-07e6b5c1f4f1"
      },
      "outputs": [
        {
          "data": {
            "text/plain": [
              "(0, 0)"
            ]
          },
          "execution_count": 14,
          "metadata": {},
          "output_type": "execute_result"
        }
      ],
      "source": [
        "np.argmin(n), np.argmax(n) #first nan in the array"
      ]
    },
    {
      "cell_type": "code",
      "execution_count": null,
      "metadata": {
        "id": "KK6Civv0b2DF",
        "outputId": "5d4e03ce-0fb2-4fb8-8783-ddf8c0d75729"
      },
      "outputs": [
        {
          "data": {
            "text/plain": [
              "(2, 4)"
            ]
          },
          "execution_count": 16,
          "metadata": {},
          "output_type": "execute_result"
        }
      ],
      "source": [
        "np.nanargmin(n), np.nanargmax(n) #indexes of minimum and maximum values excluding the nan"
      ]
    },
    {
      "cell_type": "markdown",
      "metadata": {
        "id": "-sNa8YX7b2DG"
      },
      "source": [
        "The related methods, np.fmin / np.fmax and np.minimum / np.maximum, compare two arrays, element by element and return another array of the same shape. The\n",
        "first pair of methods ignores NaN values and the second pair propagates them into the\n",
        "output array."
      ]
    },
    {
      "cell_type": "code",
      "execution_count": null,
      "metadata": {
        "id": "Ie4GunMDb2DG"
      },
      "outputs": [],
      "source": [
        "array1 = np.array([1.,np.nan,0.1,-2.8,np.nan])\n",
        "array2 = np.array([0,1,1.1,np.nan,0.3])"
      ]
    },
    {
      "cell_type": "code",
      "execution_count": null,
      "metadata": {
        "id": "uuTjNIekb2DG",
        "outputId": "2f51a699-dc5b-4625-98dc-2422572bf374"
      },
      "outputs": [
        {
          "data": {
            "text/plain": [
              "(array([ 0. ,  1. ,  0.1, -2.8,  0.3]), array([ 1. ,  1. ,  1.1, -2.8,  0.3]))"
            ]
          },
          "execution_count": 20,
          "metadata": {},
          "output_type": "execute_result"
        }
      ],
      "source": [
        "np.fmin(array1, array2), np.fmax(array1, array2) #nans ignored"
      ]
    },
    {
      "cell_type": "code",
      "execution_count": null,
      "metadata": {
        "id": "tKea0Jn-b2DH",
        "outputId": "c57f00d3-cc94-4e59-bbbd-f6a26dd1517b"
      },
      "outputs": [
        {
          "data": {
            "text/plain": [
              "(array([0. , nan, 0.1, nan, nan]), array([1. , nan, 1.1, nan, nan]))"
            ]
          },
          "execution_count": 22,
          "metadata": {},
          "output_type": "execute_result"
        }
      ],
      "source": [
        "np.minimum(array1, array2), np.maximum(array1, array2) #nans are propagated"
      ]
    },
    {
      "cell_type": "markdown",
      "metadata": {
        "id": "_TKEBjr-b2DH"
      },
      "source": [
        "The np.percentile method returns a specified percentile, q, of the data along an axis\n",
        "(or along a flattened version of the array if no axis is given). The minimum of an array is\n",
        "the value at q=0 (0th percentile), the maximum is the value at q=100 (100th percentile)\n",
        "and the median is the value at q=50 (50th percentile). Where no single value in the array\n",
        "corresponds to the requested value of q exactly, a weighted average of the two nearest\n",
        "values is used."
      ]
    },
    {
      "cell_type": "code",
      "execution_count": null,
      "metadata": {
        "id": "cYaaJ_MUb2DH",
        "outputId": "c8ce0c78-c68d-41bd-fdaf-13e2a2f3acf6"
      },
      "outputs": [
        {
          "data": {
            "text/plain": [
              "(0.1, 0.91, 91.1)"
            ]
          },
          "execution_count": 29,
          "metadata": {},
          "output_type": "execute_result"
        }
      ],
      "source": [
        "n = np.array([9.81,0.2,0.1,1.1,0.9,0.91,91.10])\n",
        "np.percentile(n,0), np.percentile(n,50), np.percentile(n,100)"
      ]
    },
    {
      "cell_type": "code",
      "execution_count": null,
      "metadata": {
        "id": "eFGNf4npb2DH"
      },
      "outputs": [],
      "source": [
        "n = np.linspace(0,100,100,endpoint = False).reshape(10,10)"
      ]
    },
    {
      "cell_type": "code",
      "execution_count": null,
      "metadata": {
        "id": "xPVN_1_hb2DI",
        "outputId": "1fe583b7-9e72-4abe-95bf-503a75daea7d"
      },
      "outputs": [
        {
          "data": {
            "text/plain": [
              "array([[ 0.,  1.,  2.,  3.,  4.,  5.,  6.,  7.,  8.,  9.],\n",
              "       [10., 11., 12., 13., 14., 15., 16., 17., 18., 19.],\n",
              "       [20., 21., 22., 23., 24., 25., 26., 27., 28., 29.],\n",
              "       [30., 31., 32., 33., 34., 35., 36., 37., 38., 39.],\n",
              "       [40., 41., 42., 43., 44., 45., 46., 47., 48., 49.],\n",
              "       [50., 51., 52., 53., 54., 55., 56., 57., 58., 59.],\n",
              "       [60., 61., 62., 63., 64., 65., 66., 67., 68., 69.],\n",
              "       [70., 71., 72., 73., 74., 75., 76., 77., 78., 79.],\n",
              "       [80., 81., 82., 83., 84., 85., 86., 87., 88., 89.],\n",
              "       [90., 91., 92., 93., 94., 95., 96., 97., 98., 99.]])"
            ]
          },
          "execution_count": 37,
          "metadata": {},
          "output_type": "execute_result"
        }
      ],
      "source": [
        "n"
      ]
    },
    {
      "cell_type": "code",
      "execution_count": null,
      "metadata": {
        "id": "KYYvd2pMb2DI",
        "outputId": "009e850e-bd20-4db8-8348-4695af62cf2b"
      },
      "outputs": [
        {
          "data": {
            "text/plain": [
              "(array([ 0., 10., 20., 30., 40., 50., 60., 70., 80., 90.]),\n",
              " array([ 4.5, 14.5, 24.5, 34.5, 44.5, 54.5, 64.5, 74.5, 84.5, 94.5]),\n",
              " array([ 9., 19., 29., 39., 49., 59., 69., 79., 89., 99.]))"
            ]
          },
          "execution_count": 41,
          "metadata": {},
          "output_type": "execute_result"
        }
      ],
      "source": [
        "np.percentile(n,0, axis = 1), np.percentile(n,50, axis = 1), np.percentile(n,100, axis = 1)"
      ]
    },
    {
      "cell_type": "markdown",
      "metadata": {
        "id": "oNSrXh5Ub2DI"
      },
      "source": [
        "# Averages, variances and correlations"
      ]
    },
    {
      "cell_type": "markdown",
      "metadata": {
        "id": "cNgy8F_Rb2DI"
      },
      "source": [
        "In addition to np.mean, which calculates the arithmetic mean of the values along\n",
        "a specified axis of an array, NumPy provides methods for calculating the weighted\n",
        "average, median, standard deviation and variance."
      ]
    },
    {
      "cell_type": "code",
      "execution_count": null,
      "metadata": {
        "id": "HNdp-EuOb2DJ",
        "outputId": "f2b6019b-9d45-4bdf-80ca-b005183218fe"
      },
      "outputs": [
        {
          "data": {
            "text/plain": [
              "5.833333333333333"
            ]
          },
          "execution_count": 2,
          "metadata": {},
          "output_type": "execute_result"
        }
      ],
      "source": [
        "n = np.array([3,5,7,1,9,10])\n",
        "np.mean(n)"
      ]
    },
    {
      "cell_type": "code",
      "execution_count": null,
      "metadata": {
        "id": "qxxEds1vb2DJ",
        "outputId": "84e3f741-c7aa-44a4-b307-7137b50d56aa"
      },
      "outputs": [
        {
          "data": {
            "text/plain": [
              "(6.0, 6.0)"
            ]
          },
          "execution_count": 3,
          "metadata": {},
          "output_type": "execute_result"
        }
      ],
      "source": [
        "np.median(n), np.percentile(n,50) #np.array([1,3,5,7,9,10]) after sorting the array then 5+7=12/2=6"
      ]
    },
    {
      "cell_type": "code",
      "execution_count": null,
      "metadata": {
        "id": "CRAwFT0nb2DJ",
        "outputId": "a581dd15-3bec-4278-c923-86e2be49508d"
      },
      "outputs": [
        {
          "data": {
            "text/plain": [
              "6.5"
            ]
          },
          "execution_count": 4,
          "metadata": {},
          "output_type": "execute_result"
        }
      ],
      "source": [
        "np.average(n, weights = [0,1,1,0.5,1.5,0])"
      ]
    },
    {
      "cell_type": "markdown",
      "metadata": {
        "id": "GtLo0Epfb2DJ"
      },
      "source": [
        "If you want the sum of the weights as well as the weighted average, set the returned\n",
        "argument to True."
      ]
    },
    {
      "cell_type": "code",
      "execution_count": null,
      "metadata": {
        "id": "o7IrpxH3b2DK",
        "outputId": "9c407c9c-3625-476f-e753-543010b435bb"
      },
      "outputs": [
        {
          "name": "stdout",
          "output_type": "stream",
          "text": [
            "weighted average is 6.5 and sum of weights is 4.0\n"
          ]
        },
        {
          "data": {
            "text/plain": [
              "6.5"
            ]
          },
          "execution_count": 5,
          "metadata": {},
          "output_type": "execute_result"
        }
      ],
      "source": [
        "weighted_average, sum_of_weights = np.average(n, weights = [0,1,1,0.5,1.5,0], returned = True)\n",
        "print(f'weighted average is {weighted_average} and sum of weights is {sum_of_weights}')\n",
        "#check if the weighted is correct\n",
        "np.sum(n*np.array([0,1,1,0.5,1.5,0]))/sum_of_weights"
      ]
    },
    {
      "cell_type": "code",
      "execution_count": null,
      "metadata": {
        "id": "f_cDZ6I5b2DK",
        "outputId": "0b9cc0bf-21d9-4ea2-9ac7-572bb1dce4d8"
      },
      "outputs": [
        {
          "data": {
            "text/plain": [
              "array([[ 0.,  1.,  2.,  3.,  4.,  5.,  6.,  7.,  8.],\n",
              "       [ 9., 10., 11., 12., 13., 14., 15., 16., 17.],\n",
              "       [18., 19., 20., 21., 22., 23., 24., 25., 26.],\n",
              "       [27., 28., 29., 30., 31., 32., 33., 34., 35.]])"
            ]
          },
          "execution_count": 6,
          "metadata": {},
          "output_type": "execute_result"
        }
      ],
      "source": [
        "n = np.linspace(0,36,36,endpoint = False).reshape(4,9)\n",
        "n"
      ]
    },
    {
      "cell_type": "code",
      "execution_count": null,
      "metadata": {
        "id": "aY7efdCAb2DL",
        "outputId": "1dd8aefe-56e9-43fd-e4db-e9a7e1232e23"
      },
      "outputs": [
        {
          "data": {
            "text/plain": [
              "(array([ 2.93333333, 11.93333333, 20.93333333, 29.93333333]),\n",
              " array([7.5, 7.5, 7.5, 7.5]))"
            ]
          },
          "execution_count": 16,
          "metadata": {},
          "output_type": "execute_result"
        }
      ],
      "source": [
        "weighted_average, sum_of_weights = np.average(n, weights = [1,2,1,1,0.5,0,1,1,0], axis = 1, returned = True)\n",
        "weighted_average, sum_of_weights #think how you can broadcast the weights and then calculate the average"
      ]
    },
    {
      "cell_type": "code",
      "execution_count": null,
      "metadata": {
        "id": "u_cYtwZQb2DM",
        "outputId": "120e2008-ef91-4a8c-dcb7-d6ca8095e482"
      },
      "outputs": [
        {
          "data": {
            "text/plain": [
              "array([ 2.93333333, 11.93333333, 20.93333333, 29.93333333])"
            ]
          },
          "execution_count": 17,
          "metadata": {},
          "output_type": "execute_result"
        }
      ],
      "source": [
        "count = 0\n",
        "weighted_average = np.array([])\n",
        "for i in range(4):\n",
        "    weighted_average = np.append(weighted_average,np.sum(n[count]*np.array([1,2,1,1,0.5,0,1,1,0]))/sum_of_weights[0])\n",
        "    count += 1\n",
        "weighted_average"
      ]
    },
    {
      "cell_type": "code",
      "execution_count": null,
      "metadata": {
        "id": "lgkPYgFVb2DM",
        "outputId": "e5b81928-d8d8-4458-cf6f-565e7fe07763"
      },
      "outputs": [
        {
          "name": "stdout",
          "output_type": "stream",
          "text": [
            "28.86607004772212\n",
            "0.0\n"
          ]
        }
      ],
      "source": [
        "n = np.linspace(0,100,100,endpoint = False).reshape(10,10)\n",
        "print(np.std(n)) #standard deviation of n\n",
        "n = np.ones(100).reshape(10,10)\n",
        "print(np.std(n))"
      ]
    },
    {
      "cell_type": "code",
      "execution_count": null,
      "metadata": {
        "id": "7Lwpp2qhb2DM",
        "outputId": "a70ba69b-60c3-4e6b-9268-09ac9607db5a"
      },
      "outputs": [
        {
          "data": {
            "text/plain": [
              "array([[ 0.,  1.,  2.,  3.,  4.,  5.,  6.,  7.,  8.],\n",
              "       [ 9., 10., 11., 12., 13., 14., 15., 16., 17.],\n",
              "       [18., 19., 20., 21., 22., 23., 24., 25., 26.],\n",
              "       [27., 28., 29., 30., 31., 32., 33., 34., 35.],\n",
              "       [36., 37., 38., 39., 40., 41., 42., 43., 44.],\n",
              "       [45., 46., 47., 48., 49., 50., 51., 52., 53.],\n",
              "       [54., 55., 56., 57., 58., 59., 60., 61., 62.],\n",
              "       [63., 64., 65., 66., 67., 68., 69., 70., 71.],\n",
              "       [72., 73., 74., 75., 76., 77., 78., 79., 80.]])"
            ]
          },
          "execution_count": 22,
          "metadata": {},
          "output_type": "execute_result"
        }
      ],
      "source": [
        "n = np.linspace(0,81,81,endpoint = False).reshape(9,9)\n",
        "n"
      ]
    },
    {
      "cell_type": "code",
      "execution_count": null,
      "metadata": {
        "id": "gxLvRiwpb2DN",
        "outputId": "3afe4730-2fff-4e2f-b686-d87e3aef70db"
      },
      "outputs": [
        {
          "data": {
            "text/plain": [
              "23.526580712037184"
            ]
          },
          "execution_count": 26,
          "metadata": {},
          "output_type": "execute_result"
        }
      ],
      "source": [
        "np.std(n, ddof = 1) #to know what ddof does: https://www.sharpsightlabs.com/blog/numpy-standard-deviation/"
      ]
    },
    {
      "cell_type": "markdown",
      "metadata": {
        "id": "bZAUVmGWb2DN"
      },
      "source": [
        "The function np.nanstd calculates the standard deviation ignoring np.nan values\n",
        "(so that N is the number of non-NaN values in the array). NumPy also has methods for\n",
        "calculating the variance of the values in an array: np.var and np.nanvar."
      ]
    },
    {
      "cell_type": "code",
      "execution_count": null,
      "metadata": {
        "id": "9uxX3Wtab2DN",
        "outputId": "effc3357-d4af-48d9-de26-750686f49e7a"
      },
      "outputs": [
        {
          "data": {
            "text/plain": [
              "(nan, 0.4591551344589321)"
            ]
          },
          "execution_count": 30,
          "metadata": {},
          "output_type": "execute_result"
        }
      ],
      "source": [
        "n = np.array([[0.91,1.0,np.nan,0.5,-0.5],\n",
        "              [0,0.2,0.4,0.1,np.nan]])\n",
        "np.std(n), np.nanstd(n)"
      ]
    },
    {
      "cell_type": "code",
      "execution_count": null,
      "metadata": {
        "id": "hzIZAdxGb2DO",
        "outputId": "580855c9-c852-4a20-92a9-82e509afb7ca"
      },
      "outputs": [
        {
          "data": {
            "text/plain": [
              "(nan, 0.2108234375)"
            ]
          },
          "execution_count": 31,
          "metadata": {},
          "output_type": "execute_result"
        }
      ],
      "source": [
        "np.var(n), np.nanvar(n)"
      ]
    },
    {
      "cell_type": "code",
      "execution_count": null,
      "metadata": {
        "id": "mcyMYzXMb2DO",
        "outputId": "61bb318c-b710-4f60-8b23-caf6c057008e"
      },
      "outputs": [
        {
          "data": {
            "text/plain": [
              "array([[ 0.10842 ,  2.0106  , -0.265595],\n",
              "       [ 2.0106  , 91.933   , -5.1311  ],\n",
              "       [-0.265595, -5.1311  ,  1.39632 ]])"
            ]
          },
          "execution_count": 34,
          "metadata": {},
          "output_type": "execute_result"
        }
      ],
      "source": [
        "n = np.array([[0.91,1,0.5,0.2,0.5],\n",
        "              [0.1,20.1,-4.1,0.2,0],\n",
        "              [0.1,0.1,2.19,2.1,-0.2]])\n",
        "np.cov(n) #covariance matrix"
      ]
    },
    {
      "cell_type": "code",
      "execution_count": null,
      "metadata": {
        "id": "q4sS8n5db2DO",
        "outputId": "677ea2ea-8c09-40f4-d5d6-8bbfabcf9f37"
      },
      "outputs": [
        {
          "data": {
            "text/plain": [
              "array([[ 1.        ,  0.63684722, -0.68261011],\n",
              "       [ 0.63684722,  1.        , -0.4528791 ],\n",
              "       [-0.68261011, -0.4528791 ,  1.        ]])"
            ]
          },
          "execution_count": 38,
          "metadata": {},
          "output_type": "execute_result"
        }
      ],
      "source": [
        "np.corrcoef(n) #take help from the book, to know more: https://realpython.com/numpy-scipy-pandas-correlation-python/"
      ]
    },
    {
      "cell_type": "markdown",
      "metadata": {
        "id": "eaoE7TfEb2DO"
      },
      "source": [
        "Both the np.cov and np.corrcoef methods can take a second array-like object\n",
        "containing a further set of variables and observations, so they can be called on a pair of\n",
        "one-dimensional arrays without stacking them into a single matrix."
      ]
    },
    {
      "cell_type": "code",
      "execution_count": null,
      "metadata": {
        "id": "lN5LHNfhb2DP",
        "outputId": "2a444a1d-eab8-4262-eccc-20637f1a8fe0"
      },
      "outputs": [
        {
          "data": {
            "text/plain": [
              "array([[1.        , 0.37348587],\n",
              "       [0.37348587, 1.        ]])"
            ]
          },
          "execution_count": 40,
          "metadata": {},
          "output_type": "execute_result"
        }
      ],
      "source": [
        "arr1 = np.array([1,2,3,4,5]) #take help from the book\n",
        "arr2 = np.array([0.91,0.2,0.1,9.1,1])\n",
        "np.corrcoef(arr1, arr2)"
      ]
    },
    {
      "cell_type": "markdown",
      "metadata": {
        "id": "MO4cd6ETb2DP"
      },
      "source": [
        "The NumPy function, np.histogram, creates a histogram from the values in an array.\n",
        "That is, a set of bins is defined with lower and upper limits and each is filled with the\n",
        "number of elements from the array whose value falls within its limits."
      ]
    },
    {
      "cell_type": "code",
      "execution_count": null,
      "metadata": {
        "id": "zrOmpjUwb2DP"
      },
      "outputs": [],
      "source": [
        "marks = np.array([91,90,88,40,68,18,100,49,91,93]) #percentage marks of 10 students in a test"
      ]
    },
    {
      "cell_type": "markdown",
      "metadata": {
        "id": "dqiPNX84b2DQ"
      },
      "source": [
        "There are several ways to define the histogram bins. If the bins argument is a sequence,\n",
        "it defines the boundaries of the sequential bins."
      ]
    },
    {
      "cell_type": "code",
      "execution_count": null,
      "metadata": {
        "id": "AXcdF2jkb2DQ"
      },
      "outputs": [],
      "source": [
        "bins = [0,10,20,30,40,50,60,70,80,90,100]"
      ]
    },
    {
      "cell_type": "code",
      "execution_count": null,
      "metadata": {
        "id": "jGmASNWUb2DQ",
        "outputId": "fa4e6d56-38cc-4c45-8d5b-780e2d87c9db"
      },
      "outputs": [
        {
          "data": {
            "text/plain": [
              "(array([0, 1, 0, 0, 2, 0, 1, 0, 1, 5], dtype=int64),\n",
              " array([  0,  10,  20,  30,  40,  50,  60,  70,  80,  90, 100]))"
            ]
          },
          "execution_count": 43,
          "metadata": {},
          "output_type": "execute_result"
        }
      ],
      "source": [
        "hist, bins = np.histogram(marks, bins)\n",
        "hist, bins"
      ]
    },
    {
      "cell_type": "markdown",
      "metadata": {
        "id": "bLmG7CTtb2DR"
      },
      "source": [
        "If you just want a certain number of evenly spaced bins, an integer can be passed as\n",
        "bins instead of a sequence."
      ]
    },
    {
      "cell_type": "code",
      "execution_count": null,
      "metadata": {
        "id": "EfZdMhrcb2DR",
        "outputId": "d756cf13-7c1f-4712-8f3e-984dad95c3e1"
      },
      "outputs": [
        {
          "data": {
            "text/plain": [
              "(array([1, 2, 0, 1, 6], dtype=int64),\n",
              " array([ 18. ,  34.4,  50.8,  67.2,  83.6, 100. ]))"
            ]
          },
          "execution_count": 44,
          "metadata": {},
          "output_type": "execute_result"
        }
      ],
      "source": [
        "np.histogram(marks,bins = 5)"
      ]
    },
    {
      "cell_type": "markdown",
      "metadata": {
        "id": "Iv-YkgvUb2DR"
      },
      "source": [
        "By default, the requested number of bins range between the minimum and maximum\n",
        "values of the array (here, 18 and 100); to specify a different minimum and maximum, set\n",
        "the range argument tuple."
      ]
    },
    {
      "cell_type": "code",
      "execution_count": null,
      "metadata": {
        "id": "WZ4w1rX7b2DR",
        "outputId": "d8935b5c-1ee1-42ce-8654-5447a1e23919"
      },
      "outputs": [
        {
          "data": {
            "text/plain": [
              "(array([1, 0, 2, 1, 6], dtype=int64),\n",
              " array([  0.,  20.,  40.,  60.,  80., 100.]))"
            ]
          },
          "execution_count": 45,
          "metadata": {},
          "output_type": "execute_result"
        }
      ],
      "source": [
        "np.histogram(marks,bins = 5,range = (0,100))"
      ]
    },
    {
      "cell_type": "markdown",
      "metadata": {
        "id": "iRJHSOF5b2DS"
      },
      "source": [
        "The np.histogram method also has an optional boolean argument density: by\n",
        "default it is False, meaning that the histogram array returned contains the number of values from the original array in each bin. If density is set to True, the histogram\n",
        "array will contain the probability density function, normalized so that the integral over\n",
        "the entire range of the bins is equal to unity."
      ]
    },
    {
      "cell_type": "code",
      "execution_count": null,
      "metadata": {
        "id": "5pMNG53Ib2DS",
        "outputId": "b68803ca-ea54-4ac4-c037-f96d433baf58"
      },
      "outputs": [
        {
          "data": {
            "text/plain": [
              "(array([0.005, 0.   , 0.01 , 0.005, 0.03 ]),\n",
              " array([  0.,  20.,  40.,  60.,  80., 100.]))"
            ]
          },
          "execution_count": 47,
          "metadata": {},
          "output_type": "execute_result"
        }
      ],
      "source": [
        "hist, bins = np.histogram(marks,bins = 5,range = (0,100),density = True)\n",
        "hist, bins"
      ]
    },
    {
      "cell_type": "code",
      "execution_count": null,
      "metadata": {
        "id": "Jekq68P2b2DS",
        "outputId": "be65186f-fe24-43ec-82ab-9e689399cc1f"
      },
      "outputs": [
        {
          "data": {
            "text/plain": [
              "1.0"
            ]
          },
          "execution_count": 49,
          "metadata": {},
          "output_type": "execute_result"
        }
      ],
      "source": [
        "bin_width = 100/5\n",
        "np.sum(hist)*bin_width\n",
        "#By integral here we mean the area under the histogram, which is the sum of each\n",
        "#histogram bar height times its corresponding bin width."
      ]
    },
    {
      "cell_type": "code",
      "execution_count": null,
      "metadata": {
        "id": "3OyD45s7b2DT",
        "outputId": "e7f90a85-0af3-423b-c030-e09ecd825239"
      },
      "outputs": [
        {
          "data": {
            "image/png": "[encoded data removed]",
            "text/plain": [
              "<Figure size 432x288 with 1 Axes>"
            ]
          },
          "metadata": {
            "needs_background": "light"
          },
          "output_type": "display_data"
        },
        {
          "data": {
            "text/plain": [
              "(array([1., 0., 2., 1., 6.]),\n",
              " array([  0.,  20.,  40.,  60.,  80., 100.]),\n",
              " <BarContainer object of 5 artists>)"
            ]
          },
          "execution_count": 57,
          "metadata": {},
          "output_type": "execute_result"
        }
      ],
      "source": [
        "#To plot a histogram with pylab, use pylab.hist, passing it the same arguments you would to np.histogram\n",
        "import pylab\n",
        "hist, bins, patches = pylab.hist(marks,bins = 5,range = (0,100))\n",
        "pylab.show()\n",
        "hist, bins, patches"
      ]
    },
    {
      "cell_type": "markdown",
      "metadata": {
        "id": "BnxRx277b2DT"
      },
      "source": [
        "# Polynomials"
      ]
    },
    {
      "cell_type": "markdown",
      "metadata": {
        "id": "dWc-O4Qnb2DT"
      },
      "source": [
        "A (finite) polynomial power series has as its basis the powers of x: 1(= x0), x, x2, x3, ··· ,\n",
        "xN, with coefficients ci."
      ]
    },
    {
      "cell_type": "code",
      "execution_count": null,
      "metadata": {
        "id": "VnlDv_Uab2DU"
      },
      "outputs": [],
      "source": [
        "from numpy.polynomial import Polynomial"
      ]
    },
    {
      "cell_type": "markdown",
      "metadata": {
        "id": "1Q6IX89cb2DU"
      },
      "source": [
        "if the whole NumPy library is already imported as np, then rather than\n",
        "constantly refer to this class as np.polynomial.Polynomial, it is convenient to\n",
        "define a variable."
      ]
    },
    {
      "cell_type": "code",
      "execution_count": null,
      "metadata": {
        "id": "PBl6CE4Hb2DU"
      },
      "outputs": [],
      "source": [
        "Polynomial = np.polynomial.Polynomial"
      ]
    },
    {
      "cell_type": "markdown",
      "metadata": {
        "id": "v1iKeOG9b2DV"
      },
      "source": [
        "To define a polynomial object, pass the Polynomial constructor a sequence of coefficients to increasing powers of x, starting with c0. For example, to represent the polynomial\n",
        "P(x) = 6 − 5x + x2:"
      ]
    },
    {
      "cell_type": "code",
      "execution_count": null,
      "metadata": {
        "id": "GyA65JQXb2DV"
      },
      "outputs": [],
      "source": [
        "p = Polynomial([6,-5,1])"
      ]
    },
    {
      "cell_type": "markdown",
      "metadata": {
        "id": "iKqirnteb2DV"
      },
      "source": [
        "You can inspect the coefficients of a Polynomial object with print or by referring to\n",
        "its coef attribute."
      ]
    },
    {
      "cell_type": "code",
      "execution_count": null,
      "metadata": {
        "id": "PFzJCEZAb2DV",
        "outputId": "34af283c-a781-40ca-8479-491b01fcfd59"
      },
      "outputs": [
        {
          "name": "stdout",
          "output_type": "stream",
          "text": [
            "poly([ 6. -5.  1.])\n"
          ]
        }
      ],
      "source": [
        "print(p)"
      ]
    },
    {
      "cell_type": "code",
      "execution_count": null,
      "metadata": {
        "id": "ahpQ7GfWb2DW",
        "outputId": "9b63a067-f0e0-4237-afcf-27fabcb79b9d"
      },
      "outputs": [
        {
          "data": {
            "text/plain": [
              "array([ 6., -5.,  1.])"
            ]
          },
          "execution_count": 7,
          "metadata": {},
          "output_type": "execute_result"
        }
      ],
      "source": [
        "p.coef"
      ]
    },
    {
      "cell_type": "markdown",
      "metadata": {
        "id": "e7tVU4lEb2DX"
      },
      "source": [
        "Notice that the integer coefficients used to define the polynomial have been automatically cast to float. It is also possible to use complex coefficients."
      ]
    },
    {
      "cell_type": "code",
      "execution_count": null,
      "metadata": {
        "id": "al9LZi0Ib2DX",
        "outputId": "790f3a4d-bccf-41c6-9cf4-743d3c83f681"
      },
      "outputs": [
        {
          "data": {
            "text/plain": [
              "(2.0, 0.0, 42.0)"
            ]
          },
          "execution_count": 9,
          "metadata": {},
          "output_type": "execute_result"
        }
      ],
      "source": [
        "p(1), p(3), p(9) #6-(5*1)+1^2 = 2, 6-(5*3)+3^2 = 0, 6-(5*9)+9^2 = 42"
      ]
    },
    {
      "cell_type": "code",
      "execution_count": null,
      "metadata": {
        "id": "jXRhw861b2DY",
        "outputId": "209f6eab-5f71-4128-fabc-8a20907eb73f"
      },
      "outputs": [
        {
          "data": {
            "text/plain": [
              "array([-100.,  -99.,  -98.,  -97.,  -96.,  -95.,  -94.,  -93.,  -92.,\n",
              "        -91.,  -90.,  -89.,  -88.,  -87.,  -86.,  -85.,  -84.,  -83.,\n",
              "        -82.,  -81.,  -80.,  -79.,  -78.,  -77.,  -76.,  -75.,  -74.,\n",
              "        -73.,  -72.,  -71.,  -70.,  -69.,  -68.,  -67.,  -66.,  -65.,\n",
              "        -64.,  -63.,  -62.,  -61.,  -60.,  -59.,  -58.,  -57.,  -56.,\n",
              "        -55.,  -54.,  -53.,  -52.,  -51.,  -50.,  -49.,  -48.,  -47.,\n",
              "        -46.,  -45.,  -44.,  -43.,  -42.,  -41.,  -40.,  -39.,  -38.,\n",
              "        -37.,  -36.,  -35.,  -34.,  -33.,  -32.,  -31.,  -30.,  -29.,\n",
              "        -28.,  -27.,  -26.,  -25.,  -24.,  -23.,  -22.,  -21.,  -20.,\n",
              "        -19.,  -18.,  -17.,  -16.,  -15.,  -14.,  -13.,  -12.,  -11.,\n",
              "        -10.,   -9.,   -8.,   -7.,   -6.,   -5.,   -4.,   -3.,   -2.,\n",
              "         -1.,    0.,    1.,    2.,    3.,    4.,    5.,    6.,    7.,\n",
              "          8.,    9.,   10.,   11.,   12.,   13.,   14.,   15.,   16.,\n",
              "         17.,   18.,   19.,   20.,   21.,   22.,   23.,   24.,   25.,\n",
              "         26.,   27.,   28.,   29.,   30.,   31.,   32.,   33.,   34.,\n",
              "         35.,   36.,   37.,   38.,   39.,   40.,   41.,   42.,   43.,\n",
              "         44.,   45.,   46.,   47.,   48.,   49.,   50.,   51.,   52.,\n",
              "         53.,   54.,   55.,   56.,   57.,   58.,   59.,   60.,   61.,\n",
              "         62.,   63.,   64.,   65.,   66.,   67.,   68.,   69.,   70.,\n",
              "         71.,   72.,   73.,   74.,   75.,   76.,   77.,   78.,   79.,\n",
              "         80.,   81.,   82.,   83.,   84.,   85.,   86.,   87.,   88.,\n",
              "         89.,   90.,   91.,   92.,   93.,   94.,   95.,   96.,   97.,\n",
              "         98.,   99.])"
            ]
          },
          "execution_count": 26,
          "metadata": {},
          "output_type": "execute_result"
        }
      ],
      "source": [
        "n = np.linspace(-100,100,200,endpoint = False)\n",
        "n"
      ]
    },
    {
      "cell_type": "code",
      "execution_count": null,
      "metadata": {
        "id": "9tX5gUcCb2DY",
        "outputId": "8ac3f760-a948-469c-8898-23df89be35dc"
      },
      "outputs": [
        {
          "data": {
            "text/plain": [
              "array([1.0506e+04, 1.0302e+04, 1.0100e+04, 9.9000e+03, 9.7020e+03,\n",
              "       9.5060e+03, 9.3120e+03, 9.1200e+03, 8.9300e+03, 8.7420e+03,\n",
              "       8.5560e+03, 8.3720e+03, 8.1900e+03, 8.0100e+03, 7.8320e+03,\n",
              "       7.6560e+03, 7.4820e+03, 7.3100e+03, 7.1400e+03, 6.9720e+03,\n",
              "       6.8060e+03, 6.6420e+03, 6.4800e+03, 6.3200e+03, 6.1620e+03,\n",
              "       6.0060e+03, 5.8520e+03, 5.7000e+03, 5.5500e+03, 5.4020e+03,\n",
              "       5.2560e+03, 5.1120e+03, 4.9700e+03, 4.8300e+03, 4.6920e+03,\n",
              "       4.5560e+03, 4.4220e+03, 4.2900e+03, 4.1600e+03, 4.0320e+03,\n",
              "       3.9060e+03, 3.7820e+03, 3.6600e+03, 3.5400e+03, 3.4220e+03,\n",
              "       3.3060e+03, 3.1920e+03, 3.0800e+03, 2.9700e+03, 2.8620e+03,\n",
              "       2.7560e+03, 2.6520e+03, 2.5500e+03, 2.4500e+03, 2.3520e+03,\n",
              "       2.2560e+03, 2.1620e+03, 2.0700e+03, 1.9800e+03, 1.8920e+03,\n",
              "       1.8060e+03, 1.7220e+03, 1.6400e+03, 1.5600e+03, 1.4820e+03,\n",
              "       1.4060e+03, 1.3320e+03, 1.2600e+03, 1.1900e+03, 1.1220e+03,\n",
              "       1.0560e+03, 9.9200e+02, 9.3000e+02, 8.7000e+02, 8.1200e+02,\n",
              "       7.5600e+02, 7.0200e+02, 6.5000e+02, 6.0000e+02, 5.5200e+02,\n",
              "       5.0600e+02, 4.6200e+02, 4.2000e+02, 3.8000e+02, 3.4200e+02,\n",
              "       3.0600e+02, 2.7200e+02, 2.4000e+02, 2.1000e+02, 1.8200e+02,\n",
              "       1.5600e+02, 1.3200e+02, 1.1000e+02, 9.0000e+01, 7.2000e+01,\n",
              "       5.6000e+01, 4.2000e+01, 3.0000e+01, 2.0000e+01, 1.2000e+01,\n",
              "       6.0000e+00, 2.0000e+00, 0.0000e+00, 0.0000e+00, 2.0000e+00,\n",
              "       6.0000e+00, 1.2000e+01, 2.0000e+01, 3.0000e+01, 4.2000e+01,\n",
              "       5.6000e+01, 7.2000e+01, 9.0000e+01, 1.1000e+02, 1.3200e+02,\n",
              "       1.5600e+02, 1.8200e+02, 2.1000e+02, 2.4000e+02, 2.7200e+02,\n",
              "       3.0600e+02, 3.4200e+02, 3.8000e+02, 4.2000e+02, 4.6200e+02,\n",
              "       5.0600e+02, 5.5200e+02, 6.0000e+02, 6.5000e+02, 7.0200e+02,\n",
              "       7.5600e+02, 8.1200e+02, 8.7000e+02, 9.3000e+02, 9.9200e+02,\n",
              "       1.0560e+03, 1.1220e+03, 1.1900e+03, 1.2600e+03, 1.3320e+03,\n",
              "       1.4060e+03, 1.4820e+03, 1.5600e+03, 1.6400e+03, 1.7220e+03,\n",
              "       1.8060e+03, 1.8920e+03, 1.9800e+03, 2.0700e+03, 2.1620e+03,\n",
              "       2.2560e+03, 2.3520e+03, 2.4500e+03, 2.5500e+03, 2.6520e+03,\n",
              "       2.7560e+03, 2.8620e+03, 2.9700e+03, 3.0800e+03, 3.1920e+03,\n",
              "       3.3060e+03, 3.4220e+03, 3.5400e+03, 3.6600e+03, 3.7820e+03,\n",
              "       3.9060e+03, 4.0320e+03, 4.1600e+03, 4.2900e+03, 4.4220e+03,\n",
              "       4.5560e+03, 4.6920e+03, 4.8300e+03, 4.9700e+03, 5.1120e+03,\n",
              "       5.2560e+03, 5.4020e+03, 5.5500e+03, 5.7000e+03, 5.8520e+03,\n",
              "       6.0060e+03, 6.1620e+03, 6.3200e+03, 6.4800e+03, 6.6420e+03,\n",
              "       6.8060e+03, 6.9720e+03, 7.1400e+03, 7.3100e+03, 7.4820e+03,\n",
              "       7.6560e+03, 7.8320e+03, 8.0100e+03, 8.1900e+03, 8.3720e+03,\n",
              "       8.5560e+03, 8.7420e+03, 8.9300e+03, 9.1200e+03, 9.3120e+03])"
            ]
          },
          "execution_count": 27,
          "metadata": {},
          "output_type": "execute_result"
        }
      ],
      "source": [
        "pvals = p(n) #calculate p on a sequence of n values\n",
        "pvals"
      ]
    },
    {
      "cell_type": "code",
      "execution_count": null,
      "metadata": {
        "id": "--8O5khcb2DZ",
        "outputId": "1dcac6e8-d941-4832-c1ff-6e376b580351"
      },
      "outputs": [
        {
          "data": {
            "text/plain": [
              "[<matplotlib.lines.Line2D at 0x1d3b5f8a370>]"
            ]
          },
          "execution_count": 28,
          "metadata": {},
          "output_type": "execute_result"
        },
        {
          "data": {
            "image/png": "[encoded data removed]",
            "text/plain": [
              "<Figure size 432x288 with 1 Axes>"
            ]
          },
          "metadata": {
            "needs_background": "light"
          },
          "output_type": "display_data"
        }
      ],
      "source": [
        "import matplotlib.pyplot as plt\n",
        "plt.plot(n,pvals)"
      ]
    },
    {
      "cell_type": "markdown",
      "metadata": {
        "id": "NX6qqwqnb2Da"
      },
      "source": [
        "The Polynomial convenience class implements the familiar Python operators: +, -, *,\n",
        "//, **, % and divmod on Polynomial objects. These are illustrated in the following\n",
        "examples using the polynomials\n",
        "P(x) = 6 − 5x + x2 and \n",
        "Q(x) = 2 − 3x"
      ]
    },
    {
      "cell_type": "code",
      "execution_count": null,
      "metadata": {
        "id": "D8xhLQpSb2Da"
      },
      "outputs": [],
      "source": [
        "p1, p2= Polynomial([6,-5,1]), Polynomial([2,-3])"
      ]
    },
    {
      "cell_type": "code",
      "execution_count": null,
      "metadata": {
        "id": "qnMS41t9b2Db",
        "outputId": "cd643526-5fa9-4a44-f6e0-3e15b501713e"
      },
      "outputs": [
        {
          "data": {
            "text/latex": [
              "$x \\mapsto \\text{8.0} - \\text{8.0}\\,x + \\text{1.0}\\,x^{2}$"
            ],
            "text/plain": [
              "Polynomial([ 8., -8.,  1.], domain=[-1.,  1.], window=[-1.,  1.])"
            ]
          },
          "execution_count": 32,
          "metadata": {},
          "output_type": "execute_result"
        }
      ],
      "source": [
        "p1 + p2"
      ]
    },
    {
      "cell_type": "code",
      "execution_count": null,
      "metadata": {
        "id": "ge2IT_6Cb2Db",
        "outputId": "7fbb1026-657f-41f0-dd2d-0ca55fbe9785"
      },
      "outputs": [
        {
          "data": {
            "text/latex": [
              "$x \\mapsto \\text{4.0} - \\text{2.0}\\,x + \\text{1.0}\\,x^{2}$"
            ],
            "text/plain": [
              "Polynomial([ 4., -2.,  1.], domain=[-1.,  1.], window=[-1.,  1.])"
            ]
          },
          "execution_count": 33,
          "metadata": {},
          "output_type": "execute_result"
        }
      ],
      "source": [
        "p1 - p2"
      ]
    },
    {
      "cell_type": "code",
      "execution_count": null,
      "metadata": {
        "id": "IU14ix_zb2Db",
        "outputId": "b08fccd1-f1f4-4f7d-eb27-ac6b95f2288c"
      },
      "outputs": [
        {
          "data": {
            "text/latex": [
              "$x \\mapsto \\text{12.0} - \\text{28.0}\\,x + \\text{17.0}\\,x^{2} - \\text{3.0}\\,x^{3}$"
            ],
            "text/plain": [
              "Polynomial([ 12., -28.,  17.,  -3.], domain=[-1.,  1.], window=[-1.,  1.])"
            ]
          },
          "execution_count": 34,
          "metadata": {},
          "output_type": "execute_result"
        }
      ],
      "source": [
        "p1 * p2"
      ]
    },
    {
      "cell_type": "code",
      "execution_count": null,
      "metadata": {
        "id": "0LbSIs5Sb2Db",
        "outputId": "d3244f30-ce02-4fc0-955e-e3b8bee7e450"
      },
      "outputs": [
        {
          "data": {
            "text/latex": [
              "$x \\mapsto \\text{1.4444444444444444} - \\text{0.3333333333333333}\\,x$"
            ],
            "text/plain": [
              "Polynomial([ 1.44444444, -0.33333333], domain=[-1.,  1.], window=[-1.,  1.])"
            ]
          },
          "execution_count": 36,
          "metadata": {},
          "output_type": "execute_result"
        }
      ],
      "source": [
        "p1 // p2"
      ]
    },
    {
      "cell_type": "code",
      "execution_count": null,
      "metadata": {
        "id": "eEl7DLIab2Dz",
        "outputId": "e76bf548-a1b9-4416-b31c-7ad0ad0e64b9"
      },
      "outputs": [
        {
          "data": {
            "text/latex": [
              "$x \\mapsto \\text{3.1111111111111116}$"
            ],
            "text/plain": [
              "Polynomial([3.11111111], domain=[-1.,  1.], window=[-1.,  1.])"
            ]
          },
          "execution_count": 37,
          "metadata": {},
          "output_type": "execute_result"
        }
      ],
      "source": [
        "p1 % p2"
      ]
    },
    {
      "cell_type": "markdown",
      "metadata": {
        "id": "17MkyR2xb2D0"
      },
      "source": [
        "Division of a polynomial by another polynomial is analogous to integer division (and\n",
        "uses the same // operator): that is, the result is another polynomial (with no reciprocal\n",
        "powers of x), possibly leaving a remainder."
      ]
    },
    {
      "cell_type": "markdown",
      "metadata": {
        "id": "NSeVqhR3b2D0"
      },
      "source": [
        "%. The divmod() built-in returns both\n",
        "quotient and remainder in a tuple."
      ]
    },
    {
      "cell_type": "code",
      "execution_count": null,
      "metadata": {
        "id": "KHDdKcfdb2D0"
      },
      "outputs": [],
      "source": [
        "quotient, remainder = divmod(p1, p2)"
      ]
    },
    {
      "cell_type": "code",
      "execution_count": null,
      "metadata": {
        "id": "eqhLTUECb2D0",
        "outputId": "c7e233ca-5e33-4f5d-f6a0-6fb46455a913"
      },
      "outputs": [
        {
          "data": {
            "text/latex": [
              "$x \\mapsto \\text{1.4444444444444444} - \\text{0.3333333333333333}\\,x$"
            ],
            "text/plain": [
              "Polynomial([ 1.44444444, -0.33333333], domain=[-1.,  1.], window=[-1.,  1.])"
            ]
          },
          "execution_count": 41,
          "metadata": {},
          "output_type": "execute_result"
        }
      ],
      "source": [
        "quotient"
      ]
    },
    {
      "cell_type": "code",
      "execution_count": null,
      "metadata": {
        "id": "R-m81sZ3b2D1",
        "outputId": "38461f1b-3537-4f08-fccd-76b14385d0c4"
      },
      "outputs": [
        {
          "data": {
            "text/latex": [
              "$x \\mapsto \\text{3.1111111111111116}$"
            ],
            "text/plain": [
              "Polynomial([3.11111111], domain=[-1.,  1.], window=[-1.,  1.])"
            ]
          },
          "execution_count": 42,
          "metadata": {},
          "output_type": "execute_result"
        }
      ],
      "source": [
        "remainder"
      ]
    },
    {
      "cell_type": "markdown",
      "metadata": {
        "id": "sh5mbr0Fb2D1"
      },
      "source": [
        "Exponentiation is supported through the ** operator; polynomials can only be raised\n",
        "to a non-negative integer power."
      ]
    },
    {
      "cell_type": "code",
      "execution_count": null,
      "metadata": {
        "id": "SsWPdq1Ab2D1",
        "outputId": "7a7a76a8-a95d-478f-a5d9-ab9e9ae67f23"
      },
      "outputs": [
        {
          "data": {
            "text/latex": [
              "$x \\mapsto \\text{36.0} - \\text{60.0}\\,x + \\text{37.0}\\,x^{2} - \\text{10.0}\\,x^{3} + \\text{1.0}\\,x^{4}$"
            ],
            "text/plain": [
              "Polynomial([ 36., -60.,  37., -10.,   1.], domain=[-1.,  1.], window=[-1.,  1.])"
            ]
          },
          "execution_count": 43,
          "metadata": {},
          "output_type": "execute_result"
        }
      ],
      "source": [
        "p1 ** 2"
      ]
    },
    {
      "cell_type": "code",
      "execution_count": null,
      "metadata": {
        "id": "fJAXXEapb2D1",
        "outputId": "67c47d39-634f-4436-e6ea-783aacb19454"
      },
      "outputs": [
        {
          "data": {
            "text/latex": [
              "$x \\mapsto \\text{12.0} - \\text{10.0}\\,x + \\text{2.0}\\,x^{2}$"
            ],
            "text/plain": [
              "Polynomial([ 12., -10.,   2.], domain=[-1.,  1.], window=[-1.,  1.])"
            ]
          },
          "execution_count": 44,
          "metadata": {},
          "output_type": "execute_result"
        }
      ],
      "source": [
        "p1 * 2 #multiplication by a scalar"
      ]
    },
    {
      "cell_type": "code",
      "execution_count": null,
      "metadata": {
        "id": "KYK21FNfb2D1",
        "outputId": "b5f4c478-4508-47e9-c1d8-0e5e7bcc10f8"
      },
      "outputs": [
        {
          "data": {
            "text/latex": [
              "$x \\mapsto \\text{3.0} - \\text{2.5}\\,x + \\text{0.5}\\,x^{2}$"
            ],
            "text/plain": [
              "Polynomial([ 3. , -2.5,  0.5], domain=[-1.,  1.], window=[-1.,  1.])"
            ]
          },
          "execution_count": 45,
          "metadata": {},
          "output_type": "execute_result"
        }
      ],
      "source": [
        "p1 / 2 #division by a scalar"
      ]
    },
    {
      "cell_type": "markdown",
      "metadata": {
        "id": "w1AaVS_1b2D1"
      },
      "source": [
        "To multiply\n",
        "P(x) by x2 − 2x3"
      ]
    },
    {
      "cell_type": "code",
      "execution_count": null,
      "metadata": {
        "id": "eI4se9h1b2D2",
        "outputId": "aa90d132-a2ad-482f-8ae5-ed6339bca58a"
      },
      "outputs": [
        {
          "data": {
            "text/latex": [
              "$x \\mapsto \\color{LightGray}{\\text{0.0}}\\color{LightGray}{ + \\text{0.0}\\,x} + \\text{6.0}\\,x^{2} - \\text{17.0}\\,x^{3} + \\text{11.0}\\,x^{4} - \\text{2.0}\\,x^{5}$"
            ],
            "text/plain": [
              "Polynomial([  0.,   0.,   6., -17.,  11.,  -2.], domain=[-1.,  1.], window=[-1.,  1.])"
            ]
          },
          "execution_count": 48,
          "metadata": {},
          "output_type": "execute_result"
        }
      ],
      "source": [
        "p1 * [0,0,1,-2]"
      ]
    },
    {
      "cell_type": "code",
      "execution_count": null,
      "metadata": {
        "id": "bSyFFcHyb2D2",
        "outputId": "ba9e5268-1b6c-42fb-e9a6-70f6396884c4"
      },
      "outputs": [
        {
          "data": {
            "text/latex": [
              "$x \\mapsto \\color{LightGray}{\\text{0.0}}\\color{LightGray}{ + \\text{0.0}\\,x} + \\text{6.0}\\,x^{2} - \\text{17.0}\\,x^{3} + \\text{11.0}\\,x^{4} - \\text{2.0}\\,x^{5}$"
            ],
            "text/plain": [
              "Polynomial([  0.,   0.,   6., -17.,  11.,  -2.], domain=[-1.,  1.], window=[-1.,  1.])"
            ]
          },
          "execution_count": 49,
          "metadata": {},
          "output_type": "execute_result"
        }
      ],
      "source": [
        "p1 * Polynomial([0,0,1,-2])"
      ]
    },
    {
      "cell_type": "code",
      "execution_count": null,
      "metadata": {
        "id": "h6nhGCWub2D2",
        "outputId": "6f106703-d220-4414-8dd7-0e2104d9ecd6"
      },
      "outputs": [
        {
          "data": {
            "text/plain": [
              "True"
            ]
          },
          "execution_count": 50,
          "metadata": {},
          "output_type": "execute_result"
        }
      ],
      "source": [
        "_ == __"
      ]
    },
    {
      "cell_type": "code",
      "execution_count": null,
      "metadata": {
        "id": "t6UdZ3vIb2D2",
        "outputId": "1a0fc4c0-8b07-452b-ab95-e91ccdf69c52"
      },
      "outputs": [
        {
          "data": {
            "text/latex": [
              "$x \\mapsto \\text{6.0} - \\text{5.0}\\,x + \\text{1.0}\\,x^{2}$"
            ],
            "text/plain": [
              "Polynomial([ 6., -5.,  1.], domain=[-1,  1], window=[-1,  1])"
            ]
          },
          "execution_count": 55,
          "metadata": {},
          "output_type": "execute_result"
        }
      ],
      "source": [
        "p1"
      ]
    },
    {
      "cell_type": "code",
      "execution_count": null,
      "metadata": {
        "id": "Hx0ZPU1Yb2D2",
        "outputId": "d201868d-ef6c-4441-9fb9-b0e1e6b1d55e"
      },
      "outputs": [
        {
          "data": {
            "text/latex": [
              "$x \\mapsto \\text{2.0} - \\text{3.0}\\,x$"
            ],
            "text/plain": [
              "Polynomial([ 2., -3.], domain=[-1,  1], window=[-1,  1])"
            ]
          },
          "execution_count": 56,
          "metadata": {},
          "output_type": "execute_result"
        }
      ],
      "source": [
        "p2"
      ]
    },
    {
      "cell_type": "code",
      "execution_count": null,
      "metadata": {
        "id": "0ttrcitLb2D2",
        "outputId": "8a17659d-76fa-481a-d783-f8cef2f6adec"
      },
      "outputs": [
        {
          "data": {
            "text/latex": [
              "$x \\mapsto \\color{LightGray}{\\text{0.0}} + \\text{3.0}\\,x + \\text{9.0}\\,x^{2}$"
            ],
            "text/plain": [
              "Polynomial([0., 3., 9.], domain=[-1.,  1.], window=[-1.,  1.])"
            ]
          },
          "execution_count": 58,
          "metadata": {},
          "output_type": "execute_result"
        }
      ],
      "source": [
        "p1(p2) #6-5(2-3x)+(2-3x)^2 = 6-10+15x+4-12x+9x^2 = 0+3x+9x^2"
      ]
    },
    {
      "cell_type": "markdown",
      "metadata": {
        "id": "Prh8URrHb2D3"
      },
      "source": [
        "The roots of a polynomial are returned by the roots method. Repeated roots are simply\n",
        "repeated in the returned array."
      ]
    },
    {
      "cell_type": "code",
      "execution_count": null,
      "metadata": {
        "id": "dt25MXbab2D3",
        "outputId": "498c3d49-36b7-4227-a4d6-1c46e1c7ce6f"
      },
      "outputs": [
        {
          "data": {
            "text/plain": [
              "array([2., 3.])"
            ]
          },
          "execution_count": 60,
          "metadata": {},
          "output_type": "execute_result"
        }
      ],
      "source": [
        "p1.roots()"
      ]
    },
    {
      "cell_type": "code",
      "execution_count": null,
      "metadata": {
        "id": "imToG0wPb2D3",
        "outputId": "21e0ab67-d5b3-4ce3-e4bd-c008f2799e7f"
      },
      "outputs": [
        {
          "data": {
            "text/plain": [
              "array([0.66666667, 2.        , 3.        ])"
            ]
          },
          "execution_count": 61,
          "metadata": {},
          "output_type": "execute_result"
        }
      ],
      "source": [
        "(p1*p2).roots()"
      ]
    },
    {
      "cell_type": "code",
      "execution_count": null,
      "metadata": {
        "id": "6cWQV5ksb2D3",
        "outputId": "5b9c9b9f-90b3-4ed6-c611-0e4ce568b559"
      },
      "outputs": [
        {
          "data": {
            "text/plain": [
              "array([-2.-1.j, -2.+1.j])"
            ]
          },
          "execution_count": 62,
          "metadata": {},
          "output_type": "execute_result"
        }
      ],
      "source": [
        "Polynomial([5,4,1]).roots()"
      ]
    },
    {
      "cell_type": "markdown",
      "metadata": {
        "id": "JswuaEBeb2D4"
      },
      "source": [
        "Polynomials can also be created from their roots with Polynomial.fromroots."
      ]
    },
    {
      "cell_type": "code",
      "execution_count": null,
      "metadata": {
        "id": "vgbffuOhb2D4",
        "outputId": "fb5843de-ea46-41b2-e618-ad54fb58189d"
      },
      "outputs": [
        {
          "data": {
            "text/plain": [
              "array([2., 3.])"
            ]
          },
          "execution_count": 63,
          "metadata": {},
          "output_type": "execute_result"
        }
      ],
      "source": [
        "p1.roots()"
      ]
    },
    {
      "cell_type": "code",
      "execution_count": null,
      "metadata": {
        "id": "YNFQDZ8gb2D5"
      },
      "outputs": [],
      "source": [
        "p = Polynomial.fromroots(_)"
      ]
    },
    {
      "cell_type": "code",
      "execution_count": null,
      "metadata": {
        "id": "FcqaRwpDb2D5",
        "outputId": "33402511-db28-4712-cf4b-8564b09fb18f"
      },
      "outputs": [
        {
          "data": {
            "text/latex": [
              "$x \\mapsto \\text{6.0} - \\text{5.0}\\,x + \\text{1.0}\\,x^{2}$"
            ],
            "text/plain": [
              "Polynomial([ 6., -5.,  1.], domain=[-1.,  1.], window=[-1.,  1.])"
            ]
          },
          "execution_count": 65,
          "metadata": {},
          "output_type": "execute_result"
        }
      ],
      "source": [
        "p"
      ]
    },
    {
      "cell_type": "code",
      "execution_count": null,
      "metadata": {
        "id": "4fjyzgbsb2D5",
        "outputId": "c2b989a8-3ca3-413b-80cb-92c74e068d4e"
      },
      "outputs": [
        {
          "data": {
            "text/latex": [
              "$x \\mapsto \\text{6.0} - \\text{5.0}\\,x + \\text{1.0}\\,x^{2}$"
            ],
            "text/plain": [
              "Polynomial([ 6., -5.,  1.], domain=[-1,  1], window=[-1,  1])"
            ]
          },
          "execution_count": 66,
          "metadata": {},
          "output_type": "execute_result"
        }
      ],
      "source": [
        "p1"
      ]
    },
    {
      "cell_type": "code",
      "execution_count": null,
      "metadata": {
        "id": "YuzPwPCjb2D6",
        "outputId": "fc6030c2-e4ce-4b74-ca98-9b22d34c10ec"
      },
      "outputs": [
        {
          "data": {
            "text/plain": [
              "True"
            ]
          },
          "execution_count": 68,
          "metadata": {},
          "output_type": "execute_result"
        }
      ],
      "source": [
        "_ == __"
      ]
    },
    {
      "cell_type": "code",
      "execution_count": null,
      "metadata": {
        "id": "10gRKugmb2D6",
        "outputId": "43e36e7d-22d2-4f1f-9a2e-f62e76f17ada"
      },
      "outputs": [
        {
          "data": {
            "text/latex": [
              "$x \\mapsto \\text{8.0} - \\text{10.0}\\,x + \\text{1.0}\\,x^{2} + \\text{1.0}\\,x^{3}$"
            ],
            "text/plain": [
              "Polynomial([  8., -10.,   1.,   1.], domain=[-1.,  1.], window=[-1.,  1.])"
            ]
          },
          "execution_count": 72,
          "metadata": {},
          "output_type": "execute_result"
        }
      ],
      "source": [
        "Polynomial.fromroots([-4,2,1])"
      ]
    },
    {
      "cell_type": "markdown",
      "metadata": {
        "id": "k0htO36vb2D6"
      },
      "source": [
        "That is, (x + 4)(x − 2)(x − 1) = 8 − 10x + x2 + x3. Note that the way the polynomial\n",
        "is constructed means that the coefficient of the highest power of x will be 1."
      ]
    },
    {
      "cell_type": "markdown",
      "metadata": {
        "id": "u-0WMI1Db2D7"
      },
      "source": [
        "Polynomials can be differentiated with the Polynomial.deriv method. By default,\n",
        "this function returns the first derivative, but the optional argument m can be set to return\n",
        "the mth derivative."
      ]
    },
    {
      "cell_type": "code",
      "execution_count": null,
      "metadata": {
        "id": "PWkftflIb2D7",
        "outputId": "1f01be2b-f32f-47a0-edec-20c54e194300"
      },
      "outputs": [
        {
          "data": {
            "text/latex": [
              "$x \\mapsto \\text{6.0} - \\text{5.0}\\,x + \\text{1.0}\\,x^{2}$"
            ],
            "text/plain": [
              "Polynomial([ 6., -5.,  1.], domain=[-1.,  1.], window=[-1.,  1.])"
            ]
          },
          "execution_count": 73,
          "metadata": {},
          "output_type": "execute_result"
        }
      ],
      "source": [
        "p"
      ]
    },
    {
      "cell_type": "code",
      "execution_count": null,
      "metadata": {
        "id": "5osPFLzdb2D7",
        "outputId": "f014af78-6534-4fd6-f789-dcd7858e6a4d"
      },
      "outputs": [
        {
          "data": {
            "text/latex": [
              "$x \\mapsto \\text{-5.0} + \\text{2.0}\\,x$"
            ],
            "text/plain": [
              "Polynomial([-5.,  2.], domain=[-1.,  1.], window=[-1.,  1.])"
            ]
          },
          "execution_count": 81,
          "metadata": {},
          "output_type": "execute_result"
        }
      ],
      "source": [
        "p.deriv() #first derivative of p"
      ]
    },
    {
      "cell_type": "code",
      "execution_count": null,
      "metadata": {
        "id": "lS5hhKFCb2D8",
        "outputId": "133646c7-bfd3-4205-aa4a-dca3326081d9"
      },
      "outputs": [
        {
          "data": {
            "text/latex": [
              "$x \\mapsto \\text{2.0}$"
            ],
            "text/plain": [
              "Polynomial([2.], domain=[-1.,  1.], window=[-1.,  1.])"
            ]
          },
          "execution_count": 82,
          "metadata": {},
          "output_type": "execute_result"
        }
      ],
      "source": [
        "p.deriv(2) #second derivative of p"
      ]
    },
    {
      "cell_type": "markdown",
      "metadata": {
        "id": "Jp7ML3xAb2D8"
      },
      "source": [
        "A Polynomial object can also be integrated with an optional lower bound, L, and\n",
        "constant of integration, k. By default, L and k are zero, but can be specified by passing the arguments lbnd and k\n",
        "to the Polynomial.integ method."
      ]
    },
    {
      "cell_type": "code",
      "execution_count": null,
      "metadata": {
        "id": "CNmMmz2hb2D8",
        "outputId": "a97730cc-2870-4a4f-f603-4894b36bb82b"
      },
      "outputs": [
        {
          "data": {
            "text/latex": [
              "$x \\mapsto \\text{6.0} - \\text{5.0}\\,x + \\text{1.0}\\,x^{2}$"
            ],
            "text/plain": [
              "Polynomial([ 6., -5.,  1.], domain=[-1.,  1.], window=[-1.,  1.])"
            ]
          },
          "execution_count": 84,
          "metadata": {},
          "output_type": "execute_result"
        }
      ],
      "source": [
        "p"
      ]
    },
    {
      "cell_type": "code",
      "execution_count": null,
      "metadata": {
        "id": "1sTzPLWhb2D9",
        "outputId": "fab70600-1c98-402f-febb-98f00f066600"
      },
      "outputs": [
        {
          "data": {
            "text/latex": [
              "$x \\mapsto \\color{LightGray}{\\text{0.0}} + \\text{6.0}\\,x - \\text{2.5}\\,x^{2} + \\text{0.3333333333333333}\\,x^{3}$"
            ],
            "text/plain": [
              "Polynomial([ 0.        ,  6.        , -2.5       ,  0.33333333], domain=[-1.,  1.], window=[-1.,  1.])"
            ]
          },
          "execution_count": 85,
          "metadata": {},
          "output_type": "execute_result"
        }
      ],
      "source": [
        "p.integ()"
      ]
    },
    {
      "cell_type": "code",
      "execution_count": null,
      "metadata": {
        "id": "f92poJAIb2D9",
        "outputId": "bc956d00-b81c-4ad6-f933-a151e55aa0f3"
      },
      "outputs": [
        {
          "data": {
            "text/latex": [
              "$x \\mapsto \\text{-3.8333333333333335} + \\text{6.0}\\,x - \\text{2.5}\\,x^{2} + \\text{0.3333333333333333}\\,x^{3}$"
            ],
            "text/plain": [
              "Polynomial([-3.83333333,  6.        , -2.5       ,  0.33333333], domain=[-1.,  1.], window=[-1.,  1.])"
            ]
          },
          "execution_count": 87,
          "metadata": {},
          "output_type": "execute_result"
        }
      ],
      "source": [
        "p.integ(lbnd = 1)"
      ]
    },
    {
      "cell_type": "code",
      "execution_count": null,
      "metadata": {
        "id": "FPDo5KuFb2D-",
        "outputId": "309f6020-55bc-4a44-f357-5ca53ee7f9d9"
      },
      "outputs": [
        {
          "data": {
            "text/latex": [
              "$x \\mapsto \\text{-2.8333333333333335} + \\text{6.0}\\,x - \\text{2.5}\\,x^{2} + \\text{0.3333333333333333}\\,x^{3}$"
            ],
            "text/plain": [
              "Polynomial([-2.83333333,  6.        , -2.5       ,  0.33333333], domain=[-1.,  1.], window=[-1.,  1.])"
            ]
          },
          "execution_count": 92,
          "metadata": {},
          "output_type": "execute_result"
        }
      ],
      "source": [
        "p.integ(lbnd = 1, k = 1)"
      ]
    },
    {
      "cell_type": "markdown",
      "metadata": {
        "id": "D7KkuIQKb2D_"
      },
      "source": [
        "Polynomials can be integrated repeatedly by passing a value to m, giving the number of\n",
        "integrations to perform."
      ]
    },
    {
      "cell_type": "code",
      "execution_count": null,
      "metadata": {
        "id": "gxrL5YUtb2D_",
        "outputId": "40106cdd-c698-47ca-bebe-14f6fe5785ad"
      },
      "outputs": [
        {
          "data": {
            "text/latex": [
              "$x \\mapsto \\color{LightGray}{\\text{0.0}}\\color{LightGray}{ + \\text{0.0}\\,x}\\color{LightGray}{ + \\text{0.0}\\,x^{2}}\\color{LightGray}{ + \\text{0.0}\\,x^{3}}\\color{LightGray}{ + \\text{0.0}\\,x^{4}}\\color{LightGray}{ + \\text{0.0}\\,x^{5}} + \\text{0.008333333333333333}\\,x^{6} - \\text{0.0009920634920634922}\\,x^{7} + \\text{4.96031746031746e-05}\\,x^{8}$"
            ],
            "text/plain": [
              "Polynomial([ 0.00000000e+00,  0.00000000e+00,  0.00000000e+00,  0.00000000e+00,\n",
              "        0.00000000e+00,  0.00000000e+00,  8.33333333e-03, -9.92063492e-04,\n",
              "        4.96031746e-05], domain=[-1.,  1.], window=[-1.,  1.])"
            ]
          },
          "execution_count": 98,
          "metadata": {},
          "output_type": "execute_result"
        }
      ],
      "source": [
        "p.integ(m = 6)"
      ]
    }
  ],
  "metadata": {
    "kernelspec": {
      "display_name": "Python 3",
      "language": "python",
      "name": "python3"
    },
    "language_info": {
      "codemirror_mode": {
        "name": "ipython",
        "version": 3
      },
      "file_extension": ".py",
      "mimetype": "text/x-python",
      "name": "python",
      "nbconvert_exporter": "python",
      "pygments_lexer": "ipython3",
      "version": "3.8.5"
    },
    "colab": {
      "name": "numpy_nichola_lacey.ipynb",
      "provenance": []
    }
  },
  "nbformat": 4,
  "nbformat_minor": 0
}