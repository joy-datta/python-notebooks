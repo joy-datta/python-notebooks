{
 "cells": [
  {
   "cell_type": "markdown",
   "metadata": {},
   "source": [
    "# Rescaling a feature"
   ]
  },
  {
   "cell_type": "code",
   "execution_count": 5,
   "metadata": {},
   "outputs": [],
   "source": [
    "import numpy as np\n",
    "from sklearn.datasets import load_diabetes\n",
    "from sklearn import preprocessing"
   ]
  },
  {
   "cell_type": "code",
   "execution_count": 6,
   "metadata": {},
   "outputs": [],
   "source": [
    "dataset = load_diabetes()\n",
    "import pandas as pd\n",
    "df = pd.DataFrame(dataset.data, columns = dataset.feature_names)\n",
    "df[\"Y\"] = dataset.target"
   ]
  },
  {
   "cell_type": "code",
   "execution_count": 7,
   "metadata": {},
   "outputs": [
    {
     "data": {
      "text/html": [
       "<div>\n",
       "<style scoped>\n",
       "    .dataframe tbody tr th:only-of-type {\n",
       "        vertical-align: middle;\n",
       "    }\n",
       "\n",
       "    .dataframe tbody tr th {\n",
       "        vertical-align: top;\n",
       "    }\n",
       "\n",
       "    .dataframe thead th {\n",
       "        text-align: right;\n",
       "    }\n",
       "</style>\n",
       "<table border=\"1\" class=\"dataframe\">\n",
       "  <thead>\n",
       "    <tr style=\"text-align: right;\">\n",
       "      <th></th>\n",
       "      <th>age</th>\n",
       "      <th>sex</th>\n",
       "      <th>bmi</th>\n",
       "      <th>bp</th>\n",
       "      <th>s1</th>\n",
       "      <th>s2</th>\n",
       "      <th>s3</th>\n",
       "      <th>s4</th>\n",
       "      <th>s5</th>\n",
       "      <th>s6</th>\n",
       "      <th>Y</th>\n",
       "    </tr>\n",
       "  </thead>\n",
       "  <tbody>\n",
       "    <tr>\n",
       "      <th>0</th>\n",
       "      <td>0.038076</td>\n",
       "      <td>0.050680</td>\n",
       "      <td>0.061696</td>\n",
       "      <td>0.021872</td>\n",
       "      <td>-0.044223</td>\n",
       "      <td>-0.034821</td>\n",
       "      <td>-0.043401</td>\n",
       "      <td>-0.002592</td>\n",
       "      <td>0.019908</td>\n",
       "      <td>-0.017646</td>\n",
       "      <td>151.0</td>\n",
       "    </tr>\n",
       "    <tr>\n",
       "      <th>1</th>\n",
       "      <td>-0.001882</td>\n",
       "      <td>-0.044642</td>\n",
       "      <td>-0.051474</td>\n",
       "      <td>-0.026328</td>\n",
       "      <td>-0.008449</td>\n",
       "      <td>-0.019163</td>\n",
       "      <td>0.074412</td>\n",
       "      <td>-0.039493</td>\n",
       "      <td>-0.068330</td>\n",
       "      <td>-0.092204</td>\n",
       "      <td>75.0</td>\n",
       "    </tr>\n",
       "    <tr>\n",
       "      <th>2</th>\n",
       "      <td>0.085299</td>\n",
       "      <td>0.050680</td>\n",
       "      <td>0.044451</td>\n",
       "      <td>-0.005671</td>\n",
       "      <td>-0.045599</td>\n",
       "      <td>-0.034194</td>\n",
       "      <td>-0.032356</td>\n",
       "      <td>-0.002592</td>\n",
       "      <td>0.002864</td>\n",
       "      <td>-0.025930</td>\n",
       "      <td>141.0</td>\n",
       "    </tr>\n",
       "  </tbody>\n",
       "</table>\n",
       "</div>"
      ],
      "text/plain": [
       "        age       sex       bmi        bp        s1        s2        s3  \\\n",
       "0  0.038076  0.050680  0.061696  0.021872 -0.044223 -0.034821 -0.043401   \n",
       "1 -0.001882 -0.044642 -0.051474 -0.026328 -0.008449 -0.019163  0.074412   \n",
       "2  0.085299  0.050680  0.044451 -0.005671 -0.045599 -0.034194 -0.032356   \n",
       "\n",
       "         s4        s5        s6      Y  \n",
       "0 -0.002592  0.019908 -0.017646  151.0  \n",
       "1 -0.039493 -0.068330 -0.092204   75.0  \n",
       "2 -0.002592  0.002864 -0.025930  141.0  "
      ]
     },
     "execution_count": 7,
     "metadata": {},
     "output_type": "execute_result"
    }
   ],
   "source": [
    "df.head(3)"
   ]
  },
  {
   "cell_type": "code",
   "execution_count": 8,
   "metadata": {},
   "outputs": [],
   "source": [
    "min_max_scaler = preprocessing.MinMaxScaler(feature_range = (0, 1))"
   ]
  },
  {
   "cell_type": "code",
   "execution_count": 56,
   "metadata": {},
   "outputs": [
    {
     "data": {
      "text/html": [
       "<div>\n",
       "<style scoped>\n",
       "    .dataframe tbody tr th:only-of-type {\n",
       "        vertical-align: middle;\n",
       "    }\n",
       "\n",
       "    .dataframe tbody tr th {\n",
       "        vertical-align: top;\n",
       "    }\n",
       "\n",
       "    .dataframe thead th {\n",
       "        text-align: right;\n",
       "    }\n",
       "</style>\n",
       "<table border=\"1\" class=\"dataframe\">\n",
       "  <thead>\n",
       "    <tr style=\"text-align: right;\">\n",
       "      <th></th>\n",
       "      <th>age</th>\n",
       "      <th>sex</th>\n",
       "      <th>bmi</th>\n",
       "      <th>bp</th>\n",
       "      <th>s1</th>\n",
       "      <th>s2</th>\n",
       "      <th>s3</th>\n",
       "      <th>s4</th>\n",
       "      <th>s5</th>\n",
       "      <th>s6</th>\n",
       "      <th>Y</th>\n",
       "    </tr>\n",
       "  </thead>\n",
       "  <tbody>\n",
       "    <tr>\n",
       "      <th>0</th>\n",
       "      <td>0.666667</td>\n",
       "      <td>1.0</td>\n",
       "      <td>0.582645</td>\n",
       "      <td>0.549296</td>\n",
       "      <td>0.294118</td>\n",
       "      <td>0.256972</td>\n",
       "      <td>0.207792</td>\n",
       "      <td>0.282087</td>\n",
       "      <td>0.562217</td>\n",
       "      <td>0.439394</td>\n",
       "      <td>0.392523</td>\n",
       "    </tr>\n",
       "    <tr>\n",
       "      <th>1</th>\n",
       "      <td>0.483333</td>\n",
       "      <td>0.0</td>\n",
       "      <td>0.148760</td>\n",
       "      <td>0.352113</td>\n",
       "      <td>0.421569</td>\n",
       "      <td>0.306773</td>\n",
       "      <td>0.623377</td>\n",
       "      <td>0.141044</td>\n",
       "      <td>0.222443</td>\n",
       "      <td>0.166667</td>\n",
       "      <td>0.155763</td>\n",
       "    </tr>\n",
       "    <tr>\n",
       "      <th>2</th>\n",
       "      <td>0.883333</td>\n",
       "      <td>1.0</td>\n",
       "      <td>0.516529</td>\n",
       "      <td>0.436620</td>\n",
       "      <td>0.289216</td>\n",
       "      <td>0.258964</td>\n",
       "      <td>0.246753</td>\n",
       "      <td>0.282087</td>\n",
       "      <td>0.496584</td>\n",
       "      <td>0.409091</td>\n",
       "      <td>0.361371</td>\n",
       "    </tr>\n",
       "  </tbody>\n",
       "</table>\n",
       "</div>"
      ],
      "text/plain": [
       "        age  sex       bmi        bp        s1        s2        s3        s4  \\\n",
       "0  0.666667  1.0  0.582645  0.549296  0.294118  0.256972  0.207792  0.282087   \n",
       "1  0.483333  0.0  0.148760  0.352113  0.421569  0.306773  0.623377  0.141044   \n",
       "2  0.883333  1.0  0.516529  0.436620  0.289216  0.258964  0.246753  0.282087   \n",
       "\n",
       "         s5        s6         Y  \n",
       "0  0.562217  0.439394  0.392523  \n",
       "1  0.222443  0.166667  0.155763  \n",
       "2  0.496584  0.409091  0.361371  "
      ]
     },
     "execution_count": 56,
     "metadata": {},
     "output_type": "execute_result"
    }
   ],
   "source": [
    "scaled_df = min_max_scaler.fit_transform(df)\n",
    "scaled_df = pd.DataFrame(scaled_df, columns = df.columns)\n",
    "scaled_df.head(3)"
   ]
  },
  {
   "cell_type": "code",
   "execution_count": 13,
   "metadata": {},
   "outputs": [],
   "source": [
    "var_names = {}\n",
    "count = 0\n",
    "for var in dataset.feature_names:\n",
    "    var_names[count] = var\n",
    "    count += 1"
   ]
  },
  {
   "cell_type": "code",
   "execution_count": 14,
   "metadata": {},
   "outputs": [
    {
     "data": {
      "text/plain": [
       "{0: 'age',\n",
       " 1: 'sex',\n",
       " 2: 'bmi',\n",
       " 3: 'bp',\n",
       " 4: 's1',\n",
       " 5: 's2',\n",
       " 6: 's3',\n",
       " 7: 's4',\n",
       " 8: 's5',\n",
       " 9: 's6'}"
      ]
     },
     "execution_count": 14,
     "metadata": {},
     "output_type": "execute_result"
    }
   ],
   "source": [
    "var_names"
   ]
  },
  {
   "cell_type": "code",
   "execution_count": 15,
   "metadata": {},
   "outputs": [],
   "source": [
    "var_names[10] = \"Y\""
   ]
  },
  {
   "cell_type": "code",
   "execution_count": 16,
   "metadata": {},
   "outputs": [
    {
     "data": {
      "text/plain": [
       "{0: 'age',\n",
       " 1: 'sex',\n",
       " 2: 'bmi',\n",
       " 3: 'bp',\n",
       " 4: 's1',\n",
       " 5: 's2',\n",
       " 6: 's3',\n",
       " 7: 's4',\n",
       " 8: 's5',\n",
       " 9: 's6',\n",
       " 10: 'Y'}"
      ]
     },
     "execution_count": 16,
     "metadata": {},
     "output_type": "execute_result"
    }
   ],
   "source": [
    "var_names"
   ]
  },
  {
   "cell_type": "code",
   "execution_count": 19,
   "metadata": {},
   "outputs": [
    {
     "data": {
      "text/html": [
       "<div>\n",
       "<style scoped>\n",
       "    .dataframe tbody tr th:only-of-type {\n",
       "        vertical-align: middle;\n",
       "    }\n",
       "\n",
       "    .dataframe tbody tr th {\n",
       "        vertical-align: top;\n",
       "    }\n",
       "\n",
       "    .dataframe thead th {\n",
       "        text-align: right;\n",
       "    }\n",
       "</style>\n",
       "<table border=\"1\" class=\"dataframe\">\n",
       "  <thead>\n",
       "    <tr style=\"text-align: right;\">\n",
       "      <th></th>\n",
       "      <th>age</th>\n",
       "      <th>sex</th>\n",
       "      <th>bmi</th>\n",
       "      <th>bp</th>\n",
       "      <th>s1</th>\n",
       "      <th>s2</th>\n",
       "      <th>s3</th>\n",
       "      <th>s4</th>\n",
       "      <th>s5</th>\n",
       "      <th>s6</th>\n",
       "      <th>Y</th>\n",
       "    </tr>\n",
       "  </thead>\n",
       "  <tbody>\n",
       "    <tr>\n",
       "      <th>0</th>\n",
       "      <td>0.666667</td>\n",
       "      <td>1.0</td>\n",
       "      <td>0.582645</td>\n",
       "      <td>0.549296</td>\n",
       "      <td>0.294118</td>\n",
       "      <td>0.256972</td>\n",
       "      <td>0.207792</td>\n",
       "      <td>0.282087</td>\n",
       "      <td>0.562217</td>\n",
       "      <td>0.439394</td>\n",
       "      <td>0.392523</td>\n",
       "    </tr>\n",
       "    <tr>\n",
       "      <th>1</th>\n",
       "      <td>0.483333</td>\n",
       "      <td>0.0</td>\n",
       "      <td>0.148760</td>\n",
       "      <td>0.352113</td>\n",
       "      <td>0.421569</td>\n",
       "      <td>0.306773</td>\n",
       "      <td>0.623377</td>\n",
       "      <td>0.141044</td>\n",
       "      <td>0.222443</td>\n",
       "      <td>0.166667</td>\n",
       "      <td>0.155763</td>\n",
       "    </tr>\n",
       "    <tr>\n",
       "      <th>2</th>\n",
       "      <td>0.883333</td>\n",
       "      <td>1.0</td>\n",
       "      <td>0.516529</td>\n",
       "      <td>0.436620</td>\n",
       "      <td>0.289216</td>\n",
       "      <td>0.258964</td>\n",
       "      <td>0.246753</td>\n",
       "      <td>0.282087</td>\n",
       "      <td>0.496584</td>\n",
       "      <td>0.409091</td>\n",
       "      <td>0.361371</td>\n",
       "    </tr>\n",
       "  </tbody>\n",
       "</table>\n",
       "</div>"
      ],
      "text/plain": [
       "        age  sex       bmi        bp        s1        s2        s3        s4  \\\n",
       "0  0.666667  1.0  0.582645  0.549296  0.294118  0.256972  0.207792  0.282087   \n",
       "1  0.483333  0.0  0.148760  0.352113  0.421569  0.306773  0.623377  0.141044   \n",
       "2  0.883333  1.0  0.516529  0.436620  0.289216  0.258964  0.246753  0.282087   \n",
       "\n",
       "         s5        s6         Y  \n",
       "0  0.562217  0.439394  0.392523  \n",
       "1  0.222443  0.166667  0.155763  \n",
       "2  0.496584  0.409091  0.361371  "
      ]
     },
     "execution_count": 19,
     "metadata": {},
     "output_type": "execute_result"
    }
   ],
   "source": [
    "scaled_df.rename(columns = var_names, inplace = True)\n",
    "scaled_df.head(3)"
   ]
  },
  {
   "cell_type": "code",
   "execution_count": 29,
   "metadata": {},
   "outputs": [
    {
     "data": {
      "text/plain": [
       "(age    0.0\n",
       " sex    0.0\n",
       " bmi    0.0\n",
       " bp     0.0\n",
       " s1     0.0\n",
       " s2     0.0\n",
       " s3     0.0\n",
       " s4     0.0\n",
       " s5     0.0\n",
       " s6     0.0\n",
       " Y      0.0\n",
       " dtype: float64,\n",
       " age    1.0\n",
       " sex    1.0\n",
       " bmi    1.0\n",
       " bp     1.0\n",
       " s1     1.0\n",
       " s2     1.0\n",
       " s3     1.0\n",
       " s4     1.0\n",
       " s5     1.0\n",
       " s6     1.0\n",
       " Y      1.0\n",
       " dtype: float64)"
      ]
     },
     "execution_count": 29,
     "metadata": {},
     "output_type": "execute_result"
    }
   ],
   "source": [
    "scaled_df.min(), scaled_df.max()"
   ]
  },
  {
   "cell_type": "markdown",
   "metadata": {},
   "source": [
    "# Standardizing a feature"
   ]
  },
  {
   "cell_type": "markdown",
   "metadata": {},
   "source": [
    "**Mean 0, std 1**"
   ]
  },
  {
   "cell_type": "code",
   "execution_count": 55,
   "metadata": {},
   "outputs": [
    {
     "data": {
      "text/html": [
       "<div>\n",
       "<style scoped>\n",
       "    .dataframe tbody tr th:only-of-type {\n",
       "        vertical-align: middle;\n",
       "    }\n",
       "\n",
       "    .dataframe tbody tr th {\n",
       "        vertical-align: top;\n",
       "    }\n",
       "\n",
       "    .dataframe thead th {\n",
       "        text-align: right;\n",
       "    }\n",
       "</style>\n",
       "<table border=\"1\" class=\"dataframe\">\n",
       "  <thead>\n",
       "    <tr style=\"text-align: right;\">\n",
       "      <th></th>\n",
       "      <th>age</th>\n",
       "      <th>sex</th>\n",
       "      <th>bmi</th>\n",
       "      <th>bp</th>\n",
       "      <th>s1</th>\n",
       "      <th>s2</th>\n",
       "      <th>s3</th>\n",
       "      <th>s4</th>\n",
       "      <th>s5</th>\n",
       "      <th>s6</th>\n",
       "      <th>Y</th>\n",
       "    </tr>\n",
       "  </thead>\n",
       "  <tbody>\n",
       "    <tr>\n",
       "      <th>0</th>\n",
       "      <td>0.800500</td>\n",
       "      <td>1.065488</td>\n",
       "      <td>1.297088</td>\n",
       "      <td>0.459840</td>\n",
       "      <td>-0.929746</td>\n",
       "      <td>-0.732065</td>\n",
       "      <td>-0.912451</td>\n",
       "      <td>-0.054499</td>\n",
       "      <td>0.418551</td>\n",
       "      <td>-0.370989</td>\n",
       "      <td>-0.014719</td>\n",
       "    </tr>\n",
       "    <tr>\n",
       "      <th>1</th>\n",
       "      <td>-0.039567</td>\n",
       "      <td>-0.938537</td>\n",
       "      <td>-1.082180</td>\n",
       "      <td>-0.553511</td>\n",
       "      <td>-0.177624</td>\n",
       "      <td>-0.402886</td>\n",
       "      <td>1.564414</td>\n",
       "      <td>-0.830301</td>\n",
       "      <td>-1.436551</td>\n",
       "      <td>-1.938479</td>\n",
       "      <td>-1.001659</td>\n",
       "    </tr>\n",
       "    <tr>\n",
       "      <th>2</th>\n",
       "      <td>1.793307</td>\n",
       "      <td>1.065488</td>\n",
       "      <td>0.934533</td>\n",
       "      <td>-0.119218</td>\n",
       "      <td>-0.958674</td>\n",
       "      <td>-0.718897</td>\n",
       "      <td>-0.680245</td>\n",
       "      <td>-0.054499</td>\n",
       "      <td>0.060207</td>\n",
       "      <td>-0.545154</td>\n",
       "      <td>-0.144580</td>\n",
       "    </tr>\n",
       "  </tbody>\n",
       "</table>\n",
       "</div>"
      ],
      "text/plain": [
       "        age       sex       bmi        bp        s1        s2        s3  \\\n",
       "0  0.800500  1.065488  1.297088  0.459840 -0.929746 -0.732065 -0.912451   \n",
       "1 -0.039567 -0.938537 -1.082180 -0.553511 -0.177624 -0.402886  1.564414   \n",
       "2  1.793307  1.065488  0.934533 -0.119218 -0.958674 -0.718897 -0.680245   \n",
       "\n",
       "         s4        s5        s6         Y  \n",
       "0 -0.054499  0.418551 -0.370989 -0.014719  \n",
       "1 -0.830301 -1.436551 -1.938479 -1.001659  \n",
       "2 -0.054499  0.060207 -0.545154 -0.144580  "
      ]
     },
     "execution_count": 55,
     "metadata": {},
     "output_type": "execute_result"
    }
   ],
   "source": [
    "scaler = preprocessing.StandardScaler()\n",
    "standardized = scaler.fit_transform(df)\n",
    "standardized = pd.DataFrame(standardized, columns = df.columns)\n",
    "standardized.head(3)"
   ]
  },
  {
   "cell_type": "code",
   "execution_count": 32,
   "metadata": {},
   "outputs": [
    {
     "data": {
      "text/plain": [
       "(0    -2.254290\n",
       " 1    -0.938537\n",
       " 2    -1.897929\n",
       " 3    -2.363066\n",
       " 4    -2.665411\n",
       " 5    -2.430626\n",
       " 6    -2.150883\n",
       " 7    -1.606102\n",
       " 8    -2.651046\n",
       " 9    -2.896390\n",
       " 10   -1.650961\n",
       " dtype: float64,\n",
       " 0     2.327895\n",
       " 1     1.065488\n",
       " 2     3.585718\n",
       " 3     2.776071\n",
       " 4     3.235851\n",
       " 5     4.179278\n",
       " 6     3.809072\n",
       " 7     3.894331\n",
       " 8     2.808758\n",
       " 9     2.851075\n",
       " 10    2.517559\n",
       " dtype: float64)"
      ]
     },
     "execution_count": 32,
     "metadata": {},
     "output_type": "execute_result"
    }
   ],
   "source": [
    "standardized.min(), standardized.max()"
   ]
  },
  {
   "cell_type": "code",
   "execution_count": 36,
   "metadata": {},
   "outputs": [
    {
     "data": {
      "text/plain": [
       "(0    -0.0\n",
       " 1    -0.0\n",
       " 2    -0.0\n",
       " 3    -0.0\n",
       " 4     0.0\n",
       " 5    -0.0\n",
       " 6    -0.0\n",
       " 7    -0.0\n",
       " 8    -0.0\n",
       " 9    -0.0\n",
       " 10   -0.0\n",
       " dtype: float64,\n",
       " 0     1.0\n",
       " 1     1.0\n",
       " 2     1.0\n",
       " 3     1.0\n",
       " 4     1.0\n",
       " 5     1.0\n",
       " 6     1.0\n",
       " 7     1.0\n",
       " 8     1.0\n",
       " 9     1.0\n",
       " 10    1.0\n",
       " dtype: float64)"
      ]
     },
     "execution_count": 36,
     "metadata": {},
     "output_type": "execute_result"
    }
   ],
   "source": [
    "round(standardized.mean()), round(standardized.std())"
   ]
  },
  {
   "cell_type": "markdown",
   "metadata": {},
   "source": [
    "**If the dataset has significant outliers, it can negatively impact the standardization by affecting the feature's mean and variance. It is often helpful to instead rescale the feature using the median and quartile range. In scikit-learn use RobustScaler to do this.**"
   ]
  },
  {
   "cell_type": "code",
   "execution_count": 52,
   "metadata": {},
   "outputs": [
    {
     "data": {
      "text/html": [
       "<div>\n",
       "<style scoped>\n",
       "    .dataframe tbody tr th:only-of-type {\n",
       "        vertical-align: middle;\n",
       "    }\n",
       "\n",
       "    .dataframe tbody tr th {\n",
       "        vertical-align: top;\n",
       "    }\n",
       "\n",
       "    .dataframe thead th {\n",
       "        text-align: right;\n",
       "    }\n",
       "</style>\n",
       "<table border=\"1\" class=\"dataframe\">\n",
       "  <thead>\n",
       "    <tr style=\"text-align: right;\">\n",
       "      <th></th>\n",
       "      <th>0</th>\n",
       "      <th>1</th>\n",
       "      <th>2</th>\n",
       "      <th>3</th>\n",
       "      <th>4</th>\n",
       "      <th>5</th>\n",
       "      <th>6</th>\n",
       "      <th>7</th>\n",
       "      <th>8</th>\n",
       "      <th>9</th>\n",
       "      <th>10</th>\n",
       "    </tr>\n",
       "  </thead>\n",
       "  <tbody>\n",
       "    <tr>\n",
       "      <th>0</th>\n",
       "      <td>0.433735</td>\n",
       "      <td>1.0</td>\n",
       "      <td>1.053498</td>\n",
       "      <td>0.380952</td>\n",
       "      <td>-0.637363</td>\n",
       "      <td>-0.514954</td>\n",
       "      <td>-0.571429</td>\n",
       "      <td>0.0</td>\n",
       "      <td>0.332756</td>\n",
       "      <td>-0.271186</td>\n",
       "      <td>0.084337</td>\n",
       "    </tr>\n",
       "    <tr>\n",
       "      <th>1</th>\n",
       "      <td>-0.096386</td>\n",
       "      <td>0.0</td>\n",
       "      <td>-0.674897</td>\n",
       "      <td>-0.285714</td>\n",
       "      <td>-0.065934</td>\n",
       "      <td>-0.254876</td>\n",
       "      <td>1.257143</td>\n",
       "      <td>-0.5</td>\n",
       "      <td>-1.010659</td>\n",
       "      <td>-1.491525</td>\n",
       "      <td>-0.526104</td>\n",
       "    </tr>\n",
       "    <tr>\n",
       "      <th>2</th>\n",
       "      <td>1.060241</td>\n",
       "      <td>1.0</td>\n",
       "      <td>0.790123</td>\n",
       "      <td>0.000000</td>\n",
       "      <td>-0.659341</td>\n",
       "      <td>-0.504551</td>\n",
       "      <td>-0.400000</td>\n",
       "      <td>0.0</td>\n",
       "      <td>0.073253</td>\n",
       "      <td>-0.406780</td>\n",
       "      <td>0.004016</td>\n",
       "    </tr>\n",
       "  </tbody>\n",
       "</table>\n",
       "</div>"
      ],
      "text/plain": [
       "         0    1         2         3         4         5         6    7   \\\n",
       "0  0.433735  1.0  1.053498  0.380952 -0.637363 -0.514954 -0.571429  0.0   \n",
       "1 -0.096386  0.0 -0.674897 -0.285714 -0.065934 -0.254876  1.257143 -0.5   \n",
       "2  1.060241  1.0  0.790123  0.000000 -0.659341 -0.504551 -0.400000  0.0   \n",
       "\n",
       "         8         9         10  \n",
       "0  0.332756 -0.271186  0.084337  \n",
       "1 -1.010659 -1.491525 -0.526104  \n",
       "2  0.073253 -0.406780  0.004016  "
      ]
     },
     "execution_count": 52,
     "metadata": {},
     "output_type": "execute_result"
    }
   ],
   "source": [
    "robust_scaler = preprocessing.RobustScaler()\n",
    "scaled = robust_scaler.fit_transform(df)\n",
    "scaled = pd.DataFrame(scaled)\n",
    "scaled.head(3)"
   ]
  },
  {
   "cell_type": "code",
   "execution_count": 40,
   "metadata": {},
   "outputs": [
    {
     "data": {
      "text/plain": [
       "(0    -1.493976\n",
       " 1     0.000000\n",
       " 2    -1.267490\n",
       " 3    -1.476190\n",
       " 4    -1.956044\n",
       " 5    -1.856957\n",
       " 6    -1.485714\n",
       " 7    -1.000000\n",
       " 8    -1.890164\n",
       " 9    -2.237288\n",
       " 10   -0.927711\n",
       " dtype: float64,\n",
       " 0     1.397590\n",
       " 1     1.000000\n",
       " 2     2.716049\n",
       " 3     1.904762\n",
       " 4     2.527473\n",
       " 5     3.365410\n",
       " 6     2.914286\n",
       " 7     2.545000\n",
       " 8     2.063679\n",
       " 9     2.237288\n",
       " 10    1.650602\n",
       " dtype: float64)"
      ]
     },
     "execution_count": 40,
     "metadata": {},
     "output_type": "execute_result"
    }
   ],
   "source": [
    "scaled.min(), scaled.max()"
   ]
  },
  {
   "cell_type": "code",
   "execution_count": 42,
   "metadata": {},
   "outputs": [
    {
     "data": {
      "text/plain": [
       "(0    -0.0\n",
       " 1     0.0\n",
       " 2     0.0\n",
       " 3     0.0\n",
       " 4     0.0\n",
       " 5     0.0\n",
       " 6     0.0\n",
       " 7     0.0\n",
       " 8     0.0\n",
       " 9     0.0\n",
       " 10    0.0\n",
       " dtype: float64,\n",
       " 0     1.0\n",
       " 1     0.0\n",
       " 2     1.0\n",
       " 3     1.0\n",
       " 4     1.0\n",
       " 5     1.0\n",
       " 6     1.0\n",
       " 7     1.0\n",
       " 8     1.0\n",
       " 9     1.0\n",
       " 10    1.0\n",
       " dtype: float64)"
      ]
     },
     "execution_count": 42,
     "metadata": {},
     "output_type": "execute_result"
    }
   ],
   "source": [
    "round(scaled.mean()), round(scaled.std())"
   ]
  },
  {
   "cell_type": "markdown",
   "metadata": {},
   "source": [
    "# Normalizing observations"
   ]
  },
  {
   "cell_type": "markdown",
   "metadata": {},
   "source": [
    "**Rescale the feature values of observations to have unit norm (a total length of 1).**"
   ]
  },
  {
   "cell_type": "code",
   "execution_count": 43,
   "metadata": {},
   "outputs": [],
   "source": [
    "from sklearn.preprocessing import Normalizer"
   ]
  },
  {
   "cell_type": "code",
   "execution_count": 76,
   "metadata": {},
   "outputs": [],
   "source": [
    "normalizer = Normalizer(norm = \"l2\")"
   ]
  },
  {
   "cell_type": "code",
   "execution_count": 79,
   "metadata": {},
   "outputs": [
    {
     "name": "stderr",
     "output_type": "stream",
     "text": [
      "C:\\Users\\HP\\anaconda3\\lib\\site-packages\\sklearn\\base.py:434: UserWarning: X has feature names, but Normalizer was fitted without feature names\n",
      "  warnings.warn(\n"
     ]
    },
    {
     "data": {
      "text/html": [
       "<div>\n",
       "<style scoped>\n",
       "    .dataframe tbody tr th:only-of-type {\n",
       "        vertical-align: middle;\n",
       "    }\n",
       "\n",
       "    .dataframe tbody tr th {\n",
       "        vertical-align: top;\n",
       "    }\n",
       "\n",
       "    .dataframe thead th {\n",
       "        text-align: right;\n",
       "    }\n",
       "</style>\n",
       "<table border=\"1\" class=\"dataframe\">\n",
       "  <thead>\n",
       "    <tr style=\"text-align: right;\">\n",
       "      <th></th>\n",
       "      <th>age</th>\n",
       "      <th>sex</th>\n",
       "      <th>bmi</th>\n",
       "      <th>bp</th>\n",
       "      <th>s1</th>\n",
       "      <th>s2</th>\n",
       "      <th>s3</th>\n",
       "      <th>s4</th>\n",
       "      <th>s5</th>\n",
       "      <th>s6</th>\n",
       "      <th>Y</th>\n",
       "    </tr>\n",
       "  </thead>\n",
       "  <tbody>\n",
       "    <tr>\n",
       "      <th>0</th>\n",
       "      <td>0.000252</td>\n",
       "      <td>0.000336</td>\n",
       "      <td>0.000409</td>\n",
       "      <td>0.000145</td>\n",
       "      <td>-0.000293</td>\n",
       "      <td>-0.000231</td>\n",
       "      <td>-0.000287</td>\n",
       "      <td>-0.000017</td>\n",
       "      <td>0.000132</td>\n",
       "      <td>-0.000117</td>\n",
       "      <td>1.000000</td>\n",
       "    </tr>\n",
       "    <tr>\n",
       "      <th>1</th>\n",
       "      <td>-0.000025</td>\n",
       "      <td>-0.000595</td>\n",
       "      <td>-0.000686</td>\n",
       "      <td>-0.000351</td>\n",
       "      <td>-0.000113</td>\n",
       "      <td>-0.000256</td>\n",
       "      <td>0.000992</td>\n",
       "      <td>-0.000527</td>\n",
       "      <td>-0.000911</td>\n",
       "      <td>-0.001229</td>\n",
       "      <td>0.999998</td>\n",
       "    </tr>\n",
       "    <tr>\n",
       "      <th>2</th>\n",
       "      <td>0.000605</td>\n",
       "      <td>0.000359</td>\n",
       "      <td>0.000315</td>\n",
       "      <td>-0.000040</td>\n",
       "      <td>-0.000323</td>\n",
       "      <td>-0.000243</td>\n",
       "      <td>-0.000229</td>\n",
       "      <td>-0.000018</td>\n",
       "      <td>0.000020</td>\n",
       "      <td>-0.000184</td>\n",
       "      <td>1.000000</td>\n",
       "    </tr>\n",
       "  </tbody>\n",
       "</table>\n",
       "</div>"
      ],
      "text/plain": [
       "        age       sex       bmi        bp        s1        s2        s3  \\\n",
       "0  0.000252  0.000336  0.000409  0.000145 -0.000293 -0.000231 -0.000287   \n",
       "1 -0.000025 -0.000595 -0.000686 -0.000351 -0.000113 -0.000256  0.000992   \n",
       "2  0.000605  0.000359  0.000315 -0.000040 -0.000323 -0.000243 -0.000229   \n",
       "\n",
       "         s4        s5        s6         Y  \n",
       "0 -0.000017  0.000132 -0.000117  1.000000  \n",
       "1 -0.000527 -0.000911 -0.001229  0.999998  \n",
       "2 -0.000018  0.000020 -0.000184  1.000000  "
      ]
     },
     "execution_count": 79,
     "metadata": {},
     "output_type": "execute_result"
    }
   ],
   "source": [
    "normalized_df = normalizer.transform(df)\n",
    "normalized_df = pd.DataFrame(normalized_df, columns = df.columns)\n",
    "normalized_df.head(3)"
   ]
  },
  {
   "cell_type": "code",
   "execution_count": 80,
   "metadata": {},
   "outputs": [],
   "source": [
    "#if the features and target names are rescaled then when converting the rescaled data to a dataframe use columns = df.columns to get the feature names"
   ]
  },
  {
   "cell_type": "code",
   "execution_count": 82,
   "metadata": {},
   "outputs": [
    {
     "name": "stderr",
     "output_type": "stream",
     "text": [
      "C:\\Users\\HP\\anaconda3\\lib\\site-packages\\sklearn\\base.py:434: UserWarning: X has feature names, but Normalizer was fitted without feature names\n",
      "  warnings.warn(\n"
     ]
    },
    {
     "data": {
      "text/html": [
       "<div>\n",
       "<style scoped>\n",
       "    .dataframe tbody tr th:only-of-type {\n",
       "        vertical-align: middle;\n",
       "    }\n",
       "\n",
       "    .dataframe tbody tr th {\n",
       "        vertical-align: top;\n",
       "    }\n",
       "\n",
       "    .dataframe thead th {\n",
       "        text-align: right;\n",
       "    }\n",
       "</style>\n",
       "<table border=\"1\" class=\"dataframe\">\n",
       "  <thead>\n",
       "    <tr style=\"text-align: right;\">\n",
       "      <th></th>\n",
       "      <th>0</th>\n",
       "      <th>1</th>\n",
       "      <th>2</th>\n",
       "      <th>3</th>\n",
       "      <th>4</th>\n",
       "      <th>5</th>\n",
       "      <th>6</th>\n",
       "      <th>7</th>\n",
       "      <th>8</th>\n",
       "      <th>9</th>\n",
       "      <th>10</th>\n",
       "    </tr>\n",
       "  </thead>\n",
       "  <tbody>\n",
       "    <tr>\n",
       "      <th>0</th>\n",
       "      <td>0.000252</td>\n",
       "      <td>0.000335</td>\n",
       "      <td>0.000408</td>\n",
       "      <td>0.000145</td>\n",
       "      <td>-0.000292</td>\n",
       "      <td>-0.000230</td>\n",
       "      <td>-0.000287</td>\n",
       "      <td>-0.000017</td>\n",
       "      <td>0.000132</td>\n",
       "      <td>-0.000117</td>\n",
       "      <td>0.997787</td>\n",
       "    </tr>\n",
       "    <tr>\n",
       "      <th>1</th>\n",
       "      <td>-0.000025</td>\n",
       "      <td>-0.000592</td>\n",
       "      <td>-0.000682</td>\n",
       "      <td>-0.000349</td>\n",
       "      <td>-0.000112</td>\n",
       "      <td>-0.000254</td>\n",
       "      <td>0.000987</td>\n",
       "      <td>-0.000524</td>\n",
       "      <td>-0.000906</td>\n",
       "      <td>-0.001222</td>\n",
       "      <td>0.994347</td>\n",
       "    </tr>\n",
       "    <tr>\n",
       "      <th>2</th>\n",
       "      <td>0.000604</td>\n",
       "      <td>0.000359</td>\n",
       "      <td>0.000315</td>\n",
       "      <td>-0.000040</td>\n",
       "      <td>-0.000323</td>\n",
       "      <td>-0.000242</td>\n",
       "      <td>-0.000229</td>\n",
       "      <td>-0.000018</td>\n",
       "      <td>0.000020</td>\n",
       "      <td>-0.000183</td>\n",
       "      <td>0.997668</td>\n",
       "    </tr>\n",
       "  </tbody>\n",
       "</table>\n",
       "</div>"
      ],
      "text/plain": [
       "         0         1         2         3         4         5         6   \\\n",
       "0  0.000252  0.000335  0.000408  0.000145 -0.000292 -0.000230 -0.000287   \n",
       "1 -0.000025 -0.000592 -0.000682 -0.000349 -0.000112 -0.000254  0.000987   \n",
       "2  0.000604  0.000359  0.000315 -0.000040 -0.000323 -0.000242 -0.000229   \n",
       "\n",
       "         7         8         9         10  \n",
       "0 -0.000017  0.000132 -0.000117  0.997787  \n",
       "1 -0.000524 -0.000906 -0.001222  0.994347  \n",
       "2 -0.000018  0.000020 -0.000183  0.997668  "
      ]
     },
     "execution_count": 82,
     "metadata": {},
     "output_type": "execute_result"
    }
   ],
   "source": [
    "l1 = Normalizer(norm = \"l1\").transform(df)\n",
    "l1 = pd.DataFrame(l1)\n",
    "l1.head(3)"
   ]
  },
  {
   "cell_type": "markdown",
   "metadata": {},
   "source": [
    "# Generating polynomial and interaction features"
   ]
  },
  {
   "cell_type": "code",
   "execution_count": 83,
   "metadata": {},
   "outputs": [],
   "source": [
    "from sklearn.preprocessing import PolynomialFeatures"
   ]
  },
  {
   "cell_type": "code",
   "execution_count": 91,
   "metadata": {},
   "outputs": [
    {
     "data": {
      "text/html": [
       "<div>\n",
       "<style scoped>\n",
       "    .dataframe tbody tr th:only-of-type {\n",
       "        vertical-align: middle;\n",
       "    }\n",
       "\n",
       "    .dataframe tbody tr th {\n",
       "        vertical-align: top;\n",
       "    }\n",
       "\n",
       "    .dataframe thead th {\n",
       "        text-align: right;\n",
       "    }\n",
       "</style>\n",
       "<table border=\"1\" class=\"dataframe\">\n",
       "  <thead>\n",
       "    <tr style=\"text-align: right;\">\n",
       "      <th></th>\n",
       "      <th>0</th>\n",
       "      <th>1</th>\n",
       "      <th>2</th>\n",
       "      <th>3</th>\n",
       "      <th>4</th>\n",
       "      <th>5</th>\n",
       "      <th>6</th>\n",
       "      <th>7</th>\n",
       "      <th>8</th>\n",
       "      <th>9</th>\n",
       "      <th>...</th>\n",
       "      <th>67</th>\n",
       "      <th>68</th>\n",
       "      <th>69</th>\n",
       "      <th>70</th>\n",
       "      <th>71</th>\n",
       "      <th>72</th>\n",
       "      <th>73</th>\n",
       "      <th>74</th>\n",
       "      <th>75</th>\n",
       "      <th>76</th>\n",
       "    </tr>\n",
       "  </thead>\n",
       "  <tbody>\n",
       "    <tr>\n",
       "      <th>0</th>\n",
       "      <td>0.038076</td>\n",
       "      <td>0.050680</td>\n",
       "      <td>0.061696</td>\n",
       "      <td>0.021872</td>\n",
       "      <td>-0.044223</td>\n",
       "      <td>-0.034821</td>\n",
       "      <td>-0.043401</td>\n",
       "      <td>-0.002592</td>\n",
       "      <td>0.019908</td>\n",
       "      <td>-0.017646</td>\n",
       "      <td>...</td>\n",
       "      <td>0.000007</td>\n",
       "      <td>-0.000052</td>\n",
       "      <td>0.000046</td>\n",
       "      <td>-0.391432</td>\n",
       "      <td>0.000396</td>\n",
       "      <td>-0.000351</td>\n",
       "      <td>3.006172</td>\n",
       "      <td>0.000311</td>\n",
       "      <td>-2.664565</td>\n",
       "      <td>22801.0</td>\n",
       "    </tr>\n",
       "    <tr>\n",
       "      <th>1</th>\n",
       "      <td>-0.001882</td>\n",
       "      <td>-0.044642</td>\n",
       "      <td>-0.051474</td>\n",
       "      <td>-0.026328</td>\n",
       "      <td>-0.008449</td>\n",
       "      <td>-0.019163</td>\n",
       "      <td>0.074412</td>\n",
       "      <td>-0.039493</td>\n",
       "      <td>-0.068330</td>\n",
       "      <td>-0.092204</td>\n",
       "      <td>...</td>\n",
       "      <td>0.001560</td>\n",
       "      <td>0.002699</td>\n",
       "      <td>0.003641</td>\n",
       "      <td>-2.962004</td>\n",
       "      <td>0.004669</td>\n",
       "      <td>0.006300</td>\n",
       "      <td>-5.124731</td>\n",
       "      <td>0.008502</td>\n",
       "      <td>-6.915304</td>\n",
       "      <td>5625.0</td>\n",
       "    </tr>\n",
       "    <tr>\n",
       "      <th>2</th>\n",
       "      <td>0.085299</td>\n",
       "      <td>0.050680</td>\n",
       "      <td>0.044451</td>\n",
       "      <td>-0.005671</td>\n",
       "      <td>-0.045599</td>\n",
       "      <td>-0.034194</td>\n",
       "      <td>-0.032356</td>\n",
       "      <td>-0.002592</td>\n",
       "      <td>0.002864</td>\n",
       "      <td>-0.025930</td>\n",
       "      <td>...</td>\n",
       "      <td>0.000007</td>\n",
       "      <td>-0.000007</td>\n",
       "      <td>0.000067</td>\n",
       "      <td>-0.365509</td>\n",
       "      <td>0.000008</td>\n",
       "      <td>-0.000074</td>\n",
       "      <td>0.403792</td>\n",
       "      <td>0.000672</td>\n",
       "      <td>-3.656178</td>\n",
       "      <td>19881.0</td>\n",
       "    </tr>\n",
       "  </tbody>\n",
       "</table>\n",
       "<p>3 rows × 77 columns</p>\n",
       "</div>"
      ],
      "text/plain": [
       "         0         1         2         3         4         5         6   \\\n",
       "0  0.038076  0.050680  0.061696  0.021872 -0.044223 -0.034821 -0.043401   \n",
       "1 -0.001882 -0.044642 -0.051474 -0.026328 -0.008449 -0.019163  0.074412   \n",
       "2  0.085299  0.050680  0.044451 -0.005671 -0.045599 -0.034194 -0.032356   \n",
       "\n",
       "         7         8         9   ...        67        68        69        70  \\\n",
       "0 -0.002592  0.019908 -0.017646  ...  0.000007 -0.000052  0.000046 -0.391432   \n",
       "1 -0.039493 -0.068330 -0.092204  ...  0.001560  0.002699  0.003641 -2.962004   \n",
       "2 -0.002592  0.002864 -0.025930  ...  0.000007 -0.000007  0.000067 -0.365509   \n",
       "\n",
       "         71        72        73        74        75       76  \n",
       "0  0.000396 -0.000351  3.006172  0.000311 -2.664565  22801.0  \n",
       "1  0.004669  0.006300 -5.124731  0.008502 -6.915304   5625.0  \n",
       "2  0.000008 -0.000074  0.403792  0.000672 -3.656178  19881.0  \n",
       "\n",
       "[3 rows x 77 columns]"
      ]
     },
     "execution_count": 91,
     "metadata": {},
     "output_type": "execute_result"
    }
   ],
   "source": [
    "polynomial_interaction = PolynomialFeatures(degree = 2, include_bias = False)\n",
    "pd.DataFrame(polynomial_interaction.fit_transform(df)).head(3)"
   ]
  },
  {
   "cell_type": "markdown",
   "metadata": {},
   "source": [
    "**The degree parameter determines the maximum degree of the polynomial. For example. degree = 2 will create new features raised to the second power: x1, x2, x1^2, x2^2**"
   ]
  },
  {
   "cell_type": "markdown",
   "metadata": {},
   "source": [
    "**with degree 3: x1, x2, x1^2, x2^2, x1^3, x2^3**"
   ]
  },
  {
   "cell_type": "code",
   "execution_count": 92,
   "metadata": {},
   "outputs": [
    {
     "data": {
      "text/html": [
       "<div>\n",
       "<style scoped>\n",
       "    .dataframe tbody tr th:only-of-type {\n",
       "        vertical-align: middle;\n",
       "    }\n",
       "\n",
       "    .dataframe tbody tr th {\n",
       "        vertical-align: top;\n",
       "    }\n",
       "\n",
       "    .dataframe thead th {\n",
       "        text-align: right;\n",
       "    }\n",
       "</style>\n",
       "<table border=\"1\" class=\"dataframe\">\n",
       "  <thead>\n",
       "    <tr style=\"text-align: right;\">\n",
       "      <th></th>\n",
       "      <th>0</th>\n",
       "      <th>1</th>\n",
       "      <th>2</th>\n",
       "      <th>3</th>\n",
       "      <th>4</th>\n",
       "      <th>5</th>\n",
       "      <th>6</th>\n",
       "      <th>7</th>\n",
       "      <th>8</th>\n",
       "      <th>9</th>\n",
       "      <th>...</th>\n",
       "      <th>353</th>\n",
       "      <th>354</th>\n",
       "      <th>355</th>\n",
       "      <th>356</th>\n",
       "      <th>357</th>\n",
       "      <th>358</th>\n",
       "      <th>359</th>\n",
       "      <th>360</th>\n",
       "      <th>361</th>\n",
       "      <th>362</th>\n",
       "    </tr>\n",
       "  </thead>\n",
       "  <tbody>\n",
       "    <tr>\n",
       "      <th>0</th>\n",
       "      <td>0.038076</td>\n",
       "      <td>0.050680</td>\n",
       "      <td>0.061696</td>\n",
       "      <td>0.021872</td>\n",
       "      <td>-0.044223</td>\n",
       "      <td>-0.034821</td>\n",
       "      <td>-0.043401</td>\n",
       "      <td>-0.002592</td>\n",
       "      <td>0.019908</td>\n",
       "      <td>-0.017646</td>\n",
       "      <td>...</td>\n",
       "      <td>7.890607e-06</td>\n",
       "      <td>-6.993957e-06</td>\n",
       "      <td>0.059848</td>\n",
       "      <td>0.000006</td>\n",
       "      <td>-0.053047</td>\n",
       "      <td>453.931904</td>\n",
       "      <td>-0.000005</td>\n",
       "      <td>0.047019</td>\n",
       "      <td>-402.349300</td>\n",
       "      <td>3442951.0</td>\n",
       "    </tr>\n",
       "    <tr>\n",
       "      <th>1</th>\n",
       "      <td>-0.001882</td>\n",
       "      <td>-0.044642</td>\n",
       "      <td>-0.051474</td>\n",
       "      <td>-0.026328</td>\n",
       "      <td>-0.008449</td>\n",
       "      <td>-0.019163</td>\n",
       "      <td>0.074412</td>\n",
       "      <td>-0.039493</td>\n",
       "      <td>-0.068330</td>\n",
       "      <td>-0.092204</td>\n",
       "      <td>...</td>\n",
       "      <td>-3.190284e-04</td>\n",
       "      <td>-4.304965e-04</td>\n",
       "      <td>0.350172</td>\n",
       "      <td>-0.000581</td>\n",
       "      <td>0.472521</td>\n",
       "      <td>-384.354808</td>\n",
       "      <td>-0.000784</td>\n",
       "      <td>0.637619</td>\n",
       "      <td>-518.647779</td>\n",
       "      <td>421875.0</td>\n",
       "    </tr>\n",
       "    <tr>\n",
       "      <th>2</th>\n",
       "      <td>0.085299</td>\n",
       "      <td>0.050680</td>\n",
       "      <td>0.044451</td>\n",
       "      <td>-0.005671</td>\n",
       "      <td>-0.045599</td>\n",
       "      <td>-0.034194</td>\n",
       "      <td>-0.032356</td>\n",
       "      <td>-0.002592</td>\n",
       "      <td>0.002864</td>\n",
       "      <td>-0.025930</td>\n",
       "      <td>...</td>\n",
       "      <td>2.348630e-08</td>\n",
       "      <td>-2.126594e-07</td>\n",
       "      <td>0.001156</td>\n",
       "      <td>0.000002</td>\n",
       "      <td>-0.010470</td>\n",
       "      <td>56.934622</td>\n",
       "      <td>-0.000017</td>\n",
       "      <td>0.094806</td>\n",
       "      <td>-515.521069</td>\n",
       "      <td>2803221.0</td>\n",
       "    </tr>\n",
       "  </tbody>\n",
       "</table>\n",
       "<p>3 rows × 363 columns</p>\n",
       "</div>"
      ],
      "text/plain": [
       "        0         1         2         3         4         5         6    \\\n",
       "0  0.038076  0.050680  0.061696  0.021872 -0.044223 -0.034821 -0.043401   \n",
       "1 -0.001882 -0.044642 -0.051474 -0.026328 -0.008449 -0.019163  0.074412   \n",
       "2  0.085299  0.050680  0.044451 -0.005671 -0.045599 -0.034194 -0.032356   \n",
       "\n",
       "        7         8         9    ...           353           354       355  \\\n",
       "0 -0.002592  0.019908 -0.017646  ...  7.890607e-06 -6.993957e-06  0.059848   \n",
       "1 -0.039493 -0.068330 -0.092204  ... -3.190284e-04 -4.304965e-04  0.350172   \n",
       "2 -0.002592  0.002864 -0.025930  ...  2.348630e-08 -2.126594e-07  0.001156   \n",
       "\n",
       "        356       357         358       359       360         361        362  \n",
       "0  0.000006 -0.053047  453.931904 -0.000005  0.047019 -402.349300  3442951.0  \n",
       "1 -0.000581  0.472521 -384.354808 -0.000784  0.637619 -518.647779   421875.0  \n",
       "2  0.000002 -0.010470   56.934622 -0.000017  0.094806 -515.521069  2803221.0  \n",
       "\n",
       "[3 rows x 363 columns]"
      ]
     },
     "execution_count": 92,
     "metadata": {},
     "output_type": "execute_result"
    }
   ],
   "source": [
    "polynomial_interaction = PolynomialFeatures(degree = 3, include_bias = False)\n",
    "pd.DataFrame(polynomial_interaction.fit_transform(df)).head(3)"
   ]
  },
  {
   "cell_type": "markdown",
   "metadata": {},
   "source": [
    "**by default PolynomialFeatures includes interaction features: x1x2.**"
   ]
  },
  {
   "cell_type": "code",
   "execution_count": 101,
   "metadata": {},
   "outputs": [
    {
     "data": {
      "text/html": [
       "<div>\n",
       "<style scoped>\n",
       "    .dataframe tbody tr th:only-of-type {\n",
       "        vertical-align: middle;\n",
       "    }\n",
       "\n",
       "    .dataframe tbody tr th {\n",
       "        vertical-align: top;\n",
       "    }\n",
       "\n",
       "    .dataframe thead th {\n",
       "        text-align: right;\n",
       "    }\n",
       "</style>\n",
       "<table border=\"1\" class=\"dataframe\">\n",
       "  <thead>\n",
       "    <tr style=\"text-align: right;\">\n",
       "      <th></th>\n",
       "      <th>0</th>\n",
       "      <th>1</th>\n",
       "      <th>2</th>\n",
       "      <th>3</th>\n",
       "      <th>4</th>\n",
       "      <th>5</th>\n",
       "      <th>6</th>\n",
       "      <th>7</th>\n",
       "      <th>8</th>\n",
       "      <th>9</th>\n",
       "      <th>...</th>\n",
       "      <th>56</th>\n",
       "      <th>57</th>\n",
       "      <th>58</th>\n",
       "      <th>59</th>\n",
       "      <th>60</th>\n",
       "      <th>61</th>\n",
       "      <th>62</th>\n",
       "      <th>63</th>\n",
       "      <th>64</th>\n",
       "      <th>65</th>\n",
       "    </tr>\n",
       "  </thead>\n",
       "  <tbody>\n",
       "    <tr>\n",
       "      <th>0</th>\n",
       "      <td>0.038076</td>\n",
       "      <td>0.050680</td>\n",
       "      <td>0.061696</td>\n",
       "      <td>0.021872</td>\n",
       "      <td>-0.044223</td>\n",
       "      <td>-0.034821</td>\n",
       "      <td>-0.043401</td>\n",
       "      <td>-0.002592</td>\n",
       "      <td>0.019908</td>\n",
       "      <td>-0.017646</td>\n",
       "      <td>...</td>\n",
       "      <td>0.000113</td>\n",
       "      <td>-0.000864</td>\n",
       "      <td>0.000766</td>\n",
       "      <td>-6.553528</td>\n",
       "      <td>-0.000052</td>\n",
       "      <td>0.000046</td>\n",
       "      <td>-0.391432</td>\n",
       "      <td>-0.000351</td>\n",
       "      <td>3.006172</td>\n",
       "      <td>-2.664565</td>\n",
       "    </tr>\n",
       "    <tr>\n",
       "      <th>1</th>\n",
       "      <td>-0.001882</td>\n",
       "      <td>-0.044642</td>\n",
       "      <td>-0.051474</td>\n",
       "      <td>-0.026328</td>\n",
       "      <td>-0.008449</td>\n",
       "      <td>-0.019163</td>\n",
       "      <td>0.074412</td>\n",
       "      <td>-0.039493</td>\n",
       "      <td>-0.068330</td>\n",
       "      <td>-0.092204</td>\n",
       "      <td>...</td>\n",
       "      <td>-0.002939</td>\n",
       "      <td>-0.005085</td>\n",
       "      <td>-0.006861</td>\n",
       "      <td>5.580867</td>\n",
       "      <td>0.002699</td>\n",
       "      <td>0.003641</td>\n",
       "      <td>-2.962004</td>\n",
       "      <td>0.006300</td>\n",
       "      <td>-5.124731</td>\n",
       "      <td>-6.915304</td>\n",
       "    </tr>\n",
       "    <tr>\n",
       "      <th>2</th>\n",
       "      <td>0.085299</td>\n",
       "      <td>0.050680</td>\n",
       "      <td>0.044451</td>\n",
       "      <td>-0.005671</td>\n",
       "      <td>-0.045599</td>\n",
       "      <td>-0.034194</td>\n",
       "      <td>-0.032356</td>\n",
       "      <td>-0.002592</td>\n",
       "      <td>0.002864</td>\n",
       "      <td>-0.025930</td>\n",
       "      <td>...</td>\n",
       "      <td>0.000084</td>\n",
       "      <td>-0.000093</td>\n",
       "      <td>0.000839</td>\n",
       "      <td>-4.562186</td>\n",
       "      <td>-0.000007</td>\n",
       "      <td>0.000067</td>\n",
       "      <td>-0.365509</td>\n",
       "      <td>-0.000074</td>\n",
       "      <td>0.403792</td>\n",
       "      <td>-3.656178</td>\n",
       "    </tr>\n",
       "  </tbody>\n",
       "</table>\n",
       "<p>3 rows × 66 columns</p>\n",
       "</div>"
      ],
      "text/plain": [
       "         0         1         2         3         4         5         6   \\\n",
       "0  0.038076  0.050680  0.061696  0.021872 -0.044223 -0.034821 -0.043401   \n",
       "1 -0.001882 -0.044642 -0.051474 -0.026328 -0.008449 -0.019163  0.074412   \n",
       "2  0.085299  0.050680  0.044451 -0.005671 -0.045599 -0.034194 -0.032356   \n",
       "\n",
       "         7         8         9   ...        56        57        58        59  \\\n",
       "0 -0.002592  0.019908 -0.017646  ...  0.000113 -0.000864  0.000766 -6.553528   \n",
       "1 -0.039493 -0.068330 -0.092204  ... -0.002939 -0.005085 -0.006861  5.580867   \n",
       "2 -0.002592  0.002864 -0.025930  ...  0.000084 -0.000093  0.000839 -4.562186   \n",
       "\n",
       "         60        61        62        63        64        65  \n",
       "0 -0.000052  0.000046 -0.391432 -0.000351  3.006172 -2.664565  \n",
       "1  0.002699  0.003641 -2.962004  0.006300 -5.124731 -6.915304  \n",
       "2 -0.000007  0.000067 -0.365509 -0.000074  0.403792 -3.656178  \n",
       "\n",
       "[3 rows x 66 columns]"
      ]
     },
     "execution_count": 101,
     "metadata": {},
     "output_type": "execute_result"
    }
   ],
   "source": [
    "interaction = PolynomialFeatures(degree = 2, include_bias = False, interaction_only = True)\n",
    "pd.DataFrame(interaction.fit_transform(df)).head(3)"
   ]
  },
  {
   "cell_type": "markdown",
   "metadata": {},
   "source": [
    "**Polynomial features often created when we want to include the notion that there exists a nonlinear relationship between the features and the target. For example, we might suspect that the effect of age on the probability of having a major medical condition is not constant over time but increases as age increases. We can encode that nonconstant effect in a feature, x, by generating that feature's higher order forms (x^2, x^3 etc.). Additionally, often we run into situations where the effect of one feature is dependent on another feature. A simple example would be if we were trying to predict whether or not our coffee was sweet and we had two features: 1. whether or not the coffee was stirred and 2. if we added sugar. Individually, each feature does not predict coffee sweetness, but the combination of their effects does. That is a coffee would only be sweet if the coffee has sugar and was stirred. The effects of each feature on the target are dependent on each other. We can encode that relationship by including an interaction feature that is the product of the individual features.**"
   ]
  },
  {
   "cell_type": "markdown",
   "metadata": {},
   "source": [
    "# Transforming features"
   ]
  },
  {
   "cell_type": "code",
   "execution_count": 1,
   "metadata": {},
   "outputs": [],
   "source": [
    "from sklearn.preprocessing import FunctionTransformer"
   ]
  },
  {
   "cell_type": "code",
   "execution_count": 3,
   "metadata": {},
   "outputs": [],
   "source": [
    "import numpy as np\n",
    "features = np.array([\n",
    "    [1, 2, 3],\n",
    "    [4, 5, 6],\n",
    "    [7, 8, 9]\n",
    "])"
   ]
  },
  {
   "cell_type": "code",
   "execution_count": 4,
   "metadata": {},
   "outputs": [],
   "source": [
    "def add_ten(x):\n",
    "    return x+10"
   ]
  },
  {
   "cell_type": "code",
   "execution_count": 5,
   "metadata": {},
   "outputs": [
    {
     "data": {
      "text/plain": [
       "array([[11, 12, 13],\n",
       "       [14, 15, 16],\n",
       "       [17, 18, 19]])"
      ]
     },
     "execution_count": 5,
     "metadata": {},
     "output_type": "execute_result"
    }
   ],
   "source": [
    "ten_transformer = FunctionTransformer(add_ten)\n",
    "ten_transformer.transform(features)"
   ]
  },
  {
   "cell_type": "code",
   "execution_count": 6,
   "metadata": {},
   "outputs": [
    {
     "data": {
      "text/html": [
       "<div>\n",
       "<style scoped>\n",
       "    .dataframe tbody tr th:only-of-type {\n",
       "        vertical-align: middle;\n",
       "    }\n",
       "\n",
       "    .dataframe tbody tr th {\n",
       "        vertical-align: top;\n",
       "    }\n",
       "\n",
       "    .dataframe thead th {\n",
       "        text-align: right;\n",
       "    }\n",
       "</style>\n",
       "<table border=\"1\" class=\"dataframe\">\n",
       "  <thead>\n",
       "    <tr style=\"text-align: right;\">\n",
       "      <th></th>\n",
       "      <th>feature_1</th>\n",
       "      <th>feature_2</th>\n",
       "      <th>feature_3</th>\n",
       "    </tr>\n",
       "  </thead>\n",
       "  <tbody>\n",
       "    <tr>\n",
       "      <th>0</th>\n",
       "      <td>11</td>\n",
       "      <td>12</td>\n",
       "      <td>13</td>\n",
       "    </tr>\n",
       "    <tr>\n",
       "      <th>1</th>\n",
       "      <td>14</td>\n",
       "      <td>15</td>\n",
       "      <td>16</td>\n",
       "    </tr>\n",
       "    <tr>\n",
       "      <th>2</th>\n",
       "      <td>17</td>\n",
       "      <td>18</td>\n",
       "      <td>19</td>\n",
       "    </tr>\n",
       "  </tbody>\n",
       "</table>\n",
       "</div>"
      ],
      "text/plain": [
       "   feature_1  feature_2  feature_3\n",
       "0         11         12         13\n",
       "1         14         15         16\n",
       "2         17         18         19"
      ]
     },
     "execution_count": 6,
     "metadata": {},
     "output_type": "execute_result"
    }
   ],
   "source": [
    "#same transformation using apply\n",
    "import pandas as pd\n",
    "df = pd.DataFrame(features, columns = [\"feature_1\", \"feature_2\", \"feature_3\"])\n",
    "df.apply(add_ten)"
   ]
  },
  {
   "cell_type": "markdown",
   "metadata": {},
   "source": [
    "# Detecting outliers"
   ]
  },
  {
   "cell_type": "code",
   "execution_count": 7,
   "metadata": {},
   "outputs": [],
   "source": [
    "from sklearn.covariance import EllipticEnvelope"
   ]
  },
  {
   "cell_type": "code",
   "execution_count": 8,
   "metadata": {},
   "outputs": [],
   "source": [
    "from sklearn.datasets import make_blobs"
   ]
  },
  {
   "cell_type": "code",
   "execution_count": 9,
   "metadata": {},
   "outputs": [],
   "source": [
    "features, _ = make_blobs(n_samples = 10, n_features = 2, centers = 1, random_state = 0)\n",
    "#replace the first observation values with extreme values\n",
    "features[0, 0] = 10000\n",
    "features[0, 1] = 10000"
   ]
  },
  {
   "cell_type": "code",
   "execution_count": 10,
   "metadata": {},
   "outputs": [
    {
     "data": {
      "text/plain": [
       "array([-1,  1,  1,  1,  1,  1,  1,  1,  1,  1])"
      ]
     },
     "execution_count": 10,
     "metadata": {},
     "output_type": "execute_result"
    }
   ],
   "source": [
    "#create detector\n",
    "outlier_detector = EllipticEnvelope(contamination = 0.1)\n",
    "outlier_detector.fit(features)\n",
    "outlier_detector.predict(features)"
   ]
  },
  {
   "cell_type": "markdown",
   "metadata": {},
   "source": [
    "# Handling outliers"
   ]
  },
  {
   "cell_type": "code",
   "execution_count": 14,
   "metadata": {},
   "outputs": [],
   "source": [
    "houses = pd.DataFrame()\n",
    "houses[\"Price\"] = [292902, 202020, 10292, 209102, 10292992]\n",
    "houses[\"Bathrooms\"] = [2, 3, 5, 2, 50]\n",
    "houses[\"Square_Feet\"] = [1000, 2002, 1002, 12022, 59403]"
   ]
  },
  {
   "cell_type": "code",
   "execution_count": 17,
   "metadata": {},
   "outputs": [
    {
     "data": {
      "text/html": [
       "<div>\n",
       "<style scoped>\n",
       "    .dataframe tbody tr th:only-of-type {\n",
       "        vertical-align: middle;\n",
       "    }\n",
       "\n",
       "    .dataframe tbody tr th {\n",
       "        vertical-align: top;\n",
       "    }\n",
       "\n",
       "    .dataframe thead th {\n",
       "        text-align: right;\n",
       "    }\n",
       "</style>\n",
       "<table border=\"1\" class=\"dataframe\">\n",
       "  <thead>\n",
       "    <tr style=\"text-align: right;\">\n",
       "      <th></th>\n",
       "      <th>Price</th>\n",
       "      <th>Bathrooms</th>\n",
       "      <th>Square_Feet</th>\n",
       "    </tr>\n",
       "  </thead>\n",
       "  <tbody>\n",
       "    <tr>\n",
       "      <th>4</th>\n",
       "      <td>10292992</td>\n",
       "      <td>50</td>\n",
       "      <td>59403</td>\n",
       "    </tr>\n",
       "  </tbody>\n",
       "</table>\n",
       "</div>"
      ],
      "text/plain": [
       "      Price  Bathrooms  Square_Feet\n",
       "4  10292992         50        59403"
      ]
     },
     "execution_count": 17,
     "metadata": {},
     "output_type": "execute_result"
    }
   ],
   "source": [
    "houses[houses[\"Bathrooms\"] > 5] #first technique: drop the outliers"
   ]
  },
  {
   "cell_type": "code",
   "execution_count": 21,
   "metadata": {},
   "outputs": [],
   "source": [
    "houses[\"Outlier\"] = np.where(houses[\"Bathrooms\"] > 5, 1, 0) #mark them as outliers and include it as a feature"
   ]
  },
  {
   "cell_type": "code",
   "execution_count": 22,
   "metadata": {},
   "outputs": [
    {
     "data": {
      "text/html": [
       "<div>\n",
       "<style scoped>\n",
       "    .dataframe tbody tr th:only-of-type {\n",
       "        vertical-align: middle;\n",
       "    }\n",
       "\n",
       "    .dataframe tbody tr th {\n",
       "        vertical-align: top;\n",
       "    }\n",
       "\n",
       "    .dataframe thead th {\n",
       "        text-align: right;\n",
       "    }\n",
       "</style>\n",
       "<table border=\"1\" class=\"dataframe\">\n",
       "  <thead>\n",
       "    <tr style=\"text-align: right;\">\n",
       "      <th></th>\n",
       "      <th>Price</th>\n",
       "      <th>Bathrooms</th>\n",
       "      <th>Square_Feet</th>\n",
       "      <th>Outlier</th>\n",
       "    </tr>\n",
       "  </thead>\n",
       "  <tbody>\n",
       "    <tr>\n",
       "      <th>0</th>\n",
       "      <td>292902</td>\n",
       "      <td>2</td>\n",
       "      <td>1000</td>\n",
       "      <td>0</td>\n",
       "    </tr>\n",
       "    <tr>\n",
       "      <th>1</th>\n",
       "      <td>202020</td>\n",
       "      <td>3</td>\n",
       "      <td>2002</td>\n",
       "      <td>0</td>\n",
       "    </tr>\n",
       "    <tr>\n",
       "      <th>2</th>\n",
       "      <td>10292</td>\n",
       "      <td>5</td>\n",
       "      <td>1002</td>\n",
       "      <td>0</td>\n",
       "    </tr>\n",
       "    <tr>\n",
       "      <th>3</th>\n",
       "      <td>209102</td>\n",
       "      <td>2</td>\n",
       "      <td>12022</td>\n",
       "      <td>0</td>\n",
       "    </tr>\n",
       "    <tr>\n",
       "      <th>4</th>\n",
       "      <td>10292992</td>\n",
       "      <td>50</td>\n",
       "      <td>59403</td>\n",
       "      <td>1</td>\n",
       "    </tr>\n",
       "  </tbody>\n",
       "</table>\n",
       "</div>"
      ],
      "text/plain": [
       "      Price  Bathrooms  Square_Feet  Outlier\n",
       "0    292902          2         1000        0\n",
       "1    202020          3         2002        0\n",
       "2     10292          5         1002        0\n",
       "3    209102          2        12022        0\n",
       "4  10292992         50        59403        1"
      ]
     },
     "execution_count": 22,
     "metadata": {},
     "output_type": "execute_result"
    }
   ],
   "source": [
    "houses"
   ]
  },
  {
   "cell_type": "code",
   "execution_count": 25,
   "metadata": {},
   "outputs": [],
   "source": [
    "houses[\"Log_of_sq_feet\"] = [np.log(x) for x in houses[\"Square_Feet\"]] #transform the feature to dampen the effect of the outlier"
   ]
  },
  {
   "cell_type": "code",
   "execution_count": 26,
   "metadata": {},
   "outputs": [
    {
     "data": {
      "text/html": [
       "<div>\n",
       "<style scoped>\n",
       "    .dataframe tbody tr th:only-of-type {\n",
       "        vertical-align: middle;\n",
       "    }\n",
       "\n",
       "    .dataframe tbody tr th {\n",
       "        vertical-align: top;\n",
       "    }\n",
       "\n",
       "    .dataframe thead th {\n",
       "        text-align: right;\n",
       "    }\n",
       "</style>\n",
       "<table border=\"1\" class=\"dataframe\">\n",
       "  <thead>\n",
       "    <tr style=\"text-align: right;\">\n",
       "      <th></th>\n",
       "      <th>Price</th>\n",
       "      <th>Bathrooms</th>\n",
       "      <th>Square_Feet</th>\n",
       "      <th>Outlier</th>\n",
       "      <th>Log_of_sq_feet</th>\n",
       "    </tr>\n",
       "  </thead>\n",
       "  <tbody>\n",
       "    <tr>\n",
       "      <th>0</th>\n",
       "      <td>292902</td>\n",
       "      <td>2</td>\n",
       "      <td>1000</td>\n",
       "      <td>0</td>\n",
       "      <td>6.907755</td>\n",
       "    </tr>\n",
       "    <tr>\n",
       "      <th>1</th>\n",
       "      <td>202020</td>\n",
       "      <td>3</td>\n",
       "      <td>2002</td>\n",
       "      <td>0</td>\n",
       "      <td>7.601902</td>\n",
       "    </tr>\n",
       "    <tr>\n",
       "      <th>2</th>\n",
       "      <td>10292</td>\n",
       "      <td>5</td>\n",
       "      <td>1002</td>\n",
       "      <td>0</td>\n",
       "      <td>6.909753</td>\n",
       "    </tr>\n",
       "    <tr>\n",
       "      <th>3</th>\n",
       "      <td>209102</td>\n",
       "      <td>2</td>\n",
       "      <td>12022</td>\n",
       "      <td>0</td>\n",
       "      <td>9.394494</td>\n",
       "    </tr>\n",
       "    <tr>\n",
       "      <th>4</th>\n",
       "      <td>10292992</td>\n",
       "      <td>50</td>\n",
       "      <td>59403</td>\n",
       "      <td>1</td>\n",
       "      <td>10.992100</td>\n",
       "    </tr>\n",
       "  </tbody>\n",
       "</table>\n",
       "</div>"
      ],
      "text/plain": [
       "      Price  Bathrooms  Square_Feet  Outlier  Log_of_sq_feet\n",
       "0    292902          2         1000        0        6.907755\n",
       "1    202020          3         2002        0        7.601902\n",
       "2     10292          5         1002        0        6.909753\n",
       "3    209102          2        12022        0        9.394494\n",
       "4  10292992         50        59403        1       10.992100"
      ]
     },
     "execution_count": 26,
     "metadata": {},
     "output_type": "execute_result"
    }
   ],
   "source": [
    "houses"
   ]
  },
  {
   "cell_type": "markdown",
   "metadata": {},
   "source": [
    "# Discretizing features"
   ]
  },
  {
   "cell_type": "code",
   "execution_count": 29,
   "metadata": {},
   "outputs": [],
   "source": [
    "#break a numerical feature into discrete bins\n",
    "from sklearn.preprocessing import Binarizer"
   ]
  },
  {
   "cell_type": "code",
   "execution_count": 30,
   "metadata": {},
   "outputs": [],
   "source": [
    "age = np.array([\n",
    "    [9],\n",
    "    [3],\n",
    "    [20],\n",
    "    [59],\n",
    "    [20]\n",
    "])"
   ]
  },
  {
   "cell_type": "code",
   "execution_count": 37,
   "metadata": {},
   "outputs": [],
   "source": [
    "binarizer = Binarizer(threshold = 10) #first way, threshold 10 means upto 9 it will be 0 and the rest will be 1"
   ]
  },
  {
   "cell_type": "code",
   "execution_count": 38,
   "metadata": {},
   "outputs": [
    {
     "data": {
      "text/plain": [
       "array([[0],\n",
       "       [0],\n",
       "       [1],\n",
       "       [1],\n",
       "       [1]])"
      ]
     },
     "execution_count": 38,
     "metadata": {},
     "output_type": "execute_result"
    }
   ],
   "source": [
    "binarizer.fit_transform(age)"
   ]
  },
  {
   "cell_type": "code",
   "execution_count": 41,
   "metadata": {},
   "outputs": [
    {
     "data": {
      "text/plain": [
       "array([[1],\n",
       "       [0],\n",
       "       [2],\n",
       "       [2],\n",
       "       [2]], dtype=int64)"
      ]
     },
     "execution_count": 41,
     "metadata": {},
     "output_type": "execute_result"
    }
   ],
   "source": [
    "np.digitize(age, bins = [5, 10, 100]) #break up numerical features according to multiple thresholds"
   ]
  },
  {
   "cell_type": "code",
   "execution_count": 54,
   "metadata": {},
   "outputs": [
    {
     "data": {
      "text/plain": [
       "array([[1],\n",
       "       [0],\n",
       "       [2],\n",
       "       [2],\n",
       "       [2]], dtype=int64)"
      ]
     },
     "execution_count": 54,
     "metadata": {},
     "output_type": "execute_result"
    }
   ],
   "source": [
    "np.digitize(age, bins = [5, 20, 100]) #without right = True 20 is added to 2"
   ]
  },
  {
   "cell_type": "code",
   "execution_count": 55,
   "metadata": {},
   "outputs": [
    {
     "data": {
      "text/plain": [
       "array([[1],\n",
       "       [0],\n",
       "       [1],\n",
       "       [2],\n",
       "       [1]], dtype=int64)"
      ]
     },
     "execution_count": 55,
     "metadata": {},
     "output_type": "execute_result"
    }
   ],
   "source": [
    "np.digitize(age, bins = [5, 20, 100], right = True) #with right = True 20 is added to 1"
   ]
  },
  {
   "cell_type": "markdown",
   "metadata": {},
   "source": [
    "**Discretization can be a fruitful strategy when we have reason to believe that a numerical feature should behave more like a categorical feature.**"
   ]
  },
  {
   "cell_type": "markdown",
   "metadata": {},
   "source": [
    "# Grouping observations using clustering"
   ]
  },
  {
   "cell_type": "code",
   "execution_count": 56,
   "metadata": {},
   "outputs": [],
   "source": [
    "from sklearn.cluster import KMeans"
   ]
  },
  {
   "cell_type": "code",
   "execution_count": 57,
   "metadata": {},
   "outputs": [],
   "source": [
    "features, _ = make_blobs(n_samples = 50, n_features = 2, centers = 3, random_state = 0)"
   ]
  },
  {
   "cell_type": "code",
   "execution_count": 58,
   "metadata": {},
   "outputs": [],
   "source": [
    "dataframe = pd.DataFrame(features, columns = [\"feature_1\", \"feature_2\"])"
   ]
  },
  {
   "cell_type": "code",
   "execution_count": 59,
   "metadata": {},
   "outputs": [
    {
     "data": {
      "text/html": [
       "<div>\n",
       "<style scoped>\n",
       "    .dataframe tbody tr th:only-of-type {\n",
       "        vertical-align: middle;\n",
       "    }\n",
       "\n",
       "    .dataframe tbody tr th {\n",
       "        vertical-align: top;\n",
       "    }\n",
       "\n",
       "    .dataframe thead th {\n",
       "        text-align: right;\n",
       "    }\n",
       "</style>\n",
       "<table border=\"1\" class=\"dataframe\">\n",
       "  <thead>\n",
       "    <tr style=\"text-align: right;\">\n",
       "      <th></th>\n",
       "      <th>feature_1</th>\n",
       "      <th>feature_2</th>\n",
       "    </tr>\n",
       "  </thead>\n",
       "  <tbody>\n",
       "    <tr>\n",
       "      <th>0</th>\n",
       "      <td>1.926358</td>\n",
       "      <td>4.152430</td>\n",
       "    </tr>\n",
       "    <tr>\n",
       "      <th>1</th>\n",
       "      <td>1.420945</td>\n",
       "      <td>0.534922</td>\n",
       "    </tr>\n",
       "    <tr>\n",
       "      <th>2</th>\n",
       "      <td>1.420133</td>\n",
       "      <td>4.637462</td>\n",
       "    </tr>\n",
       "  </tbody>\n",
       "</table>\n",
       "</div>"
      ],
      "text/plain": [
       "   feature_1  feature_2\n",
       "0   1.926358   4.152430\n",
       "1   1.420945   0.534922\n",
       "2   1.420133   4.637462"
      ]
     },
     "execution_count": 59,
     "metadata": {},
     "output_type": "execute_result"
    }
   ],
   "source": [
    "dataframe.head(3)"
   ]
  },
  {
   "cell_type": "code",
   "execution_count": 60,
   "metadata": {},
   "outputs": [
    {
     "data": {
      "text/plain": [
       "KMeans(n_clusters=3, random_state=0)"
      ]
     },
     "execution_count": 60,
     "metadata": {},
     "output_type": "execute_result"
    }
   ],
   "source": [
    "clusterer = KMeans(3, random_state = 0)\n",
    "clusterer.fit(features)"
   ]
  },
  {
   "cell_type": "code",
   "execution_count": 61,
   "metadata": {},
   "outputs": [],
   "source": [
    "dataframe[\"group\"] = clusterer.predict(features)"
   ]
  },
  {
   "cell_type": "code",
   "execution_count": 63,
   "metadata": {},
   "outputs": [
    {
     "data": {
      "text/html": [
       "<div>\n",
       "<style scoped>\n",
       "    .dataframe tbody tr th:only-of-type {\n",
       "        vertical-align: middle;\n",
       "    }\n",
       "\n",
       "    .dataframe tbody tr th {\n",
       "        vertical-align: top;\n",
       "    }\n",
       "\n",
       "    .dataframe thead th {\n",
       "        text-align: right;\n",
       "    }\n",
       "</style>\n",
       "<table border=\"1\" class=\"dataframe\">\n",
       "  <thead>\n",
       "    <tr style=\"text-align: right;\">\n",
       "      <th></th>\n",
       "      <th>feature_1</th>\n",
       "      <th>feature_2</th>\n",
       "      <th>group</th>\n",
       "    </tr>\n",
       "  </thead>\n",
       "  <tbody>\n",
       "    <tr>\n",
       "      <th>0</th>\n",
       "      <td>1.926358</td>\n",
       "      <td>4.152430</td>\n",
       "      <td>2</td>\n",
       "    </tr>\n",
       "    <tr>\n",
       "      <th>1</th>\n",
       "      <td>1.420945</td>\n",
       "      <td>0.534922</td>\n",
       "      <td>0</td>\n",
       "    </tr>\n",
       "    <tr>\n",
       "      <th>2</th>\n",
       "      <td>1.420133</td>\n",
       "      <td>4.637462</td>\n",
       "      <td>2</td>\n",
       "    </tr>\n",
       "    <tr>\n",
       "      <th>3</th>\n",
       "      <td>1.289338</td>\n",
       "      <td>3.449692</td>\n",
       "      <td>2</td>\n",
       "    </tr>\n",
       "    <tr>\n",
       "      <th>4</th>\n",
       "      <td>-1.930081</td>\n",
       "      <td>4.140327</td>\n",
       "      <td>1</td>\n",
       "    </tr>\n",
       "  </tbody>\n",
       "</table>\n",
       "</div>"
      ],
      "text/plain": [
       "   feature_1  feature_2  group\n",
       "0   1.926358   4.152430      2\n",
       "1   1.420945   0.534922      0\n",
       "2   1.420133   4.637462      2\n",
       "3   1.289338   3.449692      2\n",
       "4  -1.930081   4.140327      1"
      ]
     },
     "execution_count": 63,
     "metadata": {},
     "output_type": "execute_result"
    }
   ],
   "source": [
    "dataframe.head() #clustering can be used in preprocessing"
   ]
  },
  {
   "cell_type": "markdown",
   "metadata": {},
   "source": [
    "# Deleting observations with missing values"
   ]
  },
  {
   "cell_type": "code",
   "execution_count": 67,
   "metadata": {},
   "outputs": [],
   "source": [
    "features = np.array([\n",
    "    [1, 2, 3, 4, 5],\n",
    "    [6, 7, 8, 9, np.nan],\n",
    "    [11, 12, np.nan, 14, np.nan],\n",
    "    [16, 17, 18, 19, 100]\n",
    "])"
   ]
  },
  {
   "cell_type": "code",
   "execution_count": 68,
   "metadata": {},
   "outputs": [
    {
     "data": {
      "text/plain": [
       "array([[  1.,   2.,   3.,   4.,   5.],\n",
       "       [ 16.,  17.,  18.,  19., 100.]])"
      ]
     },
     "execution_count": 68,
     "metadata": {},
     "output_type": "execute_result"
    }
   ],
   "source": [
    "features[~np.isnan(features).any(axis = 1)] #keep only the observations that are not (denoted by ~) missing"
   ]
  },
  {
   "cell_type": "code",
   "execution_count": 72,
   "metadata": {},
   "outputs": [],
   "source": [
    "dataframe = pd.DataFrame(features, columns = [\"feature_1\", \"feature_2\", \"feature_3\", \"feature_4\", \"feature_5\"])"
   ]
  },
  {
   "cell_type": "code",
   "execution_count": 73,
   "metadata": {},
   "outputs": [
    {
     "data": {
      "text/html": [
       "<div>\n",
       "<style scoped>\n",
       "    .dataframe tbody tr th:only-of-type {\n",
       "        vertical-align: middle;\n",
       "    }\n",
       "\n",
       "    .dataframe tbody tr th {\n",
       "        vertical-align: top;\n",
       "    }\n",
       "\n",
       "    .dataframe thead th {\n",
       "        text-align: right;\n",
       "    }\n",
       "</style>\n",
       "<table border=\"1\" class=\"dataframe\">\n",
       "  <thead>\n",
       "    <tr style=\"text-align: right;\">\n",
       "      <th></th>\n",
       "      <th>feature_1</th>\n",
       "      <th>feature_2</th>\n",
       "      <th>feature_3</th>\n",
       "      <th>feature_4</th>\n",
       "      <th>feature_5</th>\n",
       "    </tr>\n",
       "  </thead>\n",
       "  <tbody>\n",
       "    <tr>\n",
       "      <th>0</th>\n",
       "      <td>1.0</td>\n",
       "      <td>2.0</td>\n",
       "      <td>3.0</td>\n",
       "      <td>4.0</td>\n",
       "      <td>5.0</td>\n",
       "    </tr>\n",
       "    <tr>\n",
       "      <th>1</th>\n",
       "      <td>6.0</td>\n",
       "      <td>7.0</td>\n",
       "      <td>8.0</td>\n",
       "      <td>9.0</td>\n",
       "      <td>NaN</td>\n",
       "    </tr>\n",
       "    <tr>\n",
       "      <th>2</th>\n",
       "      <td>11.0</td>\n",
       "      <td>12.0</td>\n",
       "      <td>NaN</td>\n",
       "      <td>14.0</td>\n",
       "      <td>NaN</td>\n",
       "    </tr>\n",
       "    <tr>\n",
       "      <th>3</th>\n",
       "      <td>16.0</td>\n",
       "      <td>17.0</td>\n",
       "      <td>18.0</td>\n",
       "      <td>19.0</td>\n",
       "      <td>100.0</td>\n",
       "    </tr>\n",
       "  </tbody>\n",
       "</table>\n",
       "</div>"
      ],
      "text/plain": [
       "   feature_1  feature_2  feature_3  feature_4  feature_5\n",
       "0        1.0        2.0        3.0        4.0        5.0\n",
       "1        6.0        7.0        8.0        9.0        NaN\n",
       "2       11.0       12.0        NaN       14.0        NaN\n",
       "3       16.0       17.0       18.0       19.0      100.0"
      ]
     },
     "execution_count": 73,
     "metadata": {},
     "output_type": "execute_result"
    }
   ],
   "source": [
    "dataframe"
   ]
  },
  {
   "cell_type": "code",
   "execution_count": 74,
   "metadata": {},
   "outputs": [
    {
     "data": {
      "text/html": [
       "<div>\n",
       "<style scoped>\n",
       "    .dataframe tbody tr th:only-of-type {\n",
       "        vertical-align: middle;\n",
       "    }\n",
       "\n",
       "    .dataframe tbody tr th {\n",
       "        vertical-align: top;\n",
       "    }\n",
       "\n",
       "    .dataframe thead th {\n",
       "        text-align: right;\n",
       "    }\n",
       "</style>\n",
       "<table border=\"1\" class=\"dataframe\">\n",
       "  <thead>\n",
       "    <tr style=\"text-align: right;\">\n",
       "      <th></th>\n",
       "      <th>feature_1</th>\n",
       "      <th>feature_2</th>\n",
       "      <th>feature_3</th>\n",
       "      <th>feature_4</th>\n",
       "      <th>feature_5</th>\n",
       "    </tr>\n",
       "  </thead>\n",
       "  <tbody>\n",
       "    <tr>\n",
       "      <th>0</th>\n",
       "      <td>1.0</td>\n",
       "      <td>2.0</td>\n",
       "      <td>3.0</td>\n",
       "      <td>4.0</td>\n",
       "      <td>5.0</td>\n",
       "    </tr>\n",
       "    <tr>\n",
       "      <th>3</th>\n",
       "      <td>16.0</td>\n",
       "      <td>17.0</td>\n",
       "      <td>18.0</td>\n",
       "      <td>19.0</td>\n",
       "      <td>100.0</td>\n",
       "    </tr>\n",
       "  </tbody>\n",
       "</table>\n",
       "</div>"
      ],
      "text/plain": [
       "   feature_1  feature_2  feature_3  feature_4  feature_5\n",
       "0        1.0        2.0        3.0        4.0        5.0\n",
       "3       16.0       17.0       18.0       19.0      100.0"
      ]
     },
     "execution_count": 74,
     "metadata": {},
     "output_type": "execute_result"
    }
   ],
   "source": [
    "dataframe.dropna()"
   ]
  },
  {
   "cell_type": "markdown",
   "metadata": {},
   "source": [
    "# Imputing missing values"
   ]
  },
  {
   "cell_type": "code",
   "execution_count": 80,
   "metadata": {},
   "outputs": [],
   "source": [
    "#from fancyimpute import KNN\n",
    "#from sklearn.preprocessing import StandardScaler\n",
    "#features, _ = make_blobs(n_samples = 1000, n_features = 2, random_state = 10)\n",
    "#scaler = StandardScaler()\n",
    "#standardized_features = scaler.fit_transform(features)\n",
    "#true_value = standardized_features[0, 0]\n",
    "#standardized_features[0, 0] = np.nan\n",
    "#features_knn_imputed = KNN(k = 5, verbose = 0).complete(standardized_features)\n",
    "#print(\"True value: \", true_value)\n",
    "#print(\"Imputed value: \", features_knn_imputed[0, 0])\n",
    "#sklearn Imputer can also be used but it will give worse results than knn\n",
    "#if we use imputation it's good idea to make a binary feature indicating whether or not the observation contains an imputed value"
   ]
  }
 ],
 "metadata": {
  "kernelspec": {
   "display_name": "Python 3",
   "language": "python",
   "name": "python3"
  },
  "language_info": {
   "codemirror_mode": {
    "name": "ipython",
    "version": 3
   },
   "file_extension": ".py",
   "mimetype": "text/x-python",
   "name": "python",
   "nbconvert_exporter": "python",
   "pygments_lexer": "ipython3",
   "version": "3.8.5"
  }
 },
 "nbformat": 4,
 "nbformat_minor": 4
}
