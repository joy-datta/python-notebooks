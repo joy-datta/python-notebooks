{
  "nbformat": 4,
  "nbformat_minor": 0,
  "metadata": {
    "colab": {
      "name": "numpy.ipynb",
      "provenance": [],
      "collapsed_sections": []
    },
    "kernelspec": {
      "name": "python3",
      "display_name": "Python 3"
    }
  },
  "cells": [
    {
      "cell_type": "code",
      "metadata": {
        "id": "UZVNrGuNei-B",
        "colab": {
          "base_uri": "https://localhost:8080/",
          "height": 108
        },
        "outputId": "5fe24407-fe91-488a-c8d3-69daf9549679"
      },
      "source": [
        "#Numpy is used for mathematical computation\n",
        "#ndarray is the core object of numpy\n",
        "#speed is much faster cause written in C\n",
        "import numpy as np\n",
        "a=np.array((1,2,3,4,5))\n",
        "b=np.array([[1,2,3],[7,8,9]])\n",
        "print(a,'\\n',b)\n",
        "print(type(a),'\\n',type(b))"
      ],
      "execution_count": null,
      "outputs": [
        {
          "output_type": "stream",
          "text": [
            "[1 2 3 4 5] \n",
            " [[1 2 3]\n",
            " [7 8 9]]\n",
            "<class 'numpy.ndarray'> \n",
            " <class 'numpy.ndarray'>\n"
          ],
          "name": "stdout"
        }
      ]
    },
    {
      "cell_type": "code",
      "metadata": {
        "id": "qzT8I-7Og_fQ",
        "colab": {
          "base_uri": "https://localhost:8080/",
          "height": 90
        },
        "outputId": "d20a04a8-9953-4d67-c1f7-cacca0f0046e"
      },
      "source": [
        "#how to assign value to a specific index?\n",
        "a[0]=9\n",
        "print(a)\n",
        "b[0][0]=9\n",
        "print(b)\n",
        "#print a value from index\n",
        "print(b[0][2])"
      ],
      "execution_count": null,
      "outputs": [
        {
          "output_type": "stream",
          "text": [
            "[9 2 3 4 5]\n",
            "[[9 2 3]\n",
            " [7 8 9]]\n",
            "3\n"
          ],
          "name": "stdout"
        }
      ]
    },
    {
      "cell_type": "code",
      "metadata": {
        "id": "5MY0apA4hgkK",
        "colab": {
          "base_uri": "https://localhost:8080/",
          "height": 199
        },
        "outputId": "55529c51-50fc-4757-ae2a-9aa8f9025303"
      },
      "source": [
        "#numpy array can have multiple number of dtypes in a single np.array object\n",
        "arr=np.array((1,-0.8,1.9))\n",
        "print(arr)\n",
        "arr=np.array([[1,3.9,0.7],[-1,3,None],[1,1.8,-0.8]])\n",
        "print(arr[1][2])\n",
        "print(arr)\n",
        "#or dtypes can explicitly be set\n",
        "try:\n",
        "  array=np.array([[1,2,-0.8],[1,None,0.08],[None,1,9]],dtype=int)\n",
        "except TypeError:\n",
        "  print('Type Error')\n",
        "#when dtype is set to int there cannot be different dtype values in a single array so TypeError\n",
        "array=np.array([[1,2,3],[4,5,6],[7,8,9]],dtype=int)\n",
        "print(array.dtype)\n",
        "print(array)"
      ],
      "execution_count": null,
      "outputs": [
        {
          "output_type": "stream",
          "text": [
            "[ 1.  -0.8  1.9]\n",
            "None\n",
            "[[1 3.9 0.7]\n",
            " [-1 3 None]\n",
            " [1 1.8 -0.8]]\n",
            "Type Error\n",
            "int64\n",
            "[[1 2 3]\n",
            " [4 5 6]\n",
            " [7 8 9]]\n"
          ],
          "name": "stdout"
        }
      ]
    },
    {
      "cell_type": "code",
      "metadata": {
        "id": "FRInAB31ipdM",
        "colab": {
          "base_uri": "https://localhost:8080/",
          "height": 399
        },
        "outputId": "4ed4c6ac-012f-4cbd-c347-846a36c292fc"
      },
      "source": [
        "a=np.empty([3,5])\n",
        "print(a)\n",
        "#creates an array as defined row and column by assigning random values\n",
        "#faster than np.zeros() and np.ones()\n",
        "#after making an empty array(actually filled with random values) can be filled with defined values over current random values\n",
        "b=np.empty([3,5],dtype=int,order='C')\n",
        "print('\\nb=',b)\n",
        "print(b[0][1])\n",
        "c=np.empty([3,5],dtype=int,order='F')\n",
        "print('\\nc=',c)\n",
        "print(c[0][1])\n",
        "\n",
        "b=np.empty([3,5],dtype=int,order='C')\n",
        "print('\\nb=',b)\n",
        "print(b[0][1])"
      ],
      "execution_count": null,
      "outputs": [
        {
          "output_type": "stream",
          "text": [
            "[[2.16306208e-316 1.01855798e-312 1.01855798e-312 9.54898106e-313\n",
            "  1.12465777e-312]\n",
            " [1.01855798e-312 1.23075756e-312 1.06099790e-312 1.06099790e-312\n",
            "  9.76118064e-313]\n",
            " [1.18831764e-312 1.16709769e-312 1.18831764e-312 2.44029516e-312\n",
            "  2.02566915e-322]]\n",
            "\n",
            "b= [[    43780864 206158430258 206158430253 193273528374 227633266736]\n",
            " [206158430292 249108103220 214748364849 214748364858 197568495667]\n",
            " [240518168624 236223201337 240518168626 493921239130           41]]\n",
            "206158430258\n",
            "\n",
            "c= [[           0 193273528374 249108103220 197568495664 206158430263]\n",
            " [206158430258 227633266736 227633266736 231928234040 493921239130]\n",
            " [206158430253 206158430292 210453397562 214748364851 176093659177]]\n",
            "193273528374\n",
            "\n",
            "b= [[           0 206158430258 206158430253 193273528374 227633266736]\n",
            " [206158430292 249108103220 227633266736 210453397562 197568495664]\n",
            " [231928234040 214748364851 206158430263 493921239130 176093659177]]\n",
            "206158430258\n"
          ],
          "name": "stdout"
        }
      ]
    },
    {
      "cell_type": "code",
      "metadata": {
        "id": "j5ine750togj",
        "colab": {
          "base_uri": "https://localhost:8080/",
          "height": 90
        },
        "outputId": "0bbfab04-ad76-42ee-ae63-c166eb08f243"
      },
      "source": [
        "n=np.empty([2,3],dtype=int)\n",
        "#if order='C'/'F' is not defined by default it's 'C'\n",
        "print(n)\n",
        "for x in range(2):\n",
        "  for y in range(3):\n",
        "    n[x][y]=y\n",
        "print(n)"
      ],
      "execution_count": null,
      "outputs": [
        {
          "output_type": "stream",
          "text": [
            "[[0 1 2]\n",
            " [0 1 2]]\n",
            "[[0 1 2]\n",
            " [0 1 2]]\n"
          ],
          "name": "stdout"
        }
      ]
    },
    {
      "cell_type": "code",
      "metadata": {
        "id": "47HTkn5zvnzG",
        "colab": {
          "base_uri": "https://localhost:8080/",
          "height": 90
        },
        "outputId": "49b8b338-dee0-49f4-e866-bcdf9c4e8397"
      },
      "source": [
        "#np.zero()\n",
        "#what is order='C' and order='F' in numpy.empty(), numpy.zeros() and numpy.ones()?\n",
        "#order='C' means storing ndarray in C style row major way and 'F' means column major Fortran style\n",
        "n=np.zeros([2,3],dtype=int)\n",
        "print(n)\n",
        "n=np.ones([2,3],dtype=float)\n",
        "print(n)"
      ],
      "execution_count": null,
      "outputs": [
        {
          "output_type": "stream",
          "text": [
            "[[0 0 0]\n",
            " [0 0 0]]\n",
            "[[1. 1. 1.]\n",
            " [1. 1. 1.]]\n"
          ],
          "name": "stdout"
        }
      ]
    },
    {
      "cell_type": "code",
      "metadata": {
        "id": "oMOqV92MxEF0",
        "colab": {
          "base_uri": "https://localhost:8080/",
          "height": 363
        },
        "outputId": "ff728c29-1fe0-4603-8bb6-c29250b684b2"
      },
      "source": [
        "#if you want to create an array having the same shape as a present array has\n",
        "a=np.array([[[1,2,3],[4,5,6],[7,8,9]],[[1,2,3],[4,5,6],[7,8,9]]])\n",
        "print(a)\n",
        "print(a[0][1][1])\n",
        "#make an array which has the same shape of array\n",
        "an_array_like_a=np.zeros_like(a,dtype=float)\n",
        "print(an_array_like_a)\n",
        "#dtype of an_array_like_a inherits from its original array a if not dtype is defined\n",
        "new_arr=np.array([1.2,2.2,0.0])\n",
        "print(new_arr)\n",
        "copied_shape_arr=np.zeros_like(new_arr)\n",
        "print(copied_shape_arr)\n",
        "#so if an array has different dtype in a single array?\n",
        "new_arr=np.array([1,2,2.8])\n",
        "print(new_arr)\n",
        "try:\n",
        "  new_copied_shape_array=np.zeros(new_arr)\n",
        "except:\n",
        "  print('original array has different dtype so copied array cannot inherit dtype from different dtype')"
      ],
      "execution_count": null,
      "outputs": [
        {
          "output_type": "stream",
          "text": [
            "[[[1 2 3]\n",
            "  [4 5 6]\n",
            "  [7 8 9]]\n",
            "\n",
            " [[1 2 3]\n",
            "  [4 5 6]\n",
            "  [7 8 9]]]\n",
            "5\n",
            "[[[0. 0. 0.]\n",
            "  [0. 0. 0.]\n",
            "  [0. 0. 0.]]\n",
            "\n",
            " [[0. 0. 0.]\n",
            "  [0. 0. 0.]\n",
            "  [0. 0. 0.]]]\n",
            "[1.2 2.2 0. ]\n",
            "[0. 0. 0.]\n",
            "[1.  2.  2.8]\n",
            "original array has different dtypes so copied array cannot inherits one dtype from different dtypes\n"
          ],
          "name": "stdout"
        }
      ]
    },
    {
      "cell_type": "markdown",
      "metadata": {
        "id": "F7k2o1P87i1I"
      },
      "source": [
        "initializing an array from a sequence"
      ]
    },
    {
      "cell_type": "code",
      "metadata": {
        "id": "tMvb2Awj4dN_",
        "colab": {
          "base_uri": "https://localhost:8080/",
          "height": 35
        },
        "outputId": "e48f64e0-57ae-4df2-d64e-5c5c85d391d1"
      },
      "source": [
        "a=np.arange(10)\n",
        "print(a)"
      ],
      "execution_count": null,
      "outputs": [
        {
          "output_type": "stream",
          "text": [
            "[0 1 2 3 4 5 6 7 8 9]\n"
          ],
          "name": "stdout"
        }
      ]
    },
    {
      "cell_type": "code",
      "metadata": {
        "id": "Pr5wN0vp7rAL",
        "colab": {
          "base_uri": "https://localhost:8080/",
          "height": 54
        },
        "outputId": "14548fb4-1e1e-4ca6-c3e7-62e476fcbfb0"
      },
      "source": [
        "a=np.arange(0,10,0.5)\n",
        "print(a)"
      ],
      "execution_count": null,
      "outputs": [
        {
          "output_type": "stream",
          "text": [
            "[0.  0.5 1.  1.5 2.  2.5 3.  3.5 4.  4.5 5.  5.5 6.  6.5 7.  7.5 8.  8.5\n",
            " 9.  9.5]\n"
          ],
          "name": "stdout"
        }
      ]
    },
    {
      "cell_type": "code",
      "metadata": {
        "id": "b58U9o4g7ypk",
        "colab": {
          "base_uri": "https://localhost:8080/",
          "height": 72
        },
        "outputId": "19af3821-a8f8-4019-afdb-f6f3c7967655"
      },
      "source": [
        "import numpy as np\n",
        "n=np.linspace(1,50)\n",
        "print(n)"
      ],
      "execution_count": null,
      "outputs": [
        {
          "output_type": "stream",
          "text": [
            "[ 1.  2.  3.  4.  5.  6.  7.  8.  9. 10. 11. 12. 13. 14. 15. 16. 17. 18.\n",
            " 19. 20. 21. 22. 23. 24. 25. 26. 27. 28. 29. 30. 31. 32. 33. 34. 35. 36.\n",
            " 37. 38. 39. 40. 41. 42. 43. 44. 45. 46. 47. 48. 49. 50.]\n"
          ],
          "name": "stdout"
        }
      ]
    },
    {
      "cell_type": "code",
      "metadata": {
        "id": "LvfQJEqU4oD_",
        "colab": {
          "base_uri": "https://localhost:8080/",
          "height": 399
        },
        "outputId": "337bdfe8-b113-4e82-a41c-6c4a8018e39b"
      },
      "source": [
        "n=np.linspace(1,50,num=10,retstep=True)\n",
        "print(n)\n",
        "n=np.linspace(0,1,endpoint=False,retstep=True)\n",
        "print(n)\n",
        "n=np.linspace(0,1,endpoint=True,retstep=True)\n",
        "print(n)\n",
        "n=np.linspace(0,10,num=10,endpoint=True,retstep=True,dtype=float)\n",
        "print(n)\n",
        "n=np.linspace(0,10,num=5,endpoint=True,retstep=True,dtype=float,axis=0)\n",
        "print(n)\n",
        "n=np.linspace(0,1,num=5,endpoint=True,retstep=True,dtype=bool)\n",
        "print(n)"
      ],
      "execution_count": null,
      "outputs": [
        {
          "output_type": "stream",
          "text": [
            "(array([ 1.        ,  6.44444444, 11.88888889, 17.33333333, 22.77777778,\n",
            "       28.22222222, 33.66666667, 39.11111111, 44.55555556, 50.        ]), 5.444444444444445)\n",
            "(array([0.  , 0.02, 0.04, 0.06, 0.08, 0.1 , 0.12, 0.14, 0.16, 0.18, 0.2 ,\n",
            "       0.22, 0.24, 0.26, 0.28, 0.3 , 0.32, 0.34, 0.36, 0.38, 0.4 , 0.42,\n",
            "       0.44, 0.46, 0.48, 0.5 , 0.52, 0.54, 0.56, 0.58, 0.6 , 0.62, 0.64,\n",
            "       0.66, 0.68, 0.7 , 0.72, 0.74, 0.76, 0.78, 0.8 , 0.82, 0.84, 0.86,\n",
            "       0.88, 0.9 , 0.92, 0.94, 0.96, 0.98]), 0.02)\n",
            "(array([0.        , 0.02040816, 0.04081633, 0.06122449, 0.08163265,\n",
            "       0.10204082, 0.12244898, 0.14285714, 0.16326531, 0.18367347,\n",
            "       0.20408163, 0.2244898 , 0.24489796, 0.26530612, 0.28571429,\n",
            "       0.30612245, 0.32653061, 0.34693878, 0.36734694, 0.3877551 ,\n",
            "       0.40816327, 0.42857143, 0.44897959, 0.46938776, 0.48979592,\n",
            "       0.51020408, 0.53061224, 0.55102041, 0.57142857, 0.59183673,\n",
            "       0.6122449 , 0.63265306, 0.65306122, 0.67346939, 0.69387755,\n",
            "       0.71428571, 0.73469388, 0.75510204, 0.7755102 , 0.79591837,\n",
            "       0.81632653, 0.83673469, 0.85714286, 0.87755102, 0.89795918,\n",
            "       0.91836735, 0.93877551, 0.95918367, 0.97959184, 1.        ]), 0.02040816326530612)\n",
            "(array([ 0.        ,  1.11111111,  2.22222222,  3.33333333,  4.44444444,\n",
            "        5.55555556,  6.66666667,  7.77777778,  8.88888889, 10.        ]), 1.1111111111111112)\n",
            "(array([ 0. ,  2.5,  5. ,  7.5, 10. ]), 2.5)\n",
            "(array([False,  True,  True,  True,  True]), 0.25)\n"
          ],
          "name": "stdout"
        }
      ]
    },
    {
      "cell_type": "code",
      "metadata": {
        "id": "HjOtz_tn_6vg",
        "colab": {
          "base_uri": "https://localhost:8080/",
          "height": 90
        },
        "outputId": "5f7bea9d-5eaa-4d39-a60f-61f3d8252a7d"
      },
      "source": [
        "nums=np.zeros([2,3])\n",
        "print(nums)\n",
        "for x in range (len(n)):\n",
        "  if x==0:\n",
        "    n[x]=np.linspace(1,3,num=3,endpoint=True)\n",
        "  else:\n",
        "    n[x]=np.linspace(7,9,num=3,endpoint=True)\n",
        "print(n)"
      ],
      "execution_count": null,
      "outputs": [
        {
          "output_type": "stream",
          "text": [
            "[[0. 0. 0.]\n",
            " [0. 0. 0.]]\n",
            "[[1. 2. 3.]\n",
            " [7. 8. 9.]]\n"
          ],
          "name": "stdout"
        }
      ]
    },
    {
      "cell_type": "code",
      "metadata": {
        "id": "nU0K3MzbBU9J",
        "colab": {
          "base_uri": "https://localhost:8080/",
          "height": 290
        },
        "outputId": "b25c1179-6277-41b6-9003-dea420938ae9"
      },
      "source": [
        "x,dx=np.linspace(1,np.pi,num=10,endpoint=True,retstep=True)\n",
        "print(dx)\n",
        "print(x)\n",
        "print('\\n')\n",
        "for dx in x:\n",
        "  print(dx)"
      ],
      "execution_count": null,
      "outputs": [
        {
          "output_type": "stream",
          "text": [
            "0.2379547392877548\n",
            "[1.         1.23795474 1.47590948 1.71386422 1.95181896 2.1897737\n",
            " 2.42772844 2.66568318 2.90363791 3.14159265]\n",
            "\n",
            "\n",
            "1.0\n",
            "1.2379547392877548\n",
            "1.4759094785755096\n",
            "1.7138642178632644\n",
            "1.9518189571510192\n",
            "2.189773696438774\n",
            "2.4277284357265287\n",
            "2.6656831750142835\n",
            "2.9036379143020383\n",
            "3.141592653589793\n"
          ],
          "name": "stdout"
        }
      ]
    },
    {
      "cell_type": "markdown",
      "metadata": {
        "id": "XefS-O-rFtfv"
      },
      "source": [
        "initializing an array from a function"
      ]
    },
    {
      "cell_type": "code",
      "metadata": {
        "id": "fugYv_g3ExqP",
        "colab": {
          "base_uri": "https://localhost:8080/",
          "height": 72
        },
        "outputId": "fe531542-65b3-4ddb-d7a1-50d4b0771a52"
      },
      "source": [
        "n=np.fromfunction(lambda x,y:x+y,(3,2))\n",
        "print(n)"
      ],
      "execution_count": null,
      "outputs": [
        {
          "output_type": "stream",
          "text": [
            "[[0. 1.]\n",
            " [1. 2.]\n",
            " [2. 3.]]\n"
          ],
          "name": "stdout"
        }
      ]
    },
    {
      "cell_type": "code",
      "metadata": {
        "id": "84y6ozp0GZL0",
        "colab": {
          "base_uri": "https://localhost:8080/",
          "height": 90
        },
        "outputId": "20d02e86-de3d-44c0-e603-cc05ff658ede"
      },
      "source": [
        "n=np.fromfunction(lambda x,y:x+y,(4,3))\n",
        "print(n)"
      ],
      "execution_count": null,
      "outputs": [
        {
          "output_type": "stream",
          "text": [
            "[[0. 1. 2.]\n",
            " [1. 2. 3.]\n",
            " [2. 3. 4.]\n",
            " [3. 4. 5.]]\n"
          ],
          "name": "stdout"
        }
      ]
    },
    {
      "cell_type": "code",
      "metadata": {
        "id": "YlgRh4rlHyWF",
        "colab": {
          "base_uri": "https://localhost:8080/",
          "height": 72
        },
        "outputId": "50d3f858-efd9-4908-8331-a64aa061cd48"
      },
      "source": [
        "#make an array in which each 1 will be placed in index 0,5,10,15,... like this and the rest indexes valued 0\n",
        "def method(x):\n",
        "  return (x%5==0)*1\n",
        "n=np.fromfunction(method,(100,))\n",
        "print(n)"
      ],
      "execution_count": null,
      "outputs": [
        {
          "output_type": "stream",
          "text": [
            "[1 0 0 0 0 1 0 0 0 0 1 0 0 0 0 1 0 0 0 0 1 0 0 0 0 1 0 0 0 0 1 0 0 0 0 1 0\n",
            " 0 0 0 1 0 0 0 0 1 0 0 0 0 1 0 0 0 0 1 0 0 0 0 1 0 0 0 0 1 0 0 0 0 1 0 0 0\n",
            " 0 1 0 0 0 0 1 0 0 0 0 1 0 0 0 0 1 0 0 0 0 1 0 0 0 0]\n"
          ],
          "name": "stdout"
        }
      ]
    },
    {
      "cell_type": "markdown",
      "metadata": {
        "id": "585dvrjRSBdP"
      },
      "source": [
        "know about your array"
      ]
    },
    {
      "cell_type": "code",
      "metadata": {
        "id": "s0o4aashN6oY",
        "colab": {
          "base_uri": "https://localhost:8080/",
          "height": 108
        },
        "outputId": "7d469433-66fe-431a-b903-f59c974016ad"
      },
      "source": [
        "n=np.array([[1,2,3],[4,5,6],[7,8,9]])\n",
        "print(n.shape)\n",
        "print('number of dimensions(also called as rank of array): ',n.ndim)\n",
        "print('there is ',n.size,' number of elements in the array')\n",
        "print(n.dtype) #data type\n",
        "print(n.data) #memory location"
      ],
      "execution_count": null,
      "outputs": [
        {
          "output_type": "stream",
          "text": [
            "(3, 3)\n",
            "number of dimensions(also called as rank of array):  2\n",
            "there is  9  number of elements in the array\n",
            "int64\n",
            "<memory at 0x7f9955455708>\n"
          ],
          "name": "stdout"
        }
      ]
    },
    {
      "cell_type": "markdown",
      "metadata": {
        "id": "2UuPym9nmfJo"
      },
      "source": [
        "copy an array from another array which has different dtype from dtype the copied array has"
      ]
    },
    {
      "cell_type": "code",
      "metadata": {
        "id": "P_Ffnf0ASbWV",
        "colab": {
          "base_uri": "https://localhost:8080/",
          "height": 108
        },
        "outputId": "29b8c1e3-bbc5-41b6-ea38-c261c247c3a7"
      },
      "source": [
        "import numpy as np\n",
        "a=np.array([1.8962,2.3,3.0])\n",
        "print(a.dtype)\n",
        "b=a.astype('uint8')\n",
        "print(b.dtype)\n",
        "print(b)\n",
        "bool_array=b.astype(bool)\n",
        "print(bool_array.dtype)\n",
        "print(bool_array)"
      ],
      "execution_count": null,
      "outputs": [
        {
          "output_type": "stream",
          "text": [
            "float64\n",
            "uint8\n",
            "[1 2 3]\n",
            "bool\n",
            "[ True  True  True]\n"
          ],
          "name": "stdout"
        }
      ]
    },
    {
      "cell_type": "markdown",
      "metadata": {
        "id": "w5JV02NMphed"
      },
      "source": [
        "encode decode"
      ]
    },
    {
      "cell_type": "code",
      "metadata": {
        "id": "wuZs-rVEkqTT",
        "colab": {
          "base_uri": "https://localhost:8080/",
          "height": 163
        },
        "outputId": "33d47b25-1742-43ff-a2f4-1913c87cd616"
      },
      "source": [
        "string='joy'\n",
        "encoded_string=string.encode()\n",
        "print(encoded_string)\n",
        "#check normal string length and encoded string length\n",
        "print(len(string),' ',len(encoded_string))\n",
        "n=np.empty((2,3),'S3')\n",
        "n[:]=encoded_string\n",
        "print(n)\n",
        "print(n[0][0])\n",
        "print(n[0][1].decode())\n",
        "print(n[0][2].dtype)\n",
        "print(n[0][1].dtype)"
      ],
      "execution_count": null,
      "outputs": [
        {
          "output_type": "stream",
          "text": [
            "b'joy'\n",
            "3   3\n",
            "[[b'joy' b'joy' b'joy']\n",
            " [b'joy' b'joy' b'joy']]\n",
            "b'joy'\n",
            "joy\n",
            "|S3\n",
            "|S3\n"
          ],
          "name": "stdout"
        }
      ]
    },
    {
      "cell_type": "markdown",
      "metadata": {
        "id": "_fBKgJIcwH-5"
      },
      "source": [
        "universal functions"
      ]
    },
    {
      "cell_type": "code",
      "metadata": {
        "id": "wGwalY0jpy6w",
        "colab": {
          "base_uri": "https://localhost:8080/",
          "height": 217
        },
        "outputId": "dab0d7f6-74e8-4259-eafc-8049f3d63cb3"
      },
      "source": [
        "n=np.linspace(1,10,num=10,endpoint=True)\n",
        "print(n)\n",
        "\n",
        "n=n**2\n",
        "print('\\n',n)\n",
        "\n",
        "n=np.sqrt(n)\n",
        "print('\\n',n)\n",
        "\n",
        "n=np.exp(n)\n",
        "print('\\n',n)\n",
        "\n",
        "n=np.log(n)\n",
        "print(n)\n",
        "\n",
        "x=np.array([0,90,90])\n",
        "y=np.array([0,90,0])\n",
        "n=np.sin(x-y)\n",
        "print(n)"
      ],
      "execution_count": null,
      "outputs": [
        {
          "output_type": "stream",
          "text": [
            "[ 1.  2.  3.  4.  5.  6.  7.  8.  9. 10.]\n",
            "\n",
            " [  1.   4.   9.  16.  25.  36.  49.  64.  81. 100.]\n",
            "\n",
            " [ 1.  2.  3.  4.  5.  6.  7.  8.  9. 10.]\n",
            "\n",
            " [2.71828183e+00 7.38905610e+00 2.00855369e+01 5.45981500e+01\n",
            " 1.48413159e+02 4.03428793e+02 1.09663316e+03 2.98095799e+03\n",
            " 8.10308393e+03 2.20264658e+04]\n",
            "[ 1.  2.  3.  4.  5.  6.  7.  8.  9. 10.]\n",
            "[0.         0.         0.89399666]\n"
          ],
          "name": "stdout"
        }
      ]
    },
    {
      "cell_type": "code",
      "metadata": {
        "id": "0kYhH5QJy63f",
        "colab": {
          "base_uri": "https://localhost:8080/",
          "height": 108
        },
        "outputId": "b29d0b49-9592-430b-da47-7d1b964de9f6"
      },
      "source": [
        "#multiplication\n",
        "a=np.array([1,2,3])\n",
        "b=np.array([1,2,3])\n",
        "a=a*b\n",
        "print(a)\n",
        "#case 1\n",
        "a=np.array([1,2,3])\n",
        "b=np.array([[1,2,3],[1,2,3]])\n",
        "a=a*b\n",
        "print(a)\n",
        "#case 2\n",
        "a=np.array([1,2,3])\n",
        "b=np.array([[1,2],[2,3],[2,3]])\n",
        "try:\n",
        "  a=a*b\n",
        "except ValueError:\n",
        "  print('a is (1,3) and b is (3,2) matrix so it cannot be multiplied')\n",
        "print(a)"
      ],
      "execution_count": null,
      "outputs": [
        {
          "output_type": "stream",
          "text": [
            "[1 4 9]\n",
            "[[1 4 9]\n",
            " [1 4 9]]\n",
            "a is (1,3) and b is (3,2) matrix so \n",
            "[1 2 3]\n"
          ],
          "name": "stdout"
        }
      ]
    },
    {
      "cell_type": "code",
      "metadata": {
        "id": "U2VVPVE7zUFT",
        "colab": {
          "base_uri": "https://localhost:8080/",
          "height": 126
        },
        "outputId": "b8993021-a248-4d03-da74-6998e072d34f"
      },
      "source": [
        "print(a,'\\n',b)\n",
        "print('\\n',a.dot(b))"
      ],
      "execution_count": null,
      "outputs": [
        {
          "output_type": "stream",
          "text": [
            "[1 2 3] \n",
            " [[1 2]\n",
            " [2 3]\n",
            " [2 3]]\n",
            "\n",
            " [11 17]\n"
          ],
          "name": "stdout"
        }
      ]
    },
    {
      "cell_type": "code",
      "metadata": {
        "id": "6hKJX2h-1gJc",
        "colab": {
          "base_uri": "https://localhost:8080/"
        },
        "outputId": "1e5521b8-ffcc-4ba1-c5ee-2c30eb05099f"
      },
      "source": [
        "import numpy as np\n",
        "nums=np.linspace(1,10,num=10,endpoint=True)**2\n",
        "print(nums)\n",
        "print((nums<10) | (nums>50))"
      ],
      "execution_count": null,
      "outputs": [
        {
          "output_type": "stream",
          "text": [
            "[  1.   4.   9.  16.  25.  36.  49.  64.  81. 100.]\n",
            "[ True  True  True False False False False  True  True  True]\n"
          ],
          "name": "stdout"
        }
      ]
    },
    {
      "cell_type": "markdown",
      "metadata": {
        "id": "DgnxXPbA95ul"
      },
      "source": [
        "NumPy's special values: nan (not a number) and inf (infinity)"
      ]
    },
    {
      "cell_type": "code",
      "metadata": {
        "id": "8iKM4ylL2_Yt",
        "colab": {
          "base_uri": "https://localhost:8080/",
          "height": 308
        },
        "outputId": "548c32ec-0d8d-463c-957d-a8199bf57a39"
      },
      "source": [
        "a=np.arange(3)\n",
        "print(a)\n",
        "a=a/0\n",
        "print(a)\n",
        "#check if a value is not nan or not inf\n",
        "n=np.arange(10)\n",
        "n=n/0\n",
        "print(n)\n",
        "print(np.isnan(n))\n",
        "print(np.isinf(n))\n",
        "#check if a value is finite\n",
        "print(np.isfinite(n))\n",
        "#but every element in the above array is either infite or nan so all the elements gives False\n",
        "check_array=np.array([0.356465,1,10/3,3.3333333333333333333333333333333333333333333333333333333333333333333333])\n",
        "print(check_array)\n",
        "print(np.isfinite(check_array))"
      ],
      "execution_count": null,
      "outputs": [
        {
          "output_type": "stream",
          "text": [
            "[0 1 2]\n",
            "[nan inf inf]\n",
            "[nan inf inf inf inf inf inf inf inf inf]\n",
            "[ True False False False False False False False False False]\n",
            "[False  True  True  True  True  True  True  True  True  True]\n",
            "[False False False False False False False False False False]\n",
            "[0.356465   1.         3.33333333 3.33333333]\n",
            "[ True  True  True  True]\n"
          ],
          "name": "stdout"
        },
        {
          "output_type": "stream",
          "text": [
            "/usr/local/lib/python3.6/dist-packages/ipykernel_launcher.py:3: RuntimeWarning: divide by zero encountered in true_divide\n",
            "  This is separate from the ipykernel package so we can avoid doing imports until\n",
            "/usr/local/lib/python3.6/dist-packages/ipykernel_launcher.py:3: RuntimeWarning: invalid value encountered in true_divide\n",
            "  This is separate from the ipykernel package so we can avoid doing imports until\n",
            "/usr/local/lib/python3.6/dist-packages/ipykernel_launcher.py:7: RuntimeWarning: divide by zero encountered in true_divide\n",
            "  import sys\n",
            "/usr/local/lib/python3.6/dist-packages/ipykernel_launcher.py:7: RuntimeWarning: invalid value encountered in true_divide\n",
            "  import sys\n"
          ],
          "name": "stderr"
        }
      ]
    },
    {
      "cell_type": "markdown",
      "metadata": {
        "id": "IEbLJf9sCT6J"
      },
      "source": [
        "changing the shape of an array: flatten and ravel (does the same thing but some minor differences are there)"
      ]
    },
    {
      "cell_type": "code",
      "metadata": {
        "id": "bHUTCqhh-dV0",
        "colab": {
          "base_uri": "https://localhost:8080/",
          "height": 217
        },
        "outputId": "a934c400-3c97-41fc-b065-6d7ec9cd4b33"
      },
      "source": [
        "a=np.array([[[1,2,3],[1,2,3],[1,2,3]],[[3,4,5],[6,7,8],[9,10,12]]])\n",
        "print(a)\n",
        "b=a.flatten()\n",
        "print(b)\n",
        "#flatten() makes an multi dimensional array to a (1,1) array\n",
        "print(a.shape)\n",
        "print(b.shape)\n",
        "#can we change the elements of the flattend array?\n",
        "b[0]=100\n",
        "print(b)"
      ],
      "execution_count": null,
      "outputs": [
        {
          "output_type": "stream",
          "text": [
            "[[[ 1  2  3]\n",
            "  [ 1  2  3]\n",
            "  [ 1  2  3]]\n",
            "\n",
            " [[ 3  4  5]\n",
            "  [ 6  7  8]\n",
            "  [ 9 10 12]]]\n",
            "[ 1  2  3  1  2  3  1  2  3  3  4  5  6  7  8  9 10 12]\n",
            "(2, 3, 3)\n",
            "(18,)\n",
            "[100   2   3   1   2   3   1   2   3   3   4   5   6   7   8   9  10  12]\n"
          ],
          "name": "stdout"
        }
      ]
    },
    {
      "cell_type": "code",
      "metadata": {
        "id": "BE6vmsAvDB-W",
        "colab": {
          "base_uri": "https://localhost:8080/",
          "height": 90
        },
        "outputId": "0c59fb2f-1ecd-4b74-a922-79b6a6098ad3"
      },
      "source": [
        "array=np.array([[1,2,3],[4,5,6],[7,8,9]])\n",
        "array.ravel()\n",
        "print(array)\n",
        "new_array=np.ravel(array)\n",
        "print(new_array)"
      ],
      "execution_count": null,
      "outputs": [
        {
          "output_type": "stream",
          "text": [
            "[[1 2 3]\n",
            " [4 5 6]\n",
            " [7 8 9]]\n",
            "[1 2 3 4 5 6 7 8 9]\n"
          ],
          "name": "stdout"
        }
      ]
    },
    {
      "cell_type": "markdown",
      "metadata": {
        "id": "Z2ud90NHICFA"
      },
      "source": [
        "resize and reshape"
      ]
    },
    {
      "cell_type": "code",
      "metadata": {
        "id": "BJZCiobEExIm",
        "colab": {
          "base_uri": "https://localhost:8080/",
          "height": 199
        },
        "outputId": "ba55186d-4e06-430e-8018-ccbde3949de0"
      },
      "source": [
        "a=np.linspace(1,10,num=10,endpoint=True)\n",
        "print(a)\n",
        "a.resize(2,5)\n",
        "print(a)\n",
        "\n",
        "print(a.reshape(5,2))\n",
        "print(a)\n",
        "#difference between reshape and resize method is reshape just show the array in the desired shape but does not modify the original array\n",
        "#whereas resize method changes the array and returns the modified array"
      ],
      "execution_count": null,
      "outputs": [
        {
          "output_type": "stream",
          "text": [
            "[ 1.  2.  3.  4.  5.  6.  7.  8.  9. 10.]\n",
            "[[ 1.  2.  3.  4.  5.]\n",
            " [ 6.  7.  8.  9. 10.]]\n",
            "[[ 1.  2.]\n",
            " [ 3.  4.]\n",
            " [ 5.  6.]\n",
            " [ 7.  8.]\n",
            " [ 9. 10.]]\n",
            "[[ 1.  2.  3.  4.  5.]\n",
            " [ 6.  7.  8.  9. 10.]]\n"
          ],
          "name": "stdout"
        }
      ]
    },
    {
      "cell_type": "markdown",
      "metadata": {
        "id": "BW-KeeBQLU98"
      },
      "source": [
        "transposing an array"
      ]
    },
    {
      "cell_type": "code",
      "metadata": {
        "id": "Pjhe86iqIRnd",
        "colab": {
          "base_uri": "https://localhost:8080/",
          "height": 199
        },
        "outputId": "47301125-ba4a-4766-899d-329858b80663"
      },
      "source": [
        "a=np.array([[1,2,3],[7,8,9]])\n",
        "print('before tranpose: \\n',a)\n",
        "\n",
        "print('tranpose array print but origirnal array is unchanged: \\n',a.transpose())\n",
        "print('original array is unchanged: \\n',a)\n",
        "#save while transposing an matrix if it is needed for operations not only for printing"
      ],
      "execution_count": null,
      "outputs": [
        {
          "output_type": "stream",
          "text": [
            "before tranpose: \n",
            " [[1 2 3]\n",
            " [7 8 9]]\n",
            "tranpose array print but origirnal array is unchanged: \n",
            " [[1 7]\n",
            " [2 8]\n",
            " [3 9]]\n",
            "original array is unchanged: \n",
            " [[1 2 3]\n",
            " [7 8 9]]\n"
          ],
          "name": "stdout"
        }
      ]
    },
    {
      "cell_type": "markdown",
      "metadata": {
        "id": "-T477KqHPdcy"
      },
      "source": [
        "merging and splitting arrays"
      ]
    },
    {
      "cell_type": "markdown",
      "metadata": {
        "id": "s6k_HPZ0PtML"
      },
      "source": [
        "vstack, hstack, dstack AND vsplit, hsplit, dsplit"
      ]
    },
    {
      "cell_type": "markdown",
      "metadata": {
        "id": "_o6KvYiOh240"
      },
      "source": [
        "v: vertical, h: horizontal, d: depth"
      ]
    },
    {
      "cell_type": "code",
      "metadata": {
        "id": "AUATJvVnLwrz",
        "colab": {
          "base_uri": "https://localhost:8080/",
          "height": 308
        },
        "outputId": "a0d6a85e-2721-447f-e657-8d7c75b98faf"
      },
      "source": [
        "a=np.array((0,1,2))\n",
        "b=np.array((0,1,2))\n",
        "c=np.array((0,1,2))\n",
        "x=np.vstack((a,b,c))\n",
        "print(x)\n",
        "y=np.hstack((a,b,c))\n",
        "print(y)\n",
        "z=np.dstack((a,b,c))\n",
        "print(z)\n",
        "\n",
        "#vsplit()\n",
        "x=np.vsplit(x,3) #3 means splitted arrays elements will be stored in 3 arrays as x is an array of 9 elements so in 2 arrays 9 elements cannot be stored equally in each of those 2 arrays so we took 3 arrays\n",
        "print(x)\n",
        "y=np.hsplit(y,3)\n",
        "print(y)\n",
        "z=np.dsplit(z,3)\n",
        "print(z)"
      ],
      "execution_count": null,
      "outputs": [
        {
          "output_type": "stream",
          "text": [
            "[[0 1 2]\n",
            " [0 1 2]\n",
            " [0 1 2]]\n",
            "[0 1 2 0 1 2 0 1 2]\n",
            "[[[0 0 0]\n",
            "  [1 1 1]\n",
            "  [2 2 2]]]\n",
            "[array([[0, 1, 2]]), array([[0, 1, 2]]), array([[0, 1, 2]])]\n",
            "[array([0, 1, 2]), array([0, 1, 2]), array([0, 1, 2])]\n",
            "[array([[[0],\n",
            "        [1],\n",
            "        [2]]]), array([[[0],\n",
            "        [1],\n",
            "        [2]]]), array([[[0],\n",
            "        [1],\n",
            "        [2]]])]\n"
          ],
          "name": "stdout"
        }
      ]
    },
    {
      "cell_type": "code",
      "metadata": {
        "id": "M5-JVz7pP8zd",
        "colab": {
          "base_uri": "https://localhost:8080/",
          "height": 145
        },
        "outputId": "0fe02a4c-33bf-432a-ef02-2f7a874f1153"
      },
      "source": [
        "#adding an row to an array\n",
        "a=np.ones((3,3))\n",
        "print(a)\n",
        "\n",
        "a=np.vstack((a,np.array((10,10,10))))\n",
        "print(a)"
      ],
      "execution_count": null,
      "outputs": [
        {
          "output_type": "stream",
          "text": [
            "[[1. 1. 1.]\n",
            " [1. 1. 1.]\n",
            " [1. 1. 1.]]\n",
            "[[ 1.  1.  1.]\n",
            " [ 1.  1.  1.]\n",
            " [ 1.  1.  1.]\n",
            " [10. 10. 10.]]\n"
          ],
          "name": "stdout"
        }
      ]
    },
    {
      "cell_type": "code",
      "metadata": {
        "id": "fNKyO7bjUA9U",
        "colab": {
          "base_uri": "https://localhost:8080/",
          "height": 199
        },
        "outputId": "bb826a2c-4078-4dd4-c857-23bbd78b11e9"
      },
      "source": [
        "#adding an column to an array\n",
        "a=np.ones((3,3))\n",
        "print(a)\n",
        "\n",
        "column_array=np.array((3,3,3))\n",
        "print(column_array)\n",
        "column_array.resize(3,1)\n",
        "print(column_array)\n",
        "\n",
        "#add the column to the array\n",
        "after_adding_column=np.hstack((a,column_array))\n",
        "print(after_adding_column)"
      ],
      "execution_count": null,
      "outputs": [
        {
          "output_type": "stream",
          "text": [
            "[[1. 1. 1.]\n",
            " [1. 1. 1.]\n",
            " [1. 1. 1.]]\n",
            "[3 3 3]\n",
            "[[3]\n",
            " [3]\n",
            " [3]]\n",
            "[[1. 1. 1. 3.]\n",
            " [1. 1. 1. 3.]\n",
            " [1. 1. 1. 3.]]\n"
          ],
          "name": "stdout"
        }
      ]
    },
    {
      "cell_type": "markdown",
      "metadata": {
        "id": "bpF9XPbv2Vlq"
      },
      "source": [
        "indexing and slicing an array"
      ]
    },
    {
      "cell_type": "code",
      "metadata": {
        "id": "EJr1bvGlVNgs",
        "colab": {
          "base_uri": "https://localhost:8080/",
          "height": 290
        },
        "outputId": "293591ba-e399-4d7b-b3e9-c4e63efdc2e5"
      },
      "source": [
        "import numpy as np\n",
        "a=np.linspace(1,10,20)\n",
        "print(a)\n",
        "#make a new array\n",
        "new_array=a[0:4]\n",
        "print(new_array)\n",
        "#new array with a stride\n",
        "new_array=a[0::2] #2 is the stride\n",
        "print(new_array)\n",
        "#copy of the array\n",
        "new_array=a[::]\n",
        "print(new_array)\n",
        "#make an array with the elements in reverse order from the original array\n",
        "new_array=a[::-1]\n",
        "print(new_array)"
      ],
      "execution_count": null,
      "outputs": [
        {
          "output_type": "stream",
          "text": [
            "[ 1.          1.47368421  1.94736842  2.42105263  2.89473684  3.36842105\n",
            "  3.84210526  4.31578947  4.78947368  5.26315789  5.73684211  6.21052632\n",
            "  6.68421053  7.15789474  7.63157895  8.10526316  8.57894737  9.05263158\n",
            "  9.52631579 10.        ]\n",
            "[1.         1.47368421 1.94736842 2.42105263]\n",
            "[1.         1.94736842 2.89473684 3.84210526 4.78947368 5.73684211\n",
            " 6.68421053 7.63157895 8.57894737 9.52631579]\n",
            "[ 1.          1.47368421  1.94736842  2.42105263  2.89473684  3.36842105\n",
            "  3.84210526  4.31578947  4.78947368  5.26315789  5.73684211  6.21052632\n",
            "  6.68421053  7.15789474  7.63157895  8.10526316  8.57894737  9.05263158\n",
            "  9.52631579 10.        ]\n",
            "[10.          9.52631579  9.05263158  8.57894737  8.10526316  7.63157895\n",
            "  7.15789474  6.68421053  6.21052632  5.73684211  5.26315789  4.78947368\n",
            "  4.31578947  3.84210526  3.36842105  2.89473684  2.42105263  1.94736842\n",
            "  1.47368421  1.        ]\n"
          ],
          "name": "stdout"
        }
      ]
    },
    {
      "cell_type": "code",
      "metadata": {
        "id": "H7EyLAOD2cj-",
        "colab": {
          "base_uri": "https://localhost:8080/",
          "height": 126
        },
        "outputId": "8a211c77-aae0-4499-faa7-3af0ef6bdcf4"
      },
      "source": [
        "a=np.array((1,2,3,4,5,6,7,8,9))\n",
        "new_array=a[::]\n",
        "print(new_array,'\\n')\n",
        "new_array=a[::2]\n",
        "print(new_array,'\\n')\n",
        "new_array=a[::-1]\n",
        "print(new_array,'\\n')"
      ],
      "execution_count": null,
      "outputs": [
        {
          "output_type": "stream",
          "text": [
            "[1 2 3 4 5 6 7 8 9] \n",
            "\n",
            "[1 3 5 7 9] \n",
            "\n",
            "[9 8 7 6 5 4 3 2 1] \n",
            "\n"
          ],
          "name": "stdout"
        }
      ]
    },
    {
      "cell_type": "code",
      "metadata": {
        "id": "cADubXyF494G",
        "colab": {
          "base_uri": "https://localhost:8080/",
          "height": 181
        },
        "outputId": "f565dc19-14d2-4dcb-86b8-bf4627d02906"
      },
      "source": [
        "a=np.ones((3,2,2))\n",
        "print(a)\n",
        "new_array=a[2,0,::] #in the third bracket first element 2 means if refers to a[2], then 0 means a[2][0] and :: means all so a[2,0,::] means all elements of a[2][0] and to be retrieved to the new array\n",
        "print(new_array)"
      ],
      "execution_count": null,
      "outputs": [
        {
          "output_type": "stream",
          "text": [
            "[[[1. 1.]\n",
            "  [1. 1.]]\n",
            "\n",
            " [[1. 1.]\n",
            "  [1. 1.]]\n",
            "\n",
            " [[1. 1.]\n",
            "  [1. 1.]]]\n",
            "[1. 1.]\n"
          ],
          "name": "stdout"
        }
      ]
    },
    {
      "cell_type": "code",
      "metadata": {
        "id": "CzE63qCe7UDc",
        "colab": {
          "base_uri": "https://localhost:8080/",
          "height": 254
        },
        "outputId": "97fde7b4-13a0-459f-8b7d-7ac6556ca702"
      },
      "source": [
        "arr=np.array([[1,2,3],\n",
        "              [4,5,6],\n",
        "              [7,8,9]])\n",
        "print(arr)\n",
        "new_array=arr[2,::]\n",
        "print(new_array)\n",
        "#print just column 1 or 2,5,8\n",
        "new_array=arr[::,1]\n",
        "print(new_array)\n",
        "#print just elements of right bottom part of the array or 5,6,8,9\n",
        "new_array=arr[1::,1::]\n",
        "print(new_array)\n",
        "#left bottom part of the array\n",
        "new_array=arr[:2,:2]\n",
        "print(new_array)\n",
        "#print a row then don't print the second row then print the 3rd row then don't print the 4th row and continue like this\n",
        "new_array=arr[::2,::]\n",
        "print(new_array)\n",
        "#print the elements of the corners\n",
        "new_array=arr[0::2,0::2]\n",
        "print(new_array)"
      ],
      "execution_count": null,
      "outputs": [
        {
          "output_type": "stream",
          "text": [
            "[[1 2 3]\n",
            " [4 5 6]\n",
            " [7 8 9]]\n",
            "[7 8 9]\n",
            "[2 5 8]\n",
            "[[5 6]\n",
            " [8 9]]\n",
            "[[1 2]\n",
            " [4 5]]\n",
            "[[1 2 3]\n",
            " [7 8 9]]\n",
            "[[1 3]\n",
            " [7 9]]\n"
          ],
          "name": "stdout"
        }
      ]
    },
    {
      "cell_type": "code",
      "metadata": {
        "id": "TpCOrs8M7gHo",
        "colab": {
          "base_uri": "https://localhost:8080/",
          "height": 72
        },
        "outputId": "cc153f03-2239-486e-d70e-d68e29f5e3e5"
      },
      "source": [
        "#set all the values of the 2nd column to 0\n",
        "a=np.array([[1,2,3],\n",
        "            [4,5,6],\n",
        "            [7,8,9]])\n",
        "a[::,1]=0\n",
        "print(a)"
      ],
      "execution_count": null,
      "outputs": [
        {
          "output_type": "stream",
          "text": [
            "[[1 0 3]\n",
            " [4 0 6]\n",
            " [7 0 9]]\n"
          ],
          "name": "stdout"
        }
      ]
    },
    {
      "cell_type": "markdown",
      "metadata": {
        "id": "FLElVT02GKLm"
      },
      "source": [
        "advanced indexing"
      ]
    },
    {
      "cell_type": "code",
      "metadata": {
        "id": "lnvxBuH0GQ2s",
        "colab": {
          "base_uri": "https://localhost:8080/",
          "height": 90
        },
        "outputId": "b9842c3c-45a0-486b-c36a-d9593edab579"
      },
      "source": [
        "arr=np.array([1,2,3,4,5,6,7,8,9])\n",
        "iarr=[0,4,8]\n",
        "print(arr[iarr])\n",
        "iarr=np.array([[0,1],[2,2],[1,0]])\n",
        "print(arr[iarr])"
      ],
      "execution_count": null,
      "outputs": [
        {
          "output_type": "stream",
          "text": [
            "[1 5 9]\n",
            "[[1 2]\n",
            " [3 3]\n",
            " [2 1]]\n"
          ],
          "name": "stdout"
        }
      ]
    },
    {
      "cell_type": "code",
      "metadata": {
        "id": "0Gbca7UJJzhx",
        "colab": {
          "base_uri": "https://localhost:8080/",
          "height": 126
        },
        "outputId": "8d0da069-8907-424a-92c9-5a27dec1b23c"
      },
      "source": [
        "arr=np.linspace(1,12,num=12,dtype=int).reshape(4,3)\n",
        "print(arr)\n",
        "#print a (2,2) matrix containing indexes from which a new matrix can be built later with original array elements\n",
        "ix=np.array([[0,1],\n",
        "             [0,2]])\n",
        "iy=np.array([[1,2],\n",
        "             [0,2]])\n",
        "new_array=arr[ix,iy]\n",
        "print(new_array)"
      ],
      "execution_count": null,
      "outputs": [
        {
          "output_type": "stream",
          "text": [
            "[[ 1  2  3]\n",
            " [ 4  5  6]\n",
            " [ 7  8  9]\n",
            " [10 11 12]]\n",
            "[[2 6]\n",
            " [1 9]]\n"
          ],
          "name": "stdout"
        }
      ]
    },
    {
      "cell_type": "code",
      "metadata": {
        "id": "iQW9FR26J9z0",
        "colab": {
          "base_uri": "https://localhost:8080/",
          "height": 126
        },
        "outputId": "12f0c532-1f5f-47fb-9ca4-c745b46886bd"
      },
      "source": [
        "#suppose we have an array which has some floats and some negative numbers but only integers and non negative values are needed for an operation so modify the array so that the array has no float numbers neither negatives\n",
        "a=np.array([[1,2,-4],\n",
        "            [0.5,2,2],\n",
        "            [2,1,-0.7]])\n",
        "bool_a=a<=0\n",
        "print(bool_a)\n",
        "a[bool_a]=0\n",
        "print(a)"
      ],
      "execution_count": null,
      "outputs": [
        {
          "output_type": "stream",
          "text": [
            "[[False False  True]\n",
            " [False False False]\n",
            " [False False  True]]\n",
            "[[1.  2.  0. ]\n",
            " [0.5 2.  2. ]\n",
            " [2.  1.  0. ]]\n"
          ],
          "name": "stdout"
        }
      ]
    },
    {
      "cell_type": "code",
      "metadata": {
        "id": "F25_hBxVSdSG",
        "colab": {
          "base_uri": "https://localhost:8080/",
          "height": 163
        },
        "outputId": "94eaf423-7209-4994-f6c2-91bce71bf7c6"
      },
      "source": [
        "#make all negative values of an array to 0\n",
        "a=np.array([[1,2,0.5],\n",
        "            [-1,-1,0],\n",
        "            [1,2,2],\n",
        "            [1,2,-4]])\n",
        "print(a)\n",
        "a[a<0]=0\n",
        "print(a)"
      ],
      "execution_count": null,
      "outputs": [
        {
          "output_type": "stream",
          "text": [
            "[[ 1.   2.   0.5]\n",
            " [-1.  -1.   0. ]\n",
            " [ 1.   2.   2. ]\n",
            " [ 1.   2.  -4. ]]\n",
            "[[1.  2.  0.5]\n",
            " [0.  0.  0. ]\n",
            " [1.  2.  2. ]\n",
            " [1.  2.  0. ]]\n"
          ],
          "name": "stdout"
        }
      ]
    },
    {
      "cell_type": "code",
      "metadata": {
        "id": "Zf-Cn_8OSuRb",
        "colab": {
          "base_uri": "https://localhost:8080/",
          "height": 72
        },
        "outputId": "75514412-1f27-42ff-a88a-919a9a3ddfac"
      },
      "source": [
        "#retrieve leap years from an array of years\n",
        "years=np.array([1900,1920,1940,1998,2016,2100,2220,2222])\n",
        "print(years)\n",
        "check_leap_year=(years%400==0) | (years%4==0) & ~(years%100==0)\n",
        "print(check_leap_year)\n",
        "make_a_list_of_tuples=list(zip(years,check_leap_year))\n",
        "print(make_a_list_of_tuples)"
      ],
      "execution_count": null,
      "outputs": [
        {
          "output_type": "stream",
          "text": [
            "[1900 1920 1940 1998 2016 2100 2220 2222]\n",
            "[False  True  True False  True False  True False]\n",
            "[(1900, False), (1920, True), (1940, True), (1998, False), (2016, True), (2100, False), (2220, True), (2222, False)]\n"
          ],
          "name": "stdout"
        }
      ]
    },
    {
      "cell_type": "markdown",
      "metadata": {
        "id": "d430u7JPWDFR"
      },
      "source": [
        "adding an axis"
      ]
    },
    {
      "cell_type": "code",
      "metadata": {
        "id": "0-K0PAVgUYEn",
        "colab": {
          "base_uri": "https://localhost:8080/",
          "height": 490
        },
        "outputId": "3fda21aa-f4f4-4d13-aee1-ab5e58aab559"
      },
      "source": [
        "#make an array (3,2) dimensions\n",
        "a=np.linspace(1,6,6).reshape(3,2)\n",
        "print('2D array',a.shape,'\\n',a)\n",
        "#add an axis or simply make it (3,1,2) from (3,2)\n",
        "a=a[:,np.newaxis,:]\n",
        "print('3D array',a.shape,'\\n',a)\n",
        "#make it 5D\n",
        "a=a[:,:,:,np.newaxis,np.newaxis]\n",
        "print('5D array',a.shape,'\\n',a)"
      ],
      "execution_count": null,
      "outputs": [
        {
          "output_type": "stream",
          "text": [
            "2D array (3, 2) \n",
            " [[1. 2.]\n",
            " [3. 4.]\n",
            " [5. 6.]]\n",
            "3D array (3, 1, 2) \n",
            " [[[1. 2.]]\n",
            "\n",
            " [[3. 4.]]\n",
            "\n",
            " [[5. 6.]]]\n",
            "5D array (3, 1, 2, 1, 1) \n",
            " [[[[[1.]]\n",
            "\n",
            "   [[2.]]]]\n",
            "\n",
            "\n",
            "\n",
            " [[[[3.]]\n",
            "\n",
            "   [[4.]]]]\n",
            "\n",
            "\n",
            "\n",
            " [[[[5.]]\n",
            "\n",
            "   [[6.]]]]]\n"
          ],
          "name": "stdout"
        }
      ]
    },
    {
      "cell_type": "markdown",
      "metadata": {
        "id": "mjbMLGFWgCAv"
      },
      "source": [
        "Meshes"
      ]
    },
    {
      "cell_type": "code",
      "metadata": {
        "id": "e8DCEoQTXQvt",
        "colab": {
          "base_uri": "https://localhost:8080/",
          "height": 363
        },
        "outputId": "0252145f-b1e9-4773-beb0-b41e57a5e26a"
      },
      "source": [
        "X=np.linspace(0,5,6,dtype=int)\n",
        "Y=np.linspace(0,3,4,dtype=int)\n",
        "print('X=',X)\n",
        "print('Y=',Y)\n",
        "x_array,y_array=np.meshgrid(X,Y)\n",
        "print('\\n',x_array)\n",
        "print('\\n',y_array)\n",
        "x_array,y_array=np.meshgrid(X,Y,sparse=True)\n",
        "print('\\n',x_array)\n",
        "print('\\n',y_array)"
      ],
      "execution_count": null,
      "outputs": [
        {
          "output_type": "stream",
          "text": [
            "X= [0 1 2 3 4 5]\n",
            "Y= [0 1 2 3]\n",
            "\n",
            " [[0 1 2 3 4 5]\n",
            " [0 1 2 3 4 5]\n",
            " [0 1 2 3 4 5]\n",
            " [0 1 2 3 4 5]]\n",
            "\n",
            " [[0 0 0 0 0 0]\n",
            " [1 1 1 1 1 1]\n",
            " [2 2 2 2 2 2]\n",
            " [3 3 3 3 3 3]]\n",
            "\n",
            " [[0 1 2 3 4 5]]\n",
            "\n",
            " [[0]\n",
            " [1]\n",
            " [2]\n",
            " [3]]\n"
          ],
          "name": "stdout"
        }
      ]
    },
    {
      "cell_type": "code",
      "metadata": {
        "id": "DtG2gThagRZl",
        "colab": {
          "base_uri": "https://localhost:8080/",
          "height": 599
        },
        "outputId": "0fbc265c-fbf3-4aa2-dc3a-90180a206236"
      },
      "source": [
        "x=np.array([1,4,6,8,3,9])\n",
        "y=np.array([3,8,9])\n",
        "print('x=',x)\n",
        "print('y=',y)\n",
        "x_array,y_array=np.meshgrid(x,y)\n",
        "print('\\n',x_array)\n",
        "print('\\n',y_array)\n",
        "\n",
        "x_array,y_array=np.meshgrid(x,y,sparse=True)\n",
        "print('\\n',x_array)\n",
        "print('\\n',y_array)"
      ],
      "execution_count": null,
      "outputs": [
        {
          "output_type": "stream",
          "text": [
            "x= [1 4 6 8 3 9]\n",
            "y= [3 8 9]\n",
            "\n",
            " [[1 4 6 8 3 9]\n",
            " [1 4 6 8 3 9]\n",
            " [1 4 6 8 3 9]]\n",
            "\n",
            " [[3 3 3 3 3 3]\n",
            " [8 8 8 8 8 8]\n",
            " [9 9 9 9 9 9]]\n",
            "\n",
            " [[1 4 6 8 3 9]]\n",
            "\n",
            " [[3]\n",
            " [8]\n",
            " [9]]\n",
            "[array([[[1],\n",
            "        [4],\n",
            "        [6],\n",
            "        [8],\n",
            "        [3],\n",
            "        [9]]]), array([[[5],\n",
            "        [5],\n",
            "        [5],\n",
            "        [5],\n",
            "        [5],\n",
            "        [5]]]), array([[[2],\n",
            "        [2],\n",
            "        [2],\n",
            "        [2],\n",
            "        [2],\n",
            "        [2]]])]\n"
          ],
          "name": "stdout"
        }
      ]
    },
    {
      "cell_type": "code",
      "metadata": {
        "id": "wBRvVPB5i9la",
        "colab": {
          "base_uri": "https://localhost:8080/",
          "height": 199
        },
        "outputId": "6f17d91d-b8ad-404d-a58d-3f49fd0f9dd4"
      },
      "source": [
        "import numpy as np\n",
        "x,y=np.meshgrid(range(10),range(5))\n",
        "print(x)\n",
        "print(y)"
      ],
      "execution_count": null,
      "outputs": [
        {
          "output_type": "stream",
          "text": [
            "[[0 1 2 3 4 5 6 7 8 9]\n",
            " [0 1 2 3 4 5 6 7 8 9]\n",
            " [0 1 2 3 4 5 6 7 8 9]\n",
            " [0 1 2 3 4 5 6 7 8 9]\n",
            " [0 1 2 3 4 5 6 7 8 9]]\n",
            "[[0 0 0 0 0 0 0 0 0 0]\n",
            " [1 1 1 1 1 1 1 1 1 1]\n",
            " [2 2 2 2 2 2 2 2 2 2]\n",
            " [3 3 3 3 3 3 3 3 3 3]\n",
            " [4 4 4 4 4 4 4 4 4 4]]\n"
          ],
          "name": "stdout"
        }
      ]
    },
    {
      "cell_type": "code",
      "metadata": {
        "id": "Ns5DBtIft85g",
        "colab": {
          "base_uri": "https://localhost:8080/",
          "height": 408
        },
        "outputId": "dc6f217e-b53f-4d3b-8191-abf55e1cc0e1"
      },
      "source": [
        "import numpy as np\n",
        "x,y=np.meshgrid(np.array([1,2,3]),np.array([1,2,3,4,5]))\n",
        "print(x,'\\n\\n\\n',y)\n",
        "x,y=np.meshgrid(np.array([1,2,3]),np.array([1,2,3,4,5]),sparse=True)\n",
        "#while sparse is set to True sparse grid is returned to conserve memory\n",
        "print('\\n\\n\\n',x,'\\n\\n\\n',y)"
      ],
      "execution_count": null,
      "outputs": [
        {
          "output_type": "stream",
          "text": [
            "[[1 2 3]\n",
            " [1 2 3]\n",
            " [1 2 3]\n",
            " [1 2 3]\n",
            " [1 2 3]] \n",
            "\n",
            "\n",
            " [[1 1 1]\n",
            " [2 2 2]\n",
            " [3 3 3]\n",
            " [4 4 4]\n",
            " [5 5 5]]\n",
            "\n",
            "\n",
            "\n",
            " [[1 2 3]] \n",
            "\n",
            "\n",
            " [[1]\n",
            " [2]\n",
            " [3]\n",
            " [4]\n",
            " [5]]\n"
          ],
          "name": "stdout"
        }
      ]
    },
    {
      "cell_type": "markdown",
      "metadata": {
        "id": "6TicDPF54OAj"
      },
      "source": [
        "vectorization, time for execution and broadcasting"
      ]
    },
    {
      "cell_type": "markdown",
      "metadata": {
        "id": "Oxvlnc6pJqac"
      },
      "source": [
        "vectorized methods and operations are comparatively fast and minimizes complexity of operation"
      ]
    },
    {
      "cell_type": "markdown",
      "metadata": {
        "id": "kYqIREoMJ4Mr"
      },
      "source": [
        "python is slower than C, numpy is written in C so while using built in functions in numpy it takes less time than a written code in python"
      ]
    },
    {
      "cell_type": "markdown",
      "metadata": {
        "id": "HIP0VO07KZI6"
      },
      "source": [
        "a=np.array([1,1,1]), make it (3,3,3) rather using a for loop using a=a*3 is easier, 3 IS BROADCASTED HERE TO ALL ELEMENTS OF THE ARRAY a"
      ]
    },
    {
      "cell_type": "code",
      "metadata": {
        "id": "X0g2BpJSGjb5",
        "colab": {
          "base_uri": "https://localhost:8080/",
          "height": 145
        },
        "outputId": "dea00345-9271-4f0d-e762-a868407e4c0b"
      },
      "source": [
        "a=np.ones((3,2))\n",
        "print(a)\n",
        "import time\n",
        "for x in range(3):\n",
        "  for y in range(2):\n",
        "    a[x,y]=a[x,y]*3\n",
        "print(a)\n",
        "t=time.process_time()\n",
        "print(t)"
      ],
      "execution_count": null,
      "outputs": [
        {
          "output_type": "stream",
          "text": [
            "[[1. 1.]\n",
            " [1. 1.]\n",
            " [1. 1.]]\n",
            "[[3. 3.]\n",
            " [3. 3.]\n",
            " [3. 3.]]\n",
            "17.092359712\n"
          ],
          "name": "stdout"
        }
      ]
    },
    {
      "cell_type": "code",
      "metadata": {
        "id": "vnfIM0YAHznM",
        "colab": {
          "base_uri": "https://localhost:8080/",
          "height": 35
        },
        "outputId": "064981ac-4c41-45b2-a94b-15056d9ee2d5"
      },
      "source": [
        "import time\n",
        "b=np.ones((3,2))\n",
        "b=b*3\n",
        "tx=time.process_time()\n",
        "print(tx)"
      ],
      "execution_count": null,
      "outputs": [
        {
          "output_type": "stream",
          "text": [
            "17.047911839\n"
          ],
          "name": "stdout"
        }
      ]
    },
    {
      "cell_type": "markdown",
      "metadata": {
        "id": "nP262mFPLJ8r"
      },
      "source": [
        "maximum and minimum values"
      ]
    },
    {
      "cell_type": "code",
      "metadata": {
        "id": "B9Mmi2ivJMtT",
        "colab": {
          "base_uri": "https://localhost:8080/",
          "height": 199
        },
        "outputId": "0e519581-27e5-4773-9bbd-8a4cfdf14601"
      },
      "source": [
        "import numpy as np\n",
        "a=np.array([[2,3,9],\n",
        "            [1,2,1],\n",
        "            [12,8,9]])\n",
        "print(a.min())\n",
        "print(a.max())\n",
        "print(a[0].min())\n",
        "print(a[1].max())\n",
        "#minimum values of every row\n",
        "print(a.min(axis=0))\n",
        "print(a.min(axis=1))\n",
        "#index of max and min numbers by argmin and argmax\n",
        "print('argmax row indexes')\n",
        "x=np.argmax(a,axis=0)\n",
        "print(x)\n",
        "print('argmin column indexes')\n",
        "y=np.argmin(a,axis=1)\n",
        "print(y)"
      ],
      "execution_count": null,
      "outputs": [
        {
          "output_type": "stream",
          "text": [
            "1\n",
            "12\n",
            "2\n",
            "2\n",
            "[1 2 1]\n",
            "[2 1 8]\n",
            "argmax row indexes\n",
            "[2 2 0]\n",
            "argmin column indexes\n",
            "[0 0 1]\n"
          ],
          "name": "stdout"
        }
      ]
    },
    {
      "cell_type": "markdown",
      "metadata": {
        "id": "-oLXOa5jR2yQ"
      },
      "source": [
        "sorting an array"
      ]
    },
    {
      "cell_type": "code",
      "metadata": {
        "id": "ACFXnKziLzki",
        "colab": {
          "base_uri": "https://localhost:8080/",
          "height": 35
        },
        "outputId": "e2fd58df-f846-474a-e6e7-333a40aea77a"
      },
      "source": [
        "a=np.array([0,2,0.5])\n",
        "a.sort()\n",
        "print(a)\n"
      ],
      "execution_count": null,
      "outputs": [
        {
          "output_type": "stream",
          "text": [
            "[0.  0.5 2. ]\n"
          ],
          "name": "stdout"
        }
      ]
    },
    {
      "cell_type": "code",
      "metadata": {
        "id": "G6-dAW2KSeNt",
        "colab": {
          "base_uri": "https://localhost:8080/",
          "height": 72
        },
        "outputId": "dcb2fc83-71ee-46cd-ddeb-1e1ba0bd0e75"
      },
      "source": [
        "a=np.array([[0,1,0.5],\n",
        "            [9,1,3],\n",
        "            [0,-1,0]])\n",
        "a.sort()\n",
        "print(a)\n",
        "#automatically sorts the elements for every rows"
      ],
      "execution_count": null,
      "outputs": [
        {
          "output_type": "stream",
          "text": [
            "[[ 0.   0.5  1. ]\n",
            " [ 1.   3.   9. ]\n",
            " [-1.   0.   0. ]]\n"
          ],
          "name": "stdout"
        }
      ]
    },
    {
      "cell_type": "code",
      "metadata": {
        "id": "HA8EuwxHTBJM",
        "colab": {
          "base_uri": "https://localhost:8080/",
          "height": 72
        },
        "outputId": "57d82433-14d6-49d2-efff-7f58dd8e4343"
      },
      "source": [
        "#or if axis is set to 1 sort() will sort the elements for every columns\n",
        "a=np.array([[0,2,1],\n",
        "            [0,1,-1],\n",
        "            [3,0,-1]])\n",
        "a.sort(axis=0)\n",
        "print(a)"
      ],
      "execution_count": null,
      "outputs": [
        {
          "output_type": "stream",
          "text": [
            "[[ 0  0 -1]\n",
            " [ 0  1 -1]\n",
            " [ 3  2  1]]\n"
          ],
          "name": "stdout"
        }
      ]
    },
    {
      "cell_type": "code",
      "metadata": {
        "id": "Mbr4f16MT1Z0",
        "colab": {
          "base_uri": "https://localhost:8080/",
          "height": 54
        },
        "outputId": "8d0410c8-8427-4ab9-f5f2-e234376d9449"
      },
      "source": [
        "#sort an array using argsort()\n",
        "a=np.array([0,2,-1])\n",
        "index_of_sorted=np.argsort(a)\n",
        "print(index_of_sorted)\n",
        "#same as sort() but rather giving values of the array it gives the corresponding index numbers\n",
        "print(a[index_of_sorted])"
      ],
      "execution_count": null,
      "outputs": [
        {
          "output_type": "stream",
          "text": [
            "[2 0 1]\n",
            "[-1  0  2]\n"
          ],
          "name": "stdout"
        }
      ]
    },
    {
      "cell_type": "code",
      "metadata": {
        "id": "61lVwPbcVeIC",
        "colab": {
          "base_uri": "https://localhost:8080/",
          "height": 72
        },
        "outputId": "a6bf0c24-fb78-46a6-8be8-b5b4ad8f8f2b"
      },
      "source": [
        "a=np.array([[0,2,1],\n",
        "            [0,1,-1],\n",
        "            [3,0,-1]])\n",
        "a_index=np.argsort(a,axis=0)\n",
        "print(a_index)"
      ],
      "execution_count": null,
      "outputs": [
        {
          "output_type": "stream",
          "text": [
            "[[0 2 1]\n",
            " [1 1 2]\n",
            " [2 0 0]]\n"
          ],
          "name": "stdout"
        }
      ]
    },
    {
      "cell_type": "markdown",
      "metadata": {
        "id": "PQf7WcACVn_m"
      },
      "source": [
        "searchsorted()"
      ]
    },
    {
      "cell_type": "code",
      "metadata": {
        "id": "-fijSZRqX26x",
        "colab": {
          "base_uri": "https://localhost:8080/",
          "height": 34
        },
        "outputId": "f078ff5c-7159-4a60-db3e-07399a628928"
      },
      "source": [
        "import numpy as np\n",
        "a=np.array([1,3,2])\n",
        "#if you want to add a number to the array in which index it should be placed to maintain the order of the array\n",
        "index=np.searchsorted(a,1.8)\n",
        "print(index) #in index 1 1.8 should be placed to keep the array ordered"
      ],
      "execution_count": null,
      "outputs": [
        {
          "output_type": "stream",
          "text": [
            "1\n"
          ],
          "name": "stdout"
        }
      ]
    },
    {
      "cell_type": "markdown",
      "metadata": {
        "id": "kFe3CvuiIjtd"
      },
      "source": [
        "fills arrays with random values"
      ]
    },
    {
      "cell_type": "code",
      "metadata": {
        "id": "LkzMwEnrE01J",
        "colab": {
          "base_uri": "https://localhost:8080/",
          "height": 90
        },
        "outputId": "ee549a40-2eb5-4ed0-82bc-c39385ce0cbc"
      },
      "source": [
        "import random\n",
        "import numpy as np\n",
        "n=np.random.randint(low=0,high=10,size=5)\n",
        "print(n)\n",
        "x=np.random.randint(low=0,high=10,size=(3,2))\n",
        "print(x)"
      ],
      "execution_count": null,
      "outputs": [
        {
          "output_type": "stream",
          "text": [
            "[8 4 9 2 5]\n",
            "[[6 4]\n",
            " [8 1]\n",
            " [1 2]]\n"
          ],
          "name": "stdout"
        }
      ]
    },
    {
      "cell_type": "markdown",
      "metadata": {
        "id": "sSf0NAoaJOsR"
      },
      "source": [
        "giving string values randomly to an array"
      ]
    },
    {
      "cell_type": "code",
      "metadata": {
        "id": "sOzSLg1WHemi",
        "colab": {
          "base_uri": "https://localhost:8080/",
          "height": 85
        },
        "outputId": "869d4593-ace9-430c-8911-4041b548ff46"
      },
      "source": [
        "import random\n",
        "import numpy as np\n",
        "a=np.random.choice(['banana','apple','orange'],size=(3,2))\n",
        "print(a)\n",
        "index=np.where('banana')\n",
        "print(index)"
      ],
      "execution_count": null,
      "outputs": [
        {
          "output_type": "stream",
          "text": [
            "[['orange' 'banana']\n",
            " ['apple' 'orange']\n",
            " ['apple' 'apple']]\n",
            "(array([0]),)\n"
          ],
          "name": "stdout"
        }
      ]
    },
    {
      "cell_type": "markdown",
      "metadata": {
        "id": "UlTTSjLzNbZL"
      },
      "source": [
        "where()"
      ]
    },
    {
      "cell_type": "markdown",
      "metadata": {
        "id": "k1Oxw8-hPcdi"
      },
      "source": [
        "np.where(condition,value_if_condition_returns_TRUE,value if condition returns FALSE)"
      ]
    },
    {
      "cell_type": "code",
      "metadata": {
        "id": "6eYXJMrFNcMX",
        "colab": {
          "base_uri": "https://localhost:8080/",
          "height": 68
        },
        "outputId": "2a378900-07d3-48c5-e110-dbaa06a5286d"
      },
      "source": [
        "a=np.array([[1,2,3],\n",
        "            [3,2,9],\n",
        "            [9,0,8]])\n",
        "x=np.where(a>0,0,100)\n",
        "print(x)"
      ],
      "execution_count": null,
      "outputs": [
        {
          "output_type": "stream",
          "text": [
            "[[  0   0   0]\n",
            " [  0   0   0]\n",
            " [  0 100   0]]\n"
          ],
          "name": "stdout"
        }
      ]
    },
    {
      "cell_type": "code",
      "metadata": {
        "id": "3vC5BPb7PwA7",
        "colab": {
          "base_uri": "https://localhost:8080/",
          "height": 54
        },
        "outputId": "7a6f1a3b-24e4-47e0-bdbe-de6874711210"
      },
      "source": [
        "import numpy as np\n",
        "b=np.array([[-1,2,3],\n",
        "            [3,2,9],\n",
        "            [9,0,8]])\n",
        "y=np.where(b>5)\n",
        "print(y) # these are the index numbers of the elements whose are greater than 5\n",
        "#the index numbers are like this: b[1,2], b[2,0], b[2,2]\n",
        "#print the elements whose are greater than 5\n",
        "print(b[y])\n",
        "#it returns a flattened array containing the elelemts which fulfills the condition"
      ],
      "execution_count": null,
      "outputs": [
        {
          "output_type": "stream",
          "text": [
            "(array([1, 2, 2]), array([2, 0, 2]))\n",
            "[9 9 8]\n"
          ],
          "name": "stdout"
        }
      ]
    },
    {
      "cell_type": "code",
      "metadata": {
        "id": "f9LT8qXPJo7I",
        "colab": {
          "base_uri": "https://localhost:8080/",
          "height": 68
        },
        "outputId": "b9abdc78-d607-4613-d15b-1ee67391132d"
      },
      "source": [
        "a=np.array([1,2,3])\n",
        "x=a.itemsize\n",
        "y=a.size\n",
        "print('bytes each array element has is ',x)\n",
        "print('number of array elements ',y)\n",
        "bytes_count=a.nbytes\n",
        "print('total these number of bytes the array consumes ',bytes_count)"
      ],
      "execution_count": null,
      "outputs": [
        {
          "output_type": "stream",
          "text": [
            "bytes each array element has is  8\n",
            "number of array elements  3\n",
            "total these number of bytes the array consumes  24\n"
          ],
          "name": "stdout"
        }
      ]
    },
    {
      "cell_type": "markdown",
      "metadata": {
        "id": "Pgsgt5GAWP77"
      },
      "source": [
        "array concatenation"
      ]
    },
    {
      "cell_type": "code",
      "metadata": {
        "id": "nxC1zkw_UuTY",
        "colab": {
          "base_uri": "https://localhost:8080/",
          "height": 510
        },
        "outputId": "8ec1724c-25b5-4233-f7e3-7a6ef1b21ea7"
      },
      "source": [
        "a=np.array([[1,2,3],\n",
        "            [4,5,6],\n",
        "            [7,8,9]])\n",
        "b=np.array([[1,1,1],\n",
        "            [1,1,1],\n",
        "            [1,1,1]])\n",
        "c=np.concatenate((a,b))\n",
        "print('a= ',a)\n",
        "print('b= ',b)\n",
        "print('\\n',c)\n",
        "a=np.linspace(0,10,6,dtype=int).reshape(3,2)\n",
        "b=np.linspace(0,10,8,dtype=int).reshape(4,2)\n",
        "c=np.concatenate((a,b))\n",
        "print(a)\n",
        "print(b)\n",
        "print(c)\n",
        "a=np.linspace(0,10,6,dtype=int).reshape(2,3)\n",
        "b=np.linspace(0,10,8,dtype=int).reshape(2,4)\n",
        "try:\n",
        "  c=np.concatenate((a,b))\n",
        "except ValueError:\n",
        "  print('row is ok 2 and 2 but column cannot be concatenated cause 3 and 4')\n",
        "  print('rows can be different but columns have to be same in number to be concatenated')"
      ],
      "execution_count": null,
      "outputs": [
        {
          "output_type": "stream",
          "text": [
            "a=  [[1 2 3]\n",
            " [4 5 6]\n",
            " [7 8 9]]\n",
            "b=  [[1 1 1]\n",
            " [1 1 1]\n",
            " [1 1 1]]\n",
            "\n",
            " [[1 2 3]\n",
            " [4 5 6]\n",
            " [7 8 9]\n",
            " [1 1 1]\n",
            " [1 1 1]\n",
            " [1 1 1]]\n",
            "[[ 0  2]\n",
            " [ 4  6]\n",
            " [ 8 10]]\n",
            "[[ 0  1]\n",
            " [ 2  4]\n",
            " [ 5  7]\n",
            " [ 8 10]]\n",
            "[[ 0  2]\n",
            " [ 4  6]\n",
            " [ 8 10]\n",
            " [ 0  1]\n",
            " [ 2  4]\n",
            " [ 5  7]\n",
            " [ 8 10]]\n",
            "row is ok 2 and 2 but column cannot be concatenated cause 3 and 4\n",
            "rows can be different but columns have to be same in number to be concatenated\n"
          ],
          "name": "stdout"
        }
      ]
    },
    {
      "cell_type": "markdown",
      "metadata": {
        "id": "0QeTk6wHaaUA"
      },
      "source": [
        "structured arrays"
      ]
    },
    {
      "cell_type": "code",
      "metadata": {
        "id": "X-Ip74OuWo5n",
        "colab": {
          "base_uri": "https://localhost:8080/",
          "height": 68
        },
        "outputId": "9b11ba89-55b1-4115-8c60-01ef59808125"
      },
      "source": [
        "struc_arr=np.ones(5,dtype='int8, float32')\n",
        "print(struc_arr)\n",
        "struc_arr=np.ones(5,dtype='int8, float32, bool')\n",
        "print(struc_arr)"
      ],
      "execution_count": null,
      "outputs": [
        {
          "output_type": "stream",
          "text": [
            "[(1, 1.) (1, 1.) (1, 1.) (1, 1.) (1, 1.)]\n",
            "[(1, 1.,  True) (1, 1.,  True) (1, 1.,  True) (1, 1.,  True)\n",
            " (1, 1.,  True)]\n"
          ],
          "name": "stdout"
        }
      ]
    },
    {
      "cell_type": "code",
      "metadata": {
        "id": "Agf-Ln06bAVm",
        "colab": {
          "base_uri": "https://localhost:8080/",
          "height": 85
        },
        "outputId": "b24fc8f1-b21a-4000-ead4-1c49fb604a64"
      },
      "source": [
        "a=np.linspace(0,1,10,dtype='float32, bool')\n",
        "print(a)"
      ],
      "execution_count": null,
      "outputs": [
        {
          "output_type": "stream",
          "text": [
            "[(0.        , False) (0.11111111,  True) (0.22222222,  True)\n",
            " (0.33333334,  True) (0.44444445,  True) (0.5555556 ,  True)\n",
            " (0.6666667 ,  True) (0.7777778 ,  True) (0.8888889 ,  True)\n",
            " (1.        ,  True)]\n"
          ],
          "name": "stdout"
        }
      ]
    },
    {
      "cell_type": "markdown",
      "metadata": {
        "id": "oxxqOK45g0fT"
      },
      "source": [
        "self defined data types: butterfly and sparrow!"
      ]
    },
    {
      "cell_type": "markdown",
      "metadata": {
        "id": "ufmIbt4Pn6dM"
      },
      "source": [
        "useful for some mathematical computation"
      ]
    },
    {
      "cell_type": "code",
      "metadata": {
        "id": "ieVo1KsUb5KB",
        "colab": {
          "base_uri": "https://localhost:8080/",
          "height": 34
        },
        "outputId": "aef26496-3322-444e-881c-49ff7c96f557"
      },
      "source": [
        "#self defined dtypes\n",
        "dtypes=np.dtype([('butterfly','i4')])\n",
        "a=np.linspace(0,10,10,dtype=dtypes)\n",
        "print(a)\n"
      ],
      "execution_count": null,
      "outputs": [
        {
          "output_type": "stream",
          "text": [
            "[( 0,) ( 1,) ( 2,) ( 3,) ( 4,) ( 5,) ( 6,) ( 7,) ( 8,) (10,)]\n"
          ],
          "name": "stdout"
        }
      ]
    },
    {
      "cell_type": "code",
      "metadata": {
        "id": "mfaiaHMie04a",
        "colab": {
          "base_uri": "https://localhost:8080/",
          "height": 68
        },
        "outputId": "5d3ab3ec-c074-4d22-a4ea-3b28bab7f3a8"
      },
      "source": [
        "dtypes=np.dtype([('butterfly','i4'),('sparrow','bool')])\n",
        "a=np.linspace(0,10,10,dtype=dtypes)\n",
        "print(a)\n",
        "print(a.dtype)"
      ],
      "execution_count": null,
      "outputs": [
        {
          "output_type": "stream",
          "text": [
            "[( 0, False) ( 1,  True) ( 2,  True) ( 3,  True) ( 4,  True) ( 5,  True)\n",
            " ( 6,  True) ( 7,  True) ( 8,  True) (10,  True)]\n",
            "[('butterfly', '<i4'), ('sparrow', '?')]\n"
          ],
          "name": "stdout"
        }
      ]
    },
    {
      "cell_type": "code",
      "metadata": {
        "id": "SVhmGYBZgpR2",
        "colab": {
          "base_uri": "https://localhost:8080/",
          "height": 153
        },
        "outputId": "b84a3bfa-808b-47c1-e7c6-49f7003da562"
      },
      "source": [
        "a=np.linspace(0,20,20,dtype='int32, float32').reshape((4,5))\n",
        "print(a)"
      ],
      "execution_count": null,
      "outputs": [
        {
          "output_type": "stream",
          "text": [
            "[[( 0,  0.       ) ( 1,  1.0526316) ( 2,  2.1052632) ( 3,  3.1578948)\n",
            "  ( 4,  4.2105265)]\n",
            " [( 5,  5.263158 ) ( 6,  6.3157897) ( 7,  7.368421 ) ( 8,  8.421053 )\n",
            "  ( 9,  9.473684 )]\n",
            " [(10, 10.526316 ) (11, 11.578947 ) (12, 12.631579 ) (13, 13.684211 )\n",
            "  (14, 14.736842 )]\n",
            " [(15, 15.789474 ) (16, 16.842106 ) (17, 17.894737 ) (18, 18.947369 )\n",
            "  (20, 20.       )]]\n"
          ],
          "name": "stdout"
        }
      ]
    },
    {
      "cell_type": "markdown",
      "metadata": {
        "id": "MmitzzlIoc_H"
      },
      "source": [
        "how to sort structured arrays?"
      ]
    },
    {
      "cell_type": "code",
      "metadata": {
        "id": "yBJp8mc-nbom",
        "colab": {
          "base_uri": "https://localhost:8080/",
          "height": 187
        },
        "outputId": "b5926566-127c-4f39-9daf-040359730f5b"
      },
      "source": [
        "dtypes=np.dtype([('butterfly','i4'),('sparrow','f8'),('x','bool')])\n",
        "a=np.linspace(0,10,10,dtype=dtypes)\n",
        "print(a)\n",
        "a.sort(order='butterfly')\n",
        "print(a)"
      ],
      "execution_count": null,
      "outputs": [
        {
          "output_type": "stream",
          "text": [
            "[( 0,  0.        , False) ( 1,  1.11111111,  True)\n",
            " ( 2,  2.22222222,  True) ( 3,  3.33333333,  True)\n",
            " ( 4,  4.44444444,  True) ( 5,  5.55555556,  True)\n",
            " ( 6,  6.66666667,  True) ( 7,  7.77777778,  True)\n",
            " ( 8,  8.88888889,  True) (10, 10.        ,  True)]\n",
            "[( 0,  0.        , False) ( 1,  1.11111111,  True)\n",
            " ( 2,  2.22222222,  True) ( 3,  3.33333333,  True)\n",
            " ( 4,  4.44444444,  True) ( 5,  5.55555556,  True)\n",
            " ( 6,  6.66666667,  True) ( 7,  7.77777778,  True)\n",
            " ( 8,  8.88888889,  True) (10, 10.        ,  True)]\n"
          ],
          "name": "stdout"
        }
      ]
    },
    {
      "cell_type": "code",
      "metadata": {
        "id": "vBrZJNU5pWWQ",
        "colab": {
          "base_uri": "https://localhost:8080/",
          "height": 51
        },
        "outputId": "3b8229fc-9f2f-45cd-8a3b-e60503e28c51"
      },
      "source": [
        "import numpy as np\n",
        "dtypes=np.dtype([('butterfly','i4'),('sparrow','f8'),('x','bool')])\n",
        "a=np.array([(10,1.1,True),(0,2,False)],dtype=dtypes)\n",
        "a.sort(order='butterfly')\n",
        "print(a)\n",
        "a.sort(order=['sparrow','x'])\n",
        "print(a)"
      ],
      "execution_count": null,
      "outputs": [
        {
          "output_type": "stream",
          "text": [
            "[( 0, 2. , False) (10, 1.1,  True)]\n",
            "[(10, 1.1,  True) ( 0, 2. , False)]\n"
          ],
          "name": "stdout"
        }
      ]
    },
    {
      "cell_type": "markdown",
      "metadata": {
        "id": "IHyI7oqYEstI"
      },
      "source": [
        "arrays as vectors"
      ]
    },
    {
      "cell_type": "code",
      "metadata": {
        "id": "vchxtDXcqWeH",
        "colab": {
          "base_uri": "https://localhost:8080/",
          "height": 34
        },
        "outputId": "6c460358-c9ea-43e8-a332-9647a7ca195e"
      },
      "source": [
        "a=np.array([0,1,0])\n",
        "b=np.array([-1,0.5,0])\n",
        "x=np.dot(a,b)\n",
        "print(x)"
      ],
      "execution_count": null,
      "outputs": [
        {
          "output_type": "stream",
          "text": [
            "0.5\n"
          ],
          "name": "stdout"
        }
      ]
    },
    {
      "cell_type": "code",
      "metadata": {
        "id": "4iBagjQzUrXS",
        "colab": {
          "base_uri": "https://localhost:8080/",
          "height": 34
        },
        "outputId": "4f4e8077-e01c-437d-8599-5006250bb10e"
      },
      "source": [
        "y=np.cross(a,b)\n",
        "print(y)"
      ],
      "execution_count": null,
      "outputs": [
        {
          "output_type": "stream",
          "text": [
            "[ 0. -0.  1.]\n"
          ],
          "name": "stdout"
        }
      ]
    },
    {
      "cell_type": "code",
      "metadata": {
        "id": "433f6rv7VCJJ",
        "colab": {
          "base_uri": "https://localhost:8080/",
          "height": 68
        },
        "outputId": "229c81d7-bc95-4b73-e122-91346bec5d63"
      },
      "source": [
        "a=np.array([[1],\n",
        "            [2],\n",
        "            [3]])\n",
        "b==np.array([[1],\n",
        "             [3],\n",
        "             [9]])\n",
        "#x=np.dot(a,b) does not work\n",
        "x=np.dot(np.ravel(a),b)\n",
        "y=np.dot(np.ravel(a),np.ravel(b))\n",
        "z=a.ravel().dot(b.ravel())\n",
        "print(x,'\\n', y, '\\n', z)"
      ],
      "execution_count": null,
      "outputs": [
        {
          "output_type": "stream",
          "text": [
            "0.0 \n",
            " 0.0 \n",
            " 0.0\n"
          ],
          "name": "stdout"
        }
      ]
    },
    {
      "cell_type": "markdown",
      "metadata": {
        "id": "eKhEPIVHYA_2"
      },
      "source": [
        "logic and comparison ndarray attributes"
      ]
    },
    {
      "cell_type": "code",
      "metadata": {
        "id": "btVAAmCyVzbv",
        "colab": {
          "base_uri": "https://localhost:8080/",
          "height": 119
        },
        "outputId": "55d323d6-a878-4f65-ab0e-ed831d0acb63"
      },
      "source": [
        "a=np.array([-1,0,3j,4,9])\n",
        "print(np.all(a))\n",
        "print(np.any(a))\n",
        "print(np.isreal(a))\n",
        "print(np.iscomplex(a))\n",
        "a=np.array([0,4j,0.1111111111111,1.133333338,np.nan])\n",
        "b=np.array([0,3.98j,0.11111,1.3333333338,np.nan])\n",
        "print(np.isclose(a,b))\n",
        "print(np.allclose(a,b))"
      ],
      "execution_count": null,
      "outputs": [
        {
          "output_type": "stream",
          "text": [
            "False\n",
            "True\n",
            "[ True  True False  True  True]\n",
            "[False False  True False False]\n",
            "[ True False  True False False]\n",
            "False\n"
          ],
          "name": "stdout"
        }
      ]
    },
    {
      "cell_type": "markdown",
      "metadata": {
        "id": "5BXTMtMCZ3Ei"
      },
      "source": [
        "reading and writing an array to a file"
      ]
    },
    {
      "cell_type": "code",
      "metadata": {
        "id": "z0w-CLioYYtL",
        "colab": {
          "base_uri": "https://localhost:8080/",
          "height": 357
        },
        "outputId": "43f49308-760e-4011-c9a0-40f6bcb7650b"
      },
      "source": [
        "array=np.linspace(0,100,100).reshape(10,10)\n",
        "np.save('my_array.npy',array)\n",
        "a=np.load('my_array.npy')\n",
        "print(a)"
      ],
      "execution_count": null,
      "outputs": [
        {
          "output_type": "stream",
          "text": [
            "[[  0.           1.01010101   2.02020202   3.03030303   4.04040404\n",
            "    5.05050505   6.06060606   7.07070707   8.08080808   9.09090909]\n",
            " [ 10.1010101   11.11111111  12.12121212  13.13131313  14.14141414\n",
            "   15.15151515  16.16161616  17.17171717  18.18181818  19.19191919]\n",
            " [ 20.2020202   21.21212121  22.22222222  23.23232323  24.24242424\n",
            "   25.25252525  26.26262626  27.27272727  28.28282828  29.29292929]\n",
            " [ 30.3030303   31.31313131  32.32323232  33.33333333  34.34343434\n",
            "   35.35353535  36.36363636  37.37373737  38.38383838  39.39393939]\n",
            " [ 40.4040404   41.41414141  42.42424242  43.43434343  44.44444444\n",
            "   45.45454545  46.46464646  47.47474747  48.48484848  49.49494949]\n",
            " [ 50.50505051  51.51515152  52.52525253  53.53535354  54.54545455\n",
            "   55.55555556  56.56565657  57.57575758  58.58585859  59.5959596 ]\n",
            " [ 60.60606061  61.61616162  62.62626263  63.63636364  64.64646465\n",
            "   65.65656566  66.66666667  67.67676768  68.68686869  69.6969697 ]\n",
            " [ 70.70707071  71.71717172  72.72727273  73.73737374  74.74747475\n",
            "   75.75757576  76.76767677  77.77777778  78.78787879  79.7979798 ]\n",
            " [ 80.80808081  81.81818182  82.82828283  83.83838384  84.84848485\n",
            "   85.85858586  86.86868687  87.87878788  88.88888889  89.8989899 ]\n",
            " [ 90.90909091  91.91919192  92.92929293  93.93939394  94.94949495\n",
            "   95.95959596  96.96969697  97.97979798  98.98989899 100.        ]]\n"
          ],
          "name": "stdout"
        }
      ]
    },
    {
      "cell_type": "code",
      "metadata": {
        "id": "_HUiJzdIQ6-n",
        "colab": {
          "base_uri": "https://localhost:8080/",
          "height": 425
        },
        "outputId": "1a3240e8-b5be-4265-d176-f27734a4d07a"
      },
      "source": [
        "file=open('student.txt','w')\n",
        "for x in range(6):\n",
        "  print('Name: ,Age: ,University')\n",
        "  name=input()\n",
        "  age=input()\n",
        "  university=input()\n",
        "  file.write(name+' '+age+' '+university+'\\n')"
      ],
      "execution_count": null,
      "outputs": [
        {
          "output_type": "stream",
          "text": [
            "Name: ,Age: ,University\n",
            "joy\n",
            "22\n",
            "bracu\n",
            "Name: ,Age: ,University\n",
            "anika\n",
            "21\n",
            "bracu\n",
            "Name: ,Age: ,University\n",
            "jill\n",
            "22\n",
            "ut_austin\n",
            "Name: ,Age: ,University\n",
            "aisha\n",
            "28\n",
            "u_berkeley\n",
            "Name: ,Age: ,University\n",
            "srinkhala\n",
            "29\n",
            "univ_wisconsin_madison\n",
            "Name: ,Age: ,University\n",
            "trishala\n",
            "28\n",
            "univ_illinois_chichago\n"
          ],
          "name": "stdout"
        }
      ]
    },
    {
      "cell_type": "code",
      "metadata": {
        "id": "_6Acm_NOUiTf",
        "colab": {
          "base_uri": "https://localhost:8080/",
          "height": 221
        },
        "outputId": "1d0b4677-d131-47c7-ab3f-9819375535f2"
      },
      "source": [
        "file=open('student.txt','r')\n",
        "for row in file:\n",
        "  print(row)"
      ],
      "execution_count": null,
      "outputs": [
        {
          "output_type": "stream",
          "text": [
            "joy 22 bracu\n",
            "\n",
            "anika 21 bracu\n",
            "\n",
            "jill 22 ut_austin\n",
            "\n",
            "aisha 28 u_berkeley\n",
            "\n",
            "srinkhala 29 univ_wisconsin_madison\n",
            "\n",
            "trishala 28 univ_illinois_chichago\n",
            "\n"
          ],
          "name": "stdout"
        }
      ]
    },
    {
      "cell_type": "code",
      "metadata": {
        "id": "O086hDDsWdl2",
        "colab": {
          "base_uri": "https://localhost:8080/",
          "height": 289
        },
        "outputId": "4efea17c-43cc-4a29-958a-dfbde6d5dbe9"
      },
      "source": [
        "import numpy as np\n",
        "col1,col2,col3=np.loadtxt('student.txt',dtype=str,usecols=(0,1,2),unpack=True)\n",
        "print(col1)\n",
        "print(col2)\n",
        "print(col3)\n",
        "print(col2[1])\n",
        "print(col1[3])\n",
        "print(col3[3])\n",
        "col1=col1.reshape(3,2)\n",
        "print(col1)\n",
        "col2=col2.reshape(3,2)\n",
        "print(col2)\n",
        "col3=col3.reshape(3,2)\n",
        "print(col3)"
      ],
      "execution_count": null,
      "outputs": [
        {
          "output_type": "stream",
          "text": [
            "['joy' 'anika' 'jill' 'aisha' 'srinkhala' 'trishala']\n",
            "['22' '21' '22' '28' '29' '28']\n",
            "['bracu' 'bracu' 'ut_austin' 'u_berkeley' 'univ_wisconsin_madison'\n",
            " 'univ_illinois_chichago']\n",
            "21\n",
            "aisha\n",
            "u_berkeley\n",
            "[['joy' 'anika']\n",
            " ['jill' 'aisha']\n",
            " ['srinkhala' 'trishala']]\n",
            "[['22' '21']\n",
            " ['22' '28']\n",
            " ['29' '28']]\n",
            "[['bracu' 'bracu']\n",
            " ['ut_austin' 'u_berkeley']\n",
            " ['univ_wisconsin_madison' 'univ_illinois_chichago']]\n"
          ],
          "name": "stdout"
        }
      ]
    },
    {
      "cell_type": "code",
      "metadata": {
        "id": "0ZIl9U_PeJDO",
        "colab": {
          "base_uri": "https://localhost:8080/",
          "height": 136
        },
        "outputId": "61a3fa0b-1ce9-4ebc-b0bd-366da00ad1a1"
      },
      "source": [
        "col1,col2,col3=np.loadtxt('eg6-a-student-data.txt',dtype=str,usecols=(3,4,5),skiprows=9,unpack=True)\n",
        "print(col1)\n",
        "print(col2)\n",
        "print(col3)"
      ],
      "execution_count": null,
      "outputs": [
        {
          "output_type": "stream",
          "text": [
            "['1.82' '1.77' '1.68' '1.72' '1.78' '1.60' '1.72' '1.83' '1.56' '1.64'\n",
            " '1.63' '1.67' '1.66' '1.59' '1.70' '1.97' '1.66' '1.63' '1.69']\n",
            "['92.4' '80.9' '69.7' '75.5' '82.1' '-' '77.2' '88.9' '56.3' '65.0' '73.0'\n",
            " '89.8' '75.1' '67.3' '-' '89.2' '63.8' '64.4' '-']\n",
            "['119/76' '114/73' '124/79' '110/60' '115/75' '-/-' '97/63' '105/70'\n",
            " '108/72' '99/67' '131/84' '101/76' '-/-' '103/69' '119/80' '124/82'\n",
            " '100/78' '-/-' '121/82']\n"
          ],
          "name": "stdout"
        }
      ]
    },
    {
      "cell_type": "code",
      "metadata": {
        "id": "LazLf64lPIKk",
        "colab": {
          "base_uri": "https://localhost:8080/",
          "height": 51
        },
        "outputId": "7227a78f-17db-485a-e6ef-35c30446ddaa"
      },
      "source": [
        "col1=np.loadtxt('eg6-a-student-data.txt',dtype=float,usecols=(3),skiprows=9,unpack=True)\n",
        "print(col1)"
      ],
      "execution_count": null,
      "outputs": [
        {
          "output_type": "stream",
          "text": [
            "[1.82 1.77 1.68 1.72 1.78 1.6  1.72 1.83 1.56 1.64 1.63 1.67 1.66 1.59\n",
            " 1.7  1.97 1.66 1.63 1.69]\n"
          ],
          "name": "stdout"
        }
      ]
    },
    {
      "cell_type": "code",
      "metadata": {
        "id": "1pWdANhVRHql",
        "colab": {
          "base_uri": "https://localhost:8080/",
          "height": 51
        },
        "outputId": "2f129613-92b1-4a5f-8c01-ccd0c8b08a2c"
      },
      "source": [
        "def parse_weight(n):\n",
        "  try:\n",
        "    return float(n)\n",
        "  except ValueError:\n",
        "    return 0\n",
        "col2=np.loadtxt('eg6-a-student-data.txt',dtype=float,usecols=(4),skiprows=9,converters={4:parse_weight},unpack=True)\n",
        "print(col2)"
      ],
      "execution_count": null,
      "outputs": [
        {
          "output_type": "stream",
          "text": [
            "[92.4 80.9 69.7 75.5 82.1  0.  77.2 88.9 56.3 65.  73.  89.8 75.1 67.3\n",
            "  0.  89.2 63.8 64.4  0. ]\n"
          ],
          "name": "stdout"
        }
      ]
    },
    {
      "cell_type": "code",
      "metadata": {
        "id": "82oolDsKRWxp",
        "colab": {
          "base_uri": "https://localhost:8080/",
          "height": 34
        },
        "outputId": "982dc8cc-42a4-4ec0-9ade-594868977f9f"
      },
      "source": [
        "count=0\n",
        "total_weight=0\n",
        "for x in col2:\n",
        "    count+=1\n",
        "    total_weight+=x\n",
        "print(total_weight/count)"
      ],
      "execution_count": null,
      "outputs": [
        {
          "output_type": "stream",
          "text": [
            "63.715789473684204\n"
          ],
          "name": "stdout"
        }
      ]
    },
    {
      "cell_type": "code",
      "metadata": {
        "id": "ZAPWit0ETVjf",
        "colab": {
          "base_uri": "https://localhost:8080/",
          "height": 85
        },
        "outputId": "5b6c3b42-a46a-43c7-f0f3-b15d79510193"
      },
      "source": [
        "dtypes=np.dtype([('sex','|S1'),('weight','f8')])\n",
        "a=np.loadtxt('eg6-a-student-data.txt',dtype=dtypes,usecols=(1,4),skiprows=9,converters={4:parse_weight},unpack=True)\n",
        "print(a)\n",
        "print(np.shape(a))"
      ],
      "execution_count": null,
      "outputs": [
        {
          "output_type": "stream",
          "text": [
            "[array([b'M', b'M', b'F', b'M', b'F', b'F', b'M', b'M', b'F', b'F', b'M',\n",
            "       b'M', b'M', b'F', b'F', b'M', b'F', b'F', b'M'], dtype='|S1'), array([92.4, 80.9, 69.7, 75.5, 82.1,  0. , 77.2, 88.9, 56.3, 65. , 73. ,\n",
            "       89.8, 75.1, 67.3,  0. , 89.2, 63.8, 64.4,  0. ])]\n",
            "(2, 19)\n"
          ],
          "name": "stdout"
        }
      ]
    },
    {
      "cell_type": "code",
      "metadata": {
        "id": "1p7u2HMmW-Ow",
        "colab": {
          "base_uri": "https://localhost:8080/",
          "height": 391
        },
        "outputId": "673f8718-7804-44e4-8bb8-4c5cd93bd0a5"
      },
      "source": [
        "column=np.genfromtxt('eg6-a-student-data.txt',dtype=str)\n",
        "print(column)\n",
        "print(np.shape(column))"
      ],
      "execution_count": null,
      "outputs": [
        {
          "output_type": "stream",
          "text": [
            "[['Subject' 'Sex' 'DOB' 'Height' 'Weight' 'BP' 'VO2max']\n",
            " ['(ID)' 'M/F' 'dd/mm/yy' 'm' 'kg' 'mmHg' 'mL.kg-1.min-1']\n",
            " ['JW-1' 'M' '19/12/95' '1.82' '92.4' '119/76' '39.3']\n",
            " ['JW-2' 'M' '11/1/96' '1.77' '80.9' '114/73' '35.5']\n",
            " ['JW-3' 'F' '2/10/95' '1.68' '69.7' '124/79' '29.1']\n",
            " ['JW-6' 'M' '6/7/95' '1.72' '75.5' '110/60' '45.5']\n",
            " ['JW-9' 'F' '11/12/95' '1.78' '82.1' '115/75' '32.3']\n",
            " ['JW-10' 'F' '7/4/96' '1.60' '-' '-/-' '30.1']\n",
            " ['JW-11' 'M' '22/8/95' '1.72' '77.2' '97/63' '48.8']\n",
            " ['JW-12' 'M' '23/5/96' '1.83' '88.9' '105/70' '37.7']\n",
            " ['JW-14' 'F' '12/1/96' '1.56' '56.3' '108/72' '26.0']\n",
            " ['JW-15' 'F' '1/6/96' '1.64' '65.0' '99/67' '35.7']\n",
            " ['JW-16' 'M' '10/9/95' '1.63' '73.0' '131/84' '29.9']\n",
            " ['JW-17' 'M' '17/2/96' '1.67' '89.8' '101/76' '40.2']\n",
            " ['JW-18' 'M' '31/7/96' '1.66' '75.1' '-/-' '-']\n",
            " ['JW-19' 'F' '30/10/95' '1.59' '67.3' '103/69' '33.5']\n",
            " ['JW-22' 'F' '9/3/96' '1.70' '-' '119/80' '30.9']\n",
            " ['JW-23' 'M' '15/5/95' '1.97' '89.2' '124/82' '-']\n",
            " ['JW-24' 'F' '1/12/95' '1.66' '63.8' '100/78' '-']\n",
            " ['JW-25' 'F' '25/10/95' '1.63' '64.4' '-/-' '28.0']\n",
            " ['JW-26' 'M' '17/4/96' '1.69' '-' '121/82' '39.']]\n",
            "(21, 7)\n"
          ],
          "name": "stdout"
        }
      ]
    },
    {
      "cell_type": "code",
      "metadata": {
        "id": "yZaR68TnZGPe",
        "colab": {
          "base_uri": "https://localhost:8080/",
          "height": 391
        },
        "outputId": "2ccd88ae-ad69-403d-819c-40eda990501a"
      },
      "source": [
        "column=np.genfromtxt('eg6-a-student-data.txt')\n",
        "print(column)\n",
        "print(np.shape(column))"
      ],
      "execution_count": null,
      "outputs": [
        {
          "output_type": "stream",
          "text": [
            "[[  nan   nan   nan   nan   nan   nan   nan]\n",
            " [  nan   nan   nan   nan   nan   nan   nan]\n",
            " [  nan   nan   nan  1.82 92.4    nan 39.3 ]\n",
            " [  nan   nan   nan  1.77 80.9    nan 35.5 ]\n",
            " [  nan   nan   nan  1.68 69.7    nan 29.1 ]\n",
            " [  nan   nan   nan  1.72 75.5    nan 45.5 ]\n",
            " [  nan   nan   nan  1.78 82.1    nan 32.3 ]\n",
            " [  nan   nan   nan  1.6    nan   nan 30.1 ]\n",
            " [  nan   nan   nan  1.72 77.2    nan 48.8 ]\n",
            " [  nan   nan   nan  1.83 88.9    nan 37.7 ]\n",
            " [  nan   nan   nan  1.56 56.3    nan 26.  ]\n",
            " [  nan   nan   nan  1.64 65.     nan 35.7 ]\n",
            " [  nan   nan   nan  1.63 73.     nan 29.9 ]\n",
            " [  nan   nan   nan  1.67 89.8    nan 40.2 ]\n",
            " [  nan   nan   nan  1.66 75.1    nan   nan]\n",
            " [  nan   nan   nan  1.59 67.3    nan 33.5 ]\n",
            " [  nan   nan   nan  1.7    nan   nan 30.9 ]\n",
            " [  nan   nan   nan  1.97 89.2    nan   nan]\n",
            " [  nan   nan   nan  1.66 63.8    nan   nan]\n",
            " [  nan   nan   nan  1.63 64.4    nan 28.  ]\n",
            " [  nan   nan   nan  1.69   nan   nan 39.  ]]\n",
            "(21, 7)\n"
          ],
          "name": "stdout"
        }
      ]
    },
    {
      "cell_type": "markdown",
      "metadata": {
        "id": "0yrYhlQXanhB"
      },
      "source": [
        "statistical methods"
      ]
    },
    {
      "cell_type": "code",
      "metadata": {
        "id": "OQrZPhtGaqsw",
        "colab": {
          "base_uri": "https://localhost:8080/",
          "height": 170
        },
        "outputId": "e278b839-9677-4541-887d-be98b764437f"
      },
      "source": [
        "#if a set of data has multiple NaN values max and min will be NaN so how to handle it?\n",
        "a=np.array([-1,9,0,1])\n",
        "a=np.sqrt(a)\n",
        "print(a)\n",
        "print(np.max(a))\n",
        "print(np.min(a))\n",
        "#use np.nanmin() and np.nanmax() to get rid of NaN\n",
        "print(np.nanmax(a))\n",
        "print(np.nanmin(a))\n",
        "#argmin() and argmax()'s variants are nanargmin() and nanargmax()\n",
        "print(np.nanargmax(a))\n",
        "print(np.nanargmin(a))"
      ],
      "execution_count": null,
      "outputs": [
        {
          "output_type": "stream",
          "text": [
            "[nan  3.  0.  1.]\n",
            "nan\n",
            "nan\n",
            "3.0\n",
            "0.0\n",
            "1\n",
            "2\n"
          ],
          "name": "stdout"
        },
        {
          "output_type": "stream",
          "text": [
            "/usr/local/lib/python3.6/dist-packages/ipykernel_launcher.py:3: RuntimeWarning: invalid value encountered in sqrt\n",
            "  This is separate from the ipykernel package so we can avoid doing imports until\n"
          ],
          "name": "stderr"
        }
      ]
    },
    {
      "cell_type": "code",
      "metadata": {
        "id": "Eml9ygPFb3rw",
        "colab": {
          "base_uri": "https://localhost:8080/",
          "height": 153
        },
        "outputId": "2f294eec-e59d-44f5-ab65-c9f7da8b659d"
      },
      "source": [
        "#fmin(), fmax() compare each element of the array row by row and does not propagate NaN values\n",
        "#whereas maximum() and minimum() each element row by row but propagates NaN values\n",
        "a=np.array([[1,2],\n",
        "            [0,np.nan]])\n",
        "b=np.array([[1,3],\n",
        "            [np.nan,9]])\n",
        "print(np.fmin(a,b))\n",
        "print(np.fmax(a,b))\n",
        "print(np.maximum(a,b))\n",
        "print(np.minimum(a,b))"
      ],
      "execution_count": null,
      "outputs": [
        {
          "output_type": "stream",
          "text": [
            "[[1. 2.]\n",
            " [0. 9.]]\n",
            "[[1. 3.]\n",
            " [0. 9.]]\n",
            "[[ 1.  3.]\n",
            " [nan nan]]\n",
            "[[ 1.  2.]\n",
            " [nan nan]]\n"
          ],
          "name": "stdout"
        }
      ]
    },
    {
      "cell_type": "markdown",
      "metadata": {
        "id": "C96xfFf_fxrx"
      },
      "source": [
        "percentiles"
      ]
    },
    {
      "cell_type": "code",
      "metadata": {
        "id": "7PUicM_fdfsH",
        "colab": {
          "base_uri": "https://localhost:8080/",
          "height": 238
        },
        "outputId": "21ffa095-9185-43fa-b46f-f7ec3d4ad93a"
      },
      "source": [
        "a=np.linspace(1,100,100).reshape(10,10)\n",
        "print(a)\n",
        "#np.percentile(a,75) gives 75th percentile of the array \n",
        "print(np.percentile(a,75))\n",
        "#np.percentile(a,50,axis=0) gives 50th percentile for each column (AXIS=0 IS Y AXIS)\n",
        "print(np.percentile(a,50,axis=0))\n",
        "#np.percentile(a,0,axis=1) gives 0th percentile for each rows (AXIS=1 IS X AXIS)\n",
        "print(np.percentile(a,0,axis=1))"
      ],
      "execution_count": null,
      "outputs": [
        {
          "output_type": "stream",
          "text": [
            "[[  1.   2.   3.   4.   5.   6.   7.   8.   9.  10.]\n",
            " [ 11.  12.  13.  14.  15.  16.  17.  18.  19.  20.]\n",
            " [ 21.  22.  23.  24.  25.  26.  27.  28.  29.  30.]\n",
            " [ 31.  32.  33.  34.  35.  36.  37.  38.  39.  40.]\n",
            " [ 41.  42.  43.  44.  45.  46.  47.  48.  49.  50.]\n",
            " [ 51.  52.  53.  54.  55.  56.  57.  58.  59.  60.]\n",
            " [ 61.  62.  63.  64.  65.  66.  67.  68.  69.  70.]\n",
            " [ 71.  72.  73.  74.  75.  76.  77.  78.  79.  80.]\n",
            " [ 81.  82.  83.  84.  85.  86.  87.  88.  89.  90.]\n",
            " [ 91.  92.  93.  94.  95.  96.  97.  98.  99. 100.]]\n",
            "75.25\n",
            "[46. 47. 48. 49. 50. 51. 52. 53. 54. 55.]\n",
            "[ 1. 11. 21. 31. 41. 51. 61. 71. 81. 91.]\n"
          ],
          "name": "stdout"
        }
      ]
    },
    {
      "cell_type": "markdown",
      "metadata": {
        "id": "UEunAJDZjJQs"
      },
      "source": [
        "average"
      ]
    },
    {
      "cell_type": "code",
      "metadata": {
        "id": "Q6a9zPhif-6C",
        "colab": {
          "base_uri": "https://localhost:8080/",
          "height": 221
        },
        "outputId": "200e917a-80f5-40c5-f3c8-06c41c580a28"
      },
      "source": [
        "print(a)\n",
        "print(a.mean())\n",
        "print(np.average(a))\n",
        "#mean() and average() does the same thing"
      ],
      "execution_count": null,
      "outputs": [
        {
          "output_type": "stream",
          "text": [
            "[[  1.   2.   3.   4.   5.   6.   7.   8.   9.  10.]\n",
            " [ 11.  12.  13.  14.  15.  16.  17.  18.  19.  20.]\n",
            " [ 21.  22.  23.  24.  25.  26.  27.  28.  29.  30.]\n",
            " [ 31.  32.  33.  34.  35.  36.  37.  38.  39.  40.]\n",
            " [ 41.  42.  43.  44.  45.  46.  47.  48.  49.  50.]\n",
            " [ 51.  52.  53.  54.  55.  56.  57.  58.  59.  60.]\n",
            " [ 61.  62.  63.  64.  65.  66.  67.  68.  69.  70.]\n",
            " [ 71.  72.  73.  74.  75.  76.  77.  78.  79.  80.]\n",
            " [ 81.  82.  83.  84.  85.  86.  87.  88.  89.  90.]\n",
            " [ 91.  92.  93.  94.  95.  96.  97.  98.  99. 100.]]\n",
            "50.5\n",
            "50.5\n"
          ],
          "name": "stdout"
        }
      ]
    },
    {
      "cell_type": "code",
      "metadata": {
        "id": "ore-qGEIjO7D",
        "colab": {
          "base_uri": "https://localhost:8080/",
          "height": 374
        },
        "outputId": "55843249-6484-4da7-9cfa-98d94f677937"
      },
      "source": [
        "#but average() can be used for retrieving weighted mean from an array given weights\n",
        "#let's make an array for the weights\n",
        "weight=np.linspace(0,1,100).reshape(10,10)\n",
        "print(weight)\n",
        "print(np.average(a,weights=weight))"
      ],
      "execution_count": null,
      "outputs": [
        {
          "output_type": "stream",
          "text": [
            "[[0.         0.01010101 0.02020202 0.03030303 0.04040404 0.05050505\n",
            "  0.06060606 0.07070707 0.08080808 0.09090909]\n",
            " [0.1010101  0.11111111 0.12121212 0.13131313 0.14141414 0.15151515\n",
            "  0.16161616 0.17171717 0.18181818 0.19191919]\n",
            " [0.2020202  0.21212121 0.22222222 0.23232323 0.24242424 0.25252525\n",
            "  0.26262626 0.27272727 0.28282828 0.29292929]\n",
            " [0.3030303  0.31313131 0.32323232 0.33333333 0.34343434 0.35353535\n",
            "  0.36363636 0.37373737 0.38383838 0.39393939]\n",
            " [0.4040404  0.41414141 0.42424242 0.43434343 0.44444444 0.45454545\n",
            "  0.46464646 0.47474747 0.48484848 0.49494949]\n",
            " [0.50505051 0.51515152 0.52525253 0.53535354 0.54545455 0.55555556\n",
            "  0.56565657 0.57575758 0.58585859 0.5959596 ]\n",
            " [0.60606061 0.61616162 0.62626263 0.63636364 0.64646465 0.65656566\n",
            "  0.66666667 0.67676768 0.68686869 0.6969697 ]\n",
            " [0.70707071 0.71717172 0.72727273 0.73737374 0.74747475 0.75757576\n",
            "  0.76767677 0.77777778 0.78787879 0.7979798 ]\n",
            " [0.80808081 0.81818182 0.82828283 0.83838384 0.84848485 0.85858586\n",
            "  0.86868687 0.87878788 0.88888889 0.8989899 ]\n",
            " [0.90909091 0.91919192 0.92929293 0.93939394 0.94949495 0.95959596\n",
            "  0.96969697 0.97979798 0.98989899 1.        ]]\n",
            "67.33333333333333\n"
          ],
          "name": "stdout"
        }
      ]
    },
    {
      "cell_type": "code",
      "metadata": {
        "id": "z1-NG77_kJhY",
        "colab": {
          "base_uri": "https://localhost:8080/",
          "height": 85
        },
        "outputId": "c2908c94-b4c3-419a-e86f-1b7bce4fc97d"
      },
      "source": [
        "#mean() or average() or median() can be retrieved only for rows or columns just like percentile() method does\n",
        "print(np.average(a,weights=weight,axis=0))\n",
        "print(np.average(a,weights=weight,axis=1))"
      ],
      "execution_count": null,
      "outputs": [
        {
          "output_type": "stream",
          "text": [
            "[64.33333333 64.93478261 65.55319149 66.1875     66.83673469 67.5\n",
            " 68.17647059 68.86538462 69.56603774 70.27777778]\n",
            "[ 7.33333333 16.06896552 25.83673469 35.73913043 45.68539326 55.65137615\n",
            " 65.62790698 75.61073826 85.59763314 95.58730159]\n"
          ],
          "name": "stdout"
        }
      ]
    },
    {
      "cell_type": "code",
      "metadata": {
        "id": "u3OdTXBAk7dj",
        "colab": {
          "base_uri": "https://localhost:8080/",
          "height": 51
        },
        "outputId": "cedc0857-9be7-47e9-88a3-be7e8b74512e"
      },
      "source": [
        "print(np.median(a,axis=0))\n",
        "print(np.median(a,axis=1))"
      ],
      "execution_count": null,
      "outputs": [
        {
          "output_type": "stream",
          "text": [
            "[46. 47. 48. 49. 50. 51. 52. 53. 54. 55.]\n",
            "[ 5.5 15.5 25.5 35.5 45.5 55.5 65.5 75.5 85.5 95.5]\n"
          ],
          "name": "stdout"
        }
      ]
    },
    {
      "cell_type": "markdown",
      "metadata": {
        "id": "jCSFknsYl6ia"
      },
      "source": [
        "SD and Variance"
      ]
    },
    {
      "cell_type": "code",
      "metadata": {
        "id": "FmnoPLfVlCRQ",
        "colab": {
          "base_uri": "https://localhost:8080/",
          "height": 51
        },
        "outputId": "e00e2dcf-773c-43d8-f90d-fd399f04a262"
      },
      "source": [
        "print(np.std(a)) #uncorrected standard deviation\n",
        "print(np.std(a,ddof=1)) #corrected standard deviation\n",
        "#i don't know what corrected and uncorrected sd's are btw"
      ],
      "execution_count": null,
      "outputs": [
        {
          "output_type": "stream",
          "text": [
            "28.86607004772212\n",
            "29.011491975882016\n"
          ],
          "name": "stdout"
        }
      ]
    },
    {
      "cell_type": "code",
      "metadata": {
        "id": "hWgnB3agmDHf",
        "colab": {
          "base_uri": "https://localhost:8080/",
          "height": 68
        },
        "outputId": "464097f8-aafb-4464-b5b5-303fe8991611"
      },
      "source": [
        "print(np.var(a))\n",
        "#if there is any NaN values in the array use nanvar() to get the exact result\n",
        "array=np.array([np.nan,1,2,3,np.nan,9,12])\n",
        "print(np.nanvar(array))\n",
        "print(np.nanmean(array))"
      ],
      "execution_count": null,
      "outputs": [
        {
          "output_type": "stream",
          "text": [
            "833.25\n",
            "18.639999999999997\n",
            "5.4\n"
          ],
          "name": "stdout"
        }
      ]
    },
    {
      "cell_type": "code",
      "metadata": {
        "id": "IjvpJHTomnsB",
        "colab": {
          "base_uri": "https://localhost:8080/",
          "height": 34
        },
        "outputId": "34949b10-fd74-4c65-f8d9-ddf3efea585c"
      },
      "source": [
        "#covariance\n",
        "array=np.array([1,2,3,4,5,6,7,8,9])\n",
        "print(np.cov(array))"
      ],
      "execution_count": null,
      "outputs": [
        {
          "output_type": "stream",
          "text": [
            "7.5\n"
          ],
          "name": "stdout"
        }
      ]
    },
    {
      "cell_type": "code",
      "metadata": {
        "id": "qxNSUyyanpM5",
        "colab": {
          "base_uri": "https://localhost:8080/",
          "height": 238
        },
        "outputId": "91c33cdc-5064-4cca-d439-af5b344a5383"
      },
      "source": [
        "#correlation coefficient\n",
        "print(np.corrcoef(a))\n",
        "print(np.corrcoef(array))\n",
        "a=np.array([1,4,8])\n",
        "b=np.array([3,1,9])\n",
        "print(np.corrcoef(a,b))"
      ],
      "execution_count": null,
      "outputs": [
        {
          "output_type": "stream",
          "text": [
            "[[1. 1. 1. 1. 1. 1. 1. 1. 1. 1.]\n",
            " [1. 1. 1. 1. 1. 1. 1. 1. 1. 1.]\n",
            " [1. 1. 1. 1. 1. 1. 1. 1. 1. 1.]\n",
            " [1. 1. 1. 1. 1. 1. 1. 1. 1. 1.]\n",
            " [1. 1. 1. 1. 1. 1. 1. 1. 1. 1.]\n",
            " [1. 1. 1. 1. 1. 1. 1. 1. 1. 1.]\n",
            " [1. 1. 1. 1. 1. 1. 1. 1. 1. 1.]\n",
            " [1. 1. 1. 1. 1. 1. 1. 1. 1. 1.]\n",
            " [1. 1. 1. 1. 1. 1. 1. 1. 1. 1.]\n",
            " [1. 1. 1. 1. 1. 1. 1. 1. 1. 1.]]\n",
            "1.0\n",
            "[[1.         0.77513328]\n",
            " [0.77513328 1.        ]]\n"
          ],
          "name": "stdout"
        }
      ]
    },
    {
      "cell_type": "markdown",
      "metadata": {
        "id": "01qJnkVWq_c5"
      },
      "source": [
        "Histograms "
      ]
    },
    {
      "cell_type": "code",
      "metadata": {
        "id": "nSnDlxD0pJBm",
        "colab": {
          "base_uri": "https://localhost:8080/",
          "height": 68
        },
        "outputId": "63b8adfd-6b12-4be9-8433-6fbbacc29467"
      },
      "source": [
        "marks=np.array([26,89,12,45,78,99,78,93,89])\n",
        "bins=np.array([0,20,40,60,80,100])\n",
        "hist,bins=np.histogram(marks,bins)\n",
        "print(hist)\n",
        "print(bins)\n",
        "#bins can be defined easily\n",
        "hist=np.histogram(marks,bins=10,range=(0,100))\n",
        "print(hist)"
      ],
      "execution_count": null,
      "outputs": [
        {
          "output_type": "stream",
          "text": [
            "[1 1 1 2 4]\n",
            "[  0  20  40  60  80 100]\n",
            "(array([0, 1, 1, 0, 1, 0, 0, 2, 2, 2]), array([  0.,  10.,  20.,  30.,  40.,  50.,  60.,  70.,  80.,  90., 100.]))\n"
          ],
          "name": "stdout"
        }
      ]
    },
    {
      "cell_type": "code",
      "metadata": {
        "id": "mBI82Du_r9C0",
        "colab": {
          "base_uri": "https://localhost:8080/",
          "height": 265
        },
        "outputId": "c6b7682f-6a82-4e41-bca8-3addafdbea89"
      },
      "source": [
        "#plot in pylab \n",
        "import pylab as plt\n",
        "hist,bins,patches=plt.hist(marks,bins=9,range=(10,100))\n",
        "plt.show()"
      ],
      "execution_count": null,
      "outputs": [
        {
          "output_type": "display_data",
          "data": {
            "image/png": "[encoded data removed]",
            "text/plain": [
              "<Figure size 432x288 with 1 Axes>"
            ]
          },
          "metadata": {
            "tags": [],
            "needs_background": "light"
          }
        }
      ]
    }
  ]
}