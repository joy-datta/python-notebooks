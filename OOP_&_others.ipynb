{
  "nbformat": 4,
  "nbformat_minor": 0,
  "metadata": {
    "colab": {
      "name": "OOP & others.ipynb",
      "provenance": []
    },
    "kernelspec": {
      "name": "python3",
      "display_name": "Python 3"
    }
  },
  "cells": [
    {
      "cell_type": "markdown",
      "metadata": {
        "id": "yasZYwzGHMPl"
      },
      "source": [
        "String formatting"
      ]
    },
    {
      "cell_type": "markdown",
      "metadata": {
        "id": "b9T4yPxmJZlP"
      },
      "source": [
        "print('hi {}, your age is {}, and i like your {}'.format(name,age,like))"
      ]
    },
    {
      "cell_type": "markdown",
      "metadata": {
        "id": "hWwsw5xKKM1p"
      },
      "source": [
        "print(f'hi {name}, your age is {age}, and i like your {like}') #python 3.8"
      ]
    },
    {
      "cell_type": "code",
      "metadata": {
        "id": "w-IHhAEwHHqa",
        "outputId": "7a6f0517-4a03-40e1-f961-5839cd671d13",
        "colab": {
          "base_uri": "https://localhost:8080/",
          "height": 54
        }
      },
      "source": [
        "#old style string formatting\n",
        "print('hi {}, your age is {} and i like your {}'.format('joy','22','smile'))\n",
        "print('hi {1}, your age is {0} and i like your {2}'.format(22,'joy','smile'))"
      ],
      "execution_count": null,
      "outputs": [
        {
          "output_type": "stream",
          "text": [
            "hi joy, your age is 22 and i like your smile\n",
            "hi joy, your age is 22 and i like your smile\n"
          ],
          "name": "stdout"
        }
      ]
    },
    {
      "cell_type": "code",
      "metadata": {
        "id": "3JfCDZttIAc4",
        "outputId": "e50a6e6f-2fa0-40fb-99c8-50bd3fa66b8b",
        "colab": {
          "base_uri": "https://localhost:8080/",
          "height": 90
        }
      },
      "source": [
        "name=input('enter a name')\n",
        "age=int(input('enter age'))\n",
        "like=input('enter what you like')\n",
        "\n",
        "print(f'hi {name}, your age is {age}, and i like your {like}') #this is new in python 3.8"
      ],
      "execution_count": null,
      "outputs": [
        {
          "output_type": "stream",
          "text": [
            "enter a namejoy\n",
            "enter age22\n",
            "enter what you likesmile\n",
            "hi joy, your age is 22, and i like your smile\n"
          ],
          "name": "stdout"
        }
      ]
    },
    {
      "cell_type": "code",
      "metadata": {
        "id": "E7EW-NICJO3C",
        "outputId": "4562aae4-44cd-4f54-8507-07f543616035",
        "colab": {
          "base_uri": "https://localhost:8080/",
          "height": 35
        }
      },
      "source": [
        "num1=3\n",
        "num2=5\n",
        "def add(num1,num2):\n",
        "  return num1+num2\n",
        "print(f'{num1} + {num2} = {add(num1,num2)}') #call add() and pass the parameters num1 and num2"
      ],
      "execution_count": null,
      "outputs": [
        {
          "output_type": "stream",
          "text": [
            "3 + 5 = 8\n"
          ],
          "name": "stdout"
        }
      ]
    },
    {
      "cell_type": "code",
      "metadata": {
        "id": "ObzkIcuGMaZv",
        "outputId": "9c615da1-b51f-471e-cf3d-7b351f50aaf7",
        "colab": {
          "base_uri": "https://localhost:8080/",
          "height": 35
        }
      },
      "source": [
        "check_the_condition= 98 is 100\n",
        "print(f'the condition is {str(check_the_condition)}') #bool changed to string"
      ],
      "execution_count": null,
      "outputs": [
        {
          "output_type": "stream",
          "text": [
            "the condition is False\n"
          ],
          "name": "stdout"
        }
      ]
    },
    {
      "cell_type": "markdown",
      "metadata": {
        "id": "70dPfOSMYI8z"
      },
      "source": [
        "Continue, Break, Pass"
      ]
    },
    {
      "cell_type": "code",
      "metadata": {
        "id": "363ZRXZAW_b1",
        "outputId": "8b7a0ba2-12d7-4cbf-d24c-87256ab4fdcd",
        "colab": {
          "base_uri": "https://localhost:8080/",
          "height": 90
        }
      },
      "source": [
        "fruit_list=['apple','orange','grapes','mango','berry']\n",
        "for every_fruits in fruit_list:\n",
        "  if every_fruits is 'grapes':\n",
        "    continue #continue stops the loop for once and goes for the next execution of the loop\n",
        "             #like for 10 times a loop is running but continue executed when 3rd time the loop is running so the loop stops there and goes for 4th execution of the loop\n",
        "  print(every_fruits)"
      ],
      "execution_count": null,
      "outputs": [
        {
          "output_type": "stream",
          "text": [
            "apple\n",
            "orange\n",
            "mango\n",
            "berry\n"
          ],
          "name": "stdout"
        }
      ]
    },
    {
      "cell_type": "code",
      "metadata": {
        "id": "uwOZE3NaY5OZ",
        "outputId": "daf48653-75e7-451b-ad56-6d39605a50a1",
        "colab": {
          "base_uri": "https://localhost:8080/",
          "height": 54
        }
      },
      "source": [
        "fruit_list=['apple','orange','grapes','mango','berry']\n",
        "for every_fruits in fruit_list:\n",
        "  if every_fruits is 'grapes':\n",
        "    break #stops the loop, like if the fruit is grapes then the rest of the fruits will not be printed since the code is stopped executing\n",
        "  print(every_fruits)"
      ],
      "execution_count": null,
      "outputs": [
        {
          "output_type": "stream",
          "text": [
            "apple\n",
            "orange\n"
          ],
          "name": "stdout"
        }
      ]
    },
    {
      "cell_type": "code",
      "metadata": {
        "id": "DlqxD4j-sn57",
        "outputId": "2b01d06e-0ee5-440b-d524-4a647ca9a7f7",
        "colab": {
          "base_uri": "https://localhost:8080/",
          "height": 145
        }
      },
      "source": [
        "string='Python'\n",
        "for letter in string:\n",
        "  if letter=='h':\n",
        "    pass\n",
        "    print('This is h')\n",
        "  print(letter)"
      ],
      "execution_count": null,
      "outputs": [
        {
          "output_type": "stream",
          "text": [
            "P\n",
            "y\n",
            "t\n",
            "This is h\n",
            "h\n",
            "o\n",
            "n\n"
          ],
          "name": "stdout"
        }
      ]
    },
    {
      "cell_type": "markdown",
      "metadata": {
        "id": "pQd_Yn-fdLms"
      },
      "source": [
        "Reading and Writing a file"
      ]
    },
    {
      "cell_type": "code",
      "metadata": {
        "id": "Ks2S-wjso67Y",
        "outputId": "68f0ef64-b5b4-4323-9186-5a3dfb449508",
        "colab": {
          "base_uri": "https://localhost:8080/",
          "height": 274
        }
      },
      "source": [
        "with open('text.txt',mode='w') as f:\n",
        "  f.write('Megh and Brishti loves each other\\n')\n",
        "  f.write('both of them are pluviophiles\\n')\n",
        "  f.write('little puddles on the substreets make them feel crazy\\n')\n",
        "  f.write('smell of the wet environment is called petrichor\\n')\n",
        "  f.write('Megh Brishti')\n",
        "\n",
        "\n",
        "#########################################################################################################################################################\n",
        "words=[]\n",
        "total_words=[]\n",
        "with open('text.txt',mode='r') as f:\n",
        "    for lines in f:\n",
        "        stripped_string=lines.strip()\n",
        "        words=stripped_string.split(' ')\n",
        "        total_words.extend(words)\n",
        "        print(words)\n",
        "        #print(lines.strip(),end=' ')\n",
        "print(total_words)\n",
        "print(len(total_words))\n",
        "\n",
        "#just the unique words in the text file\n",
        "unique_words=set(total_words)\n",
        "print(unique_words)\n",
        "print(len(unique_words))\n",
        "print(type(unique_words))\n",
        "\n",
        "unique_words=list(unique_words)\n",
        "unique_words.sort()\n",
        "for words in unique_words:\n",
        "  print(words,end=', ')\n",
        "###########################################################################################################################################################\n",
        "\n",
        "#write unique words to a csv file\n",
        "with open('unique_words.csv',mode='w') as f:\n",
        "  for words in unique_words:\n",
        "    f.write(words+',')\n",
        "\n",
        "print('\\n')\n",
        "with open('unique_words.csv',mode='r') as f:\n",
        "  for words in f:\n",
        "    print(words)"
      ],
      "execution_count": null,
      "outputs": [
        {
          "output_type": "stream",
          "text": [
            "['Megh', 'and', 'Brishti', 'loves', 'each', 'other']\n",
            "['both', 'of', 'them', 'are', 'pluviophiles']\n",
            "['little', 'puddles', 'on', 'the', 'substreets', 'make', 'them', 'feel', 'crazy']\n",
            "['smell', 'of', 'the', 'wet', 'environment', 'is', 'called', 'petrichor']\n",
            "['Megh', 'Brishti']\n",
            "['Megh', 'and', 'Brishti', 'loves', 'each', 'other', 'both', 'of', 'them', 'are', 'pluviophiles', 'little', 'puddles', 'on', 'the', 'substreets', 'make', 'them', 'feel', 'crazy', 'smell', 'of', 'the', 'wet', 'environment', 'is', 'called', 'petrichor', 'Megh', 'Brishti']\n",
            "30\n",
            "{'make', 'substreets', 'on', 'and', 'puddles', 'are', 'wet', 'other', 'is', 'Megh', 'loves', 'Brishti', 'little', 'pluviophiles', 'each', 'them', 'environment', 'feel', 'smell', 'both', 'crazy', 'of', 'the', 'called', 'petrichor'}\n",
            "25\n",
            "<class 'set'>\n",
            "Brishti, Megh, and, are, both, called, crazy, each, environment, feel, is, little, loves, make, of, on, other, petrichor, pluviophiles, puddles, smell, substreets, the, them, wet, \n",
            "\n",
            "Brishti,Megh,and,are,both,called,crazy,each,environment,feel,is,little,loves,make,of,on,other,petrichor,pluviophiles,puddles,smell,substreets,the,them,wet,\n"
          ],
          "name": "stdout"
        }
      ]
    },
    {
      "cell_type": "markdown",
      "metadata": {
        "id": "B-1f5qzC7etI"
      },
      "source": [
        "OOP, Class, Object, Inheritence, Polymorphism "
      ]
    },
    {
      "cell_type": "code",
      "metadata": {
        "id": "4hvJNTc_WQUU",
        "outputId": "866fbfbf-86a0-46f5-abe0-9984101dc095",
        "colab": {
          "base_uri": "https://localhost:8080/",
          "height": 419
        }
      },
      "source": [
        "class Person:\n",
        "    def __init__(self,name: str,age: int,year_of_birth: int=None):\n",
        "        self.__name=name\n",
        "        self.__age=age\n",
        "        self.year_of_birth=year_of_birth\n",
        "    def set_or_change_name(self,new_name):\n",
        "        if self.__has_any_number(new_name):\n",
        "            print('Name cannot have any numbers')\n",
        "        else:\n",
        "            self.__name=new_name\n",
        "    def get_name(self):\n",
        "        return self.__name\n",
        "\n",
        "    def get_age(self):\n",
        "        return self.__age\n",
        "\n",
        "    def get_summary(self):\n",
        "        if self.year_of_birth==None:\n",
        "            return f'Name: {self.__name}, Age: {self.__age}'\n",
        "        else:\n",
        "            return f'Name: {self.__name}, Age: {self.__age}, Year of Birth: {self.year_of_birth}'\n",
        "\n",
        "    def __has_any_number(self,check_name):\n",
        "        return  '0' in check_name\n",
        "\n",
        "person_list=[Person('Joy',22,1998),\n",
        "                   Person('Anika',21,1999),\n",
        "                   Person('Shraddha',32,1988),\n",
        "                   Person('Trishala',28,1992),\n",
        "                   Person('Trisha',22)]\n",
        "#print the name whose age is more than 22\n",
        "for person in person_list:\n",
        "    if person.get_age()>22:\n",
        "        print(person.get_name(),' ',person.get_age())\n",
        "        print(person.get_summary())\n",
        "\n",
        "#print the name whose year of birth is after 1998\n",
        "for person in person_list:\n",
        "    if person.year_of_birth is not None and person.year_of_birth>1992:\n",
        "        print(person.year_of_birth,' ',person.get_name())\n",
        "        print(person.get_summary())\n",
        "\n",
        "#print person_list will give a list of person objects not the direct values of those person's name, age and year of birth\n",
        "print(person_list)\n",
        "#how to make a list of the names of person objects?\n",
        "name_list_of_the_persons=[]\n",
        "for person in person_list:\n",
        "    name_list_of_the_persons.append(person.get_name())\n",
        "print(name_list_of_the_persons)\n",
        "\n",
        "#Inheritence\n",
        "class Student(Person):\n",
        "    def __init__(self, name: str, age: int, student_id: str, university: str, year_of_birth: int = None):\n",
        "        super().__init__(name, age, year_of_birth)\n",
        "        self.__student_id=student_id\n",
        "        self.__university=university\n",
        "    def get_student_summary(self):\n",
        "        return f'Name: {self.__name}, Age: {self.__age}, Student ID: {self.__student_id}, University: {university}, Year of Birth: {self.year_of_birth}'\n",
        "\n",
        "    def get_university_name(self):\n",
        "        return self.__university\n",
        "\n",
        "    def get_student_id(self):\n",
        "        return self.__student_id\n",
        "student_list=[Student('Joy',22,'123','bracu',1998),\n",
        "              Student('Anika',21,'124','bracu',1999),\n",
        "              Student('Shraddha',28,'125','ut austin',1992),\n",
        "              Student('Trishala',28,'126','uc los angeles',1992),\n",
        "              Student('Mrittika',21,'127','uc san diego')]\n",
        "print(student_list)\n",
        "#print the students from bracu\n",
        "for student in student_list:\n",
        "    if student.get_university_name()=='bracu':\n",
        "        print(student.get_summary())\n",
        "\n",
        "#print all the informations of students whose age is more than 21\n",
        "for student in student_list:\n",
        "    if student.get_age()>21:\n",
        "        print(student.get_summary(),f' Student ID: {student.get_student_id()}, University: {student.get_university_name()}')\n",
        "\n",
        "class Teacher(Person):\n",
        "    def __init__(self, name: str, age: int, department: str):\n",
        "        super().__init__(name, age)\n",
        "        self.__department=department\n",
        "\n",
        "print('\\nMIXED LIST: ')\n",
        "mixed_list=[Person('Anika',22,1999),\n",
        "                Student('Shraddha',28,'128','ut austin',1992),\n",
        "                Teacher('Mrittika',28,'cse')]\n",
        "for any_person in mixed_list:\n",
        "    print(any_person.get_summary())"
      ],
      "execution_count": null,
      "outputs": [
        {
          "output_type": "stream",
          "text": [
            "Shraddha   32\n",
            "Name: Shraddha, Age: 32, Year of Birth: 1988\n",
            "Trishala   28\n",
            "Name: Trishala, Age: 28, Year of Birth: 1992\n",
            "1998   Joy\n",
            "Name: Joy, Age: 22, Year of Birth: 1998\n",
            "1999   Anika\n",
            "Name: Anika, Age: 21, Year of Birth: 1999\n",
            "[<__main__.Person object at 0x7f807a757710>, <__main__.Person object at 0x7f807a7577b8>, <__main__.Person object at 0x7f807a7576d8>, <__main__.Person object at 0x7f807a7577f0>, <__main__.Person object at 0x7f807a757828>]\n",
            "['Joy', 'Anika', 'Shraddha', 'Trishala', 'Trisha']\n",
            "[<__main__.Student object at 0x7f807a7690f0>, <__main__.Student object at 0x7f807a757860>, <__main__.Student object at 0x7f807a757898>, <__main__.Student object at 0x7f807a7578d0>, <__main__.Student object at 0x7f807a757908>]\n",
            "Name: Joy, Age: 22, Year of Birth: 1998\n",
            "Name: Anika, Age: 21, Year of Birth: 1999\n",
            "Name: Joy, Age: 22, Year of Birth: 1998  Student ID: 123, University: bracu\n",
            "Name: Shraddha, Age: 28, Year of Birth: 1992  Student ID: 125, University: ut austin\n",
            "Name: Trishala, Age: 28, Year of Birth: 1992  Student ID: 126, University: uc los angeles\n",
            "\n",
            "MIXED LIST: \n",
            "Name: Anika, Age: 22, Year of Birth: 1999\n",
            "Name: Shraddha, Age: 28, Year of Birth: 1992\n",
            "Name: Mrittika, Age: 28\n"
          ],
          "name": "stdout"
        }
      ]
    },
    {
      "cell_type": "markdown",
      "metadata": {
        "id": "_vSXMx_KeRH3"
      },
      "source": [
        "Lambda function"
      ]
    },
    {
      "cell_type": "code",
      "metadata": {
        "id": "XYcrGqMrAAHs",
        "outputId": "4e90dd0c-8c96-458d-80b2-d5f7efcd3f12",
        "colab": {
          "base_uri": "https://localhost:8080/",
          "height": 54
        }
      },
      "source": [
        "def square(n):\n",
        "  return n*n\n",
        "\n",
        "sq=square(5)\n",
        "print(sq)\n",
        "\n",
        "#anonymous function\n",
        "squared_num= lambda x: x*x\n",
        "print(squared_num(5))"
      ],
      "execution_count": null,
      "outputs": [
        {
          "output_type": "stream",
          "text": [
            "25\n",
            "25\n"
          ],
          "name": "stdout"
        }
      ]
    },
    {
      "cell_type": "markdown",
      "metadata": {
        "id": "lWHQNtGWgEKF"
      },
      "source": [
        "filter()"
      ]
    },
    {
      "cell_type": "markdown",
      "metadata": {
        "id": "LCOOOEGqlEgA"
      },
      "source": [
        "filter() can filter a list like from a list with mixed numbers it can return a list with only odd or even numbers"
      ]
    },
    {
      "cell_type": "markdown",
      "metadata": {
        "id": "0_DThDz8mYP7"
      },
      "source": [
        "[1,2,3,4,5]"
      ]
    },
    {
      "cell_type": "markdown",
      "metadata": {
        "id": "X5FhcjYwmb3K"
      },
      "source": [
        "only odds [1,3,5]"
      ]
    },
    {
      "cell_type": "code",
      "metadata": {
        "id": "FOtiSzBlfFIo",
        "outputId": "032a89b7-6bb2-4608-a2c8-5ea6590d5e93",
        "colab": {
          "base_uri": "https://localhost:8080/",
          "height": 35
        }
      },
      "source": [
        "nums=[1,2,3,4,5,6,7,8,9]\n",
        "odds=list(filter(lambda x:(x%2!=0),nums))\n",
        "print(odds)"
      ],
      "execution_count": null,
      "outputs": [
        {
          "output_type": "stream",
          "text": [
            "[1, 3, 5, 7, 9]\n"
          ],
          "name": "stdout"
        }
      ]
    },
    {
      "cell_type": "code",
      "metadata": {
        "id": "OhPxMR_3oAC1",
        "outputId": "67b9ac1c-edac-4fa4-d663-f768216fd713",
        "colab": {
          "base_uri": "https://localhost:8080/",
          "height": 35
        }
      },
      "source": [
        "nums=[1,2,3,4,5]\n",
        "sqrd=list(filter(lambda x: x*x,nums))\n",
        "print(sqrd)\n",
        "#it does not work"
      ],
      "execution_count": null,
      "outputs": [
        {
          "output_type": "stream",
          "text": [
            "[1, 2, 3, 4, 5]\n"
          ],
          "name": "stdout"
        }
      ]
    },
    {
      "cell_type": "markdown",
      "metadata": {
        "id": "mL9c3xR0jFYD"
      },
      "source": [
        "map()"
      ]
    },
    {
      "cell_type": "markdown",
      "metadata": {
        "id": "eUg1fzJ7mmcf"
      },
      "source": [
        "map() cannot reduce number of elements in a list but can return the same number of elements according to the given lambda function definition"
      ]
    },
    {
      "cell_type": "markdown",
      "metadata": {
        "id": "v9JEzqipm4VY"
      },
      "source": [
        "[1,2,3,4,5]"
      ]
    },
    {
      "cell_type": "markdown",
      "metadata": {
        "id": "XpxmyJLTm7Pp"
      },
      "source": [
        "only odds? odds=list(map(lambda x: x%2!=0, [1,2,3,4,5]))"
      ]
    },
    {
      "cell_type": "markdown",
      "metadata": {
        "id": "dFuwT_adnO-A"
      },
      "source": [
        "why [True, False, True, False, True]? "
      ]
    },
    {
      "cell_type": "markdown",
      "metadata": {
        "id": "ey0ZTAFunV14"
      },
      "source": [
        "cause it only checks the condition and append the bool values to the new list but cannot make a new list with reduced number of elements\n",
        "understand the difference"
      ]
    },
    {
      "cell_type": "code",
      "metadata": {
        "id": "gvjmastxjESF",
        "outputId": "461cea96-f79c-4efe-d50a-6c133d488053",
        "colab": {
          "base_uri": "https://localhost:8080/",
          "height": 35
        }
      },
      "source": [
        "nums=[1,2,3,4,5,6,7,8,9]\n",
        "evens=list(map(lambda x:x%2==0,nums))\n",
        "print(evens)"
      ],
      "execution_count": null,
      "outputs": [
        {
          "output_type": "stream",
          "text": [
            "[False, True, False, True, False, True, False, True, False]\n"
          ],
          "name": "stdout"
        }
      ]
    },
    {
      "cell_type": "code",
      "metadata": {
        "id": "9pKmKjYCjR8B",
        "outputId": "221a284c-2f98-40e0-d2c1-8be73f60ac03",
        "colab": {
          "base_uri": "https://localhost:8080/",
          "height": 35
        }
      },
      "source": [
        "nums=[1,2,3,4,5]\n",
        "sqrd=list(map(lambda x: x*x,nums))\n",
        "print(sqrd)"
      ],
      "execution_count": null,
      "outputs": [
        {
          "output_type": "stream",
          "text": [
            "[1, 4, 9, 16, 25]\n"
          ],
          "name": "stdout"
        }
      ]
    },
    {
      "cell_type": "markdown",
      "metadata": {
        "id": "8ZpjgdnNow90"
      },
      "source": [
        "reduce()"
      ]
    },
    {
      "cell_type": "markdown",
      "metadata": {
        "id": "XgnjAXJFqfFj"
      },
      "source": [
        "performs repetitive operation over the pairs of list "
      ]
    },
    {
      "cell_type": "code",
      "metadata": {
        "id": "2PUwhM-Pk9SU",
        "outputId": "3f9e0a6f-3dd9-4fc2-dc98-3fc09875c283",
        "colab": {
          "base_uri": "https://localhost:8080/",
          "height": 35
        }
      },
      "source": [
        "from functools import reduce\n",
        "nums=[1,2,3,4,5,6,7,8,9]\n",
        "sum=reduce((lambda x,y:x+y),nums)\n",
        "print(sum)"
      ],
      "execution_count": null,
      "outputs": [
        {
          "output_type": "stream",
          "text": [
            "45\n"
          ],
          "name": "stdout"
        }
      ]
    },
    {
      "cell_type": "code",
      "metadata": {
        "id": "68-CVNRppLi7",
        "outputId": "6d17c9cd-1fc8-40fa-9aaa-f531510a61dc",
        "colab": {
          "base_uri": "https://localhost:8080/",
          "height": 35
        }
      },
      "source": [
        "from functools import reduce\n",
        "nums=[1,2,3,4,5]\n",
        "multiplication=reduce((lambda x,y:x*y),nums)\n",
        "print(multiplication)"
      ],
      "execution_count": null,
      "outputs": [
        {
          "output_type": "stream",
          "text": [
            "120\n"
          ],
          "name": "stdout"
        }
      ]
    },
    {
      "cell_type": "markdown",
      "metadata": {
        "id": "HR_77ZugJGMb"
      },
      "source": [
        "Linked List"
      ]
    },
    {
      "cell_type": "code",
      "metadata": {
        "id": "H5XgHJNEqZlp",
        "outputId": "363a87e8-0719-455c-dc98-11232e6c93ee",
        "colab": {
          "base_uri": "https://localhost:8080/",
          "height": 108
        }
      },
      "source": [
        "class Node:\n",
        "    def __init__(self,value):\n",
        "        self.prev=None\n",
        "        self.next=None\n",
        "        self.val=value\n",
        "\n",
        "class DoubleLinkedList:\n",
        "    def __init__(self):\n",
        "        self.head=None\n",
        "        self.tail=None\n",
        "        self.size=0\n",
        "\n",
        "    def add(self,value):\n",
        "        node=Node(value)\n",
        "        if self.tail is None:\n",
        "            self.head=node\n",
        "            self.tail=node\n",
        "            self.size+=1\n",
        "        else:\n",
        "            self.tail.next=node\n",
        "            node.prev=self.tail\n",
        "            self.tail=node\n",
        "            self.size+=1\n",
        "\n",
        "    def remove(self,value):\n",
        "        node=self.head\n",
        "        while node is not None:\n",
        "            if node.val==value:\n",
        "                self.__remove(node)\n",
        "                break\n",
        "            node=node.next\n",
        "\n",
        "    def __remove(self,node):\n",
        "        if node.prev is None:\n",
        "            self.head = node.next\n",
        "        else:\n",
        "            node.prev.next = node.next\n",
        "        if node.next is None:\n",
        "            self.tail = node.prev\n",
        "        else:\n",
        "            node.next.prev = node.prev\n",
        "        self.size-=1\n",
        "\n",
        "    def add_first(self,value):\n",
        "        node=Node(value)\n",
        "        self.head.prev=node\n",
        "        node.next=self.head\n",
        "        self.head=node\n",
        "        self.size+=1\n",
        "\n",
        "    def remove_last(self):\n",
        "        self.tail=self.tail.prev\n",
        "        self.tail.next=None\n",
        "        self.size-=1\n",
        "    def remove_first(self):\n",
        "        self.head=self.head.next\n",
        "        self.head.prev=None\n",
        "        self.size-=1\n",
        "    def __str__(self):\n",
        "        nodes=[]\n",
        "        node=self.head\n",
        "        while node is not None:\n",
        "            nodes.append(node.val)\n",
        "            node=node.next\n",
        "        return f\"[{', '.join(str(val) for val in nodes)}]\"\n",
        "\n",
        "linked_list=DoubleLinkedList()\n",
        "linked_list.add(1)\n",
        "linked_list.add(3)\n",
        "linked_list.add(4)\n",
        "linked_list.add(7)\n",
        "linked_list.add(8)\n",
        "linked_list.add(9)\n",
        "print(linked_list)\n",
        "print(linked_list)\n",
        "\n",
        "linked_list.remove(4)\n",
        "print(linked_list)\n",
        "\n",
        "linked_list.remove_first()\n",
        "print(linked_list)\n",
        "\n",
        "print(linked_list)"
      ],
      "execution_count": null,
      "outputs": [
        {
          "output_type": "stream",
          "text": [
            "[1, 3, 4, 7, 8, 9]\n",
            "[1, 3, 4, 7, 8, 9]\n",
            "[1, 3, 7, 8, 9]\n",
            "[3, 7, 8, 9]\n",
            "[3, 7, 8, 9]\n"
          ],
          "name": "stdout"
        }
      ]
    },
    {
      "cell_type": "markdown",
      "metadata": {
        "id": "UN-c2ggCgixA"
      },
      "source": [
        "Arrays"
      ]
    },
    {
      "cell_type": "code",
      "metadata": {
        "id": "IUD6LAncI_Tt",
        "outputId": "46dd5b5d-05ea-45b3-e208-5ca03dbed072",
        "colab": {
          "base_uri": "https://localhost:8080/",
          "height": 90
        }
      },
      "source": [
        "from array import *\n",
        "arr=array('i',[1,3,4,2,5,7,6,8,9])\n",
        "print(arr.typecode)\n",
        "print(arr.itemsize,' Bytes')\n",
        "print(arr.count(4),' number of 4s')\n",
        "arr.extend(array('i',[10,11,12]))\n",
        "print(arr)"
      ],
      "execution_count": null,
      "outputs": [
        {
          "output_type": "stream",
          "text": [
            "i\n",
            "4  Bytes\n",
            "1  number of 4s\n",
            "array('i', [1, 3, 4, 2, 5, 7, 6, 8, 9, 10, 11, 12])\n"
          ],
          "name": "stdout"
        }
      ]
    },
    {
      "cell_type": "code",
      "metadata": {
        "id": "mI0-yCF_iFv3",
        "outputId": "d6938031-dcc6-4d49-f7e7-5adbe41908f5",
        "colab": {
          "base_uri": "https://localhost:8080/",
          "height": 35
        }
      },
      "source": [
        "from array import *\n",
        "file=open('numbers.bin','wb')\n",
        "arr.tofile(file)\n",
        "\n",
        "ints=array('i',[])\n",
        "file=open('numbers.bin','rb')\n",
        "ints.fromfile(file,12)\n",
        "print(ints)"
      ],
      "execution_count": null,
      "outputs": [
        {
          "output_type": "stream",
          "text": [
            "array('i', [1, 3, 4, 2, 5, 7, 6, 8, 9, 10, 11, 12])\n"
          ],
          "name": "stdout"
        }
      ]
    },
    {
      "cell_type": "code",
      "metadata": {
        "id": "Dal281oNowPJ",
        "outputId": "83b138ef-1b72-4339-9974-9373af5269dd",
        "colab": {
          "base_uri": "https://localhost:8080/",
          "height": 72
        }
      },
      "source": [
        "from array import *\n",
        "numbers=array('i',[1,4,6,2,3,5,7,8,9])\n",
        "list_=numbers.tolist()\n",
        "print(type(list_))\n",
        "print(list_)\n",
        "\n",
        "arr=array('i',[])\n",
        "arr.fromlist(list_)\n",
        "print(arr)"
      ],
      "execution_count": null,
      "outputs": [
        {
          "output_type": "stream",
          "text": [
            "<class 'list'>\n",
            "[1, 4, 6, 2, 3, 5, 7, 8, 9]\n",
            "array('i', [1, 4, 6, 2, 3, 5, 7, 8, 9])\n"
          ],
          "name": "stdout"
        }
      ]
    },
    {
      "cell_type": "markdown",
      "metadata": {
        "id": "8tQjNuY8BOqr"
      },
      "source": [
        "graph"
      ]
    },
    {
      "cell_type": "code",
      "metadata": {
        "id": "Eug0_frN2Vx5",
        "outputId": "317ccfdd-dd63-4d2e-bf19-ed4ab2e09728",
        "colab": {
          "base_uri": "https://localhost:8080/",
          "height": 119
        }
      },
      "source": [
        "graph={'a':['c'],\n",
        "       'b':['c','e'],\n",
        "       'c':['a','b','d','e'],\n",
        "       'd':['c'],\n",
        "       'e':['c','b'],\n",
        "       'f':[]\n",
        "       }\n",
        "\n",
        "def gen_edges(graph):\n",
        "    edges=[]\n",
        "    for node in graph:\n",
        "        for neighbor in graph[node]:\n",
        "            edges.append((node,neighbor))\n",
        "    return edges\n",
        "\n",
        "def addEdge(graph,u,v):\n",
        "    graph[u].append(v)\n",
        "\n",
        "def addNode(graph,node):\n",
        "  graph[node]=[]\n",
        "\n",
        "def nodeDel(graph,node):\n",
        "  del graph[node]\n",
        "  keys=list(graph.keys())\n",
        "  for key in keys:\n",
        "    for neighbors in graph[key]:\n",
        "      if neighbors==node:\n",
        "        graph[key].remove(neighbors)\n",
        "\n",
        "def edgeDel(graph,node,neighbor):        \n",
        "  for neighbors in graph[node]:\n",
        "    if neighbors==neighbor:\n",
        "      graph[node].remove(neighbor)\n",
        "  for neighbors in graph[neighbor]:\n",
        "    if neighbors==node:\n",
        "      graph[neighbor].remove(node)\n",
        "\n",
        "def find_path(graph,start,end,path=[]):\n",
        "  path.append(start)\n",
        "  if start==end:\n",
        "    return path\n",
        "  for neighbors in graph[start]:\n",
        "    if neighbors==end:\n",
        "      path.append(neighbors)\n",
        "      return path\n",
        "  for neighbors in graph[start]:\n",
        "    if neighbors not in path:\n",
        "      new_path=find_path(graph,neighbors,end,path)\n",
        "      if new_path:\n",
        "        return new_path\n",
        "      else:\n",
        "        return None\n",
        "\n",
        "\n",
        "print(gen_edges(graph))\n",
        "print(find_path(graph,'b','a'))\n",
        "addNode(graph,'g')\n",
        "addEdge(graph,'g','b')\n",
        "print(gen_edges(graph))\n",
        "nodeDel(graph,'a')\n",
        "print(gen_edges(graph))\n",
        "nodeDel(graph,'c')\n",
        "print(gen_edges(graph))\n",
        "edgeDel(graph,'b','e')\n",
        "print(gen_edges(graph))"
      ],
      "execution_count": null,
      "outputs": [
        {
          "output_type": "stream",
          "text": [
            "[('a', 'c'), ('b', 'c'), ('b', 'e'), ('c', 'a'), ('c', 'b'), ('c', 'd'), ('c', 'e'), ('d', 'c'), ('e', 'c'), ('e', 'b')]\n",
            "['b', 'c', 'a']\n",
            "[('a', 'c'), ('b', 'c'), ('b', 'e'), ('c', 'a'), ('c', 'b'), ('c', 'd'), ('c', 'e'), ('d', 'c'), ('e', 'c'), ('e', 'b'), ('g', 'b')]\n",
            "[('b', 'c'), ('b', 'e'), ('c', 'b'), ('c', 'd'), ('c', 'e'), ('d', 'c'), ('e', 'c'), ('e', 'b'), ('g', 'b')]\n",
            "[('b', 'e'), ('e', 'b'), ('g', 'b')]\n",
            "[('g', 'b')]\n"
          ],
          "name": "stdout"
        }
      ]
    },
    {
      "cell_type": "code",
      "metadata": {
        "id": "WoGpehWGmPRa"
      },
      "source": [
        ""
      ],
      "execution_count": null,
      "outputs": []
    }
  ]
}