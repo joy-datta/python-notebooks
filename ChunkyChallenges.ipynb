{
  "nbformat": 4,
  "nbformat_minor": 0,
  "metadata": {
    "colab": {
      "name": "ChunkyChallenges.ipynb",
      "provenance": []
    },
    "kernelspec": {
      "name": "python3",
      "display_name": "Python 3"
    }
  },
  "cells": [
    {
      "cell_type": "markdown",
      "metadata": {
        "id": "PgutJ3idWZOe"
      },
      "source": [
        "Shift Code"
      ]
    },
    {
      "cell_type": "code",
      "metadata": {
        "id": "r0mzkwPU4HQj",
        "outputId": "e490f462-d945-41bc-c48c-23372ad65aeb",
        "colab": {
          "base_uri": "https://localhost:8080/",
          "height": 308
        }
      },
      "source": [
        "alphabets=[\"a\",\"b\",\"c\",\"d\",\"e\",\"f\",\"g\",\"h\",\"i\",\"j\",\"k\",\"l\",\"m\",\"n\",\"o\",\"p\",\"q\",\"r\",\"s\",\"t\",\"u\",\"v\",\"w\",\"x\",\"y\",\"z\",\" \"]\n",
        "def encode(text,num):\n",
        "  encoded_list=[]\n",
        "  for letter in text:\n",
        "    if (alphabets.index(letter)+num)<=26: #alphabets.index(letter) return the index number of a letter in the alphabets list\n",
        "      encoded_list.append(alphabets[alphabets.index(letter)+num]) \n",
        "    elif (alphabets.index(letter)+num)>26:\n",
        "      encoded_list.append(alphabets[alphabets.index(letter)+num-27])   \n",
        "  return encoded_list\n",
        "\n",
        "def decode(text,num): #encode and decode are just reverse operations of each other\n",
        "  decoded_list=[]\n",
        "  for letter in text:\n",
        "    if (alphabets.index(letter)-num)>=0:\n",
        "      decoded_list.append(alphabets[alphabets.index(letter)-num])\n",
        "    elif (alphabets.index(letter)-num)<0:\n",
        "      decoded_list.append(alphabets[alphabets.index(letter)-num+27])      \n",
        "  return decoded_list\n",
        "\n",
        "def get_data():\n",
        "  text=input(\"enter a text\")\n",
        "  num_to_shift=int(input(\"enter a number\"))\n",
        "  data_tuple=(text,num_to_shift)\n",
        "  return data_tuple\n",
        "\n",
        "def main():\n",
        "  again=True\n",
        "  while again==True:\n",
        "    print(\"1. Make a code\")\n",
        "    print(\"2. Decode a message\")\n",
        "    print(\"3. Quit\")\n",
        "    check=int(input(\"enter the selection\"))\n",
        "    if check==1:\n",
        "      data_tuple=get_data()\n",
        "      encoded_list=encode(data_tuple[0],data_tuple[1])\n",
        "      encoded_string=''.join(encoded_list) #joins the elements of a list to make a string e.g. ['j','o','y'] to joy\n",
        "      print(encoded_string)\n",
        "    elif check==2:\n",
        "      decoded_list=decode(encoded_string,data_tuple[1])\n",
        "      decoded_string=''.join(decoded_list)\n",
        "      print(decoded_string)\n",
        "    elif check==3:\n",
        "      again=False\n",
        "\n",
        "main()\n"
      ],
      "execution_count": null,
      "outputs": [
        {
          "output_type": "stream",
          "text": [
            "1. Make a code\n",
            "2. Decode a message\n",
            "3. Quit\n",
            "enter the selection1\n",
            "enter a texthey hooman whats up\n",
            "enter a number9\n",
            "qngiqxxvjwieqjbaicy\n",
            "1. Make a code\n",
            "2. Decode a message\n",
            "3. Quit\n",
            "enter the selection2\n",
            "hey hooman whats up\n",
            "1. Make a code\n",
            "2. Decode a message\n",
            "3. Quit\n",
            "enter the selection3\n"
          ],
          "name": "stdout"
        }
      ]
    },
    {
      "cell_type": "code",
      "metadata": {
        "id": "CAE7cajfv2Bb",
        "colab": {
          "base_uri": "https://localhost:8080/",
          "height": 1000
        },
        "outputId": "c43141e0-7486-439a-e0e7-c85655a957d2"
      },
      "source": [
        "import sqlite3\n",
        "with sqlite3.connect(\"artgalleryarartists.db\") as db:\n",
        "  cursor=db.cursor()\n",
        "check=True\n",
        "cursor.execute(\"\"\"CREATE TABLE IF NOT EXISTS arts(id integer PRIMARY KEY,\n",
        "  name text NOT NULL,\n",
        "  price text NOT NULL,\n",
        "  artist text NOT NULL);\"\"\")\n",
        "cursor.execute(\"\"\"CREATE TABLE IF NOT EXISTS artists(id integer PRIMARY KEY,\n",
        "  name text NOT NULL,\n",
        "  city text NOT NULL);\"\"\")\n",
        "while check==True:\n",
        "  check_=input(\"do you want to enter any arts?\")\n",
        "  if check_==\"yes\":\n",
        "    id_=input(\"id\")\n",
        "    name_=input(\"name\")\n",
        "    price_=input(\"price\")\n",
        "    artist_=input(\"artist\")\n",
        "    cursor.execute(\"INSERT INTO arts(id,name,price,artist)VALUES(?,?,?,?)\",(id_,name_,price_,artist_))\n",
        "    check=True\n",
        "  else:\n",
        "    check=False\n",
        "check_x=False\n",
        "while check_x==False:\n",
        "  check_=input(\"do you want to enter any artists?\")\n",
        "  if check_==\"yes\":\n",
        "    id_=input(\"id\")\n",
        "    name_=input(\"name\")\n",
        "    city_=input(\"city\")\n",
        "    cursor.execute(\"INSERT INTO artists(id,name,city)VALUES(?,?,?)\",(id_,name_,city_))\n",
        "    check_x=False\n",
        "  else:\n",
        "    check_x=True\n",
        "cursor.execute(\"SELECT * FROM arts\")\n",
        "for x in cursor.fetchall():\n",
        "  print(x[0],\"_____\",x[1],\"_____\",x[2])\n",
        "cursor.execute(\"SELECT * FROM artists\")\n",
        "for x in cursor.fetchall():\n",
        "  print(x[0],\"_____\",x[1],\"_____\",x[2])\n",
        "\n",
        "cursor.execute(\"DELETE FROM arts WHERE name='xyz'\")\n",
        "\n",
        "cursor.execute(\"SELECT * FROM arts\")\n",
        "for x in cursor.fetchall():\n",
        "  print(x[0],\"_____\",x[1],\"_____\",x[2],\"_____\",x[3])\n",
        "cursor.execute(\"SELECT * FROM artists\")\n",
        "for x in cursor.fetchall():\n",
        "  print(x[0],\"_____\",x[1],\"_____\",x[2])\n",
        "\n",
        "cursor.execute(\"SELECT * FROM arts WHERE artist='anika'\")\n",
        "for x in cursor.fetchall():\n",
        "  print(x[0],\"_____\",x[1],\"_____\",x[2],\"______\",x[3])\n",
        "\n"
      ],
      "execution_count": null,
      "outputs": [
        {
          "output_type": "stream",
          "text": [
            "do you want to enter any arts?yes\n",
            "id1\n",
            "namejoy\n",
            "price10000000\n",
            "artistanika\n",
            "do you want to enter any arts?yes\n",
            "id2\n",
            "namestarry night\n",
            "price100000000000000\n",
            "artistvincent van gogh\n",
            "do you want to enter any arts?yes\n",
            "id3\n",
            "namejojo\n",
            "price1000000\n",
            "artistanika\n",
            "do you want to enter any arts?yes\n",
            "id4\n",
            "namexyz\n",
            "price1000000\n",
            "artistxyz\n",
            "do you want to enter any arts?yes\n",
            "id5\n",
            "namehihihd\n",
            "price10000000000000000\n",
            "artistxyz\n",
            "do you want to enter any arts?no\n",
            "do you want to enter any artists?yes\n",
            "id1\n",
            "nameanika\n",
            "citydhaka\n",
            "do you want to enter any artists?yes\n",
            "id2\n",
            "namevincent van gogh\n",
            "citynetharlands\n",
            "do you want to enter any artists?yes\n",
            "id3\n",
            "namexyz\n",
            "cityidk\n",
            "do you want to enter any artists?no\n",
            "1 _____ joy _____ 10000000\n",
            "2 _____ starry night _____ 100000000000000\n",
            "3 _____ jojo _____ 1000000\n",
            "4 _____ xyz _____ 1000000\n",
            "5 _____ hihihd _____ 10000000000000000\n",
            "1 _____ anika _____ dhaka\n",
            "2 _____ vincent van gogh _____ netharlands\n",
            "3 _____ xyz _____ idk\n",
            "1 _____ joy _____ 10000000 _____ anika\n",
            "2 _____ starry night _____ 100000000000000 _____ vincent van gogh\n",
            "3 _____ jojo _____ 1000000 _____ anika\n",
            "5 _____ hihihd _____ 10000000000000000 _____ xyz\n",
            "1 _____ anika _____ dhaka\n",
            "2 _____ vincent van gogh _____ netharlands\n",
            "3 _____ xyz _____ idk\n",
            "1 _____ joy _____ 10000000 ______ anika\n",
            "3 _____ jojo _____ 1000000 ______ anika\n"
          ],
          "name": "stdout"
        }
      ]
    },
    {
      "cell_type": "code",
      "metadata": {
        "id": "RF3zDI1Rpwhh"
      },
      "source": [
        ""
      ],
      "execution_count": null,
      "outputs": []
    }
  ]
}