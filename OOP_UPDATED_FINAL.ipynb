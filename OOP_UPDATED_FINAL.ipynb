{
 "cells": [
  {
   "cell_type": "code",
   "execution_count": 50,
   "metadata": {},
   "outputs": [],
   "source": [
    "class Person:\n",
    "    #we can create multiple objects using this class\n",
    "    #default constructor\n",
    "    def __init__(self, name: str, year_of_birth: int, sex: str, height: float = None):\n",
    "        #instance variables, varies from object to object and not shared by objects\n",
    "        self.__name = name\n",
    "        self.__year_of_birth = year_of_birth\n",
    "        self.__sex = sex\n",
    "        self.__height = height\n",
    "    #instance method\n",
    "    def get_name(self):\n",
    "        return self.__name\n",
    "    def get_year_of_birth(self):\n",
    "        return self.__year_of_birth\n",
    "    def get_sex(self):\n",
    "        return self.__sex\n",
    "    #data encapsulation\n",
    "    def set_name(self, new_name):\n",
    "        if self.__has_any_number(new_name):\n",
    "            print(\"Error! Name can not have numbers.\")\n",
    "            return\n",
    "        self.__name = new_name\n",
    "    def __has_any_number(self, name):\n",
    "        for i in [\"0\", \"1\", \"2\", \"3\", \"4\", \"5\", \"6\", \"7\", \"8\", \"9\"]:\n",
    "            if i in name:\n",
    "                return True\n",
    "    def get_summary(self):\n",
    "        return f\"Name: {self.__name}, Year of birth: {self.__year_of_birth}, Sex: {self.__sex}, Height: {self.__height if not None else 'Invalid'}\"\n",
    "    def __str__(self):\n",
    "        return self.get_summary()"
   ]
  },
  {
   "cell_type": "code",
   "execution_count": 51,
   "metadata": {},
   "outputs": [],
   "source": [
    "class Student(Person):\n",
    "    def __init__(self, name: str, year_of_birth: str, sex: str, email_id: str, student_id: str):\n",
    "        super().__init__(name, year_of_birth, sex)\n",
    "        self.student_id = student_id\n",
    "        self.email_id = email_id\n",
    "    #similar subclass methods for example get_summary will overwrite the parent class method get_summary\n",
    "    def get_summary(self):\n",
    "        return f\"Name: {self.get_name()}, Year of birth: {self.get_year_of_birth()}, Sex: {self.get_sex()}, Email ID: {self.email_id}, Student_ID: {self.student_id}\"\n",
    "    def __str__(self):\n",
    "        return self.get_summary()"
   ]
  },
  {
   "cell_type": "code",
   "execution_count": 52,
   "metadata": {},
   "outputs": [],
   "source": [
    "class Teacher(Person):\n",
    "    def __init__(self, name: str, year_of_birth: int, sex: str, email_id: str, teacher_id: str):\n",
    "        super().__init__(name, year_of_birth, sex)\n",
    "        self.email_id = email_id\n",
    "        self.teacher_id = teacher_id\n",
    "    def get_summary(self):\n",
    "        return f\"Name: {self.get_name()}, Email ID: {self.email_id}, Student_ID: {self.teacher_id}\"\n",
    "    def __str__(self):\n",
    "        return self.get_summary()"
   ]
  },
  {
   "cell_type": "code",
   "execution_count": 53,
   "metadata": {},
   "outputs": [],
   "source": [
    "person_list = [\n",
    "    Person(\"Nancy\", 2002, \"F\", 5.5),\n",
    "    Person(\"Srinkhala\", 1995, \"F\"),\n",
    "    Student(\"Anika\", 1999, \"F\", \"anika.ahsan@g.bracu.ac.bd\", \"10203040\"),\n",
    "    Student(\"Joy\", 1998, \"M\", \"joy.datta@g.bracu.ac.bd\", \"50607080\"),\n",
    "    Teacher(\"Yoko\", 1980, \"M\", \"yoko@bracu.ac.bd\", \"123456789\")\n",
    "]"
   ]
  },
  {
   "cell_type": "code",
   "execution_count": 55,
   "metadata": {},
   "outputs": [
    {
     "name": "stdout",
     "output_type": "stream",
     "text": [
      "Name: Nancy, Year of birth: 2002, Sex: F, Height: 5.5\n",
      "--------------------------------------------------------------------------------------------------------\n",
      "Name: Srinkhala, Year of birth: 1995, Sex: F, Height: None\n",
      "--------------------------------------------------------------------------------------------------------\n",
      "Name: Anika, Year of birth: 1999, Sex: F, Email ID: anika.ahsan@g.bracu.ac.bd, Student_ID: 10203040\n",
      "--------------------------------------------------------------------------------------------------------\n",
      "Name: Joy, Year of birth: 1998, Sex: M, Email ID: joy.datta@g.bracu.ac.bd, Student_ID: 50607080\n",
      "--------------------------------------------------------------------------------------------------------\n",
      "Name: Yoko, Email ID: yoko@bracu.ac.bd, Student_ID: 123456789\n",
      "--------------------------------------------------------------------------------------------------------\n"
     ]
    }
   ],
   "source": [
    "for person in person_list:\n",
    "    print(person)\n",
    "    print(\"--------------------------------------------------------------------------------------------------------\")"
   ]
  },
  {
   "cell_type": "code",
   "execution_count": null,
   "metadata": {},
   "outputs": [],
   "source": []
  }
 ],
 "metadata": {
  "kernelspec": {
   "display_name": "Python 3",
   "language": "python",
   "name": "python3"
  },
  "language_info": {
   "codemirror_mode": {
    "name": "ipython",
    "version": 3
   },
   "file_extension": ".py",
   "mimetype": "text/x-python",
   "name": "python",
   "nbconvert_exporter": "python",
   "pygments_lexer": "ipython3",
   "version": "3.8.5"
  }
 },
 "nbformat": 4,
 "nbformat_minor": 4
}
