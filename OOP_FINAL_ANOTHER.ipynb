{
 "cells": [
  {
   "cell_type": "code",
   "execution_count": 64,
   "metadata": {},
   "outputs": [],
   "source": [
    "class Person:\n",
    "    def __init__(self, name: str, sex: str, height: float = None):\n",
    "        self.__name = name\n",
    "        self.__sex = sex\n",
    "        self.__height = height\n",
    "    def get_name(self):\n",
    "        return self.__name\n",
    "    def get_sex(self):\n",
    "        return self.__sex\n",
    "    def get_height(self):\n",
    "        return self.__height\n",
    "    def get_summary(self):\n",
    "        return f\"Person name: {self.__name}, Person sex: {self.__sex}\"\n",
    "    def __str__(self):\n",
    "        return self.get_summary()"
   ]
  },
  {
   "cell_type": "code",
   "execution_count": 69,
   "metadata": {},
   "outputs": [],
   "source": [
    "class ModifiedPerson(Person):\n",
    "    def __init__(self, name: str, sex: str, dob: str, **kwargs):\n",
    "        super().__init__(name, sex, **kwargs)\n",
    "        self.__dob = dob\n",
    "    def get_dob(self):\n",
    "        return self.__dob\n",
    "    def get_summary(self):\n",
    "        return f\"ModifiedPerson name: {self.get_name()}, ModifiedPerson sex: {self.get_sex()}, ModifiedPerson dob: {self.__dob}, ModifiedPerson height: {self.get_height()}\"\n",
    "    def __str__(self):\n",
    "        return self.get_summary()"
   ]
  },
  {
   "cell_type": "code",
   "execution_count": 70,
   "metadata": {},
   "outputs": [],
   "source": [
    "ModifiedPerson1 = ModifiedPerson(\"Nancy Momoland\", \"F\", '9-10-1998', height = 5.10)"
   ]
  },
  {
   "cell_type": "code",
   "execution_count": 71,
   "metadata": {},
   "outputs": [
    {
     "name": "stdout",
     "output_type": "stream",
     "text": [
      "ModifiedPerson name: Nancy Momoland, ModifiedPerson sex: F, ModifiedPerson dob: 9-10-1998, ModifiedPerson height: 5.1\n"
     ]
    }
   ],
   "source": [
    "print(ModifiedPerson1)"
   ]
  },
  {
   "cell_type": "code",
   "execution_count": 73,
   "metadata": {},
   "outputs": [],
   "source": [
    "class Student(ModifiedPerson):\n",
    "    def __init__(self, name: str, sex: str, dob: str, email: str, std_id: int, **kwargs):\n",
    "        super().__init__(name, sex, dob, **kwargs)\n",
    "        self.__email = email\n",
    "        self.__std_id = std_id\n",
    "    def get_summary(self):\n",
    "        return f\"Name: {self.get_name()}, Sex: {self.get_sex()}, dob: {self.get_dob()}, email: {self.__email}, std_id: {self.__std_id}, height: {self.get_height()}\""
   ]
  },
  {
   "cell_type": "code",
   "execution_count": 74,
   "metadata": {},
   "outputs": [],
   "source": [
    "student = Student(\"Nancy Momoland\", \"F\", \"9-10-1998\", \"nancy@gmail.com\", 10203040, height = 5.10)"
   ]
  },
  {
   "cell_type": "code",
   "execution_count": 75,
   "metadata": {},
   "outputs": [
    {
     "name": "stdout",
     "output_type": "stream",
     "text": [
      "Name: Nancy Momoland, Sex: F, dob: 9-10-1998, email: nancy@gmail.com, std_id: 10203040, height: 5.1\n"
     ]
    }
   ],
   "source": [
    "print(student)"
   ]
  },
  {
   "cell_type": "code",
   "execution_count": null,
   "metadata": {},
   "outputs": [],
   "source": []
  },
  {
   "cell_type": "code",
   "execution_count": null,
   "metadata": {},
   "outputs": [],
   "source": []
  },
  {
   "cell_type": "code",
   "execution_count": null,
   "metadata": {},
   "outputs": [],
   "source": []
  },
  {
   "cell_type": "code",
   "execution_count": null,
   "metadata": {},
   "outputs": [],
   "source": []
  }
 ],
 "metadata": {
  "kernelspec": {
   "display_name": "Python 3",
   "language": "python",
   "name": "python3"
  },
  "language_info": {
   "codemirror_mode": {
    "name": "ipython",
    "version": 3
   },
   "file_extension": ".py",
   "mimetype": "text/x-python",
   "name": "python",
   "nbconvert_exporter": "python",
   "pygments_lexer": "ipython3",
   "version": "3.8.5"
  }
 },
 "nbformat": 4,
 "nbformat_minor": 4
}
