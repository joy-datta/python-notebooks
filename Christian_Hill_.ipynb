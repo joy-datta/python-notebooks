{
  "nbformat": 4,
  "nbformat_minor": 0,
  "metadata": {
    "colab": {
      "name": "Christian_Hill_.ipynb",
      "provenance": []
    },
    "kernelspec": {
      "name": "python3",
      "display_name": "Python 3"
    }
  },
  "cells": [
    {
      "cell_type": "code",
      "metadata": {
        "id": "5akdMI2fNxAu",
        "outputId": "e5f06d7c-8c73-4b59-bdbd-d9c6c22e27d2",
        "colab": {
          "base_uri": "https://localhost:8080/",
          "height": 54
        }
      },
      "source": [
        "print(0.0009)\n",
        "print(0.00000000999)"
      ],
      "execution_count": null,
      "outputs": [
        {
          "output_type": "stream",
          "text": [
            "0.0009\n",
            "9.99e-09\n"
          ],
          "name": "stdout"
        }
      ]
    },
    {
      "cell_type": "code",
      "metadata": {
        "id": "ZEMmfrbfix0R",
        "outputId": "a4a2f80b-206d-402f-8d7b-e283b6123ee3",
        "colab": {
          "base_uri": "https://localhost:8080/",
          "height": 72
        }
      },
      "source": [
        "print(complex(3))\n",
        "print(complex(3.9))\n",
        "print(complex(0.3))"
      ],
      "execution_count": null,
      "outputs": [
        {
          "output_type": "stream",
          "text": [
            "(3+0j)\n",
            "(3.9+0j)\n",
            "(0.3+0j)\n"
          ],
          "name": "stdout"
        }
      ]
    },
    {
      "cell_type": "code",
      "metadata": {
        "id": "71UGRhGcjRnm",
        "outputId": "5394614d-4e66-4949-94be-587ff253b570",
        "colab": {
          "base_uri": "https://localhost:8080/",
          "height": 72
        }
      },
      "source": [
        "print(complex(3.))\n",
        "print(complex(3.3333333333333333333333333333333))\n",
        "print(3+2j)"
      ],
      "execution_count": null,
      "outputs": [
        {
          "output_type": "stream",
          "text": [
            "(3+0j)\n",
            "(3.3333333333333335+0j)\n",
            "(3+2j)\n"
          ],
          "name": "stdout"
        }
      ]
    },
    {
      "cell_type": "code",
      "metadata": {
        "id": "thMk1rvFjf4Z",
        "outputId": "8edd713c-342a-4f46-84a7-acc1feff0ff8",
        "colab": {
          "base_uri": "https://localhost:8080/",
          "height": 119
        }
      },
      "source": [
        "#Operator Precedence\n",
        "# **>* and / and // and %>+ and - \n",
        "print(8/4/2)\n",
        "print((4/2)/(8/2))\n",
        "print(2**3**2) \n",
        "print((2**3)**2) #so operates from right to left\n",
        "print(2**(2**3))\n",
        "print(2**2+8/2) #2**2 is 4 then 8/2 is 4 and the lowest precedence 4+4 is 8\n",
        "#not 2**2 is 4 then 4+8 is 12 then 12/2 is 6\n"
      ],
      "execution_count": null,
      "outputs": [
        {
          "output_type": "stream",
          "text": [
            "1.0\n",
            "0.5\n",
            "512\n",
            "64\n",
            "256\n",
            "8.0\n"
          ],
          "name": "stdout"
        }
      ]
    },
    {
      "cell_type": "code",
      "metadata": {
        "id": "KaBcOXAnmZu1",
        "outputId": "b6d891f0-7ebe-426e-dd06-36534994283b",
        "colab": {
          "base_uri": "https://localhost:8080/",
          "height": 126
        }
      },
      "source": [
        "print((4+5j).real)\n",
        "print((4+5j).imag)\n",
        "\n",
        "print((4.17181789+5.219929j).real)\n",
        "print((4+5.378738j).imag)\n",
        "\n",
        "print((4-9.39j).real)\n",
        "print((4-9.39j).imag)"
      ],
      "execution_count": null,
      "outputs": [
        {
          "output_type": "stream",
          "text": [
            "4.0\n",
            "5.0\n",
            "4.17181789\n",
            "5.378738\n",
            "4.0\n",
            "-9.39\n"
          ],
          "name": "stdout"
        }
      ]
    },
    {
      "cell_type": "code",
      "metadata": {
        "id": "F4xb1_WmomdW",
        "outputId": "1b87fba2-dbda-4211-cc32-dbd075739708",
        "colab": {
          "base_uri": "https://localhost:8080/",
          "height": 35
        }
      },
      "source": [
        "print((4+5j).conjugate())\n",
        "#everything in python is object"
      ],
      "execution_count": null,
      "outputs": [
        {
          "output_type": "stream",
          "text": [
            "(4-5j)\n"
          ],
          "name": "stdout"
        }
      ]
    },
    {
      "cell_type": "code",
      "metadata": {
        "id": "0kh0HVBEp2aT",
        "outputId": "47d07730-f88e-4c2c-c768-49a257b84316",
        "colab": {
          "base_uri": "https://localhost:8080/",
          "height": 235
        }
      },
      "source": [
        "print((0).bit_length()) #0\n",
        "print((1).bit_length()) #1\n",
        "print((2).bit_length()) #10\n",
        "print((3).bit_length()) #11\n",
        "print((4).bit_length()) #100\n",
        "print((5).bit_length()) #101\n",
        "print((6).bit_length()) #110\n",
        "print((7).bit_length()) #111\n",
        "print((8).bit_length()) #1000\n",
        "print((9).bit_length()) #1001\n",
        "print((123).bit_length()) \n",
        "print(bin(123))"
      ],
      "execution_count": null,
      "outputs": [
        {
          "output_type": "stream",
          "text": [
            "0\n",
            "1\n",
            "2\n",
            "2\n",
            "3\n",
            "3\n",
            "3\n",
            "3\n",
            "4\n",
            "4\n",
            "7\n",
            "0b1111011\n"
          ],
          "name": "stdout"
        }
      ]
    },
    {
      "cell_type": "code",
      "metadata": {
        "id": "_9Vr0Ad1qn3I",
        "outputId": "014de4ba-61cb-42a2-8b01-6b4cb491687e",
        "colab": {
          "base_uri": "https://localhost:8080/",
          "height": 54
        }
      },
      "source": [
        "print(abs(-5.22222222222222222222222222222222)) #automatically rounds up the huge number\n",
        "print(abs(-4-9j))"
      ],
      "execution_count": null,
      "outputs": [
        {
          "output_type": "stream",
          "text": [
            "5.222222222222222\n",
            "9.848857801796104\n"
          ],
          "name": "stdout"
        }
      ]
    },
    {
      "cell_type": "code",
      "metadata": {
        "id": "if9EUatPtdef",
        "outputId": "6b0fd598-0192-44f8-9056-a1df875c65b8",
        "colab": {
          "base_uri": "https://localhost:8080/",
          "height": 90
        }
      },
      "source": [
        "print(round(4.5)) #when 4.5 rounded value is 4\n",
        "print(round(4.51)) #when 4.51 even just 0.01 more than the previous one rounded value is 5\n",
        "print(round(4.519999999999)) #round(number) gives a rounded value which is an integer\n",
        "print(round(4.555555,3)) #difference between round(number) and round(number,upto_which_decimal_point_?)"
      ],
      "execution_count": null,
      "outputs": [
        {
          "output_type": "stream",
          "text": [
            "4\n",
            "5\n",
            "5\n",
            "4.556\n"
          ],
          "name": "stdout"
        }
      ]
    },
    {
      "cell_type": "code",
      "metadata": {
        "id": "yVF2HNpruQu8",
        "outputId": "5271d8f3-fcb1-45f3-94f9-e2b0701846b2",
        "colab": {
          "base_uri": "https://localhost:8080/",
          "height": 363
        }
      },
      "source": [
        "import math\n",
        "print(math.sqrt(25)) #square root of 25\n",
        "print(math.exp(0)) #exponential of 0\n",
        "print(math.log(10)) #ln if not defined the base of log\n",
        "print(math.log(10,10)) #log(value,base) log10 of 10\n",
        "print(math.log(3,10)) #log 3 of 10\n",
        "print(math.sin(0))\n",
        "print(math.cos(90))\n",
        "print(math.tan(45))\n",
        "#cot? sec? cosec?\n",
        "print(math.sin(90)/math.cos(90)) \n",
        "print(math.asin(0.5)) #arcsin\n",
        "print(math.acos(1)) #arccos\n",
        "print(math.atan(0.5)) #arctan\n",
        "print(math.asinh(0.5)) #asinh inverse hyperbolic function\n",
        "print(math.hypot(2,3)) #euclidean norm square root of x^2+y^2 \n",
        "print(math.sqrt(2**2+3**2)) #it gives the same result as hypot\n",
        "print(math.factorial(3)) #1*2*3\n",
        "print(math.erf(0.55555555)) #err function\n",
        "print(math.degrees(0.5)) #convert radian to degree\n",
        "print(math.radians(90)) #degrees to radian"
      ],
      "execution_count": null,
      "outputs": [
        {
          "output_type": "stream",
          "text": [
            "5.0\n",
            "1.0\n",
            "2.302585092994046\n",
            "1.0\n",
            "0.47712125471966244\n",
            "0.0\n",
            "-0.4480736161291701\n",
            "1.6197751905438615\n",
            "-1.995200412208242\n",
            "0.5235987755982989\n",
            "0.0\n",
            "0.4636476090008061\n",
            "0.48121182505960347\n",
            "3.605551275463989\n",
            "3.605551275463989\n",
            "6\n",
            "0.5679416142540463\n",
            "28.64788975654116\n",
            "1.5707963267948966\n"
          ],
          "name": "stdout"
        }
      ]
    },
    {
      "cell_type": "code",
      "metadata": {
        "id": "Ze6UqhqjDOHP",
        "outputId": "dbed6d73-8326-4430-d0bf-b73d347fafbe",
        "colab": {
          "base_uri": "https://localhost:8080/",
          "height": 72
        }
      },
      "source": [
        "from math import *\n",
        "print(pi)\n",
        "print(sqrt(25))\n",
        "print(e)\n",
        "#if from math import * is written before using math module math.pi can be deducted to pi so it's easier right?\n",
        "#but if there's some other module running in a same code it should be avoided because there may be some other functions in other modules but names are the same so they can conflict\n",
        "#shortcuts are always bad ok?\n"
      ],
      "execution_count": null,
      "outputs": [
        {
          "output_type": "stream",
          "text": [
            "3.141592653589793\n",
            "5.0\n",
            "2.718281828459045\n"
          ],
          "name": "stdout"
        }
      ]
    },
    {
      "cell_type": "code",
      "metadata": {
        "id": "gnB-Mz-gM-t-",
        "outputId": "466a593a-606b-44da-a6fb-6af055618cc1",
        "colab": {
          "base_uri": "https://localhost:8080/",
          "height": 35
        }
      },
      "source": [
        "num=0\n",
        "print(id(num))"
      ],
      "execution_count": null,
      "outputs": [
        {
          "output_type": "stream",
          "text": [
            "10914464\n"
          ],
          "name": "stdout"
        }
      ]
    },
    {
      "cell_type": "code",
      "metadata": {
        "id": "T56-CpZ5Rn1d",
        "outputId": "f2b436d9-7458-4cb4-c25b-9e564e08aedf",
        "colab": {
          "base_uri": "https://localhost:8080/",
          "height": 54
        }
      },
      "source": [
        "#how to find out the variable type e.g. int,string,boolean etc and how to find out location or address of a variable\n",
        "n=True\n",
        "print(type(n))\n",
        "print(id(n))"
      ],
      "execution_count": null,
      "outputs": [
        {
          "output_type": "stream",
          "text": [
            "<class 'bool'>\n",
            "10302848\n"
          ],
          "name": "stdout"
        }
      ]
    },
    {
      "cell_type": "code",
      "metadata": {
        "id": "h8M8JGuUUopx",
        "outputId": "f06fd01d-dcd5-4dfd-89dd-1b4dbc264f23",
        "colab": {
          "base_uri": "https://localhost:8080/",
          "height": 108
        }
      },
      "source": [
        "print(3==3)\n",
        "print(0 and 0 and 1)\n",
        "print(True or True or True)\n",
        "print(1<3<=9)\n",
        "print((1 and 1 or 1)or(1 or 0 and 1))"
      ],
      "execution_count": null,
      "outputs": [
        {
          "output_type": "stream",
          "text": [
            "True\n",
            "0\n",
            "True\n",
            "True\n",
            "1\n"
          ],
          "name": "stdout"
        }
      ]
    },
    {
      "cell_type": "code",
      "metadata": {
        "id": "-huhCFR0U4Gg",
        "outputId": "7cbfa708-718a-4e1a-df04-09a0723053f1",
        "colab": {
          "base_uri": "https://localhost:8080/",
          "height": 54
        }
      },
      "source": [
        "#not>and>or is the precedence for logical operators\n",
        "print(not 8<9) #this supposed to be True right? but not operator makes it inverse of what it is which is False\n",
        "print(not(True and True and True))"
      ],
      "execution_count": null,
      "outputs": [
        {
          "output_type": "stream",
          "text": [
            "False\n",
            "False\n"
          ],
          "name": "stdout"
        }
      ]
    },
    {
      "cell_type": "code",
      "metadata": {
        "id": "XLj3UXe7WM4i",
        "outputId": "5588a87f-3020-4bbf-8f85-5bea79624a31",
        "colab": {
          "base_uri": "https://localhost:8080/",
          "height": 108
        }
      },
      "source": [
        "print(bool(0.00000001))\n",
        "print(bool(0.0))\n",
        "print(bool(1.999))\n",
        "print(bool(-0.9))\n",
        "print(bool(-1.23239729))"
      ],
      "execution_count": null,
      "outputs": [
        {
          "output_type": "stream",
          "text": [
            "True\n",
            "False\n",
            "True\n",
            "True\n",
            "True\n"
          ],
          "name": "stdout"
        }
      ]
    },
    {
      "cell_type": "code",
      "metadata": {
        "id": "dYY5IP7SXSis",
        "outputId": "ae9153e2-1c0b-4727-a5fb-82e1c95e8746",
        "colab": {
          "base_uri": "https://localhost:8080/",
          "height": 126
        }
      },
      "source": [
        "a=9\n",
        "b=9\n",
        "print(id(a))\n",
        "print(id(b))\n",
        "\n",
        "x=3\n",
        "y=3\n",
        "print(id(x))\n",
        "print(id(y))\n",
        "\n",
        "x=12\n",
        "y=x\n",
        "print(id(x))\n",
        "print(id(y))"
      ],
      "execution_count": null,
      "outputs": [
        {
          "output_type": "stream",
          "text": [
            "10914752\n",
            "10914752\n",
            "10914560\n",
            "10914560\n",
            "10914848\n",
            "10914848\n"
          ],
          "name": "stdout"
        }
      ]
    },
    {
      "cell_type": "code",
      "metadata": {
        "id": "z-oMb02oZY2C",
        "outputId": "3e5d434c-85b2-4d7f-b691-1f3dfde9ac86",
        "colab": {
          "base_uri": "https://localhost:8080/",
          "height": 72
        }
      },
      "source": [
        "a=9\n",
        "b=9\n",
        "print(a is b)\n",
        "print(1 is not 2)\n",
        "print(True or True is not False)"
      ],
      "execution_count": null,
      "outputs": [
        {
          "output_type": "stream",
          "text": [
            "True\n",
            "True\n",
            "True\n"
          ],
          "name": "stdout"
        }
      ]
    },
    {
      "cell_type": "code",
      "metadata": {
        "id": "gP5FAVU2Zfh6",
        "outputId": "357dbd9f-a99d-4986-8485-95e0c88c6919",
        "colab": {
          "base_uri": "https://localhost:8080/",
          "height": 51
        }
      },
      "source": [
        "print(type(complex(2,3).real) is int)\n",
        "print(complex(2,3).real)"
      ],
      "execution_count": null,
      "outputs": [
        {
          "output_type": "stream",
          "text": [
            "False\n",
            "2.0\n"
          ],
          "name": "stdout"
        }
      ]
    },
    {
      "cell_type": "markdown",
      "metadata": {
        "id": "41lIotLDo0JK"
      },
      "source": [
        "Strings"
      ]
    },
    {
      "cell_type": "code",
      "metadata": {
        "id": "kLc85E46aPNL",
        "outputId": "3cdb76c6-7d92-468c-ac9a-0e00ee87d9ea",
        "colab": {
          "base_uri": "https://localhost:8080/",
          "height": 35
        }
      },
      "source": [
        "print('a ''b ''c ')"
      ],
      "execution_count": null,
      "outputs": [
        {
          "output_type": "stream",
          "text": [
            "a b c \n"
          ],
          "name": "stdout"
        }
      ]
    },
    {
      "cell_type": "code",
      "metadata": {
        "id": "tXhNt8dSo9WA",
        "outputId": "92e13402-952a-4979-b44b-936504eafc89",
        "colab": {
          "base_uri": "https://localhost:8080/",
          "height": 54
        }
      },
      "source": [
        "print('drizzles on my ''\\n''rooftop')"
      ],
      "execution_count": null,
      "outputs": [
        {
          "output_type": "stream",
          "text": [
            "drizzles on my \n",
            "rooftop\n"
          ],
          "name": "stdout"
        }
      ]
    },
    {
      "cell_type": "code",
      "metadata": {
        "id": "wWseR-kWphSH",
        "outputId": "a0068ef0-5cd8-4c39-f9a3-a16243f477c3",
        "colab": {
          "base_uri": "https://localhost:8080/",
          "height": 108
        }
      },
      "source": [
        "print('a'*9)\n",
        "print('joy datta''\\n'*3)"
      ],
      "execution_count": null,
      "outputs": [
        {
          "output_type": "stream",
          "text": [
            "aaaaaaaaa\n",
            "joy datta\n",
            "joy datta\n",
            "joy datta\n",
            "\n"
          ],
          "name": "stdout"
        }
      ]
    },
    {
      "cell_type": "code",
      "metadata": {
        "id": "_hQDgXH_p6my",
        "outputId": "73966156-4ad3-4a22-d779-a2a1f8f7a5c7",
        "colab": {
          "base_uri": "https://localhost:8080/",
          "height": 72
        }
      },
      "source": [
        "print(str(0.29919))\n",
        "print(str(3e9))\n",
        "num=str(3.3e9)\n",
        "type(num)\n",
        "print(type(num))"
      ],
      "execution_count": null,
      "outputs": [
        {
          "output_type": "stream",
          "text": [
            "0.29919\n",
            "3000000000.0\n",
            "<class 'str'>\n"
          ],
          "name": "stdout"
        }
      ]
    },
    {
      "cell_type": "code",
      "metadata": {
        "id": "24GdnbnXqUDO",
        "outputId": "d231c144-88fe-444d-b549-8f4c9a4e8865",
        "colab": {
          "base_uri": "https://localhost:8080/",
          "height": 54
        }
      },
      "source": [
        "#Linefeed\n",
        "print(\"drizzle creates\\npuddles\")"
      ],
      "execution_count": null,
      "outputs": [
        {
          "output_type": "stream",
          "text": [
            "drizzle creates\n",
            "puddles\n"
          ],
          "name": "stdout"
        }
      ]
    },
    {
      "cell_type": "code",
      "metadata": {
        "id": "F3ERa4xSyZ1J",
        "outputId": "7db0abea-cd31-47a6-d85a-791f80b5bbf2",
        "colab": {
          "base_uri": "https://localhost:8080/",
          "height": 90
        }
      },
      "source": [
        "name=\"joy datta\"\n",
        "print(name[4:]) #from index 4 to the rest\n",
        "print(name[:]) \n",
        "print('joy' in name)\n",
        "print('anika' in 'joy datta')"
      ],
      "execution_count": null,
      "outputs": [
        {
          "output_type": "stream",
          "text": [
            "datta\n",
            "joy datta\n",
            "True\n",
            "False\n"
          ],
          "name": "stdout"
        }
      ]
    },
    {
      "cell_type": "code",
      "metadata": {
        "id": "I-AO3Cl90Hlb",
        "outputId": "afd2d262-18a3-4531-c4f2-270c40d8c19b",
        "colab": {
          "base_uri": "https://localhost:8080/",
          "height": 54
        }
      },
      "source": [
        "print('joy datta'.endswith('datta'))\n",
        "print('anika ahsan'.startswith('anika'))"
      ],
      "execution_count": null,
      "outputs": [
        {
          "output_type": "stream",
          "text": [
            "True\n",
            "True\n"
          ],
          "name": "stdout"
        }
      ]
    },
    {
      "cell_type": "code",
      "metadata": {
        "id": "3pt7hQel2OUE",
        "outputId": "33cd7876-a699-42a4-90d7-54a6f40f1324",
        "colab": {
          "base_uri": "https://localhost:8080/",
          "height": 35
        }
      },
      "source": [
        "print('i am,joy,and you?,megh'.split(\",\")) #returns a string list after spliting it by a specified character here \",\""
      ],
      "execution_count": null,
      "outputs": [
        {
          "output_type": "stream",
          "text": [
            "['i am', 'joy', 'and you?', 'megh']\n"
          ],
          "name": "stdout"
        }
      ]
    },
    {
      "cell_type": "code",
      "metadata": {
        "id": "P9KW-_8BsMZ3",
        "outputId": "ce302e13-56c6-4a7c-b4f4-3ec8af809b7b",
        "colab": {
          "base_uri": "https://localhost:8080/",
          "height": 199
        }
      },
      "source": [
        "for i in range(0,10):\n",
        "  print(i,end='')\n",
        "for x in range(0,10):\n",
        "  print(x)\n",
        "#without using end='' python always go to the next line for each time the loop is executing "
      ],
      "execution_count": null,
      "outputs": [
        {
          "output_type": "stream",
          "text": [
            "01234567890\n",
            "1\n",
            "2\n",
            "3\n",
            "4\n",
            "5\n",
            "6\n",
            "7\n",
            "8\n",
            "9\n"
          ],
          "name": "stdout"
        }
      ]
    },
    {
      "cell_type": "code",
      "metadata": {
        "id": "ShYnK5zusyVL",
        "outputId": "9bb49c02-cb11-4adb-9990-7f66ba49aa22",
        "colab": {
          "base_uri": "https://localhost:8080/",
          "height": 35
        }
      },
      "source": [
        "#String formatting \n",
        "print('{} loves {} and {}'.format('joy','drizzles','petrichor'))\n",
        "#print('{0} loves {1} and {2}'.format('joy','drizzles','petrichor')) is the same as the written one and gives exactly the same result "
      ],
      "execution_count": null,
      "outputs": [
        {
          "output_type": "stream",
          "text": [
            "joy loves drizzles and petrichor\n"
          ],
          "name": "stdout"
        }
      ]
    },
    {
      "cell_type": "code",
      "metadata": {
        "id": "aEHXrnq-tr3I",
        "outputId": "696d2a32-e46e-4c3e-d746-a40714cb56f4",
        "colab": {
          "base_uri": "https://localhost:8080/",
          "height": 35
        }
      },
      "source": [
        "#String formatting \n",
        "print('{1} loves {2} and {0}'.format('petrichor','joy','drizzles'))\n"
      ],
      "execution_count": null,
      "outputs": [
        {
          "output_type": "stream",
          "text": [
            "joy loves drizzles and petrichor\n"
          ],
          "name": "stdout"
        }
      ]
    },
    {
      "cell_type": "code",
      "metadata": {
        "id": "sR1k9ZwCuNKN",
        "outputId": "898f5779-39c0-4d04-9702-b3fb54d3f064",
        "colab": {
          "base_uri": "https://localhost:8080/",
          "height": 35
        }
      },
      "source": [
        "#String formatting \n",
        "print('{0} plus {0} is equal to {1}'.format(5,5+5)) "
      ],
      "execution_count": null,
      "outputs": [
        {
          "output_type": "stream",
          "text": [
            "5 plus 5 is equal to 10\n"
          ],
          "name": "stdout"
        }
      ]
    },
    {
      "cell_type": "markdown",
      "metadata": {
        "id": "gXZ0CHk-0h4O"
      },
      "source": [
        "Lists ans others"
      ]
    },
    {
      "cell_type": "code",
      "metadata": {
        "id": "-8-0e9k3vylk",
        "outputId": "b706cebf-0f8a-4867-ee11-85f25ac71b96",
        "colab": {
          "base_uri": "https://localhost:8080/",
          "height": 35
        }
      },
      "source": [
        "#python lists can  be used to implement a useful data structure which is stack\n",
        "#assume you want to make a stack of some numbers first you put 1 on the stack then 2 then 3 then 4 then 5 so 5 is the last element and its on the top of the stack so when you pop 5 will be deleted from the stack\n",
        "#LISTS ARE SIMPLY STACKS\n",
        "nums=[1,2,3,4,5]\n",
        "nums.pop()\n",
        "print(nums) "
      ],
      "execution_count": null,
      "outputs": [
        {
          "output_type": "stream",
          "text": [
            "[1, 2, 3, 4]\n"
          ],
          "name": "stdout"
        }
      ]
    },
    {
      "cell_type": "code",
      "metadata": {
        "id": "4I0Kr_Rn11hp",
        "outputId": "f59f71d8-4f5a-4caf-92dc-5498fd5f4831",
        "colab": {
          "base_uri": "https://localhost:8080/",
          "height": 35
        }
      },
      "source": [
        "#spliting names from a text\n",
        "text=\"Joy and Anika and Trishala and Megh and Srinkhala\"\n",
        "print(text.split('and'))"
      ],
      "execution_count": null,
      "outputs": [
        {
          "output_type": "stream",
          "text": [
            "['Joy ', ' Anika ', ' Trishala ', ' Megh ', ' Srinkhala']\n"
          ],
          "name": "stdout"
        }
      ]
    },
    {
      "cell_type": "code",
      "metadata": {
        "id": "lY5mYw9a3wsH",
        "outputId": "2cbdeae2-1ca2-4a9d-b333-06fe2ae20358",
        "colab": {
          "base_uri": "https://localhost:8080/",
          "height": 90
        }
      },
      "source": [
        "print(' '.join(('joy','anika','trishala')))\n",
        "print('\\n'.join(reversed(('one','two','three'))))"
      ],
      "execution_count": null,
      "outputs": [
        {
          "output_type": "stream",
          "text": [
            "joy anika trishala\n",
            "three\n",
            "two\n",
            "one\n"
          ],
          "name": "stdout"
        }
      ]
    },
    {
      "cell_type": "code",
      "metadata": {
        "id": "JQDg8XV97WD5",
        "outputId": "cb2e25d5-7816-4d7c-e7a3-b3b6d3bc3b6f",
        "colab": {
          "base_uri": "https://localhost:8080/",
          "height": 51
        }
      },
      "source": [
        "#Fibonacci series \n",
        "n=10\n",
        "print('1','1')\n",
        "a,b=1,1 \n",
        "for x in range(2,n+1):\n",
        "  a,b=b,a+b\n",
        "  print(b,end='_')"
      ],
      "execution_count": null,
      "outputs": [
        {
          "output_type": "stream",
          "text": [
            "1 1\n",
            "2_3_5_8_13_21_34_55_89_"
          ],
          "name": "stdout"
        }
      ]
    },
    {
      "cell_type": "code",
      "metadata": {
        "id": "7DOPu2r19UF1",
        "outputId": "381fb5ef-b824-4f85-a193-a363b4abe9a5",
        "colab": {
          "base_uri": "https://localhost:8080/",
          "height": 170
        }
      },
      "source": [
        "#zip\n",
        "a=[1,2,3,4,5]\n",
        "b=['a','b','c','d','e']\n",
        "for x in zip(a,b):\n",
        "  print(x)\n",
        "x=list(zip(a,b))\n",
        "print(x)\n",
        "#but how to unzip?\n",
        "a,b=zip(*x)\n",
        "print(a)\n",
        "print(b)\n",
        "print(type(a))"
      ],
      "execution_count": null,
      "outputs": [
        {
          "output_type": "stream",
          "text": [
            "(1, 'a')\n",
            "(2, 'b')\n",
            "(3, 'c')\n",
            "(4, 'd')\n",
            "(5, 'e')\n",
            "[(1, 'a'), (2, 'b'), (3, 'c'), (4, 'd'), (5, 'e')]\n",
            "(1, 2, 3, 4, 5)\n",
            "('a', 'b', 'c', 'd', 'e')\n",
            "<class 'tuple'>\n"
          ],
          "name": "stdout"
        }
      ]
    },
    {
      "cell_type": "code",
      "metadata": {
        "id": "0Lldr7-H-WKG",
        "outputId": "64554cd5-5f8d-4935-9760-4171b08f5f61",
        "colab": {
          "base_uri": "https://localhost:8080/",
          "height": 290
        }
      },
      "source": [
        "n=0\n",
        "while True:\n",
        "  n+=1\n",
        "  print(n)\n",
        "  if (n%3==0 and n%5==0):\n",
        "    break"
      ],
      "execution_count": null,
      "outputs": [
        {
          "output_type": "stream",
          "text": [
            "1\n",
            "2\n",
            "3\n",
            "4\n",
            "5\n",
            "6\n",
            "7\n",
            "8\n",
            "9\n",
            "10\n",
            "11\n",
            "12\n",
            "13\n",
            "14\n",
            "15\n"
          ],
          "name": "stdout"
        }
      ]
    },
    {
      "cell_type": "code",
      "metadata": {
        "id": "g0Gp9WRgdvhf",
        "outputId": "93aa26b9-5d5b-45c3-fffc-68680eae44c0",
        "colab": {
          "base_uri": "https://localhost:8080/"
        }
      },
      "source": [
        "print('hihihi'[::2])"
      ],
      "execution_count": null,
      "outputs": [
        {
          "output_type": "stream",
          "text": [
            "hhh\n"
          ],
          "name": "stdout"
        }
      ]
    },
    {
      "cell_type": "code",
      "metadata": {
        "id": "jcY1fBNKHlpk",
        "outputId": "47a16a63-023d-4c9f-bbf0-8eb86711713d",
        "colab": {
          "base_uri": "https://localhost:8080/",
          "height": 108
        }
      },
      "source": [
        "import math\n",
        "def cosec(x):\n",
        "    return 1/math.sin(x)\n",
        "print(cosec(math.pi/4))\n",
        "\n",
        "csc=cosec\n",
        "print(csc(math.pi/4))\n",
        "\n",
        "print(csc(math.pi))\n",
        "\n",
        "print(csc(90))\n",
        "try:\n",
        "  csc(0)\n",
        "  \n",
        "except ZeroDivisionError:\n",
        "  print('sin0 is 0 so 1/0 is not defined')\n",
        "\n",
        "else:\n",
        "  print('fine') #if csc(value>0 then it prints fine)"
      ],
      "execution_count": null,
      "outputs": [
        {
          "output_type": "stream",
          "text": [
            "1.4142135623730951\n",
            "1.4142135623730951\n",
            "8165619676597685.0\n",
            "1.1185724071637084\n",
            "sin0 is 0 so 1/0 is not defined\n"
          ],
          "name": "stdout"
        }
      ]
    },
    {
      "cell_type": "code",
      "metadata": {
        "id": "KsN_v3-KodlC",
        "outputId": "575a18dd-b774-4f5b-e61a-513ed8023c71",
        "colab": {
          "base_uri": "https://localhost:8080/",
          "height": 126
        }
      },
      "source": [
        "#sometimes a function is needed with an optional argument\n",
        "#if the argument is given then it will work\n",
        "#but if not any value for that argument is given then a default value will work for that argument \n",
        "def length(value,units='m'):\n",
        "    return '{:.2f}{}'.format(value,units)\n",
        "\n",
        "print(length(1.555,'m'))\n",
        "print(length(2.553535,'ft'))\n",
        "print(length(3.3322999,'mile'))\n",
        "\n",
        "def func(numlist=[]):\n",
        "    numlist.append(1)\n",
        "    return numlist\n",
        "print(func())\n",
        "print(func([2,3]))\n",
        "print(func([2,4,1,2,4,9]))"
      ],
      "execution_count": null,
      "outputs": [
        {
          "output_type": "stream",
          "text": [
            "1.55m\n",
            "2.55ft\n",
            "3.33mile\n",
            "[1]\n",
            "[2, 3, 1]\n",
            "[2, 4, 1, 2, 4, 9, 1]\n"
          ],
          "name": "stdout"
        }
      ]
    },
    {
      "cell_type": "code",
      "metadata": {
        "id": "pivJKX2hoiEr",
        "outputId": "37cbc9f3-e998-4e2d-eaf0-3d27e695ef0d",
        "colab": {
          "base_uri": "https://localhost:8080/",
          "height": 126
        }
      },
      "source": [
        "#m is set for the first time\n",
        "#when m is given a value again but it cannot be automatically saved to the (val,n=m) this m is the previous m\n",
        "#if m is not defined in the function then m will always remain the same as the first time it was saved \n",
        "m='m'\n",
        "def janina(val,n=m):\n",
        "    print(m)\n",
        "    return val,n\n",
        "\n",
        "print(janina(2))\n",
        "\n",
        "m='mmmmmm'\n",
        "print(janina(3))\n",
        "\n",
        "m='a'\n",
        "print(janina(9,m))"
      ],
      "execution_count": null,
      "outputs": [
        {
          "output_type": "stream",
          "text": [
            "m\n",
            "(2, 'm')\n",
            "mmmmmm\n",
            "(3, 'm')\n",
            "a\n",
            "(9, 'a')\n"
          ],
          "name": "stdout"
        }
      ]
    },
    {
      "cell_type": "code",
      "metadata": {
        "id": "6WHtgyQmpilK",
        "outputId": "4589b725-5196-45f4-c003-3909bdb95c2b",
        "colab": {
          "base_uri": "https://localhost:8080/",
          "height": 108
        }
      },
      "source": [
        "def func():\n",
        "    a=3\n",
        "    print(a)\n",
        "a=9\n",
        "print(a)\n",
        "func()\n",
        "print(id(func()))\n",
        "print(id(a))"
      ],
      "execution_count": null,
      "outputs": [
        {
          "output_type": "stream",
          "text": [
            "9\n",
            "3\n",
            "3\n",
            "10306432\n",
            "10914752\n"
          ],
          "name": "stdout"
        }
      ]
    },
    {
      "cell_type": "markdown",
      "metadata": {
        "id": "amA1iI-hsvUC"
      },
      "source": [
        "errors and exceptions"
      ]
    },
    {
      "cell_type": "code",
      "metadata": {
        "id": "BIETzNU_AJ87",
        "outputId": "6c3f78b5-7ddc-4a65-f07f-d3888a3b2139",
        "colab": {
          "base_uri": "https://localhost:8080/",
          "height": 199
        }
      },
      "source": [
        "#python distinguishes between SYNTAX ERROR & EXCEPTIONS\n",
        "#Syntax Error is basically mistakes in the grammar like if a=2: but for comaparing a==2 (==) should be used so it's a Syntax Error another example is if you use reserved keys like lambda it will give you an Syntax Error\n",
        "#Exceptions are basically runtime errors caused by attempting an invalid operation\n",
        "#Syntax Errors cannot be handled cause it will not let the code run\n",
        "#Exceptions can be handled\n",
        "\n",
        "#Name Error\n",
        "try:\n",
        "  print(a) #variable a is not defined\n",
        "except NameError:\n",
        "  print('Name Error')\n",
        "\n",
        "#Zero Division Error\n",
        "try:\n",
        "  print(1/0) #1 cannot be divided by 0\n",
        "except ZeroDivisionError:\n",
        "  print('Zero Division Error')\n",
        "\n",
        "#Type Error\n",
        "try:\n",
        "  print('drizzles'+9) #different type of values cannot be concatenated\n",
        "except TypeError:\n",
        "  print('Type Error')\n",
        "\n",
        "#Value Error\n",
        "try:\n",
        "  n=int('drizzles') #type is integer but the value is string\n",
        "except ValueError:\n",
        "  print('Value Error')\n",
        "\n",
        "#File Not Found Error\n",
        "try:\n",
        "  file=open('drizzles.txt','r') #this file does not exist\n",
        "except FileNotFoundError:\n",
        "  print('File Not Found Error')\n",
        "\n",
        "#Index Error\n",
        "try:\n",
        "  a=[1,2,3,4,5,6,7,8,9,10] #there is no index 100\n",
        "  print(a[100])\n",
        "except IndexError:\n",
        "  print('Index Error')\n",
        "\n",
        "#Key Error\n",
        "try:\n",
        "  a={1:10,10:100,100:1000}\n",
        "  print(a[2])\n",
        "except KeyError:\n",
        "  print('Key Error')\n",
        "\n",
        "#Multiple Exception Handling\n",
        "try:\n",
        "  print(a)\n",
        "  a=int('drizzles')\n",
        "except (NameError,ValueError):\n",
        "  print('Name Error & Value Error')\n",
        "\n",
        "#Raising Exceptions\n",
        "n=10\n",
        "try:\n",
        "  if n!=3: #though this condition does not give an value error but by raising ValueError it will give an Error and can be handled by writing except ValueError\n",
        "    raise ValueError\n",
        "except ValueError:\n",
        "  print('Value Error')"
      ],
      "execution_count": null,
      "outputs": [
        {
          "output_type": "stream",
          "text": [
            "{1: 10, 10: 100, 100: 1000}\n",
            "Zero Division Error\n",
            "Type Error\n",
            "Value Error\n",
            "File Not Found Error\n",
            "Index Error\n",
            "Key Error\n",
            "{1: 10, 10: 100, 100: 1000}\n",
            "Name Error & Value Error\n",
            "Value Error\n"
          ],
          "name": "stdout"
        }
      ]
    },
    {
      "cell_type": "markdown",
      "metadata": {
        "id": "LTTPGSCe6meB"
      },
      "source": [
        "dictionaries and sets"
      ]
    },
    {
      "cell_type": "code",
      "metadata": {
        "id": "LO4G7aEfwUmV",
        "outputId": "a9ead785-0c19-4ca4-8c39-72df4aef3ec1",
        "colab": {
          "base_uri": "https://localhost:8080/",
          "height": 35
        }
      },
      "source": [
        "dictionary=dict([('joy',22),('anika',21),('brishti',21)])\n",
        "print(dictionary)\n",
        "#dict() is a constructor which makes dictionary"
      ],
      "execution_count": null,
      "outputs": [
        {
          "output_type": "stream",
          "text": [
            "{'joy': 22, 'anika': 21, 'brishti': 21}\n"
          ],
          "name": "stdout"
        }
      ]
    },
    {
      "cell_type": "code",
      "metadata": {
        "id": "CMFLr18v8FlG",
        "outputId": "49fec568-ed90-4fc7-ad6b-9ffc6a9a4372",
        "colab": {
          "base_uri": "https://localhost:8080/",
          "height": 54
        }
      },
      "source": [
        "#suppose there is a dictionary\n",
        "dictionary={1:'joy',2:'anika',3:'brishti'}\n",
        "#check for an element in the dictionary that is not present in the dictionary\n",
        "#print(dicitionary[]) you were supposed to write this right? but it will give an exception, so what to do?\n",
        "#get() function is here to help you\n",
        "print(dictionary.get(4)) #key 4 is not present in the dictionary, get() rather gives a None not an exception\n",
        "#so if you want to print a message like \"value for this key is not present in the dictionary\" what to do?\n",
        "print(dictionary.get(4,'value for this key is not present in the dictionary'))\n",
        "\n",
        "#OH YES! KEY & INDEX are not same, KEY is for dictionary and INDEX is for LISTS and TUPLES\n",
        "#KEY VS. INDEX"
      ],
      "execution_count": null,
      "outputs": [
        {
          "output_type": "stream",
          "text": [
            "None\n",
            "value for this key is not present in the dictionary\n"
          ],
          "name": "stdout"
        }
      ]
    },
    {
      "cell_type": "code",
      "metadata": {
        "id": "8WLBAyV79l2s",
        "outputId": "cab3be7d-9cf8-4cde-d86c-da6050d5cbab",
        "colab": {
          "base_uri": "https://localhost:8080/",
          "height": 102
        }
      },
      "source": [
        "#how to retrieve only keys from a dictionary?\n",
        "dictionary={1:'joy',2:'anika',3:'brishti'}\n",
        "keys=dictionary.keys()\n",
        "print(keys)\n",
        "\n",
        "#print only the keys yes?\n",
        "#for x in range(0,len(dictionary)):\n",
        "  #print(keys[x])\n",
        "#but this dict_key does not support indexing so what to do?\n",
        "#you can make a list of keys\n",
        "keys=list(dictionary.keys())\n",
        "print(keys) #keys are now in a list GREAT!\n",
        "#print only the keys?\n",
        "for x in range(0,len(dictionary)):\n",
        "  print(keys[x])"
      ],
      "execution_count": null,
      "outputs": [
        {
          "output_type": "stream",
          "text": [
            "dict_keys([1, 2, 3])\n",
            "[1, 2, 3]\n",
            "1\n",
            "2\n",
            "3\n"
          ],
          "name": "stdout"
        }
      ]
    },
    {
      "cell_type": "markdown",
      "metadata": {
        "id": "fDkln4WgSprk"
      },
      "source": [
        "set"
      ]
    },
    {
      "cell_type": "code",
      "metadata": {
        "id": "6WWG_7EWP0jH",
        "outputId": "d522f5a2-adaa-4c86-c06a-5240ed001f8c",
        "colab": {
          "base_uri": "https://localhost:8080/",
          "height": 163
        }
      },
      "source": [
        "a=set((1,2,3))\n",
        "b=set((1,4,9))\n",
        "print(a)\n",
        "print(b)\n",
        "c={7,8,9}\n",
        "print(c)\n",
        "a.add(9)\n",
        "print('a=',a)\n",
        "a.remove(9)\n",
        "print('a=',a)\n",
        "b.discard(4)\n",
        "print(b)\n",
        "c.pop()\n",
        "print(c)\n",
        "c.clear()\n",
        "print(c)"
      ],
      "execution_count": null,
      "outputs": [
        {
          "output_type": "stream",
          "text": [
            "{1, 2, 3}\n",
            "{1, 4, 9}\n",
            "{8, 9, 7}\n",
            "a= {1, 2, 3, 9}\n",
            "a= {1, 2, 3}\n",
            "{1, 9}\n",
            "{9, 7}\n",
            "set()\n"
          ],
          "name": "stdout"
        }
      ]
    },
    {
      "cell_type": "code",
      "metadata": {
        "id": "RVDcLEQhS0Ad",
        "outputId": "78da0c82-404f-4789-9e60-f5d352d5ae7b",
        "colab": {
          "base_uri": "https://localhost:8080/",
          "height": 181
        }
      },
      "source": [
        "a={1,2,3,4,5,6,7,8,9}\n",
        "b={1,4,9}\n",
        "print(a.isdisjoint(b)) #is a a disjoint with  b?\n",
        "print(a.issubset(b)) #is a a subset of b?\n",
        "print(b.issubset(a)) #is b a subset of a?\n",
        "print(a.issuperset(b)) #is a superset of b?\n",
        "c={1,2,3}.union({4,5,6}) #union of a and b\n",
        "print(c)\n",
        "c={1,2,3,4,5,6,7,8,9}.intersection({1,4,9}) #intersection of a and b\n",
        "print(c)\n",
        "c=(({1,2,3}.union({4,5,6})).union({6,8,9})).union({10,11,12}) #this is easier than writing the same thing for several times\n",
        "print(c)\n",
        "print(a.difference(b)) #gives the values that are not present in any of the set"
      ],
      "execution_count": null,
      "outputs": [
        {
          "output_type": "stream",
          "text": [
            "False\n",
            "False\n",
            "True\n",
            "True\n",
            "{1, 2, 3, 4, 5, 6}\n",
            "{1, 4, 9}\n",
            "{1, 2, 3, 4, 5, 6, 8, 9, 10, 11, 12}\n",
            "{2, 3, 5, 6, 7, 8}\n",
            "{2, 3, 5, 6, 7, 8}\n"
          ],
          "name": "stdout"
        }
      ]
    },
    {
      "cell_type": "markdown",
      "metadata": {
        "id": "vsXEaNaOLtjt"
      },
      "source": [
        "syntactic sugar"
      ]
    },
    {
      "cell_type": "code",
      "metadata": {
        "id": "zEqxQDHqVgPI",
        "outputId": "f159d65f-f5c4-49ef-89d8-3c5b97a64a5c",
        "colab": {
          "base_uri": "https://localhost:8080/",
          "height": 72
        }
      },
      "source": [
        "a=[1,2,3,4,5,6,7,8,9,10]\n",
        "print(a[len(a)-1])\n",
        "print(a[-1])\n",
        "print(a[-2]) #isn't is easier to write a[-1].....a[-2] than writing a[len(a)-1].....a[len(a)-2]?"
      ],
      "execution_count": null,
      "outputs": [
        {
          "output_type": "stream",
          "text": [
            "10\n",
            "10\n",
            "9\n"
          ],
          "name": "stdout"
        }
      ]
    },
    {
      "cell_type": "code",
      "metadata": {
        "id": "KHNPsFLFMDcZ",
        "outputId": "e3b9a220-5f46-4925-86a0-55ccc1930242",
        "colab": {
          "base_uri": "https://localhost:8080/",
          "height": 72
        }
      },
      "source": [
        "#you have to assign same value for several variables\n",
        "a=b=c=2 # isn't is easier to write a=b=c=2 than writing a=2,b=2,c=2?\n",
        "print(a,b,c)\n",
        "print(id(a),id(b),id(c)) #a b and c both refering to a address\n",
        "print(id(2))"
      ],
      "execution_count": null,
      "outputs": [
        {
          "output_type": "stream",
          "text": [
            "2 2 2\n",
            "10914528 10914528 10914528\n",
            "10914528\n"
          ],
          "name": "stdout"
        }
      ]
    },
    {
      "cell_type": "code",
      "metadata": {
        "id": "vbf1iaIOM1ia",
        "outputId": "26950166-3d7e-4801-9ddd-b68113e04b5f",
        "colab": {
          "base_uri": "https://localhost:8080/",
          "height": 54
        }
      },
      "source": [
        "a,b=1,2\n",
        "#this is easier\n",
        "a,b=b,a\n",
        "print(a)\n",
        "#than writing this code\n",
        "a,b=1,2\n",
        "x=a\n",
        "a=b\n",
        "b=x\n",
        "print(a)\n"
      ],
      "execution_count": null,
      "outputs": [
        {
          "output_type": "stream",
          "text": [
            "2\n",
            "2\n"
          ],
          "name": "stdout"
        }
      ]
    },
    {
      "cell_type": "code",
      "metadata": {
        "id": "8prtR-CWOVRr",
        "outputId": "81375689-f385-4a90-d5bc-deb9eb0d0bed",
        "colab": {
          "base_uri": "https://localhost:8080/",
          "height": 35
        }
      },
      "source": [
        "if 2==2==2.0:\n",
        "  print('good')"
      ],
      "execution_count": null,
      "outputs": [
        {
          "output_type": "stream",
          "text": [
            "good\n"
          ],
          "name": "stdout"
        }
      ]
    },
    {
      "cell_type": "code",
      "metadata": {
        "id": "_A_nJUaFO_TQ",
        "outputId": "5bc47315-d681-4c7c-ac41-63b03179673a",
        "colab": {
          "base_uri": "https://localhost:8080/",
          "height": 90
        }
      },
      "source": [
        "#list comprehension\n",
        "numlist=[1,2,3,4,5,6,7,8,9,10]\n",
        "print([x**2 for x in numlist])\n",
        "\n",
        "n=[x**2 for x in numlist]\n",
        "print(n)\n",
        "#VS.\n",
        "\n",
        "x=[]\n",
        "for a in numlist:\n",
        "  x.append(a**2)\n",
        "print(x)\n",
        "\n",
        "print([x**2 if x % 2==0 else x for x in numlist])"
      ],
      "execution_count": null,
      "outputs": [
        {
          "output_type": "stream",
          "text": [
            "[1, 4, 9, 16, 25, 36, 49, 64, 81, 100]\n",
            "[1, 4, 9, 16, 25, 36, 49, 64, 81, 100]\n",
            "[1, 4, 9, 16, 25, 36, 49, 64, 81, 100]\n",
            "[1, 4, 3, 16, 5, 36, 7, 64, 9, 100]\n"
          ],
          "name": "stdout"
        }
      ]
    },
    {
      "cell_type": "code",
      "metadata": {
        "id": "TfK0mpzEPfhF",
        "outputId": "2c15aa6d-0d20-4f39-d271-5f8c44fde298",
        "colab": {
          "base_uri": "https://localhost:8080/",
          "height": 35
        }
      },
      "source": [
        "a=[[1,2,3],[4,5,6],[7,8,9]]\n",
        "print(list(map(sum,a)))\n",
        "#return a list which is the summation of each element of lists in a"
      ],
      "execution_count": null,
      "outputs": [
        {
          "output_type": "stream",
          "text": [
            "[6, 15, 24]\n"
          ],
          "name": "stdout"
        }
      ]
    }
  ]
}