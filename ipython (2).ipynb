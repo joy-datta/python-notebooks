{
  "nbformat": 4,
  "nbformat_minor": 0,
  "metadata": {
    "kernelspec": {
      "display_name": "Python 3",
      "language": "python",
      "name": "python3"
    },
    "language_info": {
      "codemirror_mode": {
        "name": "ipython",
        "version": 3
      },
      "file_extension": ".py",
      "mimetype": "text/x-python",
      "name": "python",
      "nbconvert_exporter": "python",
      "pygments_lexer": "ipython3",
      "version": "3.7.4"
    },
    "colab": {
      "name": "ipython.ipynb",
      "provenance": []
    }
  },
  "cells": [
    {
      "cell_type": "code",
      "metadata": {
        "id": "qKb439RpXwdi",
        "outputId": "c32d5eb5-332b-4de3-bce9-86789298d791"
      },
      "source": [
        "#every python object contains the reference to a string , known as a docstring, which in most cases will contain a concise summary of the object and how to use it \n",
        "#python has a built in help() function that can access this information and print the results \n",
        "help(len)"
      ],
      "execution_count": null,
      "outputs": [
        {
          "output_type": "stream",
          "text": [
            "Help on built-in function len in module builtins:\n",
            "\n",
            "len(obj, /)\n",
            "    Return the number of items in a container.\n",
            "\n"
          ],
          "name": "stdout"
        }
      ]
    },
    {
      "cell_type": "code",
      "metadata": {
        "id": "225Q2nbNXwdz",
        "outputId": "229444ac-2c9e-4dfe-8ba6-d33a809b7431"
      },
      "source": [
        "len?\n",
        "#does somewhat similar to what help(len) did"
      ],
      "execution_count": null,
      "outputs": [
        {
          "output_type": "display_data",
          "data": {
            "text/plain": [
              "\u001b[1;31mSignature:\u001b[0m \u001b[0mlen\u001b[0m\u001b[1;33m(\u001b[0m\u001b[0mobj\u001b[0m\u001b[1;33m,\u001b[0m \u001b[1;33m/\u001b[0m\u001b[1;33m)\u001b[0m\u001b[1;33m\u001b[0m\u001b[1;33m\u001b[0m\u001b[0m\n",
              "\u001b[1;31mDocstring:\u001b[0m Return the number of items in a container.\n",
              "\u001b[1;31mType:\u001b[0m      builtin_function_or_method\n"
            ]
          },
          "metadata": {
            "tags": []
          }
        }
      ]
    },
    {
      "cell_type": "code",
      "metadata": {
        "id": "rw065WBGXweB",
        "outputId": "584ca482-9fe9-471f-c6ea-c0a232de6888"
      },
      "source": [
        "n=[1,2,3,4,5]\n",
        "n.insert?\n",
        "#asked ipython that what to do next?\n",
        "#it tells us we should give an index and a value for that "
      ],
      "execution_count": null,
      "outputs": [
        {
          "output_type": "display_data",
          "data": {
            "text/plain": [
              "\u001b[1;31mSignature:\u001b[0m \u001b[0mn\u001b[0m\u001b[1;33m.\u001b[0m\u001b[0minsert\u001b[0m\u001b[1;33m(\u001b[0m\u001b[0mindex\u001b[0m\u001b[1;33m,\u001b[0m \u001b[0mobject\u001b[0m\u001b[1;33m,\u001b[0m \u001b[1;33m/\u001b[0m\u001b[1;33m)\u001b[0m\u001b[1;33m\u001b[0m\u001b[1;33m\u001b[0m\u001b[0m\n",
              "\u001b[1;31mDocstring:\u001b[0m Insert object before index.\n",
              "\u001b[1;31mType:\u001b[0m      builtin_function_or_method\n"
            ]
          },
          "metadata": {
            "tags": []
          }
        }
      ]
    },
    {
      "cell_type": "code",
      "metadata": {
        "id": "5N3nK07sXweL",
        "outputId": "5913630e-5b36-4123-c60b-74c949a4e11d"
      },
      "source": [
        "n?\n",
        "#want to know some info about n"
      ],
      "execution_count": null,
      "outputs": [
        {
          "output_type": "display_data",
          "data": {
            "text/plain": [
              "\u001b[1;31mType:\u001b[0m        list\n",
              "\u001b[1;31mString form:\u001b[0m [1, 2, 3, 4, 5]\n",
              "\u001b[1;31mLength:\u001b[0m      5\n",
              "\u001b[1;31mDocstring:\u001b[0m  \n",
              "Built-in mutable sequence.\n",
              "\n",
              "If no argument is given, the constructor creates a new empty list.\n",
              "The argument must be an iterable if specified.\n"
            ]
          },
          "metadata": {
            "tags": []
          }
        }
      ]
    },
    {
      "cell_type": "code",
      "metadata": {
        "id": "PETo_T8CXweV"
      },
      "source": [
        "#this works even if you create a functions or other objects yourself \n",
        "def multiply(x,y):\n",
        "    \"\"\"this method multiplies the given numbers\"\"\" #this line is basically the docstring\n",
        "    n=x*y\n",
        "    return n"
      ],
      "execution_count": null,
      "outputs": []
    },
    {
      "cell_type": "code",
      "metadata": {
        "id": "jqF2DP9oXwee",
        "outputId": "9a238909-1d02-47e4-ffe7-74a0aa3c0c95"
      },
      "source": [
        "#we want to know about that function\n",
        "multiply?"
      ],
      "execution_count": null,
      "outputs": [
        {
          "output_type": "display_data",
          "data": {
            "text/plain": [
              "\u001b[1;31mSignature:\u001b[0m \u001b[0mmultiply\u001b[0m\u001b[1;33m(\u001b[0m\u001b[0mx\u001b[0m\u001b[1;33m,\u001b[0m \u001b[0my\u001b[0m\u001b[1;33m)\u001b[0m\u001b[1;33m\u001b[0m\u001b[1;33m\u001b[0m\u001b[0m\n",
              "\u001b[1;31mDocstring:\u001b[0m this method multiplies the given numbers\n",
              "\u001b[1;31mFile:\u001b[0m      c:\\users\\user\\documents\\<ipython-input-20-91752f953f90>\n",
              "\u001b[1;31mType:\u001b[0m      function\n"
            ]
          },
          "metadata": {
            "tags": []
          }
        }
      ]
    },
    {
      "cell_type": "code",
      "metadata": {
        "id": "RmjUkMmzXwen",
        "outputId": "49445f9f-de75-4805-ea96-3bf44323f4a0"
      },
      "source": [
        "#HOW TO ACCESS SOURCE CODE?\n",
        "multiply??\n",
        "#use ?? instead of ?"
      ],
      "execution_count": null,
      "outputs": [
        {
          "output_type": "display_data",
          "data": {
            "text/plain": [
              "\u001b[1;31mSignature:\u001b[0m \u001b[0mmultiply\u001b[0m\u001b[1;33m(\u001b[0m\u001b[0mx\u001b[0m\u001b[1;33m,\u001b[0m \u001b[0my\u001b[0m\u001b[1;33m)\u001b[0m\u001b[1;33m\u001b[0m\u001b[1;33m\u001b[0m\u001b[0m\n",
              "\u001b[1;31mSource:\u001b[0m   \n",
              "\u001b[1;32mdef\u001b[0m \u001b[0mmultiply\u001b[0m\u001b[1;33m(\u001b[0m\u001b[0mx\u001b[0m\u001b[1;33m,\u001b[0m\u001b[0my\u001b[0m\u001b[1;33m)\u001b[0m\u001b[1;33m:\u001b[0m\u001b[1;33m\n",
              "\u001b[0m    \u001b[1;34m\"\"\"this method multiplies the given numbers\"\"\"\u001b[0m \u001b[1;31m#this line is basically the docstring\u001b[0m\u001b[1;33m\n",
              "\u001b[0m    \u001b[0mn\u001b[0m\u001b[1;33m=\u001b[0m\u001b[0mx\u001b[0m\u001b[1;33m*\u001b[0m\u001b[0my\u001b[0m\u001b[1;33m\n",
              "\u001b[0m    \u001b[1;32mreturn\u001b[0m \u001b[0mn\u001b[0m\u001b[1;33m\u001b[0m\u001b[1;33m\u001b[0m\u001b[0m\n",
              "\u001b[1;31mFile:\u001b[0m      c:\\users\\user\\documents\\<ipython-input-20-91752f953f90>\n",
              "\u001b[1;31mType:\u001b[0m      function\n"
            ]
          },
          "metadata": {
            "tags": []
          }
        }
      ]
    },
    {
      "cell_type": "code",
      "metadata": {
        "id": "9MypTIRgXwex",
        "outputId": "40017650-51af-4689-cc97-196aa11c219c"
      },
      "source": [
        "#If you play with this much, you’ll notice that sometimes the ?? suffix doesn’t display\n",
        "#any source code: this is generally because the object in question is not implemented in\n",
        "#Python, but in C or some other compiled extension language. If this is the case, the ??\n",
        "#suffix gives the same output as the ? suffix. You’ll find this particularly with many of\n",
        "#Python’s built-in objects and types\n",
        "#for example\n",
        "len??"
      ],
      "execution_count": null,
      "outputs": [
        {
          "output_type": "display_data",
          "data": {
            "text/plain": [
              "\u001b[1;31mSignature:\u001b[0m \u001b[0mlen\u001b[0m\u001b[1;33m(\u001b[0m\u001b[0mobj\u001b[0m\u001b[1;33m,\u001b[0m \u001b[1;33m/\u001b[0m\u001b[1;33m)\u001b[0m\u001b[1;33m\u001b[0m\u001b[1;33m\u001b[0m\u001b[0m\n",
              "\u001b[1;31mDocstring:\u001b[0m Return the number of items in a container.\n",
              "\u001b[1;31mType:\u001b[0m      builtin_function_or_method\n"
            ]
          },
          "metadata": {
            "tags": []
          }
        }
      ]
    },
    {
      "cell_type": "code",
      "metadata": {
        "id": "CeDo2cxKXwe6",
        "outputId": "8baa9073-cdbc-4e02-8079-7d9fc49cee4f"
      },
      "source": [
        "#and len?\n",
        "len?\n",
        "#gives the same output ?? and ?"
      ],
      "execution_count": null,
      "outputs": [
        {
          "output_type": "display_data",
          "data": {
            "text/plain": [
              "\u001b[1;31mSignature:\u001b[0m \u001b[0mlen\u001b[0m\u001b[1;33m(\u001b[0m\u001b[0mobj\u001b[0m\u001b[1;33m,\u001b[0m \u001b[1;33m/\u001b[0m\u001b[1;33m)\u001b[0m\u001b[1;33m\u001b[0m\u001b[1;33m\u001b[0m\u001b[0m\n",
              "\u001b[1;31mDocstring:\u001b[0m Return the number of items in a container.\n",
              "\u001b[1;31mType:\u001b[0m      builtin_function_or_method\n"
            ]
          },
          "metadata": {
            "tags": []
          }
        }
      ]
    },
    {
      "cell_type": "code",
      "metadata": {
        "id": "4kP4KihxXwfB"
      },
      "source": [
        "#TAB COMPLETION\n",
        "#<TAB> means when TAB key should be pressed\n",
        "#n.<TAB>\n",
        "#gives the list of functions that can be used for any kind of execution on the list n"
      ],
      "execution_count": null,
      "outputs": []
    },
    {
      "cell_type": "code",
      "metadata": {
        "id": "l8S2Uz80XwfJ"
      },
      "source": [
        "#n.c<TAB> gives the list of functions starting with 'c'"
      ],
      "execution_count": null,
      "outputs": []
    },
    {
      "cell_type": "code",
      "metadata": {
        "id": "3dBmrx1gXwfR"
      },
      "source": [
        "#n.cou<TAB> gives the list of functions starting with 'cou' here only one 'count'"
      ],
      "execution_count": null,
      "outputs": []
    },
    {
      "cell_type": "code",
      "metadata": {
        "id": "fFth5pBpXwfY"
      },
      "source": [
        "#n.__<TAB> gives the private methods starting with two underscores"
      ],
      "execution_count": null,
      "outputs": []
    },
    {
      "cell_type": "code",
      "metadata": {
        "id": "4rUYlxd1Xwfi"
      },
      "source": [
        "#TAB completion when importing\n",
        "#from numpy import <TAB>\n",
        "#gives the list of items that can be imported from the numpy library\n",
        "#c<TAB> cou<TAB> same as before "
      ],
      "execution_count": null,
      "outputs": []
    },
    {
      "cell_type": "code",
      "metadata": {
        "id": "A-ztGY21Xwfq"
      },
      "source": [
        "#import <TAB> gives a list of modules and libraries that can be imported"
      ],
      "execution_count": null,
      "outputs": []
    },
    {
      "cell_type": "code",
      "metadata": {
        "id": "g0nnEWitXwfy",
        "outputId": "01727699-47b0-4450-e04b-60c467bfadca"
      },
      "source": [
        "#BEYOND TAB COMPLETION \n",
        "#WILDCARD MATCHING \n",
        "*Warning?\n",
        "#gives the list of objects in the namespace which ends with 'Warning'\n",
        "#mathces the strings (including the empty string, there is an object named 'Warning')"
      ],
      "execution_count": null,
      "outputs": [
        {
          "output_type": "display_data",
          "data": {
            "text/plain": [
              "BytesWarning\n",
              "DeprecationWarning\n",
              "FutureWarning\n",
              "ImportWarning\n",
              "PendingDeprecationWarning\n",
              "ResourceWarning\n",
              "RuntimeWarning\n",
              "SyntaxWarning\n",
              "UnicodeWarning\n",
              "UserWarning\n",
              "Warning"
            ]
          },
          "metadata": {
            "tags": []
          }
        }
      ]
    },
    {
      "cell_type": "code",
      "metadata": {
        "id": "6-_7jRkcXwf7",
        "outputId": "29eb9698-78a0-4e00-cdf2-868851dd103b"
      },
      "source": [
        "#for the prev example it matched the objects end with 'Warning'\n",
        "#but in this case a word can be at the end or at the beggining or maybe at somewhere in the middle\n",
        "name='nikita'\n",
        "name.*find*?"
      ],
      "execution_count": null,
      "outputs": [
        {
          "output_type": "display_data",
          "data": {
            "text/plain": [
              "name.find\n",
              "name.rfind"
            ]
          },
          "metadata": {
            "tags": []
          }
        }
      ]
    },
    {
      "cell_type": "code",
      "metadata": {
        "id": "iKHh9VDHXwgD",
        "outputId": "a56f89bd-885d-4747-b1df-962641f76b34"
      },
      "source": [
        "import numpy as np\n",
        "np?"
      ],
      "execution_count": null,
      "outputs": [
        {
          "output_type": "display_data",
          "data": {
            "text/plain": [
              "\u001b[1;31mType:\u001b[0m        module\n",
              "\u001b[1;31mString form:\u001b[0m <module 'numpy' from 'C:\\\\Users\\\\USER\\\\Anaconda3\\\\lib\\\\site-packages\\\\numpy\\\\__init__.py'>\n",
              "\u001b[1;31mFile:\u001b[0m        c:\\users\\user\\anaconda3\\lib\\site-packages\\numpy\\__init__.py\n",
              "\u001b[1;31mDocstring:\u001b[0m  \n",
              "NumPy\n",
              "=====\n",
              "\n",
              "Provides\n",
              "  1. An array object of arbitrary homogeneous items\n",
              "  2. Fast mathematical operations over arrays\n",
              "  3. Linear Algebra, Fourier Transforms, Random Number Generation\n",
              "\n",
              "How to use the documentation\n",
              "----------------------------\n",
              "Documentation is available in two forms: docstrings provided\n",
              "with the code, and a loose standing reference guide, available from\n",
              "`the NumPy homepage <https://www.scipy.org>`_.\n",
              "\n",
              "We recommend exploring the docstrings using\n",
              "`IPython <https://ipython.org>`_, an advanced Python shell with\n",
              "TAB-completion and introspection capabilities.  See below for further\n",
              "instructions.\n",
              "\n",
              "The docstring examples assume that `numpy` has been imported as `np`::\n",
              "\n",
              "  >>> import numpy as np\n",
              "\n",
              "Code snippets are indicated by three greater-than signs::\n",
              "\n",
              "  >>> x = 42\n",
              "  >>> x = x + 1\n",
              "\n",
              "Use the built-in ``help`` function to view a function's docstring::\n",
              "\n",
              "  >>> help(np.sort)\n",
              "  ... # doctest: +SKIP\n",
              "\n",
              "For some objects, ``np.info(obj)`` may provide additional help.  This is\n",
              "particularly true if you see the line \"Help on ufunc object:\" at the top\n",
              "of the help() page.  Ufuncs are implemented in C, not Python, for speed.\n",
              "The native Python help() does not know how to view their help, but our\n",
              "np.info() function does.\n",
              "\n",
              "To search for documents containing a keyword, do::\n",
              "\n",
              "  >>> np.lookfor('keyword')\n",
              "  ... # doctest: +SKIP\n",
              "\n",
              "General-purpose documents like a glossary and help on the basic concepts\n",
              "of numpy are available under the ``doc`` sub-module::\n",
              "\n",
              "  >>> from numpy import doc\n",
              "  >>> help(doc)\n",
              "  ... # doctest: +SKIP\n",
              "\n",
              "Available subpackages\n",
              "---------------------\n",
              "doc\n",
              "    Topical documentation on broadcasting, indexing, etc.\n",
              "lib\n",
              "    Basic functions used by several sub-packages.\n",
              "random\n",
              "    Core Random Tools\n",
              "linalg\n",
              "    Core Linear Algebra Tools\n",
              "fft\n",
              "    Core FFT routines\n",
              "polynomial\n",
              "    Polynomial tools\n",
              "testing\n",
              "    NumPy testing tools\n",
              "f2py\n",
              "    Fortran to Python Interface Generator.\n",
              "distutils\n",
              "    Enhancements to distutils with support for\n",
              "    Fortran compilers support and more.\n",
              "\n",
              "Utilities\n",
              "---------\n",
              "test\n",
              "    Run numpy unittests\n",
              "show_config\n",
              "    Show numpy build configuration\n",
              "dual\n",
              "    Overwrite certain functions with high-performance Scipy tools\n",
              "matlib\n",
              "    Make everything matrices.\n",
              "__version__\n",
              "    NumPy version string\n",
              "\n",
              "Viewing documentation using IPython\n",
              "-----------------------------------\n",
              "Start IPython with the NumPy profile (``ipython -p numpy``), which will\n",
              "import `numpy` under the alias `np`.  Then, use the ``cpaste`` command to\n",
              "paste examples into the shell.  To see which functions are available in\n",
              "`numpy`, type ``np.<TAB>`` (where ``<TAB>`` refers to the TAB key), or use\n",
              "``np.*cos*?<ENTER>`` (where ``<ENTER>`` refers to the ENTER key) to narrow\n",
              "down the list.  To view the docstring for a function, use\n",
              "``np.cos?<ENTER>`` (to view the docstring) and ``np.cos??<ENTER>`` (to view\n",
              "the source code).\n",
              "\n",
              "Copies vs. in-place operation\n",
              "-----------------------------\n",
              "Most of the functions in `numpy` return a copy of the array argument\n",
              "(e.g., `np.sort`).  In-place versions of these functions are often\n",
              "available as array methods, i.e. ``x = np.array([1,2,3]); x.sort()``.\n",
              "Exceptions to this rule are documented.\n"
            ]
          },
          "metadata": {
            "tags": []
          }
        }
      ]
    },
    {
      "cell_type": "code",
      "metadata": {
        "id": "itJBFVhaXwgK"
      },
      "source": [
        "#KEYBOARD SHORTCUTS IN IPYTHON SHELL from Jake Vanderplas book"
      ],
      "execution_count": null,
      "outputs": []
    },
    {
      "cell_type": "code",
      "metadata": {
        "id": "zlIwwefUXwgQ"
      },
      "source": [
        "#NOTE for %paste and %cpaste* \n",
        "#since IPython 5.0.0 the improved prompt toolkit should directly handle multi line code without the need for %paste and %cpaste"
      ],
      "execution_count": null,
      "outputs": []
    },
    {
      "cell_type": "code",
      "metadata": {
        "id": "kRXIzpQqXwgf"
      },
      "source": [
        "#running external code %run \n",
        "#just write %run then the function name with the file type e.g.-py,ipynb\n",
        "#%run my_code.ipynb"
      ],
      "execution_count": null,
      "outputs": []
    },
    {
      "cell_type": "code",
      "metadata": {
        "id": "gIdTU1fuXwgp"
      },
      "source": [
        "#note: once you runs the code on ipython shell the functions of that code can also be extecuted within that ipython session"
      ],
      "execution_count": null,
      "outputs": []
    },
    {
      "cell_type": "code",
      "metadata": {
        "id": "YH-rZOMWXwg0",
        "outputId": "72a54aef-c875-4b13-9f7d-c2eb1089fe66"
      },
      "source": [
        "#TIMING CODE EXECUTION %timeit\n",
        "#execution time of a line of code (use %timeit) and for a cell of code (use %%timeit)\n",
        "%timeit j=[n**2 for n in range(1000)]"
      ],
      "execution_count": null,
      "outputs": [
        {
          "output_type": "stream",
          "text": [
            "768 µs ± 20.4 µs per loop (mean ± std. dev. of 7 runs, 1000 loops each)\n"
          ],
          "name": "stdout"
        }
      ]
    },
    {
      "cell_type": "code",
      "metadata": {
        "id": "UpPmmkGcXwhA",
        "outputId": "88bcc4b5-57b0-44e2-b672-f04e316dc1c5"
      },
      "source": [
        "%%timeit\n",
        "for n in range(1000):\n",
        "    n**2"
      ],
      "execution_count": null,
      "outputs": [
        {
          "output_type": "stream",
          "text": [
            "732 µs ± 37 µs per loop (mean ± std. dev. of 7 runs, 1000 loops each)\n"
          ],
          "name": "stdout"
        }
      ]
    },
    {
      "cell_type": "code",
      "metadata": {
        "id": "yHjI1c0xXwhT"
      },
      "source": [
        "#%timeit? gives the documentation of timeit function "
      ],
      "execution_count": null,
      "outputs": []
    },
    {
      "cell_type": "code",
      "metadata": {
        "id": "RTEGijqVXwhm"
      },
      "source": [
        "#to access a general description of all available magic functions write this\n",
        "#%magic\n",
        "#if you don't like huge descriptions then use this \n",
        "#%lsmagic"
      ],
      "execution_count": null,
      "outputs": []
    },
    {
      "cell_type": "code",
      "metadata": {
        "id": "xINRExMqXwhz"
      },
      "source": [
        "#print(In) gives the list of Inputs or what your wrote (code)\n",
        "#print(Out) gives the list of Outputs or what the written codes result "
      ],
      "execution_count": null,
      "outputs": []
    },
    {
      "cell_type": "code",
      "metadata": {
        "id": "O_GiWw5_XwiA"
      },
      "source": [
        "#print(In) gives a list containing the Inputs \n",
        "#we can easily get the specific Inputs e.g.-In(9) corresponds to the 9th index\n",
        "#In[1],Out[2]\n",
        "#Out[1]*Out[2] this kind of mathematical operation can also be done in ipython "
      ],
      "execution_count": null,
      "outputs": []
    },
    {
      "cell_type": "code",
      "metadata": {
        "id": "85AlK8_SXwiM"
      },
      "source": [
        "#print(_) gives the last output\n",
        "#print(__) gives the second last output\n",
        "#print(___) gives the third last output "
      ],
      "execution_count": null,
      "outputs": []
    },
    {
      "cell_type": "code",
      "metadata": {
        "id": "NNHpC9YRXwiW"
      },
      "source": [
        "#suppose when doing some analysis and coding in the main code you want to analyze some data and for that you want to plot a graph but don't want to save it to the main code\n",
        "#so just ; at the end of that plotting code so the code will not be saved to the Input and Output history \n",
        "#FOR A LINE OF CODE\n",
        "#In[1]:print('n');\n",
        "#In[2]:1 in In\n",
        "#Out[1]:False\n",
        "#THE CHUNK OF CODE ABOVE*\n",
        "#In[3]:def n(j):\n",
        "#          print('joy');\n",
        "#In[4]:3 in In\n",
        "#Out[2]:False\n",
        "#THE CHUNK OF CODE ABOVE*"
      ],
      "execution_count": null,
      "outputs": []
    },
    {
      "cell_type": "code",
      "metadata": {
        "id": "jmWxCjH8Xwii",
        "outputId": "294c18a4-846c-4f9e-ba40-8943a26a1815"
      },
      "source": [
        "#for accessing a batch of previous inputs at once the %history magic command is very helpful \n",
        "%history -n 20-23 #this line of code gives the history from Input 20 to 23"
      ],
      "execution_count": null,
      "outputs": [
        {
          "output_type": "stream",
          "text": [
            "  20:\n",
            "#to access a general description of all available magic functions write this\n",
            "#%magic\n",
            "#if you don't like huge descriptions then use this \n",
            "#%lsmagic\n",
            "  21: #print(In) gives the list of Inputs or what your wrote (code)\n",
            "  22:\n",
            "#print(In) gives the list of Inputs or what your wrote (code)\n",
            "#print(Out) gives the list of Outputs or what the written codes result\n",
            "  23:\n",
            "#print(In) gives the list of Inputs or what your wrote (code)\n",
            "#print(Out) gives the list of Outputs or what the written codes result\n",
            "  20:\n",
            "#to access a general description of all available magic functions write this\n",
            "#%magic\n",
            "#if you don't like huge descriptions then use this \n",
            "#%lsmagic\n",
            "  23:\n",
            "#print(In) gives the list of Inputs or what your wrote (code)\n",
            "#print(Out) gives the list of Outputs or what the written codes result\n"
          ],
          "name": "stdout"
        }
      ]
    },
    {
      "cell_type": "code",
      "metadata": {
        "id": "4VgnS2jWXwis",
        "outputId": "3ab2efcc-a3cc-4cd7-a4f3-bd7088a23db6"
      },
      "source": [
        "#copy the path of the folder and then write\n",
        "#!ls <the directory>\n",
        "#it gives the list of files in the required directory\n",
        "!ls \"C:\\Users\\USER\\Documents\\sdjkasdsd\\Data\""
      ],
      "execution_count": null,
      "outputs": [
        {
          "output_type": "stream",
          "text": [
            "audio.wav\n",
            "output.1.avi\n"
          ],
          "name": "stdout"
        }
      ]
    },
    {
      "cell_type": "code",
      "metadata": {
        "id": "o0BRQ5mnXwiz",
        "outputId": "12863282-12df-44d6-da10-1367baf6fb71"
      },
      "source": [
        "!pwd\n",
        "#print working directory \n",
        "#current working directory "
      ],
      "execution_count": null,
      "outputs": [
        {
          "output_type": "stream",
          "text": [
            "/c/Users/USER/Documents\n"
          ],
          "name": "stdout"
        }
      ]
    },
    {
      "cell_type": "code",
      "metadata": {
        "id": "9Zgv-h_8Xwi8",
        "outputId": "ddaa0265-6743-4f0a-b6e6-b5c266a30cb1"
      },
      "source": [
        "!echo 'hello kitty'\n",
        "name='kitty'\n",
        "!echo {name}"
      ],
      "execution_count": null,
      "outputs": [
        {
          "output_type": "stream",
          "text": [
            "'hello kitty'\n",
            "kitty\n"
          ],
          "name": "stdout"
        }
      ]
    },
    {
      "cell_type": "code",
      "metadata": {
        "id": "92oyLpbBXwjD",
        "outputId": "838436b3-64c7-49e6-9667-1e6f79f671b3"
      },
      "source": [
        "contents=!ls\n",
        "print(contents)\n",
        "#gives a list of files in the directory"
      ],
      "execution_count": null,
      "outputs": [
        {
          "output_type": "stream",
          "text": [
            "['062_carrazza_lesson1.pdf', '1. Probability Distribution (STA 301).pdf', '1..pdf', '1000-lonely_boy-l.jpg', '1568368061-57257154_1436418539834343_4124518753228530909_n.jpg', '1596029330_tmp_plva.jpg', '2-AurÃ©lien-GÃ©ron-Hands-On-Machine-Learning-with-Scikit-Learn-Keras-and-Tensorflow_-Concepts-Tools-and-Techniques-to-Build-Intelligent-Systems-Oâ€™Reilly-Media-2019.pdf', '2..pdf', '20-prob-mm.pdf', '2018_Book_NeuralNetworksAndDeepLearning.pdf', '2276435_0.jpg', '303737-7.jpg', '33283-pdf.pdf', '60540458_193219734976094_88332114180702208_n.jpg', '71-717571_shiva-art-hindu-art-shiva-shakti-shiva-wallpaper.jpg', '71338590_3251351628271438_8014801935470752296_n.jpg', '77004564_919767918393954_8145066466505392128_n.jpg', '78598806_975575926146152_6873340647458209792_n.jpg', '98756.jpg', 'Abstract.docx', 'Appendix and bibliography.pdf', 'Arduino', 'Assignment.pdf', 'BayesTheorem.pdf', 'Bayes_Theorem.pdf', 'Binomial Probability Distribution Problem .pdf', 'CLT Problem Set.pdf', 'Calculus_Made_Easy_Thompson.pdf', 'Central limit theorem (STA 301).pdf', 'Class Struc of States.pdf', 'Continuous Probability Distribution (STA 301).pdf', 'Countable state markov chains.pdf', 'Course Plan_SPRING_2020_STA 301_MZR.pdf', 'CyberLink', 'DLD Slides', 'Deep Learning with Python.pdf', 'Discrete Probability Distribution (STA 301).pdf', 'ESLII.pdf', 'Exponential Probability Distribution Problem.pdf', 'Fintie state markov chains.pdf', 'Hand-on-ML.pdf', 'Hypergeometric Excercise (68-72).pdf', 'IPython part 1.wmv', 'ISLR Seventh Printing.pdf', 'Intro and review of probability.pdf', 'Intro.pdf', 'Introduction to Machine Learning.pdf', 'Java_files', 'KarlinTaylorIntrodStochModeling.pdf', 'Learn Python The Hard Way 3rd Edition V413HAV.pdf', 'Lecture14FinalPart1.pdf', 'Lecture_6.3_DFA_Cross_Product_Operation.pdf', 'Lecture_SP19', 'MC Problem set 1.pdf', 'MC Problem set 2.pdf', 'MIT18_445S15_Almost_sure17.pdf', 'MIT18_445S15_lecture1.pdf', 'MIT18_445S15_lecture10.pdf', 'MIT18_445S15_lecture11.pdf', 'MIT18_445S15_lecture12.pdf', 'MIT18_445S15_lecture13.pdf', 'MIT18_445S15_lecture15.pdf', 'MIT18_445S15_lecture16.pdf', 'MIT18_445S15_lecture17.pdf', 'MIT18_445S15_lecture18.pdf', 'MIT18_445S15_lecture19.pdf', 'MIT18_445S15_lecture2.pdf', 'MIT18_445S15_lecture20.pdf', 'MIT18_445S15_lecture21.pdf', 'MIT18_445S15_lecture22.pdf', 'MIT18_445S15_lecture23.pdf', 'MIT18_445S15_lecture24.pdf', 'MIT18_445S15_lecture3.pdf', 'MIT18_445S15_lecture4.pdf', 'MIT18_445S15_lecture5.pdf', 'MIT18_445S15_lecture6.pdf', 'MIT18_445S15_lecture7.pdf', 'MIT18_445S15_lecture8.pdf', 'MIT18_445S15_lecture9.pdf', 'MIT6_262S11_assn01_sol.pdf', 'MIT6_262S11_assn02_sol.pdf', 'MIT6_262S11_assn03_sol.pdf', 'MIT6_262S11_assn04_sol.pdf', 'MIT6_262S11_assn05_sol.pdf', 'MIT6_262S11_assn06_sol.pdf', 'MIT6_262S11_assn07_sol.pdf', 'MIT6_262S11_assn08_sol.pdf', 'MIT6_262S11_assn09_sol.pdf', 'MIT6_262S11_assn10_sol.pdf', 'MIT6_262S11_assn11_sol.pdf', 'MIT6_262S11_assn12_sol.pdf', 'Machine Learning For Absolute Beginners.pdf', 'Machine Learning For Dummies (John Paul Mueller - Luca Massaron).pdf', 'Markov processes with countable state spaces.pdf', 'Mathematics_For_Machine_Learning.pdf', 'My Music', 'My Pictures', 'My Videos', 'NeuralNetworks.CheungCannonNotes.pdf', 'New_ CSP.pdf', 'Normal Probability Distribution Problem.pdf', 'Permutation & Combination.pdf', 'Poisson Probability Distribution Problem.pdf', 'Poisson processes.pdf', 'Practical-Statistics-for-Data-Scientists.pdf', 'Probability Distribution_1.pdf', 'Probability aximos and Conditional probability.pdf', 'Python Scripts', 'RW.pdf', 'Random walks, large deviations and matringales.pdf', 'Relation of Exponential  Poisson Distribution.pdf', 'Renewal processes.pdf', 'Ross_8th_ed_English.pdf', 'Sad-Love-Quotes-6.jpg', 'Stochastic Process Classification.pdf', 'Stochastic Process.pdf', 'Survey.docx', 'TABLE_001_Binomial Distribution.pdf', 'TABLE_002_Poisson Distribution.pdf', 'TABLE_003_NORMAL CURVE.pdf', 'The Calculus Lifesaver-All the Tools You Need to Excel at Calculus.pdf', 'The Hundred-Page Machine Learning Book.pdf', 'Trajectory MC.pdf', 'Uniform Probability Distribution Problem.pdf', 'Untitled1.ipynb', 'Untitled2.ipynb', 'Untitled3.ipynb', 'Untitled4.ipynb', '[Joel_Grus]_Data_Science_from_Scratch_First_Princ.pdf', '[Strang_G.]_Linear_algebra_and_its_applications(4)[5881001].PDF', 'a.ipynb', 'ab.webp', 'aisha.jpg', 'aishasharma.jpeg', 'algorithms_in_python.pdf', 'all-notes.pdf', 'ana.jpg', 'ana1.jpg', 'ana2.jpg', 'ana_.jpg', 'ana_mom.jpg', 'ana_mom2.jpg', 'ana_mom3.jpg', 'anahita3.jpg', 'anahita4.jpg', 'anahita5.jpg', 'anahita_.jpg', 'anahita_mom.jpg', 'anasweetu.jpg', 'baby-girl-260nw-390638791.webp', 'black.jpg', 'black.png', 'book-33342.pdf', 'bracu.txt', 'cecer.pdf', 'ch2blank.pdf', 'corona.csv.xlsx', 'course.xlsx', 'course_all_detailed_info.docx', 'desktop.ini', 'docs_python_org_3_tutorial_datastructures_html.pdf', 'eg6-a-student-data.txt', 'exponential_&_memoryless_property.pdf', 'exponential_example.pdf', 'finding_documentation_&_tab_completion_&_shortcuts.wmv', 'geometric.pdf', 'get-pip.py', 'git.pdf', 'how to code in python shell.wmv', 'hp.applications.package.appdata', 'hp.system.package.metadata', 'images.jpg', 'ipython.ipynb', 'j.jpg', 'jhanswer.pdf', 'john.jpg', 'jojo.ipynb', 'learning_from_obsrbt.pdf', 'linear_algebra_done_right.pdf', 'machine_learning_tutorial.pdf', 'math4ml.pdf', 'matrix-algebra-for-engineers.pdf', 'matrixcookbook.pdf', 'momma.jpg', 'mysql-tutorial-excerpt-5.7-en.pdf', 'numpy-ref.pdf', 'numpy-user.pdf', 'original.jpg', 'pandas.ipynb', 'plva.jpg', 'probability_and_statistics_for_engineering_and_the_sciences.pdf', 'problem_set_1.pdf', 'problem_set_2.pdf', 'problem_set_3.pdf', 'problem_set_4.pdf', 'problem_set_5.pdf', 'pythondatasciencehandbook.pdf', 'rainlove.jpg', 'sdjkasdsd', 'statistical-techniques-in-business-and-economics-lind-douglas-srg.pdf', 'tejaswi.jpg', 'tejaswicutie.jpg', 'tejaswicutiepie.jpg', 'trishala.ipynb', 'trishala.jpg', 'trishala_gurung.jpg', 'trishalag.jpg', 'trishalagurung.jpg', 'trishalagurungjoy.jpg', 'tumblr_m997a3oLpi1rp14bio1_400.jpg', 'tyuzu.gif', 'tyuzu.jpg', 'tyuzu1.jpg', 'tyuzu2.jpg', 'tyuzu3.jpg', 'tyuzu4.jpg', 'vid222.wmv', 'vmls.pdf', 'z.jpg', '~$Survey.docx']\n"
          ],
          "name": "stdout"
        }
      ]
    },
    {
      "cell_type": "code",
      "metadata": {
        "id": "quxumPzoXwjK",
        "outputId": "ec2aad4c-5bc1-4732-ca2f-ed0fc95ade99"
      },
      "source": [
        "directory=!pwd\n",
        "print(directory)\n",
        "#gives the current directory in a list"
      ],
      "execution_count": null,
      "outputs": [
        {
          "output_type": "stream",
          "text": [
            "['/c/Users/USER/Documents']\n"
          ],
          "name": "stdout"
        }
      ]
    },
    {
      "cell_type": "code",
      "metadata": {
        "id": "EwZwGTCfXwjQ",
        "outputId": "da7d23c9-be33-4fd5-add5-2781d9debe08"
      },
      "source": [
        "type(directory)\n",
        "#type of that "
      ],
      "execution_count": null,
      "outputs": [
        {
          "output_type": "execute_result",
          "data": {
            "text/plain": [
              "IPython.utils.text.SList"
            ]
          },
          "metadata": {
            "tags": []
          },
          "execution_count": 19
        }
      ]
    },
    {
      "cell_type": "code",
      "metadata": {
        "id": "ebgyoMg0XwjX"
      },
      "source": [
        "#anything appearing after ! on a line will be executed not by the Python kernel, but by the system command line e.g. !ls, !pwd,!echo"
      ],
      "execution_count": null,
      "outputs": []
    },
    {
      "cell_type": "code",
      "metadata": {
        "id": "Kms23jHyXwje",
        "outputId": "1e7c98cf-f7f8-4bfd-b0a8-d7c25664753a"
      },
      "source": [
        "!ls"
      ],
      "execution_count": null,
      "outputs": [
        {
          "output_type": "stream",
          "text": [
            "062_carrazza_lesson1.pdf\n",
            "1. Probability Distribution (STA 301).pdf\n",
            "1..pdf\n",
            "1000-lonely_boy-l.jpg\n",
            "1568368061-57257154_1436418539834343_4124518753228530909_n.jpg\n",
            "1596029330_tmp_plva.jpg\n",
            "2-AurÃ©lien-GÃ©ron-Hands-On-Machine-Learning-with-Scikit-Learn-Keras-and-Tensorflow_-Concepts-Tools-and-Techniques-to-Build-Intelligent-Systems-Oâ€™Reilly-Media-2019.pdf\n",
            "2..pdf\n",
            "20-prob-mm.pdf\n",
            "2018_Book_NeuralNetworksAndDeepLearning.pdf\n",
            "2276435_0.jpg\n",
            "303737-7.jpg\n",
            "33283-pdf.pdf\n",
            "60540458_193219734976094_88332114180702208_n.jpg\n",
            "71-717571_shiva-art-hindu-art-shiva-shakti-shiva-wallpaper.jpg\n",
            "71338590_3251351628271438_8014801935470752296_n.jpg\n",
            "77004564_919767918393954_8145066466505392128_n.jpg\n",
            "78598806_975575926146152_6873340647458209792_n.jpg\n",
            "98756.jpg\n",
            "Abstract.docx\n",
            "Appendix and bibliography.pdf\n",
            "Arduino\n",
            "Assignment.pdf\n",
            "BayesTheorem.pdf\n",
            "Bayes_Theorem.pdf\n",
            "Binomial Probability Distribution Problem .pdf\n",
            "CLT Problem Set.pdf\n",
            "Calculus_Made_Easy_Thompson.pdf\n",
            "Central limit theorem (STA 301).pdf\n",
            "Class Struc of States.pdf\n",
            "Continuous Probability Distribution (STA 301).pdf\n",
            "Countable state markov chains.pdf\n",
            "Course Plan_SPRING_2020_STA 301_MZR.pdf\n",
            "CyberLink\n",
            "DLD Slides\n",
            "Deep Learning with Python.pdf\n",
            "Discrete Probability Distribution (STA 301).pdf\n",
            "ESLII.pdf\n",
            "Exponential Probability Distribution Problem.pdf\n",
            "Fintie state markov chains.pdf\n",
            "Hand-on-ML.pdf\n",
            "Hypergeometric Excercise (68-72).pdf\n",
            "IPython part 1.wmv\n",
            "ISLR Seventh Printing.pdf\n",
            "Intro and review of probability.pdf\n",
            "Intro.pdf\n",
            "Introduction to Machine Learning.pdf\n",
            "Java_files\n",
            "KarlinTaylorIntrodStochModeling.pdf\n",
            "Learn Python The Hard Way 3rd Edition V413HAV.pdf\n",
            "Lecture14FinalPart1.pdf\n",
            "Lecture_6.3_DFA_Cross_Product_Operation.pdf\n",
            "Lecture_SP19\n",
            "MC Problem set 1.pdf\n",
            "MC Problem set 2.pdf\n",
            "MIT18_445S15_Almost_sure17.pdf\n",
            "MIT18_445S15_lecture1.pdf\n",
            "MIT18_445S15_lecture10.pdf\n",
            "MIT18_445S15_lecture11.pdf\n",
            "MIT18_445S15_lecture12.pdf\n",
            "MIT18_445S15_lecture13.pdf\n",
            "MIT18_445S15_lecture15.pdf\n",
            "MIT18_445S15_lecture16.pdf\n",
            "MIT18_445S15_lecture17.pdf\n",
            "MIT18_445S15_lecture18.pdf\n",
            "MIT18_445S15_lecture19.pdf\n",
            "MIT18_445S15_lecture2.pdf\n",
            "MIT18_445S15_lecture20.pdf\n",
            "MIT18_445S15_lecture21.pdf\n",
            "MIT18_445S15_lecture22.pdf\n",
            "MIT18_445S15_lecture23.pdf\n",
            "MIT18_445S15_lecture24.pdf\n",
            "MIT18_445S15_lecture3.pdf\n",
            "MIT18_445S15_lecture4.pdf\n",
            "MIT18_445S15_lecture5.pdf\n",
            "MIT18_445S15_lecture6.pdf\n",
            "MIT18_445S15_lecture7.pdf\n",
            "MIT18_445S15_lecture8.pdf\n",
            "MIT18_445S15_lecture9.pdf\n",
            "MIT6_262S11_assn01_sol.pdf\n",
            "MIT6_262S11_assn02_sol.pdf\n",
            "MIT6_262S11_assn03_sol.pdf\n",
            "MIT6_262S11_assn04_sol.pdf\n",
            "MIT6_262S11_assn05_sol.pdf\n",
            "MIT6_262S11_assn06_sol.pdf\n",
            "MIT6_262S11_assn07_sol.pdf\n",
            "MIT6_262S11_assn08_sol.pdf\n",
            "MIT6_262S11_assn09_sol.pdf\n",
            "MIT6_262S11_assn10_sol.pdf\n",
            "MIT6_262S11_assn11_sol.pdf\n",
            "MIT6_262S11_assn12_sol.pdf\n",
            "Machine Learning For Absolute Beginners.pdf\n",
            "Machine Learning For Dummies (John Paul Mueller - Luca Massaron).pdf\n",
            "Markov processes with countable state spaces.pdf\n",
            "Mathematics_For_Machine_Learning.pdf\n",
            "My Music\n",
            "My Pictures\n",
            "My Videos\n",
            "NeuralNetworks.CheungCannonNotes.pdf\n",
            "New_ CSP.pdf\n",
            "Normal Probability Distribution Problem.pdf\n",
            "Permutation & Combination.pdf\n",
            "Poisson Probability Distribution Problem.pdf\n",
            "Poisson processes.pdf\n",
            "Practical-Statistics-for-Data-Scientists.pdf\n",
            "Probability Distribution_1.pdf\n",
            "Probability aximos and Conditional probability.pdf\n",
            "Python Scripts\n",
            "RW.pdf\n",
            "Random walks, large deviations and matringales.pdf\n",
            "Relation of Exponential  Poisson Distribution.pdf\n",
            "Renewal processes.pdf\n",
            "Ross_8th_ed_English.pdf\n",
            "Sad-Love-Quotes-6.jpg\n",
            "Stochastic Process Classification.pdf\n",
            "Stochastic Process.pdf\n",
            "Survey.docx\n",
            "TABLE_001_Binomial Distribution.pdf\n",
            "TABLE_002_Poisson Distribution.pdf\n",
            "TABLE_003_NORMAL CURVE.pdf\n",
            "The Calculus Lifesaver-All the Tools You Need to Excel at Calculus.pdf\n",
            "The Hundred-Page Machine Learning Book.pdf\n",
            "Trajectory MC.pdf\n",
            "Uniform Probability Distribution Problem.pdf\n",
            "Untitled.ipynb\n",
            "Untitled1.ipynb\n",
            "Untitled2.ipynb\n",
            "Untitled3.ipynb\n",
            "Untitled4.ipynb\n",
            "[Joel_Grus]_Data_Science_from_Scratch_First_Princ.pdf\n",
            "[Strang_G.]_Linear_algebra_and_its_applications(4)[5881001].PDF\n",
            "a.ipynb\n",
            "ab.webp\n",
            "aisha.jpg\n",
            "aishasharma.jpeg\n",
            "algorithms_in_python.pdf\n",
            "all-notes.pdf\n",
            "ana.jpg\n",
            "ana1.jpg\n",
            "ana2.jpg\n",
            "ana_.jpg\n",
            "ana_mom.jpg\n",
            "ana_mom2.jpg\n",
            "ana_mom3.jpg\n",
            "anahita3.jpg\n",
            "anahita4.jpg\n",
            "anahita5.jpg\n",
            "anahita_.jpg\n",
            "anahita_mom.jpg\n",
            "anasweetu.jpg\n",
            "baby-girl-260nw-390638791.webp\n",
            "black.jpg\n",
            "black.png\n",
            "book-33342.pdf\n",
            "bracu.txt\n",
            "cecer.pdf\n",
            "ch2blank.pdf\n",
            "corona.csv.xlsx\n",
            "course.xlsx\n",
            "course_all_detailed_info.docx\n",
            "desktop.ini\n",
            "docs_python_org_3_tutorial_datastructures_html.pdf\n",
            "eg6-a-student-data.txt\n",
            "exponential_&_memoryless_property.pdf\n",
            "exponential_example.pdf\n",
            "geometric.pdf\n",
            "get-pip.py\n",
            "git.pdf\n",
            "hp.applications.package.appdata\n",
            "hp.system.package.metadata\n",
            "images.jpg\n",
            "ipython.ipynb\n",
            "j.jpg\n",
            "jhanswer.pdf\n",
            "john.jpg\n",
            "learning_from_obsrbt.pdf\n",
            "linear_algebra_done_right.pdf\n",
            "machine_learning_tutorial.pdf\n",
            "math4ml.pdf\n",
            "matrix-algebra-for-engineers.pdf\n",
            "matrixcookbook.pdf\n",
            "momma.jpg\n",
            "mysql-tutorial-excerpt-5.7-en.pdf\n",
            "numpy-ref.pdf\n",
            "numpy-user.pdf\n",
            "original.jpg\n",
            "pandas.ipynb\n",
            "plva.jpg\n",
            "probability_and_statistics_for_engineering_and_the_sciences.pdf\n",
            "problem_set_1.pdf\n",
            "problem_set_2.pdf\n",
            "problem_set_3.pdf\n",
            "problem_set_4.pdf\n",
            "problem_set_5.pdf\n",
            "pythondatasciencehandbook.pdf\n",
            "rainlove.jpg\n",
            "sdjkasdsd\n",
            "statistical-techniques-in-business-and-economics-lind-douglas-srg.pdf\n",
            "tejaswi.jpg\n",
            "tejaswicutie.jpg\n",
            "tejaswicutiepie.jpg\n",
            "tmp\n",
            "trishala.ipynb\n",
            "trishala.jpg\n",
            "trishala_gurung.jpg\n",
            "trishalag.jpg\n",
            "trishalagurung.jpg\n",
            "trishalagurungjoy.jpg\n",
            "tumblr_m997a3oLpi1rp14bio1_400.jpg\n",
            "tyuzu.gif\n",
            "tyuzu.jpg\n",
            "tyuzu1.jpg\n",
            "tyuzu2.jpg\n",
            "tyuzu3.jpg\n",
            "tyuzu4.jpg\n",
            "vmls.pdf\n",
            "z.jpg\n",
            "~$Survey.docx\n"
          ],
          "name": "stdout"
        }
      ]
    },
    {
      "cell_type": "code",
      "metadata": {
        "id": "6D8NX9lPXwjm",
        "outputId": "81dac61f-929e-4033-eace-7c578b66b8ed"
      },
      "source": [
        "!cd"
      ],
      "execution_count": null,
      "outputs": [
        {
          "output_type": "stream",
          "text": [
            "C:\\Users\\USER\\Desktop\\Folderx\n"
          ],
          "name": "stdout"
        }
      ]
    },
    {
      "cell_type": "code",
      "metadata": {
        "id": "4MO6Vn3zXwjt",
        "outputId": "6c84578c-b877-4a5c-f9d0-b5a29d768049"
      },
      "source": [
        "#when automagic is on '!' is not required \n",
        "%automagic"
      ],
      "execution_count": null,
      "outputs": [
        {
          "output_type": "stream",
          "text": [
            "\n",
            "Automagic is ON, % prefix IS NOT needed for line magics.\n"
          ],
          "name": "stdout"
        }
      ]
    },
    {
      "cell_type": "code",
      "metadata": {
        "id": "JBcm0vylXwj0",
        "outputId": "cc28ef55-e63d-4302-db17-7788f108c46e"
      },
      "source": [
        "cd Desktop #cd means current directory\n",
        "#current directory is the outputted directory"
      ],
      "execution_count": null,
      "outputs": [
        {
          "output_type": "stream",
          "text": [
            "C:\\Users\\USER\\Desktop\n"
          ],
          "name": "stdout"
        }
      ]
    },
    {
      "cell_type": "code",
      "metadata": {
        "id": "m652HJvAXwj8"
      },
      "source": [
        "mkdir Folderx #mkdir means make directory\n",
        "#this line makes a directory Desktop>>Folderx"
      ],
      "execution_count": null,
      "outputs": []
    },
    {
      "cell_type": "code",
      "metadata": {
        "id": "Yyl9zaXAXwkF"
      },
      "source": [
        "mkdir Foldery\n",
        "#this line makes a directory Desktop>>Foldery"
      ],
      "execution_count": null,
      "outputs": []
    },
    {
      "cell_type": "code",
      "metadata": {
        "id": "Slzw7XDUXwkN",
        "outputId": "6e672ef3-38a0-46fd-dbaa-775f03ba548d"
      },
      "source": [
        "cd Folderx\n",
        "#then go to Desktop>>Folderx"
      ],
      "execution_count": null,
      "outputs": [
        {
          "output_type": "stream",
          "text": [
            "C:\\Users\\USER\\Desktop\\Folderx\n"
          ],
          "name": "stdout"
        }
      ]
    },
    {
      "cell_type": "code",
      "metadata": {
        "id": "beeLun5FXwkV"
      },
      "source": [
        "mkdir Folder\n",
        "#makes a folder in Desktop>>Folderx>>Folder"
      ],
      "execution_count": null,
      "outputs": []
    },
    {
      "cell_type": "code",
      "metadata": {
        "id": "FdZg2XXGXwkc"
      },
      "source": [
        "#Controlling Exceptions\n",
        "def n():\n",
        "    return 5/0"
      ],
      "execution_count": null,
      "outputs": []
    },
    {
      "cell_type": "code",
      "metadata": {
        "id": "VDF3zG4QXwkk",
        "outputId": "32c57c8c-6355-436e-fba3-f4d5295eb5ef"
      },
      "source": [
        "n() #gives exception"
      ],
      "execution_count": null,
      "outputs": [
        {
          "output_type": "error",
          "ename": "ZeroDivisionError",
          "evalue": "division by zero",
          "traceback": [
            "Traceback \u001b[1;36m(most recent call last)\u001b[0m:\n",
            "  File \u001b[0;32m\"<ipython-input-102-5b4adf1296f8>\"\u001b[0m, line \u001b[0;32m1\u001b[0m, in \u001b[0;35m<module>\u001b[0m\n    n()\n",
            "\u001b[1;36m  File \u001b[1;32m\"<ipython-input-98-4bf9a707ee12>\"\u001b[1;36m, line \u001b[1;32m3\u001b[1;36m, in \u001b[1;35mn\u001b[1;36m\u001b[0m\n\u001b[1;33m    return 5/0\u001b[0m\n",
            "\u001b[1;31mZeroDivisionError\u001b[0m\u001b[1;31m:\u001b[0m division by zero\n"
          ]
        }
      ]
    },
    {
      "cell_type": "code",
      "metadata": {
        "id": "GUWkpiFxXwkq",
        "outputId": "6ba48292-9637-40a0-c518-4a06abc19bc9"
      },
      "source": [
        "xmode verbose #verbose would give brief descriptions of errors"
      ],
      "execution_count": null,
      "outputs": [
        {
          "output_type": "stream",
          "text": [
            "Exception reporting mode: Verbose\n"
          ],
          "name": "stdout"
        }
      ]
    },
    {
      "cell_type": "code",
      "metadata": {
        "id": "6swzlVdsXwkw",
        "outputId": "d9374fc6-a867-4403-f646-472b1b11ab8a"
      },
      "source": [
        "n()"
      ],
      "execution_count": null,
      "outputs": [
        {
          "output_type": "error",
          "ename": "ZeroDivisionError",
          "evalue": "division by zero",
          "traceback": [
            "\u001b[1;31m---------------------------------------------------------------------------\u001b[0m",
            "\u001b[1;31mZeroDivisionError\u001b[0m                         Traceback (most recent call last)",
            "\u001b[1;32m<ipython-input-110-5b4adf1296f8>\u001b[0m in \u001b[0;36m<module>\u001b[1;34m\u001b[0m\n\u001b[1;32m----> 1\u001b[1;33m \u001b[0mn\u001b[0m\u001b[1;33m(\u001b[0m\u001b[1;33m)\u001b[0m\u001b[1;33m\u001b[0m\u001b[1;33m\u001b[0m\u001b[0m\n\u001b[0m        \u001b[1;36mglobal\u001b[0m \u001b[0;36mn\u001b[0m \u001b[1;34m= <function n at 0x000001D513ECF558>\u001b[0m\n",
            "\u001b[1;32m<ipython-input-98-4bf9a707ee12>\u001b[0m in \u001b[0;36mn\u001b[1;34m()\u001b[0m\n\u001b[0;32m      1\u001b[0m \u001b[1;31m#Controlling Exceptions\u001b[0m\u001b[1;33m\u001b[0m\u001b[1;33m\u001b[0m\u001b[1;33m\u001b[0m\u001b[0m\n\u001b[0;32m      2\u001b[0m \u001b[1;32mdef\u001b[0m \u001b[0mn\u001b[0m\u001b[1;33m(\u001b[0m\u001b[1;33m)\u001b[0m\u001b[1;33m:\u001b[0m\u001b[1;33m\u001b[0m\u001b[1;33m\u001b[0m\u001b[0m\n\u001b[1;32m----> 3\u001b[1;33m     \u001b[1;32mreturn\u001b[0m \u001b[1;36m5\u001b[0m\u001b[1;33m/\u001b[0m\u001b[1;36m0\u001b[0m\u001b[1;33m\u001b[0m\u001b[1;33m\u001b[0m\u001b[0m\n\u001b[0m",
            "\u001b[1;31mZeroDivisionError\u001b[0m: division by zero"
          ]
        }
      ]
    },
    {
      "cell_type": "code",
      "metadata": {
        "id": "cJIoBAC8Xwk1",
        "outputId": "689fa78f-efd2-4da5-a954-7c1b7f602352"
      },
      "source": [
        "xmode plain #plain for simple error descriptions"
      ],
      "execution_count": null,
      "outputs": [
        {
          "output_type": "stream",
          "text": [
            "Exception reporting mode: Plain\n"
          ],
          "name": "stdout"
        }
      ]
    },
    {
      "cell_type": "code",
      "metadata": {
        "id": "Yj7uEHkRXwk9",
        "outputId": "a37f24be-ac59-444c-a4e9-cc6f20d12178"
      },
      "source": [
        "n()"
      ],
      "execution_count": null,
      "outputs": [
        {
          "output_type": "error",
          "ename": "ZeroDivisionError",
          "evalue": "division by zero",
          "traceback": [
            "Traceback \u001b[1;36m(most recent call last)\u001b[0m:\n",
            "  File \u001b[0;32m\"<ipython-input-112-5b4adf1296f8>\"\u001b[0m, line \u001b[0;32m1\u001b[0m, in \u001b[0;35m<module>\u001b[0m\n    n()\n",
            "\u001b[1;36m  File \u001b[1;32m\"<ipython-input-98-4bf9a707ee12>\"\u001b[1;36m, line \u001b[1;32m3\u001b[1;36m, in \u001b[1;35mn\u001b[1;36m\u001b[0m\n\u001b[1;33m    return 5/0\u001b[0m\n",
            "\u001b[1;31mZeroDivisionError\u001b[0m\u001b[1;31m:\u001b[0m division by zero\n"
          ]
        }
      ]
    },
    {
      "cell_type": "code",
      "metadata": {
        "id": "D3eu_CdVXwlK"
      },
      "source": [
        "#Python Debugger: pdb for IPython ipdb"
      ],
      "execution_count": null,
      "outputs": []
    },
    {
      "cell_type": "code",
      "metadata": {
        "id": "W3lZf2VfXwlS"
      },
      "source": [
        "def n(a,b):\n",
        "    return a/b"
      ],
      "execution_count": null,
      "outputs": []
    },
    {
      "cell_type": "code",
      "metadata": {
        "id": "0NOrp0B1XwlX",
        "outputId": "a8cd2417-ac9e-430d-9ffa-bbc3913962f4"
      },
      "source": [
        "n(1,0) #gives an exception"
      ],
      "execution_count": null,
      "outputs": [
        {
          "output_type": "error",
          "ename": "ZeroDivisionError",
          "evalue": "division by zero",
          "traceback": [
            "Traceback \u001b[1;36m(most recent call last)\u001b[0m:\n",
            "  File \u001b[0;32m\"<ipython-input-116-630d5fa65cf4>\"\u001b[0m, line \u001b[0;32m1\u001b[0m, in \u001b[0;35m<module>\u001b[0m\n    n(1,0)\n",
            "\u001b[1;36m  File \u001b[1;32m\"<ipython-input-115-f4460d0d58d0>\"\u001b[1;36m, line \u001b[1;32m2\u001b[1;36m, in \u001b[1;35mn\u001b[1;36m\u001b[0m\n\u001b[1;33m    return a/b\u001b[0m\n",
            "\u001b[1;31mZeroDivisionError\u001b[0m\u001b[1;31m:\u001b[0m division by zero\n"
          ]
        }
      ]
    },
    {
      "cell_type": "code",
      "metadata": {
        "id": "pfOVIUnFXwlf",
        "outputId": "d0d18efc-5fca-42a9-fbed-d1c07f79840e"
      },
      "source": [
        "debug\n",
        "#since automagic function is on so % is not required\n",
        "#we can debug using this (ipdb)\n",
        "#when debugging is done write quit and the debugging session will end "
      ],
      "execution_count": null,
      "outputs": [
        {
          "output_type": "stream",
          "text": [
            "> \u001b[1;32m<ipython-input-115-f4460d0d58d0>\u001b[0m(2)\u001b[0;36mn\u001b[1;34m()\u001b[0m\n",
            "\u001b[1;32m      1 \u001b[1;33m\u001b[1;32mdef\u001b[0m \u001b[0mn\u001b[0m\u001b[1;33m(\u001b[0m\u001b[0ma\u001b[0m\u001b[1;33m,\u001b[0m\u001b[0mb\u001b[0m\u001b[1;33m)\u001b[0m\u001b[1;33m:\u001b[0m\u001b[1;33m\u001b[0m\u001b[1;33m\u001b[0m\u001b[0m\n",
            "\u001b[0m\u001b[1;32m----> 2 \u001b[1;33m    \u001b[1;32mreturn\u001b[0m \u001b[0ma\u001b[0m\u001b[1;33m/\u001b[0m\u001b[0mb\u001b[0m\u001b[1;33m\u001b[0m\u001b[1;33m\u001b[0m\u001b[0m\n",
            "\u001b[0m\n"
          ],
          "name": "stdout"
        },
        {
          "output_type": "stream",
          "text": [
            "ipdb>  print(a)\n"
          ],
          "name": "stdin"
        },
        {
          "output_type": "stream",
          "text": [
            "1\n"
          ],
          "name": "stdout"
        },
        {
          "output_type": "stream",
          "text": [
            "ipdb>  print(b)\n"
          ],
          "name": "stdin"
        },
        {
          "output_type": "stream",
          "text": [
            "0\n"
          ],
          "name": "stdout"
        },
        {
          "output_type": "stream",
          "text": [
            "ipdb>  print(b/a)\n"
          ],
          "name": "stdin"
        },
        {
          "output_type": "stream",
          "text": [
            "0.0\n"
          ],
          "name": "stdout"
        },
        {
          "output_type": "stream",
          "text": [
            "ipdb>  print(a/b)\n"
          ],
          "name": "stdin"
        },
        {
          "output_type": "stream",
          "text": [
            "*** ZeroDivisionError: division by zero\n"
          ],
          "name": "stdout"
        },
        {
          "output_type": "stream",
          "text": [
            "ipdb>  quit\n"
          ],
          "name": "stdin"
        }
      ]
    },
    {
      "cell_type": "code",
      "metadata": {
        "id": "UmJ9l5NPXwlm",
        "outputId": "e77ad9e4-96fa-4ad2-cc10-7175acedea48"
      },
      "source": [
        "%automagic #now i turn off the automagic"
      ],
      "execution_count": null,
      "outputs": [
        {
          "output_type": "stream",
          "text": [
            "\n",
            "Automagic is OFF, % prefix IS needed for line magics.\n"
          ],
          "name": "stdout"
        }
      ]
    },
    {
      "cell_type": "code",
      "metadata": {
        "id": "iQeTvLm5Xwlr"
      },
      "source": [
        "def nx(a,b):\n",
        "    x=a-1\n",
        "    y=b\n",
        "    function(x,y)\n",
        "def function(x,y):\n",
        "    return y/x"
      ],
      "execution_count": null,
      "outputs": []
    },
    {
      "cell_type": "code",
      "metadata": {
        "id": "OUY9xEV3Xwlx",
        "outputId": "1cc6eaa3-ab2e-4088-caa2-c978485952f0"
      },
      "source": [
        "nx(1,3)"
      ],
      "execution_count": null,
      "outputs": [
        {
          "output_type": "error",
          "ename": "ZeroDivisionError",
          "evalue": "division by zero",
          "traceback": [
            "\u001b[1;31m---------------------------------------------------------------------------\u001b[0m",
            "\u001b[1;31mZeroDivisionError\u001b[0m                         Traceback (most recent call last)",
            "\u001b[1;32m<ipython-input-3-7863b8cc0102>\u001b[0m in \u001b[0;36m<module>\u001b[1;34m\u001b[0m\n\u001b[1;32m----> 1\u001b[1;33m \u001b[0mnx\u001b[0m\u001b[1;33m(\u001b[0m\u001b[1;36m1\u001b[0m\u001b[1;33m,\u001b[0m\u001b[1;36m3\u001b[0m\u001b[1;33m)\u001b[0m\u001b[1;33m\u001b[0m\u001b[1;33m\u001b[0m\u001b[0m\n\u001b[0m",
            "\u001b[1;32m<ipython-input-2-2db7a5267c1d>\u001b[0m in \u001b[0;36mnx\u001b[1;34m(a, b)\u001b[0m\n\u001b[0;32m      2\u001b[0m     \u001b[0mx\u001b[0m\u001b[1;33m=\u001b[0m\u001b[0ma\u001b[0m\u001b[1;33m-\u001b[0m\u001b[1;36m1\u001b[0m\u001b[1;33m\u001b[0m\u001b[1;33m\u001b[0m\u001b[0m\n\u001b[0;32m      3\u001b[0m     \u001b[0my\u001b[0m\u001b[1;33m=\u001b[0m\u001b[0mb\u001b[0m\u001b[1;33m\u001b[0m\u001b[1;33m\u001b[0m\u001b[0m\n\u001b[1;32m----> 4\u001b[1;33m     \u001b[0mfunction\u001b[0m\u001b[1;33m(\u001b[0m\u001b[0mx\u001b[0m\u001b[1;33m,\u001b[0m\u001b[0my\u001b[0m\u001b[1;33m)\u001b[0m\u001b[1;33m\u001b[0m\u001b[1;33m\u001b[0m\u001b[0m\n\u001b[0m\u001b[0;32m      5\u001b[0m \u001b[1;32mdef\u001b[0m \u001b[0mfunction\u001b[0m\u001b[1;33m(\u001b[0m\u001b[0mx\u001b[0m\u001b[1;33m,\u001b[0m\u001b[0my\u001b[0m\u001b[1;33m)\u001b[0m\u001b[1;33m:\u001b[0m\u001b[1;33m\u001b[0m\u001b[1;33m\u001b[0m\u001b[0m\n\u001b[0;32m      6\u001b[0m     \u001b[1;32mreturn\u001b[0m \u001b[0my\u001b[0m\u001b[1;33m/\u001b[0m\u001b[0mx\u001b[0m\u001b[1;33m\u001b[0m\u001b[1;33m\u001b[0m\u001b[0m\n",
            "\u001b[1;32m<ipython-input-2-2db7a5267c1d>\u001b[0m in \u001b[0;36mfunction\u001b[1;34m(x, y)\u001b[0m\n\u001b[0;32m      4\u001b[0m     \u001b[0mfunction\u001b[0m\u001b[1;33m(\u001b[0m\u001b[0mx\u001b[0m\u001b[1;33m,\u001b[0m\u001b[0my\u001b[0m\u001b[1;33m)\u001b[0m\u001b[1;33m\u001b[0m\u001b[1;33m\u001b[0m\u001b[0m\n\u001b[0;32m      5\u001b[0m \u001b[1;32mdef\u001b[0m \u001b[0mfunction\u001b[0m\u001b[1;33m(\u001b[0m\u001b[0mx\u001b[0m\u001b[1;33m,\u001b[0m\u001b[0my\u001b[0m\u001b[1;33m)\u001b[0m\u001b[1;33m:\u001b[0m\u001b[1;33m\u001b[0m\u001b[1;33m\u001b[0m\u001b[0m\n\u001b[1;32m----> 6\u001b[1;33m     \u001b[1;32mreturn\u001b[0m \u001b[0my\u001b[0m\u001b[1;33m/\u001b[0m\u001b[0mx\u001b[0m\u001b[1;33m\u001b[0m\u001b[1;33m\u001b[0m\u001b[0m\n\u001b[0m",
            "\u001b[1;31mZeroDivisionError\u001b[0m: division by zero"
          ]
        }
      ]
    },
    {
      "cell_type": "code",
      "metadata": {
        "id": "MB4scme1Xwl4",
        "outputId": "33588b69-7d22-41a8-9467-d910afea18bd"
      },
      "source": [
        "%debug #use up and down commands in ipdb prompt to navigate through the code"
      ],
      "execution_count": null,
      "outputs": [
        {
          "output_type": "stream",
          "text": [
            "> \u001b[1;32m<ipython-input-2-2db7a5267c1d>\u001b[0m(6)\u001b[0;36mfunction\u001b[1;34m()\u001b[0m\n",
            "\u001b[1;32m      2 \u001b[1;33m    \u001b[0mx\u001b[0m\u001b[1;33m=\u001b[0m\u001b[0ma\u001b[0m\u001b[1;33m-\u001b[0m\u001b[1;36m1\u001b[0m\u001b[1;33m\u001b[0m\u001b[1;33m\u001b[0m\u001b[0m\n",
            "\u001b[0m\u001b[1;32m      3 \u001b[1;33m    \u001b[0my\u001b[0m\u001b[1;33m=\u001b[0m\u001b[0mb\u001b[0m\u001b[1;33m\u001b[0m\u001b[1;33m\u001b[0m\u001b[0m\n",
            "\u001b[0m\u001b[1;32m      4 \u001b[1;33m    \u001b[0mfunction\u001b[0m\u001b[1;33m(\u001b[0m\u001b[0mx\u001b[0m\u001b[1;33m,\u001b[0m\u001b[0my\u001b[0m\u001b[1;33m)\u001b[0m\u001b[1;33m\u001b[0m\u001b[1;33m\u001b[0m\u001b[0m\n",
            "\u001b[0m\u001b[1;32m      5 \u001b[1;33m\u001b[1;32mdef\u001b[0m \u001b[0mfunction\u001b[0m\u001b[1;33m(\u001b[0m\u001b[0mx\u001b[0m\u001b[1;33m,\u001b[0m\u001b[0my\u001b[0m\u001b[1;33m)\u001b[0m\u001b[1;33m:\u001b[0m\u001b[1;33m\u001b[0m\u001b[1;33m\u001b[0m\u001b[0m\n",
            "\u001b[0m\u001b[1;32m----> 6 \u001b[1;33m    \u001b[1;32mreturn\u001b[0m \u001b[0my\u001b[0m\u001b[1;33m/\u001b[0m\u001b[0mx\u001b[0m\u001b[1;33m\u001b[0m\u001b[1;33m\u001b[0m\u001b[0m\n",
            "\u001b[0m\n"
          ],
          "name": "stdout"
        },
        {
          "output_type": "stream",
          "text": [
            "ipdb>  up\n"
          ],
          "name": "stdin"
        },
        {
          "output_type": "stream",
          "text": [
            "> \u001b[1;32m<ipython-input-2-2db7a5267c1d>\u001b[0m(4)\u001b[0;36mnx\u001b[1;34m()\u001b[0m\n",
            "\u001b[1;32m      2 \u001b[1;33m    \u001b[0mx\u001b[0m\u001b[1;33m=\u001b[0m\u001b[0ma\u001b[0m\u001b[1;33m-\u001b[0m\u001b[1;36m1\u001b[0m\u001b[1;33m\u001b[0m\u001b[1;33m\u001b[0m\u001b[0m\n",
            "\u001b[0m\u001b[1;32m      3 \u001b[1;33m    \u001b[0my\u001b[0m\u001b[1;33m=\u001b[0m\u001b[0mb\u001b[0m\u001b[1;33m\u001b[0m\u001b[1;33m\u001b[0m\u001b[0m\n",
            "\u001b[0m\u001b[1;32m----> 4 \u001b[1;33m    \u001b[0mfunction\u001b[0m\u001b[1;33m(\u001b[0m\u001b[0mx\u001b[0m\u001b[1;33m,\u001b[0m\u001b[0my\u001b[0m\u001b[1;33m)\u001b[0m\u001b[1;33m\u001b[0m\u001b[1;33m\u001b[0m\u001b[0m\n",
            "\u001b[0m\u001b[1;32m      5 \u001b[1;33m\u001b[1;32mdef\u001b[0m \u001b[0mfunction\u001b[0m\u001b[1;33m(\u001b[0m\u001b[0mx\u001b[0m\u001b[1;33m,\u001b[0m\u001b[0my\u001b[0m\u001b[1;33m)\u001b[0m\u001b[1;33m:\u001b[0m\u001b[1;33m\u001b[0m\u001b[1;33m\u001b[0m\u001b[0m\n",
            "\u001b[0m\u001b[1;32m      6 \u001b[1;33m    \u001b[1;32mreturn\u001b[0m \u001b[0my\u001b[0m\u001b[1;33m/\u001b[0m\u001b[0mx\u001b[0m\u001b[1;33m\u001b[0m\u001b[1;33m\u001b[0m\u001b[0m\n",
            "\u001b[0m\n"
          ],
          "name": "stdout"
        },
        {
          "output_type": "stream",
          "text": [
            "ipdb>  up\n"
          ],
          "name": "stdin"
        },
        {
          "output_type": "stream",
          "text": [
            "> \u001b[1;32m<ipython-input-3-7863b8cc0102>\u001b[0m(1)\u001b[0;36m<module>\u001b[1;34m()\u001b[0m\n",
            "\u001b[1;32m----> 1 \u001b[1;33m\u001b[0mnx\u001b[0m\u001b[1;33m(\u001b[0m\u001b[1;36m1\u001b[0m\u001b[1;33m,\u001b[0m\u001b[1;36m3\u001b[0m\u001b[1;33m)\u001b[0m\u001b[1;33m\u001b[0m\u001b[1;33m\u001b[0m\u001b[0m\n",
            "\u001b[0m\n"
          ],
          "name": "stdout"
        },
        {
          "output_type": "stream",
          "text": [
            "ipdb>  up\n"
          ],
          "name": "stdin"
        },
        {
          "output_type": "stream",
          "text": [
            "*** Oldest frame\n"
          ],
          "name": "stdout"
        },
        {
          "output_type": "stream",
          "text": [
            "ipdb>  down\n"
          ],
          "name": "stdin"
        },
        {
          "output_type": "stream",
          "text": [
            "> \u001b[1;32m<ipython-input-2-2db7a5267c1d>\u001b[0m(4)\u001b[0;36mnx\u001b[1;34m()\u001b[0m\n",
            "\u001b[1;32m      2 \u001b[1;33m    \u001b[0mx\u001b[0m\u001b[1;33m=\u001b[0m\u001b[0ma\u001b[0m\u001b[1;33m-\u001b[0m\u001b[1;36m1\u001b[0m\u001b[1;33m\u001b[0m\u001b[1;33m\u001b[0m\u001b[0m\n",
            "\u001b[0m\u001b[1;32m      3 \u001b[1;33m    \u001b[0my\u001b[0m\u001b[1;33m=\u001b[0m\u001b[0mb\u001b[0m\u001b[1;33m\u001b[0m\u001b[1;33m\u001b[0m\u001b[0m\n",
            "\u001b[0m\u001b[1;32m----> 4 \u001b[1;33m    \u001b[0mfunction\u001b[0m\u001b[1;33m(\u001b[0m\u001b[0mx\u001b[0m\u001b[1;33m,\u001b[0m\u001b[0my\u001b[0m\u001b[1;33m)\u001b[0m\u001b[1;33m\u001b[0m\u001b[1;33m\u001b[0m\u001b[0m\n",
            "\u001b[0m\u001b[1;32m      5 \u001b[1;33m\u001b[1;32mdef\u001b[0m \u001b[0mfunction\u001b[0m\u001b[1;33m(\u001b[0m\u001b[0mx\u001b[0m\u001b[1;33m,\u001b[0m\u001b[0my\u001b[0m\u001b[1;33m)\u001b[0m\u001b[1;33m:\u001b[0m\u001b[1;33m\u001b[0m\u001b[1;33m\u001b[0m\u001b[0m\n",
            "\u001b[0m\u001b[1;32m      6 \u001b[1;33m    \u001b[1;32mreturn\u001b[0m \u001b[0my\u001b[0m\u001b[1;33m/\u001b[0m\u001b[0mx\u001b[0m\u001b[1;33m\u001b[0m\u001b[1;33m\u001b[0m\u001b[0m\n",
            "\u001b[0m\n"
          ],
          "name": "stdout"
        },
        {
          "output_type": "stream",
          "text": [
            "ipdb>  down\n"
          ],
          "name": "stdin"
        },
        {
          "output_type": "stream",
          "text": [
            "> \u001b[1;32m<ipython-input-2-2db7a5267c1d>\u001b[0m(6)\u001b[0;36mfunction\u001b[1;34m()\u001b[0m\n",
            "\u001b[1;32m      2 \u001b[1;33m    \u001b[0mx\u001b[0m\u001b[1;33m=\u001b[0m\u001b[0ma\u001b[0m\u001b[1;33m-\u001b[0m\u001b[1;36m1\u001b[0m\u001b[1;33m\u001b[0m\u001b[1;33m\u001b[0m\u001b[0m\n",
            "\u001b[0m\u001b[1;32m      3 \u001b[1;33m    \u001b[0my\u001b[0m\u001b[1;33m=\u001b[0m\u001b[0mb\u001b[0m\u001b[1;33m\u001b[0m\u001b[1;33m\u001b[0m\u001b[0m\n",
            "\u001b[0m\u001b[1;32m      4 \u001b[1;33m    \u001b[0mfunction\u001b[0m\u001b[1;33m(\u001b[0m\u001b[0mx\u001b[0m\u001b[1;33m,\u001b[0m\u001b[0my\u001b[0m\u001b[1;33m)\u001b[0m\u001b[1;33m\u001b[0m\u001b[1;33m\u001b[0m\u001b[0m\n",
            "\u001b[0m\u001b[1;32m      5 \u001b[1;33m\u001b[1;32mdef\u001b[0m \u001b[0mfunction\u001b[0m\u001b[1;33m(\u001b[0m\u001b[0mx\u001b[0m\u001b[1;33m,\u001b[0m\u001b[0my\u001b[0m\u001b[1;33m)\u001b[0m\u001b[1;33m:\u001b[0m\u001b[1;33m\u001b[0m\u001b[1;33m\u001b[0m\u001b[0m\n",
            "\u001b[0m\u001b[1;32m----> 6 \u001b[1;33m    \u001b[1;32mreturn\u001b[0m \u001b[0my\u001b[0m\u001b[1;33m/\u001b[0m\u001b[0mx\u001b[0m\u001b[1;33m\u001b[0m\u001b[1;33m\u001b[0m\u001b[0m\n",
            "\u001b[0m\n"
          ],
          "name": "stdout"
        },
        {
          "output_type": "stream",
          "text": [
            "ipdb>  down\n"
          ],
          "name": "stdin"
        },
        {
          "output_type": "stream",
          "text": [
            "*** Newest frame\n"
          ],
          "name": "stdout"
        },
        {
          "output_type": "stream",
          "text": [
            "ipdb>  print(a)\n"
          ],
          "name": "stdin"
        },
        {
          "output_type": "stream",
          "text": [
            "*** NameError: name 'a' is not defined\n"
          ],
          "name": "stdout"
        },
        {
          "output_type": "stream",
          "text": [
            "ipdb>  up\n"
          ],
          "name": "stdin"
        },
        {
          "output_type": "stream",
          "text": [
            "> \u001b[1;32m<ipython-input-2-2db7a5267c1d>\u001b[0m(4)\u001b[0;36mnx\u001b[1;34m()\u001b[0m\n",
            "\u001b[1;32m      2 \u001b[1;33m    \u001b[0mx\u001b[0m\u001b[1;33m=\u001b[0m\u001b[0ma\u001b[0m\u001b[1;33m-\u001b[0m\u001b[1;36m1\u001b[0m\u001b[1;33m\u001b[0m\u001b[1;33m\u001b[0m\u001b[0m\n",
            "\u001b[0m\u001b[1;32m      3 \u001b[1;33m    \u001b[0my\u001b[0m\u001b[1;33m=\u001b[0m\u001b[0mb\u001b[0m\u001b[1;33m\u001b[0m\u001b[1;33m\u001b[0m\u001b[0m\n",
            "\u001b[0m\u001b[1;32m----> 4 \u001b[1;33m    \u001b[0mfunction\u001b[0m\u001b[1;33m(\u001b[0m\u001b[0mx\u001b[0m\u001b[1;33m,\u001b[0m\u001b[0my\u001b[0m\u001b[1;33m)\u001b[0m\u001b[1;33m\u001b[0m\u001b[1;33m\u001b[0m\u001b[0m\n",
            "\u001b[0m\u001b[1;32m      5 \u001b[1;33m\u001b[1;32mdef\u001b[0m \u001b[0mfunction\u001b[0m\u001b[1;33m(\u001b[0m\u001b[0mx\u001b[0m\u001b[1;33m,\u001b[0m\u001b[0my\u001b[0m\u001b[1;33m)\u001b[0m\u001b[1;33m:\u001b[0m\u001b[1;33m\u001b[0m\u001b[1;33m\u001b[0m\u001b[0m\n",
            "\u001b[0m\u001b[1;32m      6 \u001b[1;33m    \u001b[1;32mreturn\u001b[0m \u001b[0my\u001b[0m\u001b[1;33m/\u001b[0m\u001b[0mx\u001b[0m\u001b[1;33m\u001b[0m\u001b[1;33m\u001b[0m\u001b[0m\n",
            "\u001b[0m\n"
          ],
          "name": "stdout"
        },
        {
          "output_type": "stream",
          "text": [
            "ipdb>  print(x,y)\n"
          ],
          "name": "stdin"
        },
        {
          "output_type": "stream",
          "text": [
            "0 3\n"
          ],
          "name": "stdout"
        },
        {
          "output_type": "stream",
          "text": [
            "ipdb>  up\n"
          ],
          "name": "stdin"
        },
        {
          "output_type": "stream",
          "text": [
            "> \u001b[1;32m<ipython-input-3-7863b8cc0102>\u001b[0m(1)\u001b[0;36m<module>\u001b[1;34m()\u001b[0m\n",
            "\u001b[1;32m----> 1 \u001b[1;33m\u001b[0mnx\u001b[0m\u001b[1;33m(\u001b[0m\u001b[1;36m1\u001b[0m\u001b[1;33m,\u001b[0m\u001b[1;36m3\u001b[0m\u001b[1;33m)\u001b[0m\u001b[1;33m\u001b[0m\u001b[1;33m\u001b[0m\u001b[0m\n",
            "\u001b[0m\n"
          ],
          "name": "stdout"
        },
        {
          "output_type": "stream",
          "text": [
            "ipdb>  nx(1,3)\n"
          ],
          "name": "stdin"
        },
        {
          "output_type": "stream",
          "text": [
            "*** ZeroDivisionError: division by zero\n"
          ],
          "name": "stdout"
        },
        {
          "output_type": "stream",
          "text": [
            "ipdb>  quit\n"
          ],
          "name": "stdin"
        }
      ]
    },
    {
      "cell_type": "code",
      "metadata": {
        "id": "7WMsQY82Xwl-",
        "outputId": "38f643d4-569a-43d1-8216-e86c95d2015b"
      },
      "source": [
        "%xmode plain\n",
        "%pdb on\n",
        "nx(1,3) # if you want to open the debugger automatically whenever an error is raised \n",
        "#if there is no error the pdb will not open"
      ],
      "execution_count": null,
      "outputs": [
        {
          "output_type": "stream",
          "text": [
            "Exception reporting mode: Plain\n",
            "Automatic pdb calling has been turned ON\n"
          ],
          "name": "stdout"
        },
        {
          "output_type": "error",
          "ename": "ZeroDivisionError",
          "evalue": "division by zero",
          "traceback": [
            "Traceback \u001b[1;36m(most recent call last)\u001b[0m:\n",
            "  File \u001b[0;32m\"<ipython-input-6-ec643d52d2bd>\"\u001b[0m, line \u001b[0;32m3\u001b[0m, in \u001b[0;35m<module>\u001b[0m\n    nx(1,3)\n",
            "  File \u001b[0;32m\"<ipython-input-2-2db7a5267c1d>\"\u001b[0m, line \u001b[0;32m4\u001b[0m, in \u001b[0;35mnx\u001b[0m\n    function(x,y)\n",
            "\u001b[1;36m  File \u001b[1;32m\"<ipython-input-2-2db7a5267c1d>\"\u001b[1;36m, line \u001b[1;32m6\u001b[1;36m, in \u001b[1;35mfunction\u001b[1;36m\u001b[0m\n\u001b[1;33m    return y/x\u001b[0m\n",
            "\u001b[1;31mZeroDivisionError\u001b[0m\u001b[1;31m:\u001b[0m division by zero\n"
          ]
        },
        {
          "output_type": "stream",
          "text": [
            "> \u001b[1;32m<ipython-input-2-2db7a5267c1d>\u001b[0m(6)\u001b[0;36mfunction\u001b[1;34m()\u001b[0m\n",
            "\u001b[1;32m      2 \u001b[1;33m    \u001b[0mx\u001b[0m\u001b[1;33m=\u001b[0m\u001b[0ma\u001b[0m\u001b[1;33m-\u001b[0m\u001b[1;36m1\u001b[0m\u001b[1;33m\u001b[0m\u001b[1;33m\u001b[0m\u001b[0m\n",
            "\u001b[0m\u001b[1;32m      3 \u001b[1;33m    \u001b[0my\u001b[0m\u001b[1;33m=\u001b[0m\u001b[0mb\u001b[0m\u001b[1;33m\u001b[0m\u001b[1;33m\u001b[0m\u001b[0m\n",
            "\u001b[0m\u001b[1;32m      4 \u001b[1;33m    \u001b[0mfunction\u001b[0m\u001b[1;33m(\u001b[0m\u001b[0mx\u001b[0m\u001b[1;33m,\u001b[0m\u001b[0my\u001b[0m\u001b[1;33m)\u001b[0m\u001b[1;33m\u001b[0m\u001b[1;33m\u001b[0m\u001b[0m\n",
            "\u001b[0m\u001b[1;32m      5 \u001b[1;33m\u001b[1;32mdef\u001b[0m \u001b[0mfunction\u001b[0m\u001b[1;33m(\u001b[0m\u001b[0mx\u001b[0m\u001b[1;33m,\u001b[0m\u001b[0my\u001b[0m\u001b[1;33m)\u001b[0m\u001b[1;33m:\u001b[0m\u001b[1;33m\u001b[0m\u001b[1;33m\u001b[0m\u001b[0m\n",
            "\u001b[0m\u001b[1;32m----> 6 \u001b[1;33m    \u001b[1;32mreturn\u001b[0m \u001b[0my\u001b[0m\u001b[1;33m/\u001b[0m\u001b[0mx\u001b[0m\u001b[1;33m\u001b[0m\u001b[1;33m\u001b[0m\u001b[0m\n",
            "\u001b[0m\n"
          ],
          "name": "stdout"
        },
        {
          "output_type": "stream",
          "text": [
            "ipdb>  quit\n"
          ],
          "name": "stdin"
        }
      ]
    },
    {
      "cell_type": "code",
      "metadata": {
        "id": "Lb0-dWxHXwmJ",
        "outputId": "a3d5f2ed-e848-4c90-f799-f917145adc9c"
      },
      "source": [
        "%xmode plain\n",
        "%pdb on\n",
        "nx(2,2) # since there is no exception in this case so pdb is not opened "
      ],
      "execution_count": null,
      "outputs": [
        {
          "output_type": "stream",
          "text": [
            "Exception reporting mode: Plain\n",
            "Automatic pdb calling has been turned ON\n"
          ],
          "name": "stdout"
        }
      ]
    },
    {
      "cell_type": "code",
      "metadata": {
        "id": "6RWBLEEUXwmP"
      },
      "source": [
        "#if you have a script that you’d like to run from the beginning in interactive\n",
        "#mode, you can run it with the command %run -d, and use the next command to step\n",
        "#through the lines of code interactively."
      ],
      "execution_count": null,
      "outputs": []
    },
    {
      "cell_type": "code",
      "metadata": {
        "id": "BXozRcquXwmW"
      },
      "source": [
        "#there are some debugging commands in the page 24 Jake Vanderplas Book "
      ],
      "execution_count": null,
      "outputs": []
    },
    {
      "cell_type": "code",
      "metadata": {
        "id": "-QGwoTzkXwmd"
      },
      "source": [
        "#TIMING CODE SNIPPETS\n",
        "#%timeit and %time \n",
        "#let's make a function then apply timeit \n",
        "def sum(n):\n",
        "    x=0\n",
        "    for i in range(n):\n",
        "        x=x+i\n",
        "    return x"
      ],
      "execution_count": null,
      "outputs": []
    },
    {
      "cell_type": "code",
      "metadata": {
        "id": "d2r-_d36Xwmk",
        "outputId": "801d21e7-679e-409e-fdcf-54bd54d08bb7"
      },
      "source": [
        "%automagic"
      ],
      "execution_count": null,
      "outputs": [
        {
          "output_type": "stream",
          "text": [
            "\n",
            "Automagic is ON, % prefix IS NOT needed for line magics.\n"
          ],
          "name": "stdout"
        }
      ]
    },
    {
      "cell_type": "code",
      "metadata": {
        "id": "YIOxA4QdXwmq",
        "outputId": "6741d479-75ee-47dd-eb62-f7ca9c250955"
      },
      "source": [
        "timeit sum(100)\n",
        "#Note that because this operation is so fast, %timeit automatically does a large number\n",
        "#of repetitions. For slower commands, %timeit will automatically adjust and perform\n",
        "#fewer repetitions \n",
        "#here 100000 loops "
      ],
      "execution_count": null,
      "outputs": [
        {
          "output_type": "stream",
          "text": [
            "9.61 µs ± 211 ns per loop (mean ± std. dev. of 7 runs, 100000 loops each)\n"
          ],
          "name": "stdout"
        }
      ]
    },
    {
      "cell_type": "code",
      "metadata": {
        "id": "ofWt158sXwmw",
        "outputId": "934d4c6b-29d7-4f89-a1f0-5381543138d5"
      },
      "source": [
        "time sum(100)"
      ],
      "execution_count": null,
      "outputs": [
        {
          "output_type": "stream",
          "text": [
            "Wall time: 0 ns\n"
          ],
          "name": "stdout"
        },
        {
          "output_type": "execute_result",
          "data": {
            "text/plain": [
              "4950"
            ]
          },
          "metadata": {
            "tags": []
          },
          "execution_count": 15
        }
      ]
    },
    {
      "cell_type": "code",
      "metadata": {
        "id": "1-pKb_HBXwm3",
        "outputId": "9dcafcf8-265e-4bb9-efc0-a40797af1811"
      },
      "source": [
        "%%timeit\n",
        "sum=0\n",
        "for x in range(100):\n",
        "    for y in range(100):\n",
        "        for z in range(100):\n",
        "            sum=x+y\n",
        "#Note that because this operation is so fast, %timeit automatically does a large number\n",
        "#of repetitions. For slower commands, %timeit will automatically adjust and perform\n",
        "#fewer repetitions \n",
        "#here 10 loops beacuse the operation is slow "
      ],
      "execution_count": null,
      "outputs": [
        {
          "output_type": "stream",
          "text": [
            "74.9 ms ± 1.9 ms per loop (mean ± std. dev. of 7 runs, 10 loops each)\n"
          ],
          "name": "stdout"
        }
      ]
    },
    {
      "cell_type": "code",
      "metadata": {
        "id": "zZUXmsdxXwm9",
        "outputId": "93cc5686-fe7e-4b60-adb4-232392f7d4ae"
      },
      "source": [
        "import random\n",
        "n=[random.randint(1,100000) for x in range(100000)]\n",
        "%timeit n.sort()"
      ],
      "execution_count": null,
      "outputs": [
        {
          "output_type": "stream",
          "text": [
            "2 ms ± 80.2 µs per loop (mean ± std. dev. of 7 runs, 1000 loops each)\n"
          ],
          "name": "stdout"
        }
      ]
    },
    {
      "cell_type": "code",
      "metadata": {
        "id": "G2DmwOtUXwnF",
        "outputId": "691eb19b-4cc8-4680-aa84-993dc042c147"
      },
      "source": [
        "import random\n",
        "n=[random.randint(1,100000) for x in range(100000)]\n",
        "%time n.sort()"
      ],
      "execution_count": null,
      "outputs": [
        {
          "output_type": "stream",
          "text": [
            "Wall time: 39.6 ms\n"
          ],
          "name": "stdout"
        }
      ]
    },
    {
      "cell_type": "code",
      "metadata": {
        "id": "23sDFDh5XwnM",
        "outputId": "613349dd-015e-4645-f7d3-b8df4dd0b30b"
      },
      "source": [
        "timeit n.sort()"
      ],
      "execution_count": null,
      "outputs": [
        {
          "output_type": "stream",
          "text": [
            "2.23 ms ± 174 µs per loop (mean ± std. dev. of 7 runs, 100 loops each)\n"
          ],
          "name": "stdout"
        }
      ]
    },
    {
      "cell_type": "code",
      "metadata": {
        "id": "2V1fT-p0XwnT",
        "outputId": "036432c4-6179-4600-e637-c3c7c85f7977"
      },
      "source": [
        "time n.sort()"
      ],
      "execution_count": null,
      "outputs": [
        {
          "output_type": "stream",
          "text": [
            "Wall time: 1e+03 µs\n"
          ],
          "name": "stdout"
        }
      ]
    },
    {
      "cell_type": "code",
      "metadata": {
        "id": "bFToFrp5Xwnf"
      },
      "source": [
        "#from above 4 cells of code it is clear that sometimes we need to use %time instead of %timeit but in most of the cases when short, system related delays are unlikely to affect the result "
      ],
      "execution_count": null,
      "outputs": []
    },
    {
      "cell_type": "code",
      "metadata": {
        "id": "E9_Ql1zFXwnm"
      },
      "source": [
        "#Notice how much faster the presorted list is to sort, but notice also how much longer\n",
        "#the timing takes with %time versus %timeit, even for the presorted list! This is a\n",
        "#result of the fact that %timeit does some clever things under the hood to prevent sys‐\n",
        "#tem calls from interfering with the timing. For example, it prevents cleanup of unused\n",
        "#Python objects (known as garbage collection) that might otherwise affect the timing.\n",
        "#For this reason, %timeit results are usually noticeably faster than %time results "
      ],
      "execution_count": null,
      "outputs": []
    },
    {
      "cell_type": "code",
      "metadata": {
        "id": "tuZKBZIZXwns"
      },
      "source": [
        "def num(n):\n",
        "    import random\n",
        "    numbers=[random.random() for x in range(n)]\n",
        "    return numbers"
      ],
      "execution_count": null,
      "outputs": []
    },
    {
      "cell_type": "code",
      "metadata": {
        "id": "mdoxWu0tXwnx",
        "outputId": "68782f1c-b836-47bf-e4c8-798a6ff99285"
      },
      "source": [
        "prun num(1000000)\n",
        "#A program is made of many single statements, and sometimes timing these state‐\n",
        "#ments in context is more important than timing them on their own. Python contains\n",
        "#a built-in code profiler (which you can read about in the Python documentation), but\n",
        "#IPython offers a much more convenient way to use this profiler, in the form of the\n",
        "#magic function %prun "
      ],
      "execution_count": null,
      "outputs": [
        {
          "output_type": "stream",
          "text": [
            " "
          ],
          "name": "stdout"
        },
        {
          "output_type": "display_data",
          "data": {
            "text/plain": [
              "         1000005 function calls in 0.340 seconds\n",
              "\n",
              "   Ordered by: internal time\n",
              "\n",
              "   ncalls  tottime  percall  cumtime  percall filename:lineno(function)\n",
              "        1    0.236    0.236    0.325    0.325 <ipython-input-3-fdb27e7924a7>:3(<listcomp>)\n",
              "  1000000    0.089    0.000    0.089    0.000 {method 'random' of '_random.Random' objects}\n",
              "        1    0.015    0.015    0.340    0.340 <string>:1(<module>)\n",
              "        1    0.000    0.000    0.340    0.340 {built-in method builtins.exec}\n",
              "        1    0.000    0.000    0.325    0.325 <ipython-input-3-fdb27e7924a7>:1(num)\n",
              "        1    0.000    0.000    0.000    0.000 {method 'disable' of '_lsprof.Profiler' objects}"
            ]
          },
          "metadata": {
            "tags": []
          }
        }
      ]
    },
    {
      "cell_type": "code",
      "metadata": {
        "id": "vzoNanPHXwn5"
      },
      "source": [
        "#The result is a table that indicates, in order of total time on each function call, where\n",
        "#the execution is spending the most time. In this case, the bulk of execution time is in\n",
        "#the list comprehension inside sum_of_lists. From here, we could start thinking\n",
        "#about what changes we might make to improve the performance in the algorithm "
      ],
      "execution_count": null,
      "outputs": []
    },
    {
      "cell_type": "code",
      "metadata": {
        "id": "DX019ataXwoB"
      },
      "source": [
        "#LINE BY LINE PROFILING WITH %lprun\n",
        "#to install line_profiler write 'pip install line_profiler' in a system shell\n",
        "#%load_ext line_profiler for loading line_profiler IPython extension \n",
        "#%lprun -f num(100) to get the line by line profiling of code "
      ],
      "execution_count": null,
      "outputs": []
    },
    {
      "cell_type": "code",
      "metadata": {
        "id": "6B9FISpYXwoH"
      },
      "source": [
        "#PROFILING MEMORY USE\n",
        "#%memit and %mprun\n",
        "#Another aspect of profiling is the amount of memory an operation uses. This can be evaluated with another IPython extension, the memory_profiler \n",
        "#to install memory_profiler \n",
        "#pip install memory_profiler in a shell\n",
        "#load_ext memory_profiler \n",
        "#%memit num(1000)\n",
        "#this gives how much memory an operation uses"
      ],
      "execution_count": null,
      "outputs": []
    },
    {
      "cell_type": "code",
      "metadata": {
        "id": "s7YxcR9NXwoN",
        "outputId": "bf853680-f9c0-40d5-a9fd-32e92ba4e499"
      },
      "source": [
        "#%mprun\n",
        "#For a line-by-line description of memory use, we can use the %mprun magic. Unfortu‐\n",
        "#nately, this magic works only for functions defined in separate modules rather than\n",
        "#the notebook itself, so we’ll start by using the %%file magic to create a simple module\n",
        "#called 'my_module.py'\n",
        "%%file my_module.py #makes an module containing the code below\n",
        "def num(n):\n",
        "    import random\n",
        "    numbers=[random.random() for x in range(n)]\n",
        "    return numbers\n",
        "#the above code should be written in ipython shell\n",
        "#then import the module and the function num(n)\n",
        "#from my_module import num\n",
        "#%mprun -f num num(1000) gives the line by line memory usage for the function"
      ],
      "execution_count": null,
      "outputs": [
        {
          "output_type": "stream",
          "text": [
            "UsageError: Line magic function `%%file` not found.\n"
          ],
          "name": "stderr"
        }
      ]
    },
    {
      "cell_type": "code",
      "metadata": {
        "id": "G8V5ZtXJXwoZ"
      },
      "source": [
        "#LINE PROFILING AND MEMORY PROFILING IS IMPORTANT"
      ],
      "execution_count": null,
      "outputs": []
    },
    {
      "cell_type": "code",
      "metadata": {
        "id": "Tk-iHvIHXwon"
      },
      "source": [
        ""
      ],
      "execution_count": null,
      "outputs": []
    }
  ]
}