{
  "cells": [
    {
      "cell_type": "code",
      "execution_count": null,
      "metadata": {
        "id": "qSHvrSoUbyMl"
      },
      "outputs": [],
      "source": [
        "class Node:\n",
        "    def __init__(self, value):\n",
        "        self.value = value\n",
        "        self.next = None\n",
        "\n",
        "class SingleLinkedList:\n",
        "    def __init__(self):\n",
        "        self.head = None\n",
        "        self.size = 0\n",
        "        \n",
        "    def append_node(self, value):\n",
        "        node = Node(value)\n",
        "        if self.head is None:\n",
        "            self.head = node\n",
        "        else:\n",
        "            temp_node = self.head\n",
        "            while temp_node.next is not None:\n",
        "                temp_node = temp_node.next\n",
        "            temp_node.next = node\n",
        "            self.size += 1\n",
        "    def add_first(self, value):\n",
        "        node = Node(value)\n",
        "        temp_node = self.head\n",
        "        self.head = node\n",
        "        node.next = temp_node\n",
        "        self.size += 1\n",
        "    def add_after_spec_val(self, search_value, newnode_value):\n",
        "        new_node = Node(newnode_value)\n",
        "        node = self.head \n",
        "        while node is not None:\n",
        "            if node.value == search_value:\n",
        "                temp_node = node.next\n",
        "                node.next = new_node\n",
        "                new_node.next = temp_node\n",
        "                break\n",
        "            node = node.next\n",
        "        self.size += 1\n",
        "    def add_after_spec_pos(self, search_pos, newnode_value):\n",
        "        new_node = Node(newnode_value)\n",
        "        node = self.head\n",
        "        count = 0\n",
        "        while node is not None:\n",
        "            if count == search_pos:\n",
        "                temp_node = node.next\n",
        "                node.next = new_node\n",
        "                new_node.next = temp_node\n",
        "            node = node.next\n",
        "            count += 1\n",
        "        self.size += 1\n",
        "    def add_sublist_spec_pos(self, sublist, pos):\n",
        "        #add a sublist to after a specific position\n",
        "        #suppose your current linked list is [1,2,3,7,8,9,10]\n",
        "        #after successful execution of this function given a linked list [4,5,6] and position 2\n",
        "        #the output should be [1,2,3,4,5,6,7,8,9,10]\n",
        "        pass\n",
        "    def update_values_of_sublist(self, list_of_vals, pos1, pos2):\n",
        "        #update values of a sublist in the linked list\n",
        "        #suppose you have this linked list [1,2,3,3,3,3,3,3]\n",
        "        #params : pos1 = 2, pos2 = 5, list of vals = [10,20,30,40]\n",
        "        #output : [1,2,10,20,30,40,3,3]\n",
        "        pass\n",
        "    def update_value(self, current_value, new_value):\n",
        "        temp_node = self.head\n",
        "        while temp_node is not None:\n",
        "            if temp_node.value == current_value:\n",
        "                temp_node.value = new_value\n",
        "            temp_node = temp_node.next\n",
        "    def merge_two_lists(self, new_list):\n",
        "        list1_node = self.head\n",
        "        while list1_node.next is not None:\n",
        "            list1_node = list1_node.next\n",
        "        list1_node.next = new_list.head\n",
        "        self.size += new_list.size\n",
        "    def reverse_list(self):\n",
        "        vals = []\n",
        "        temp_node = self.head\n",
        "        while temp_node is not None:\n",
        "            vals.append(temp_node.value)\n",
        "            temp_node = temp_node.next\n",
        "        vals.reverse()\n",
        "        temp_node = self.head\n",
        "        count = 0\n",
        "        while temp_node is not None:\n",
        "            temp_node.value = vals[count]\n",
        "            temp_node = temp_node.next\n",
        "            count += 1\n",
        "    def remove_first(self):\n",
        "        self.head = self.head.next\n",
        "        self.size -= 1\n",
        "    def remove_last(self):\n",
        "        node = self.head\n",
        "        while node.next is not None:\n",
        "            node = node.next\n",
        "        node = None\n",
        "    def remove_given_pos(self, pos):\n",
        "        pos = pos-1\n",
        "        count = 0\n",
        "        temp_node = self.head\n",
        "        while temp_node.next is not None:\n",
        "            if count == pos:\n",
        "                if temp_node == self.head:\n",
        "                    self.remove_first()\n",
        "                    break\n",
        "                else:\n",
        "                    temp_next_node = temp_node.next.next\n",
        "                    temp_node.next = temp_next_node\n",
        "                    self.size -= 1\n",
        "                    break\n",
        "            if temp_node.next is None:\n",
        "                self.remove_last()\n",
        "            temp_node = temp_node.next\n",
        "            count += 1\n",
        "    def remove_given_val(self, value):\n",
        "        temp_node = self.head\n",
        "        while temp_node is not None:\n",
        "            if self.head.value == value:\n",
        "                self.head = self.head.next\n",
        "                self.size -= 1\n",
        "                break\n",
        "            elif temp_node.next is None and temp_node.value == value:\n",
        "                temp_node = None\n",
        "                self.size -= 1\n",
        "                break\n",
        "            elif temp_node.next is not None and temp_node.next.value == value:\n",
        "                temp_next_node = temp_node.next.next\n",
        "                temp_node.next = temp_next_node\n",
        "                self.size -= 1\n",
        "                break\n",
        "            temp_node = temp_node.next\n",
        "    def remove_duplicate(self, value):\n",
        "        #removes the duplicates except the first entry\n",
        "        pass\n",
        "    def remove_sublist(self, pos1, pos2):\n",
        "        #removes sublist\n",
        "        pass\n",
        "    def sort_list(self):\n",
        "        #write here\n",
        "        pass\n",
        "    def find_path(self, start_node, end_node):\n",
        "        #write here\n",
        "        pass\n",
        "    def search_value(self, value):\n",
        "        temp_node = self.head\n",
        "        count = 0\n",
        "        while temp_node.next is not None:\n",
        "            if temp_node.value == value:\n",
        "                return f\"the value you are searching for is present in the list, index : {count}, next : {temp_node.next.value}\"\n",
        "            temp_node = temp_node.next\n",
        "            count += 1\n",
        "    def traverse(self):\n",
        "        vals = []\n",
        "        temp_node = self.head\n",
        "        while temp_node is not None:\n",
        "            vals.append(temp_node.value)\n",
        "            temp_node = temp_node.next\n",
        "        return vals\n",
        "    def __str__(self):\n",
        "        values = []\n",
        "        temp_node = self.head\n",
        "        while temp_node is not None:\n",
        "            values.append(temp_node.value)\n",
        "            temp_node = temp_node.next\n",
        "        return f\"[{'-->'.join (str(val) for val in values)}]\""
      ]
    },
    {
      "cell_type": "code",
      "execution_count": null,
      "metadata": {
        "id": "8rj5BK2JbyM5"
      },
      "outputs": [],
      "source": [
        "slist = SingleLinkedList()"
      ]
    },
    {
      "cell_type": "code",
      "execution_count": null,
      "metadata": {
        "id": "VUQtynNIbyM6"
      },
      "outputs": [],
      "source": [
        "slist.append_node(1)\n",
        "slist.append_node(2)\n",
        "slist.append_node(3)\n",
        "slist.append_node(4)\n",
        "slist.append_node(4)"
      ]
    },
    {
      "cell_type": "code",
      "execution_count": null,
      "metadata": {
        "id": "J8GznUnjbyM8"
      },
      "outputs": [],
      "source": [
        "slist.update_value(3,123)"
      ]
    },
    {
      "cell_type": "code",
      "execution_count": null,
      "metadata": {
        "id": "Rrwb0VGkbyM9",
        "outputId": "87523b95-673a-410e-c62b-39e060be92a2"
      },
      "outputs": [
        {
          "name": "stdout",
          "output_type": "stream",
          "text": [
            "[1-->2-->123-->4-->4]\n"
          ]
        }
      ],
      "source": [
        "print(slist)"
      ]
    },
    {
      "cell_type": "code",
      "execution_count": null,
      "metadata": {
        "id": "a4oxor6vbyNB"
      },
      "outputs": [],
      "source": [
        "slist2 = SingleLinkedList()"
      ]
    },
    {
      "cell_type": "code",
      "execution_count": null,
      "metadata": {
        "id": "F89MKKCWbyND"
      },
      "outputs": [],
      "source": [
        "slist2.append_node(4)\n",
        "slist2.append_node(2)\n",
        "slist2.append_node(4)\n",
        "slist2.append_node(10)"
      ]
    },
    {
      "cell_type": "code",
      "execution_count": null,
      "metadata": {
        "id": "VB2aWaS2byNG"
      },
      "outputs": [],
      "source": [
        "slist.merge_two_lists(slist2)"
      ]
    },
    {
      "cell_type": "code",
      "execution_count": null,
      "metadata": {
        "id": "Dyu7Pc2kbyNJ",
        "outputId": "5f962bc1-b0bc-41a8-f379-3d8f4308c14a"
      },
      "outputs": [
        {
          "name": "stdout",
          "output_type": "stream",
          "text": [
            "[1-->2-->123-->4-->4-->4-->2-->4-->10]\n"
          ]
        }
      ],
      "source": [
        "print(slist)"
      ]
    },
    {
      "cell_type": "code",
      "execution_count": null,
      "metadata": {
        "id": "WUM5ikFubyNM"
      },
      "outputs": [],
      "source": [
        "slist.reverse_list()"
      ]
    },
    {
      "cell_type": "code",
      "execution_count": null,
      "metadata": {
        "id": "lQVpiSqebyNO",
        "outputId": "dad4c414-6247-461f-bbf0-116bac06cf35"
      },
      "outputs": [
        {
          "name": "stdout",
          "output_type": "stream",
          "text": [
            "[10-->4-->2-->4-->4-->4-->123-->2-->1]\n"
          ]
        }
      ],
      "source": [
        "print(slist)"
      ]
    },
    {
      "cell_type": "code",
      "execution_count": null,
      "metadata": {
        "id": "xFqc9tpVbyNP"
      },
      "outputs": [],
      "source": [
        "slist.remove_last()"
      ]
    },
    {
      "cell_type": "code",
      "execution_count": null,
      "metadata": {
        "id": "MB6ftPscbyNR",
        "outputId": "bbdfaf86-5128-4737-d3cb-f4e451ef89f9"
      },
      "outputs": [
        {
          "name": "stdout",
          "output_type": "stream",
          "text": [
            "[10-->4-->2-->4-->4-->4-->123-->2-->1]\n"
          ]
        }
      ],
      "source": [
        "print(slist)"
      ]
    },
    {
      "cell_type": "code",
      "execution_count": null,
      "metadata": {
        "id": "m5mVIe5KbyNS"
      },
      "outputs": [],
      "source": [
        "slist.remove_given_pos(0)"
      ]
    },
    {
      "cell_type": "code",
      "execution_count": null,
      "metadata": {
        "id": "fhIPLRNxbyNU",
        "outputId": "72493d8f-bd6e-4006-9710-ffc8f07af266"
      },
      "outputs": [
        {
          "name": "stdout",
          "output_type": "stream",
          "text": [
            "[10-->4-->2-->4-->4-->4-->123-->2-->1]\n"
          ]
        }
      ],
      "source": [
        "print(slist)"
      ]
    },
    {
      "cell_type": "code",
      "execution_count": null,
      "metadata": {
        "id": "h4xQrmn-byNV"
      },
      "outputs": [],
      "source": [
        ""
      ]
    }
  ],
  "metadata": {
    "kernelspec": {
      "display_name": "Python 3",
      "language": "python",
      "name": "python3"
    },
    "language_info": {
      "codemirror_mode": {
        "name": "ipython",
        "version": 3
      },
      "file_extension": ".py",
      "mimetype": "text/x-python",
      "name": "python",
      "nbconvert_exporter": "python",
      "pygments_lexer": "ipython3",
      "version": "3.8.5"
    },
    "colab": {
      "name": "non_circular_single_linked_list.ipynb",
      "provenance": []
    }
  },
  "nbformat": 4,
  "nbformat_minor": 0
}