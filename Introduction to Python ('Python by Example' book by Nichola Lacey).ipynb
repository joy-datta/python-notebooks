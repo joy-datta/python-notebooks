{
 "cells": [
  {
   "cell_type": "markdown",
   "metadata": {},
   "source": [
    "# Declare and set the value of a variable"
   ]
  },
  {
   "cell_type": "code",
   "execution_count": 1,
   "metadata": {},
   "outputs": [],
   "source": [
    "#first give a name for the variable and set a value\n",
    "number = 9\n",
    "#remember you can not use Python dedicated words as variable names e.g. 'print', 'except', 'for' etc\n",
    "#also the variable name must not have any space or special character"
   ]
  },
  {
   "cell_type": "markdown",
   "metadata": {},
   "source": [
    "# Operations on the variables"
   ]
  },
  {
   "cell_type": "code",
   "execution_count": 2,
   "metadata": {},
   "outputs": [
    {
     "name": "stdout",
     "output_type": "stream",
     "text": [
      "summation value:  13\n",
      "subtraction value:  7\n",
      "multiplication value:  30\n",
      "division value:  3.3333333333333335\n"
     ]
    }
   ],
   "source": [
    "#first we take 2 numbers\n",
    "num1 = 10\n",
    "num2 = 3\n",
    "#addition operation\n",
    "sum_val = num1 + num2\n",
    "print('summation value: ',sum_val)\n",
    "#subtraction operation\n",
    "sub_val = num1 - num2\n",
    "print('subtraction value: ',sub_val)\n",
    "#multiplication operation\n",
    "mul_val = num1 * num2\n",
    "print('multiplication value: ',mul_val)\n",
    "#division operation\n",
    "div_val = num1 / num2\n",
    "print('division value: ',div_val)"
   ]
  },
  {
   "cell_type": "code",
   "execution_count": 3,
   "metadata": {},
   "outputs": [
    {
     "name": "stdout",
     "output_type": "stream",
     "text": [
      "normal division operation  3.3333333333333335\n",
      "whole number division operation  3\n"
     ]
    }
   ],
   "source": [
    "#whole number division operation\n",
    "print('normal division operation ', num1 / num2)\n",
    "print('whole number division operation ', num1 // num2) #returns the rounded value "
   ]
  },
  {
   "cell_type": "markdown",
   "metadata": {},
   "source": [
    "# Print operations"
   ]
  },
  {
   "cell_type": "code",
   "execution_count": 4,
   "metadata": {},
   "outputs": [
    {
     "name": "stdout",
     "output_type": "stream",
     "text": [
      "this is a line\n"
     ]
    }
   ],
   "source": [
    "print('this is a line')"
   ]
  },
  {
   "cell_type": "code",
   "execution_count": 5,
   "metadata": {},
   "outputs": [
    {
     "name": "stdout",
     "output_type": "stream",
     "text": [
      "this is line number 1\n",
      "this is line number 2\n",
      "this is line number 3\n"
     ]
    }
   ],
   "source": [
    "#using line break to print multiple lines\n",
    "print('this is line number 1\\nthis is line number 2\\nthis is line number 3')"
   ]
  },
  {
   "cell_type": "code",
   "execution_count": 6,
   "metadata": {},
   "outputs": [
    {
     "name": "stdout",
     "output_type": "stream",
     "text": [
      "this is a number  9\n",
      "number 1 : 10 number 2 : 3\n"
     ]
    }
   ],
   "source": [
    "#print a string then an integer\n",
    "print('this is a number ', 9)\n",
    "print('number 1 :',num1, 'number 2 :', num2)"
   ]
  },
  {
   "cell_type": "code",
   "execution_count": 7,
   "metadata": {},
   "outputs": [
    {
     "name": "stdout",
     "output_type": "stream",
     "text": [
      "this is line number 1\n",
      "this is line number 2\n",
      "this is line number 3\n"
     ]
    }
   ],
   "source": [
    "#print multiple lines without using line break\n",
    "print(\"\"\"this is line number 1\n",
    "this is line number 2\n",
    "this is line number 3\"\"\")"
   ]
  },
  {
   "cell_type": "markdown",
   "metadata": {},
   "source": [
    "# Taking input from the user"
   ]
  },
  {
   "cell_type": "code",
   "execution_count": 8,
   "metadata": {},
   "outputs": [
    {
     "name": "stdin",
     "output_type": "stream",
     "text": [
      " 9\n"
     ]
    }
   ],
   "source": [
    "data = input()"
   ]
  },
  {
   "cell_type": "code",
   "execution_count": 9,
   "metadata": {},
   "outputs": [
    {
     "data": {
      "text/plain": [
       "str"
      ]
     },
     "execution_count": 9,
     "metadata": {},
     "output_type": "execute_result"
    }
   ],
   "source": [
    "type(data) #type(variable or value) returns the data type of the variable or the value\n",
    "#if you have not declared the expected data type of the variable then Python will always take the input as a string"
   ]
  },
  {
   "cell_type": "code",
   "execution_count": 10,
   "metadata": {},
   "outputs": [
    {
     "name": "stdin",
     "output_type": "stream",
     "text": [
      "enter a number 9\n"
     ]
    }
   ],
   "source": [
    "#you can display a message whenever you are taking an input\n",
    "number = input('enter a number')"
   ]
  },
  {
   "cell_type": "code",
   "execution_count": 13,
   "metadata": {},
   "outputs": [
    {
     "name": "stdin",
     "output_type": "stream",
     "text": [
      "enter an integer 10\n"
     ]
    }
   ],
   "source": [
    "#you can tell Python that you are expecting only integers while taking input from the user so it will not allow other data types\n",
    "number = int(input('enter an integer'))\n",
    "#if the user enters a string or float etc Python will give a ValueError"
   ]
  },
  {
   "cell_type": "markdown",
   "metadata": {},
   "source": [
    "# If else statements"
   ]
  },
  {
   "cell_type": "code",
   "execution_count": 14,
   "metadata": {},
   "outputs": [
    {
     "name": "stdin",
     "output_type": "stream",
     "text": [
      "enter 0 if it is rainy today, 1 if it is not rainy outside 0\n"
     ]
    },
    {
     "name": "stdout",
     "output_type": "stream",
     "text": [
      "you need to take an umbrella today since it is rainy\n"
     ]
    }
   ],
   "source": [
    "weather_condition = int(input('enter 0 if it is rainy today, 1 if it is not rainy outside'))\n",
    "if weather_condition == 0:\n",
    "    print(\"you need to take an umbrella today since it is rainy\")\n",
    "else:\n",
    "    print(\"you don't need to take a umbrella\")"
   ]
  },
  {
   "cell_type": "code",
   "execution_count": 15,
   "metadata": {},
   "outputs": [
    {
     "name": "stdin",
     "output_type": "stream",
     "text": [
      "enter your age 24\n"
     ]
    },
    {
     "name": "stdout",
     "output_type": "stream",
     "text": [
      "you can vote\n"
     ]
    }
   ],
   "source": [
    "age = int(input('enter your age'))\n",
    "if age <= 17:\n",
    "    print('you can not vote')\n",
    "elif age > 17 and age < 65:\n",
    "    print('you can vote')\n",
    "else:\n",
    "    print('you are a senior citizen')"
   ]
  },
  {
   "cell_type": "markdown",
   "metadata": {},
   "source": [
    "# Comparison operators"
   ]
  },
  {
   "cell_type": "code",
   "execution_count": 16,
   "metadata": {},
   "outputs": [
    {
     "name": "stdout",
     "output_type": "stream",
     "text": [
      "False\n",
      "True\n",
      "False\n",
      "True\n",
      "False\n",
      "True\n"
     ]
    }
   ],
   "source": [
    "print(0 == 1) #equal to\n",
    "print(0 != 1) #not equal to\n",
    "print(0 > 1) #greater than\n",
    "print(0 < 1) #less than\n",
    "print(9 >= 10) #greater than or equal to\n",
    "print(9 <= 10) #less than or equal to"
   ]
  },
  {
   "cell_type": "markdown",
   "metadata": {},
   "source": [
    "# Logical operators"
   ]
  },
  {
   "cell_type": "code",
   "execution_count": 17,
   "metadata": {},
   "outputs": [
    {
     "name": "stdout",
     "output_type": "stream",
     "text": [
      "0\n",
      "1\n"
     ]
    }
   ],
   "source": [
    "print(0 and 1)\n",
    "print(0 or 1)"
   ]
  },
  {
   "cell_type": "markdown",
   "metadata": {},
   "source": [
    "# String operations"
   ]
  },
  {
   "cell_type": "code",
   "execution_count": 18,
   "metadata": {},
   "outputs": [
    {
     "name": "stdout",
     "output_type": "stream",
     "text": [
      "16\n"
     ]
    }
   ],
   "source": [
    "string = \"this is a string\"\n",
    "print(len(string)) #length of the string including the spaces"
   ]
  },
  {
   "cell_type": "code",
   "execution_count": 19,
   "metadata": {},
   "outputs": [
    {
     "name": "stdout",
     "output_type": "stream",
     "text": [
      "THIS IS A STRING\n",
      "THIS IS A STRING\n"
     ]
    }
   ],
   "source": [
    "print(string.upper())\n",
    "print(str.upper(string)) #the string in upper case letters"
   ]
  },
  {
   "cell_type": "code",
   "execution_count": 20,
   "metadata": {},
   "outputs": [
    {
     "name": "stdout",
     "output_type": "stream",
     "text": [
      "this is a string\n",
      "this is a string\n"
     ]
    }
   ],
   "source": [
    "string = 'This is a String'\n",
    "print(string.lower())\n",
    "print(str.lower(string)) #the string in lower case letters"
   ]
  },
  {
   "cell_type": "code",
   "execution_count": 21,
   "metadata": {},
   "outputs": [
    {
     "name": "stdout",
     "output_type": "stream",
     "text": [
      "This is a string\n",
      "This is a string\n"
     ]
    }
   ],
   "source": [
    "print(string.capitalize())\n",
    "print(str.capitalize(string)) #capitalizes the first character of the string"
   ]
  },
  {
   "cell_type": "code",
   "execution_count": 22,
   "metadata": {},
   "outputs": [
    {
     "name": "stdout",
     "output_type": "stream",
     "text": [
      "This Is A String\n",
      "This Is A String\n"
     ]
    }
   ],
   "source": [
    "print(string.title())\n",
    "print(str.title(string)) #the string in title case"
   ]
  },
  {
   "cell_type": "code",
   "execution_count": 23,
   "metadata": {},
   "outputs": [
    {
     "name": "stdout",
     "output_type": "stream",
     "text": [
      "1 + 2 = 3\n"
     ]
    }
   ],
   "source": [
    "string1 = '1 + '\n",
    "string2 = '2 = 3'\n",
    "print(string1 + string2) #string concatenation"
   ]
  },
  {
   "cell_type": "code",
   "execution_count": 24,
   "metadata": {},
   "outputs": [
    {
     "name": "stdout",
     "output_type": "stream",
     "text": [
      "this is     a string\n"
     ]
    }
   ],
   "source": [
    "#removing unwanted extra characters from the string\n",
    "string = '           this is     a string         '\n",
    "print(string.strip(' '))\n",
    "#remember if the character is inside the string those will not be removed"
   ]
  },
  {
   "cell_type": "code",
   "execution_count": 25,
   "metadata": {},
   "outputs": [
    {
     "name": "stdout",
     "output_type": "stream",
     "text": [
      "        this is \n"
     ]
    }
   ],
   "source": [
    "#you can work with the string as an array\n",
    "print(string[3:19])\n",
    "#since the stripped string is not saved anywhere the string showing the indexed substring with those spaces"
   ]
  },
  {
   "cell_type": "markdown",
   "metadata": {},
   "source": [
    "# Some useful math functions"
   ]
  },
  {
   "cell_type": "code",
   "execution_count": 32,
   "metadata": {},
   "outputs": [
    {
     "name": "stdout",
     "output_type": "stream",
     "text": [
      "1.8182e-08\n"
     ]
    }
   ],
   "source": [
    "#suppose you have a number 0.0000000181818819191 and you want to round it to 12 digits after the decimal point\n",
    "print(round(0.0000000181818819191, 12))"
   ]
  },
  {
   "cell_type": "code",
   "execution_count": 33,
   "metadata": {},
   "outputs": [
    {
     "name": "stdout",
     "output_type": "stream",
     "text": [
      "16\n"
     ]
    }
   ],
   "source": [
    "#power operation\n",
    "print(2**4)"
   ]
  },
  {
   "cell_type": "code",
   "execution_count": 34,
   "metadata": {},
   "outputs": [
    {
     "name": "stdout",
     "output_type": "stream",
     "text": [
      "4.0\n"
     ]
    }
   ],
   "source": [
    "#square root of 16\n",
    "import math #you have to import math module\n",
    "print(math.sqrt(16))"
   ]
  },
  {
   "cell_type": "code",
   "execution_count": 35,
   "metadata": {},
   "outputs": [
    {
     "name": "stdout",
     "output_type": "stream",
     "text": [
      "3.141592653589793\n"
     ]
    }
   ],
   "source": [
    "#you can retrieve some values using math\n",
    "print(math.pi)"
   ]
  },
  {
   "cell_type": "code",
   "execution_count": 36,
   "metadata": {},
   "outputs": [
    {
     "name": "stdout",
     "output_type": "stream",
     "text": [
      "1\n"
     ]
    }
   ],
   "source": [
    "#remainder\n",
    "print(10%3)"
   ]
  },
  {
   "cell_type": "markdown",
   "metadata": {},
   "source": [
    "# For loop"
   ]
  },
  {
   "cell_type": "code",
   "execution_count": 37,
   "metadata": {},
   "outputs": [
    {
     "name": "stdout",
     "output_type": "stream",
     "text": [
      "0 1 2 3 4 5 6 7 8 9 "
     ]
    }
   ],
   "source": [
    "for i in range(10): #starting from 0 to 9 (10 excluding)\n",
    "    print(i, end = ' ') #end = ' ' means each time the loop prints the value it will append a space instead a new line"
   ]
  },
  {
   "cell_type": "code",
   "execution_count": 38,
   "metadata": {},
   "outputs": [
    {
     "name": "stdout",
     "output_type": "stream",
     "text": [
      "1 2 3 4 5 6 7 8 9 "
     ]
    }
   ],
   "source": [
    "for i in range(1, 10): #starting from 1 to 9 (10 excluding)\n",
    "    print(i, end = ' ')"
   ]
  },
  {
   "cell_type": "code",
   "execution_count": 39,
   "metadata": {},
   "outputs": [
    {
     "name": "stdout",
     "output_type": "stream",
     "text": [
      "0 2 4 6 8 "
     ]
    }
   ],
   "source": [
    "for i in range(0, 10, 2): #starting from 0 to 9 (10 excluding) and the stride is 2 (0-> 0+2=2 -> 2+2=4 -> ...)\n",
    "    print(i, end = ' ')"
   ]
  },
  {
   "cell_type": "code",
   "execution_count": 40,
   "metadata": {},
   "outputs": [
    {
     "name": "stdout",
     "output_type": "stream",
     "text": [
      "10 8 6 4 2 0 "
     ]
    }
   ],
   "source": [
    "for i in range(10, -1, -2):\n",
    "    print(i, end = ' ')"
   ]
  },
  {
   "cell_type": "code",
   "execution_count": 41,
   "metadata": {},
   "outputs": [
    {
     "name": "stdout",
     "output_type": "stream",
     "text": [
      "t | h | i | s |   | i | s |   | a |   | l | i | n | e | "
     ]
    }
   ],
   "source": [
    "for word in 'this is a line':\n",
    "    print(word, end = ' | ')"
   ]
  },
  {
   "cell_type": "markdown",
   "metadata": {},
   "source": [
    "# While loop"
   ]
  },
  {
   "cell_type": "code",
   "execution_count": 43,
   "metadata": {},
   "outputs": [
    {
     "name": "stdout",
     "output_type": "stream",
     "text": [
      "thank you\n",
      "do you want to print 'thank you' again? 0 if yes\n"
     ]
    },
    {
     "name": "stdin",
     "output_type": "stream",
     "text": [
      " 0\n"
     ]
    },
    {
     "name": "stdout",
     "output_type": "stream",
     "text": [
      "thank you\n",
      "do you want to print 'thank you' again? 0 if yes\n"
     ]
    },
    {
     "name": "stdin",
     "output_type": "stream",
     "text": [
      " 0\n"
     ]
    },
    {
     "name": "stdout",
     "output_type": "stream",
     "text": [
      "thank you\n",
      "do you want to print 'thank you' again? 0 if yes\n"
     ]
    },
    {
     "name": "stdin",
     "output_type": "stream",
     "text": [
      " 0\n"
     ]
    },
    {
     "name": "stdout",
     "output_type": "stream",
     "text": [
      "thank you\n",
      "do you want to print 'thank you' again? 0 if yes\n"
     ]
    },
    {
     "name": "stdin",
     "output_type": "stream",
     "text": [
      " 1\n"
     ]
    }
   ],
   "source": [
    "agree_to_continue = 0\n",
    "while agree_to_continue == 0:\n",
    "    print('thank you')\n",
    "    print(\"do you want to print 'thank you' again? 0 if yes\")\n",
    "    agree_to_continue = int(input())\n",
    "#the difference between if else and for with while is you can iterate infinite times when using while unlike if else and for"
   ]
  },
  {
   "cell_type": "markdown",
   "metadata": {},
   "source": [
    "# Random module"
   ]
  },
  {
   "cell_type": "code",
   "execution_count": 44,
   "metadata": {},
   "outputs": [],
   "source": [
    "import random as rand"
   ]
  },
  {
   "cell_type": "code",
   "execution_count": 45,
   "metadata": {},
   "outputs": [
    {
     "name": "stdout",
     "output_type": "stream",
     "text": [
      "0.9156593603080421\n",
      "0\n",
      "60\n",
      "mango\n"
     ]
    }
   ],
   "source": [
    "print(rand.random()) #returns a random number between the range 0 and 1\n",
    "print(rand.randint(0, 10)) #returns a random number between a defined range 0 and 10\n",
    "print(rand.randrange(0, 100, 5)) #returns a random number between a defined range 0 and 100 with a stride 5\n",
    "print(rand.choice(['apple', 'mango', 'orange'])) #returns an element from the list"
   ]
  },
  {
   "cell_type": "markdown",
   "metadata": {},
   "source": [
    "The book 'Python by Example' by Nichola Lacey (Upto page 59) was followed for the above codes. Turtle graphics portion of the book is excluded here, it's recommended to self study that part. "
   ]
  },
  {
   "cell_type": "markdown",
   "metadata": {},
   "source": [
    "# Tuples, lists and dictionaries"
   ]
  },
  {
   "cell_type": "code",
   "execution_count": 46,
   "metadata": {},
   "outputs": [
    {
     "name": "stdout",
     "output_type": "stream",
     "text": [
      "orange\n",
      "2\n"
     ]
    }
   ],
   "source": [
    "fruits = ('apple', 'mango', 'orange')\n",
    "#fruits[0] = 'banana' will give a TypeError since tuple object does not support item assignment\n",
    "#tuple elements can not be overwriten and no new elements can be appended means the tuples are immutable\n",
    "#but you can retrieve the elements and do operations externally on the tuple objects\n",
    "print(fruits[2])\n",
    "print(fruits.index('orange')) #in which index the input 'orange' is saved"
   ]
  },
  {
   "cell_type": "code",
   "execution_count": 47,
   "metadata": {},
   "outputs": [
    {
     "name": "stdout",
     "output_type": "stream",
     "text": [
      "['avocado', 'mango', 'orange']\n",
      "['avocado', 'mango', 'orange', 'banana']\n",
      "['avocado', 'orange', 'banana']\n",
      "['avocado', 'banana', 'orange']\n",
      "['avocado', 'orange', 'banana']\n",
      "['avocado', 'coconut', 'orange', 'banana']\n",
      "['avocado', 'coconut', 'banana']\n"
     ]
    }
   ],
   "source": [
    "fruits = ['apple', 'mango', 'orange']\n",
    "fruits[0] = 'avocado'\n",
    "print(fruits)\n",
    "#lists are mutable so you can change the current values and append new values\n",
    "fruits.append('banana')\n",
    "print(fruits)\n",
    "#appended the input 'banana'\n",
    "del fruits[1]\n",
    "print(fruits)\n",
    "#del list_name[index_number] will delete the value in that index number\n",
    "print(sorted(fruits)) #you can use fruits.sort() if you want to automatically save the sorted list in the same variable fruits\n",
    "print(fruits) #sorted(fruits) does not sort the list permanently\n",
    "fruits.insert(1, 'coconut') #inserts 'coconut' at position 1\n",
    "print(fruits)\n",
    "fruits.remove('orange') #removes 'orange' from the list\n",
    "print(fruits)"
   ]
  },
  {
   "cell_type": "code",
   "execution_count": 48,
   "metadata": {},
   "outputs": [
    {
     "name": "stdout",
     "output_type": "stream",
     "text": [
      "('mango', 'avocado', 'banana')\n",
      "mango\n"
     ]
    }
   ],
   "source": [
    "foods = {'fruits': ('mango', 'avocado', 'banana'), 'vegetables': ('potato', 'carrot'), 'sweets': ('brownies', 'candies')}\n",
    "#you can define the index names\n",
    "print(foods['fruits'])\n",
    "#returns the whole tuple\n",
    "print(foods['fruits'][0])\n",
    "#returns the first fruit in the dictionary"
   ]
  },
  {
   "cell_type": "code",
   "execution_count": 49,
   "metadata": {},
   "outputs": [
    {
     "name": "stdout",
     "output_type": "stream",
     "text": [
      "{'fruits': ('mango', 'avocado', 'banana'), 'vegetables': ('potato', 'carrot'), 'sweets': ('brownies', 'candies'), 'drinks': ('tea', 'coffee', 'smoothie')}\n"
     ]
    }
   ],
   "source": [
    "#now if you want to append a new kind of foods 'drinks' this is what you have to do\n",
    "foods['drinks'] = ('tea', 'coffee', 'smoothie')\n",
    "print(foods)"
   ]
  },
  {
   "cell_type": "code",
   "execution_count": 50,
   "metadata": {},
   "outputs": [
    {
     "name": "stdout",
     "output_type": "stream",
     "text": [
      "fruits\n",
      "vegetables\n",
      "sweets\n",
      "drinks\n",
      "('mango', 'avocado', 'banana')\n",
      "('potato', 'carrot')\n",
      "('brownies', 'candies')\n",
      "('tea', 'coffee', 'smoothie')\n",
      "4\n",
      "number of elements in dict element 0 :3\n",
      "number of elements in dict element 1 :2\n",
      "number of elements in dict element 2 :2\n",
      "number of elements in dict element 3 :3\n"
     ]
    }
   ],
   "source": [
    "#indexing of tuples and lists are simple and easy to work on and you can find the length of the object by len() function\n",
    "#what about the dictionaries?\n",
    "for key in foods.keys():\n",
    "    print(key)\n",
    "#returns the keys or the index names\n",
    "for key in foods.keys():\n",
    "    print(foods[key])\n",
    "#returns the values of the corresponding keys\n",
    "print(len(foods.keys()))\n",
    "#returns the number of indexes\n",
    "count = 0\n",
    "for key in foods.keys():\n",
    "    print(f\"number of elements in dict element {count} :{len(foods[key])}\")\n",
    "    count += 1\n",
    "#number of elements in each of the dict element"
   ]
  },
  {
   "cell_type": "markdown",
   "metadata": {},
   "source": [
    "# Some useful operations on strings"
   ]
  },
  {
   "cell_type": "code",
   "execution_count": 53,
   "metadata": {},
   "outputs": [
    {
     "name": "stdin",
     "output_type": "stream",
     "text": [
      "enter a string THIS IS A STRING\n"
     ]
    },
    {
     "name": "stdout",
     "output_type": "stream",
     "text": [
      "the string is in uppercase\n"
     ]
    },
    {
     "name": "stdin",
     "output_type": "stream",
     "text": [
      "enter a string this is a string\n"
     ]
    },
    {
     "name": "stdout",
     "output_type": "stream",
     "text": [
      "the string is lowercase\n"
     ]
    }
   ],
   "source": [
    "#check if a string is in uppercase\n",
    "if input('enter a string').isupper():\n",
    "    print('the string is in uppercase')\n",
    "if input('enter a string').islower():\n",
    "    print('the string is lowercase')"
   ]
  },
  {
   "cell_type": "code",
   "execution_count": 54,
   "metadata": {},
   "outputs": [
    {
     "name": "stdout",
     "output_type": "stream",
     "text": [
      "t*h*i*s* *i*s* *a* *s*t*r*i*n*g*"
     ]
    }
   ],
   "source": [
    "for words in 'this is a string':\n",
    "    print(words, end = '*')\n",
    "#prints a '*' between each character"
   ]
  },
  {
   "cell_type": "code",
   "execution_count": 55,
   "metadata": {},
   "outputs": [
    {
     "name": "stdin",
     "output_type": "stream",
     "text": [
      "enter a name x\n",
      "enter age 20\n"
     ]
    },
    {
     "name": "stdout",
     "output_type": "stream",
     "text": [
      "name: x, age: 20\n"
     ]
    }
   ],
   "source": [
    "name = input('enter a name')\n",
    "age = int(input('enter age'))\n",
    "print(f'name: {name}, age: {age}')\n",
    "#this is called string formatting"
   ]
  },
  {
   "cell_type": "markdown",
   "metadata": {},
   "source": [
    "# Numeric arrays"
   ]
  },
  {
   "cell_type": "code",
   "execution_count": 56,
   "metadata": {},
   "outputs": [],
   "source": [
    "#Python numeric arrays support 4 data types \n",
    "#'i' -> integer (16 bits)\n",
    "#'l' -> long (32 bits)\n",
    "#'f' -> floating point (32 bits)\n",
    "#'d' -> double (64 bits)\n",
    "#The array can not have elements of more than one data type\n",
    "from array import *"
   ]
  },
  {
   "cell_type": "code",
   "execution_count": 57,
   "metadata": {},
   "outputs": [
    {
     "name": "stdout",
     "output_type": "stream",
     "text": [
      "array('i', [0, 1, 2, 3, 4, 5, 6, 7, 8, 9])\n"
     ]
    }
   ],
   "source": [
    "numbers = array('i', [0, 1, 2, 3, 4, 5, 6, 7, 8, 9])\n",
    "print(numbers)"
   ]
  },
  {
   "cell_type": "code",
   "execution_count": 58,
   "metadata": {},
   "outputs": [
    {
     "name": "stdout",
     "output_type": "stream",
     "text": [
      "array('i', [0, 1, 2, 3, 4, 5, 6, 7, 8, 9, 10])\n"
     ]
    }
   ],
   "source": [
    "numbers.append(10)\n",
    "print(numbers)"
   ]
  },
  {
   "cell_type": "code",
   "execution_count": 59,
   "metadata": {},
   "outputs": [
    {
     "name": "stdout",
     "output_type": "stream",
     "text": [
      "array('i', [10, 9, 8, 7, 6, 5, 4, 3, 2, 1, 0])\n"
     ]
    }
   ],
   "source": [
    "numbers.reverse()\n",
    "print(numbers)\n",
    "#array_name.reverse() sorts the array in reverse order"
   ]
  },
  {
   "cell_type": "code",
   "execution_count": 60,
   "metadata": {},
   "outputs": [
    {
     "name": "stdout",
     "output_type": "stream",
     "text": [
      "[0, 1, 2, 3, 4, 5, 6, 7, 8, 9, 10]\n",
      "array('i', [10, 9, 8, 7, 6, 5, 4, 3, 2, 1, 0])\n"
     ]
    }
   ],
   "source": [
    "print(sorted(numbers))\n",
    "print(numbers)\n",
    "#sorts and returns the array but does not update the original array"
   ]
  },
  {
   "cell_type": "code",
   "execution_count": 61,
   "metadata": {},
   "outputs": [
    {
     "name": "stdout",
     "output_type": "stream",
     "text": [
      "array('i', [10, 9, 8, 7, 6, 5, 4, 3, 2, 1])\n"
     ]
    }
   ],
   "source": [
    "numbers.pop()\n",
    "print(numbers)\n",
    "#removes the last values from the array"
   ]
  },
  {
   "cell_type": "code",
   "execution_count": 62,
   "metadata": {},
   "outputs": [
    {
     "name": "stdout",
     "output_type": "stream",
     "text": [
      "array('i', [0, 1, 2, 3, 4, 5, 6, 7, 8, 9])\n"
     ]
    }
   ],
   "source": [
    "num1 = array('i', [0, 1, 2, 3, 4, 5, 6])\n",
    "num2 = array('i', [7, 8, 9])\n",
    "num1.extend(num2) #extends the array\n",
    "print(num1)"
   ]
  },
  {
   "cell_type": "code",
   "execution_count": 63,
   "metadata": {},
   "outputs": [
    {
     "name": "stdout",
     "output_type": "stream",
     "text": [
      "array('i', [0, 1, 2, 3, 4, 5, 7, 8, 9])\n"
     ]
    }
   ],
   "source": [
    "num1.remove(6)\n",
    "print(num1)\n",
    "#removes a specific element from the array"
   ]
  },
  {
   "cell_type": "code",
   "execution_count": 64,
   "metadata": {},
   "outputs": [
    {
     "data": {
      "text/plain": [
       "1"
      ]
     },
     "execution_count": 64,
     "metadata": {},
     "output_type": "execute_result"
    }
   ],
   "source": [
    "num1.count(1) #how many 1s in the array"
   ]
  },
  {
   "cell_type": "markdown",
   "metadata": {},
   "source": [
    "# 2D lists"
   ]
  },
  {
   "cell_type": "code",
   "execution_count": 65,
   "metadata": {},
   "outputs": [
    {
     "name": "stdout",
     "output_type": "stream",
     "text": [
      "[[1, 2, 3], [4, 5, 6], [7, 8, 9]]\n"
     ]
    }
   ],
   "source": [
    "numbers = [\n",
    "    [1, 2, 3],\n",
    "    [4, 5, 6],\n",
    "    [7, 8, 9]\n",
    "]\n",
    "print(numbers)\n",
    "#this is a 2D list with 3 rows and 3 columns"
   ]
  },
  {
   "cell_type": "code",
   "execution_count": 66,
   "metadata": {},
   "outputs": [
    {
     "name": "stdout",
     "output_type": "stream",
     "text": [
      "2\n"
     ]
    }
   ],
   "source": [
    "print(numbers[0][1]) #value of position (0, 1)"
   ]
  },
  {
   "cell_type": "code",
   "execution_count": 67,
   "metadata": {},
   "outputs": [
    {
     "name": "stdout",
     "output_type": "stream",
     "text": [
      "[[1, 100, 3], [4, 5, 6], [7, 8, 9]]\n"
     ]
    }
   ],
   "source": [
    "numbers[0][1] = 100\n",
    "print(numbers) #update the value of position (0, 1)"
   ]
  },
  {
   "cell_type": "code",
   "execution_count": 68,
   "metadata": {},
   "outputs": [
    {
     "name": "stdout",
     "output_type": "stream",
     "text": [
      "[[1, 100, 3], [4, 5, 6], [7, 8, 9], [100, 200, 300]]\n"
     ]
    }
   ],
   "source": [
    "numbers.append([100, 200, 300])\n",
    "print(numbers) #append a new list"
   ]
  },
  {
   "cell_type": "code",
   "execution_count": 69,
   "metadata": {},
   "outputs": [
    {
     "name": "stdout",
     "output_type": "stream",
     "text": [
      "[[1, 100, 3, 100], [4, 5, 6], [7, 8, 9], [100, 200, 300]]\n"
     ]
    }
   ],
   "source": [
    "numbers[0].append(100)\n",
    "print(numbers) #appends 100 to the first sublist"
   ]
  },
  {
   "cell_type": "code",
   "execution_count": 70,
   "metadata": {},
   "outputs": [
    {
     "name": "stdout",
     "output_type": "stream",
     "text": [
      "[[1, 100, 3], [4, 5, 6], [7, 8, 9], [100, 200, 300]]\n"
     ]
    }
   ],
   "source": [
    "del numbers[0][3]\n",
    "print(numbers)"
   ]
  },
  {
   "cell_type": "code",
   "execution_count": 71,
   "metadata": {},
   "outputs": [
    {
     "name": "stdout",
     "output_type": "stream",
     "text": [
      "[[4, 5, 6], [7, 8, 9], [100, 200, 300]]\n"
     ]
    }
   ],
   "source": [
    "del numbers[0]\n",
    "print(numbers)"
   ]
  },
  {
   "cell_type": "markdown",
   "metadata": {},
   "source": [
    "# Reading and writing to a text file"
   ]
  },
  {
   "cell_type": "code",
   "execution_count": 72,
   "metadata": {},
   "outputs": [],
   "source": [
    "#you must define how the external file will be used ('w' -> write mode, 'r' -> read mode, 'a' -> append mode)\n",
    "file = open('fruits.txt', 'w')\n",
    "file.write('apple\\n')\n",
    "file.write('mango\\n')\n",
    "file.write('orange\\n')\n",
    "file.close() #if you use 'w' mode while writing something new to an existing file the previous text will be overwritten"
   ]
  },
  {
   "cell_type": "code",
   "execution_count": 73,
   "metadata": {},
   "outputs": [
    {
     "name": "stdout",
     "output_type": "stream",
     "text": [
      "apple\n",
      "mango\n",
      "orange\n",
      "\n"
     ]
    }
   ],
   "source": [
    "file = open('fruits.txt', 'r')\n",
    "print(file.read())"
   ]
  },
  {
   "cell_type": "code",
   "execution_count": 74,
   "metadata": {},
   "outputs": [
    {
     "name": "stdout",
     "output_type": "stream",
     "text": [
      "apple\n",
      "mango\n",
      "orange\n",
      "banana\n"
     ]
    }
   ],
   "source": [
    "file = open('fruits.txt', 'a')\n",
    "file.write('banana')\n",
    "file.close()\n",
    "file = open('fruits.txt', 'r')\n",
    "print(file.read()) #if we use 'w' instead of 'a' the text will then have only 'banana'"
   ]
  },
  {
   "cell_type": "markdown",
   "metadata": {},
   "source": [
    "# Reading and writing to a csv file"
   ]
  },
  {
   "cell_type": "code",
   "execution_count": 75,
   "metadata": {},
   "outputs": [],
   "source": [
    "#there are 4 modes: 'w', 'x' (crashes if the file already exists unlike 'w'), 'r', 'a'\n",
    "import csv"
   ]
  },
  {
   "cell_type": "code",
   "execution_count": 76,
   "metadata": {},
   "outputs": [],
   "source": [
    "file = open('names.csv', 'w')\n",
    "file.write('arisha,20,bangladeshi\\n')\n",
    "file.write('ravindran,22,indian\\n')\n",
    "file.write('ong,21,south korean\\n')\n",
    "file.close()"
   ]
  },
  {
   "cell_type": "code",
   "execution_count": 77,
   "metadata": {},
   "outputs": [
    {
     "name": "stdout",
     "output_type": "stream",
     "text": [
      "arisha,20,bangladeshi\n",
      "ravindran,22,indian\n",
      "ong,21,south korean\n",
      "\n"
     ]
    }
   ],
   "source": [
    "file = open('names.csv', 'r')\n",
    "print(file.read())"
   ]
  },
  {
   "cell_type": "code",
   "execution_count": 78,
   "metadata": {},
   "outputs": [],
   "source": [
    "#file = open('names.csv', 'x') will give FileExistsError\n",
    "file = open('names.csv', 'a')\n",
    "file.write('ching,24,china\\n')\n",
    "file.write('chris,25,usa\\n')\n",
    "file.write('young,24,thailand\\n')\n",
    "file.close()"
   ]
  },
  {
   "cell_type": "code",
   "execution_count": 79,
   "metadata": {},
   "outputs": [
    {
     "name": "stdout",
     "output_type": "stream",
     "text": [
      "arisha,20,bangladeshi\n",
      "ravindran,22,indian\n",
      "ong,21,south korean\n",
      "ching,24,china\n",
      "chris,25,usa\n",
      "young,24,thailand\n",
      "\n"
     ]
    }
   ],
   "source": [
    "file = open('names.csv', 'r')\n",
    "print(file.read())"
   ]
  },
  {
   "cell_type": "markdown",
   "metadata": {},
   "source": [
    "# Subprograms"
   ]
  },
  {
   "cell_type": "code",
   "execution_count": 81,
   "metadata": {},
   "outputs": [
    {
     "name": "stdin",
     "output_type": "stream",
     "text": [
      "enter a name x\n"
     ]
    },
    {
     "name": "stdout",
     "output_type": "stream",
     "text": [
      "name: x\n"
     ]
    }
   ],
   "source": [
    "def get_name():\n",
    "    name = input('enter a name')\n",
    "    return name\n",
    "def print_name(name):\n",
    "    print(f'name: {name}')\n",
    "def main():\n",
    "    user_name = get_name()\n",
    "    print_name(user_name)\n",
    "main()"
   ]
  },
  {
   "cell_type": "markdown",
   "metadata": {},
   "source": [
    "Tkinter GUI, More Tkinter and SQLite these three portions of the book are excluded, it's recommended to self study those parts."
   ]
  },
  {
   "cell_type": "markdown",
   "metadata": {},
   "source": [
    "Practice the problems including the problems from Chunky Challenges portion in 'Python by Example' by Nichola Lacey book."
   ]
  }
 ],
 "metadata": {
  "kernelspec": {
   "display_name": "Python 3",
   "language": "python",
   "name": "python3"
  },
  "language_info": {
   "codemirror_mode": {
    "name": "ipython",
    "version": 3
   },
   "file_extension": ".py",
   "mimetype": "text/x-python",
   "name": "python",
   "nbconvert_exporter": "python",
   "pygments_lexer": "ipython3",
   "version": "3.8.5"
  }
 },
 "nbformat": 4,
 "nbformat_minor": 4
}
